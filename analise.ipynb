{
 "cells": [
  {
   "cell_type": "code",
   "execution_count": 1,
   "metadata": {},
   "outputs": [],
   "source": [
    "import pandas as pd\n",
    "import plotly.express as px"
   ]
  },
  {
   "cell_type": "code",
   "execution_count": 2,
   "metadata": {},
   "outputs": [
    {
     "data": {
      "text/html": [
       "<div>\n",
       "<style scoped>\n",
       "    .dataframe tbody tr th:only-of-type {\n",
       "        vertical-align: middle;\n",
       "    }\n",
       "\n",
       "    .dataframe tbody tr th {\n",
       "        vertical-align: top;\n",
       "    }\n",
       "\n",
       "    .dataframe thead th {\n",
       "        text-align: right;\n",
       "    }\n",
       "</style>\n",
       "<table border=\"1\" class=\"dataframe\">\n",
       "  <thead>\n",
       "    <tr style=\"text-align: right;\">\n",
       "      <th></th>\n",
       "      <th>Ano</th>\n",
       "      <th>Colocação</th>\n",
       "      <th>Clube</th>\n",
       "      <th>Pontos</th>\n",
       "      <th>Vitórias</th>\n",
       "      <th>Empates</th>\n",
       "      <th>Derrotas</th>\n",
       "      <th>Gols Feitos</th>\n",
       "      <th>Gols Sofridos</th>\n",
       "      <th>Saldos de Gols</th>\n",
       "      <th>Cartões Amarelos</th>\n",
       "      <th>Cartões Vermelhos</th>\n",
       "      <th>Aproveitamento (%)</th>\n",
       "    </tr>\n",
       "  </thead>\n",
       "  <tbody>\n",
       "    <tr>\n",
       "      <th>0</th>\n",
       "      <td>2012</td>\n",
       "      <td>1</td>\n",
       "      <td>Fluminense - RJ</td>\n",
       "      <td>77</td>\n",
       "      <td>22</td>\n",
       "      <td>11</td>\n",
       "      <td>5</td>\n",
       "      <td>61</td>\n",
       "      <td>33</td>\n",
       "      <td>28</td>\n",
       "      <td>85</td>\n",
       "      <td>3</td>\n",
       "      <td>67</td>\n",
       "    </tr>\n",
       "    <tr>\n",
       "      <th>1</th>\n",
       "      <td>2012</td>\n",
       "      <td>2</td>\n",
       "      <td>Atlético - MG</td>\n",
       "      <td>72</td>\n",
       "      <td>20</td>\n",
       "      <td>12</td>\n",
       "      <td>6</td>\n",
       "      <td>64</td>\n",
       "      <td>37</td>\n",
       "      <td>27</td>\n",
       "      <td>104</td>\n",
       "      <td>10</td>\n",
       "      <td>63</td>\n",
       "    </tr>\n",
       "    <tr>\n",
       "      <th>2</th>\n",
       "      <td>2012</td>\n",
       "      <td>3</td>\n",
       "      <td>Grêmio - RS</td>\n",
       "      <td>71</td>\n",
       "      <td>20</td>\n",
       "      <td>11</td>\n",
       "      <td>7</td>\n",
       "      <td>56</td>\n",
       "      <td>33</td>\n",
       "      <td>23</td>\n",
       "      <td>102</td>\n",
       "      <td>9</td>\n",
       "      <td>62</td>\n",
       "    </tr>\n",
       "    <tr>\n",
       "      <th>3</th>\n",
       "      <td>2012</td>\n",
       "      <td>4</td>\n",
       "      <td>São Paulo - SP</td>\n",
       "      <td>66</td>\n",
       "      <td>20</td>\n",
       "      <td>6</td>\n",
       "      <td>12</td>\n",
       "      <td>59</td>\n",
       "      <td>37</td>\n",
       "      <td>22</td>\n",
       "      <td>93</td>\n",
       "      <td>6</td>\n",
       "      <td>57</td>\n",
       "    </tr>\n",
       "    <tr>\n",
       "      <th>4</th>\n",
       "      <td>2012</td>\n",
       "      <td>5</td>\n",
       "      <td>Vasco da Gama - RJ</td>\n",
       "      <td>58</td>\n",
       "      <td>16</td>\n",
       "      <td>10</td>\n",
       "      <td>12</td>\n",
       "      <td>45</td>\n",
       "      <td>44</td>\n",
       "      <td>1</td>\n",
       "      <td>91</td>\n",
       "      <td>3</td>\n",
       "      <td>50</td>\n",
       "    </tr>\n",
       "  </tbody>\n",
       "</table>\n",
       "</div>"
      ],
      "text/plain": [
       "    Ano  Colocação               Clube  Pontos  Vitórias  Empates  Derrotas  \\\n",
       "0  2012          1     Fluminense - RJ      77        22       11         5   \n",
       "1  2012          2       Atlético - MG      72        20       12         6   \n",
       "2  2012          3         Grêmio - RS      71        20       11         7   \n",
       "3  2012          4      São Paulo - SP      66        20        6        12   \n",
       "4  2012          5  Vasco da Gama - RJ      58        16       10        12   \n",
       "\n",
       "   Gols Feitos  Gols Sofridos  Saldos de Gols  Cartões Amarelos  \\\n",
       "0           61             33              28                85   \n",
       "1           64             37              27               104   \n",
       "2           56             33              23               102   \n",
       "3           59             37              22                93   \n",
       "4           45             44               1                91   \n",
       "\n",
       "   Cartões Vermelhos  Aproveitamento (%)  \n",
       "0                  3                  67  \n",
       "1                 10                  63  \n",
       "2                  9                  62  \n",
       "3                  6                  57  \n",
       "4                  3                  50  "
      ]
     },
     "execution_count": 2,
     "metadata": {},
     "output_type": "execute_result"
    }
   ],
   "source": [
    "df = pd.read_csv('brasileirao_2012_a_2023.csv')\n",
    "df.head()"
   ]
  },
  {
   "cell_type": "code",
   "execution_count": 3,
   "metadata": {},
   "outputs": [
    {
     "name": "stdout",
     "output_type": "stream",
     "text": [
      "<class 'pandas.core.frame.DataFrame'>\n",
      "RangeIndex: 240 entries, 0 to 239\n",
      "Data columns (total 13 columns):\n",
      " #   Column              Non-Null Count  Dtype \n",
      "---  ------              --------------  ----- \n",
      " 0   Ano                 240 non-null    int64 \n",
      " 1   Colocação           240 non-null    int64 \n",
      " 2   Clube               240 non-null    object\n",
      " 3   Pontos              240 non-null    int64 \n",
      " 4   Vitórias            240 non-null    int64 \n",
      " 5   Empates             240 non-null    int64 \n",
      " 6   Derrotas            240 non-null    int64 \n",
      " 7   Gols Feitos         240 non-null    int64 \n",
      " 8   Gols Sofridos       240 non-null    int64 \n",
      " 9   Saldos de Gols      240 non-null    int64 \n",
      " 10  Cartões Amarelos    240 non-null    int64 \n",
      " 11  Cartões Vermelhos   240 non-null    int64 \n",
      " 12  Aproveitamento (%)  240 non-null    int64 \n",
      "dtypes: int64(12), object(1)\n",
      "memory usage: 24.5+ KB\n"
     ]
    }
   ],
   "source": [
    "df.info()"
   ]
  },
  {
   "cell_type": "markdown",
   "metadata": {},
   "source": [
    "<h2>Normalizando clubes</h2>\n",
    "<p>Alguns clubes aparecem com nomes distintos, a depender do ano. A tarefa aqui é identificar esses times e agrupá-los devidamente.</p>"
   ]
  },
  {
   "cell_type": "code",
   "execution_count": 4,
   "metadata": {},
   "outputs": [
    {
     "data": {
      "text/html": [
       "<div>\n",
       "<style scoped>\n",
       "    .dataframe tbody tr th:only-of-type {\n",
       "        vertical-align: middle;\n",
       "    }\n",
       "\n",
       "    .dataframe tbody tr th {\n",
       "        vertical-align: top;\n",
       "    }\n",
       "\n",
       "    .dataframe thead th {\n",
       "        text-align: right;\n",
       "    }\n",
       "</style>\n",
       "<table border=\"1\" class=\"dataframe\">\n",
       "  <thead>\n",
       "    <tr style=\"text-align: right;\">\n",
       "      <th></th>\n",
       "      <th>Ano</th>\n",
       "      <th>Colocação</th>\n",
       "      <th>Pontos</th>\n",
       "      <th>Vitórias</th>\n",
       "      <th>Empates</th>\n",
       "      <th>Derrotas</th>\n",
       "      <th>Gols Feitos</th>\n",
       "      <th>Gols Sofridos</th>\n",
       "      <th>Saldos de Gols</th>\n",
       "      <th>Cartões Amarelos</th>\n",
       "      <th>Cartões Vermelhos</th>\n",
       "      <th>Aproveitamento (%)</th>\n",
       "    </tr>\n",
       "    <tr>\n",
       "      <th>Clube</th>\n",
       "      <th></th>\n",
       "      <th></th>\n",
       "      <th></th>\n",
       "      <th></th>\n",
       "      <th></th>\n",
       "      <th></th>\n",
       "      <th></th>\n",
       "      <th></th>\n",
       "      <th></th>\n",
       "      <th></th>\n",
       "      <th></th>\n",
       "      <th></th>\n",
       "    </tr>\n",
       "  </thead>\n",
       "  <tbody>\n",
       "    <tr>\n",
       "      <th>America - MG</th>\n",
       "      <td>2021</td>\n",
       "      <td>8</td>\n",
       "      <td>53</td>\n",
       "      <td>13</td>\n",
       "      <td>14</td>\n",
       "      <td>11</td>\n",
       "      <td>41</td>\n",
       "      <td>37</td>\n",
       "      <td>4</td>\n",
       "      <td>66</td>\n",
       "      <td>2</td>\n",
       "      <td>46</td>\n",
       "    </tr>\n",
       "    <tr>\n",
       "      <th>America Fc - MG</th>\n",
       "      <td>2018</td>\n",
       "      <td>17</td>\n",
       "      <td>40</td>\n",
       "      <td>10</td>\n",
       "      <td>10</td>\n",
       "      <td>18</td>\n",
       "      <td>30</td>\n",
       "      <td>47</td>\n",
       "      <td>-17</td>\n",
       "      <td>84</td>\n",
       "      <td>8</td>\n",
       "      <td>35</td>\n",
       "    </tr>\n",
       "    <tr>\n",
       "      <th>América - MG</th>\n",
       "      <td>2016</td>\n",
       "      <td>20</td>\n",
       "      <td>28</td>\n",
       "      <td>7</td>\n",
       "      <td>7</td>\n",
       "      <td>24</td>\n",
       "      <td>23</td>\n",
       "      <td>58</td>\n",
       "      <td>-35</td>\n",
       "      <td>66</td>\n",
       "      <td>3</td>\n",
       "      <td>24</td>\n",
       "    </tr>\n",
       "    <tr>\n",
       "      <th>América Fc Saf - MG</th>\n",
       "      <td>2022</td>\n",
       "      <td>10</td>\n",
       "      <td>53</td>\n",
       "      <td>15</td>\n",
       "      <td>8</td>\n",
       "      <td>15</td>\n",
       "      <td>40</td>\n",
       "      <td>40</td>\n",
       "      <td>0</td>\n",
       "      <td>88</td>\n",
       "      <td>5</td>\n",
       "      <td>46</td>\n",
       "    </tr>\n",
       "    <tr>\n",
       "      <th>América Saf - MG</th>\n",
       "      <td>2023</td>\n",
       "      <td>20</td>\n",
       "      <td>24</td>\n",
       "      <td>5</td>\n",
       "      <td>9</td>\n",
       "      <td>24</td>\n",
       "      <td>42</td>\n",
       "      <td>81</td>\n",
       "      <td>-39</td>\n",
       "      <td>86</td>\n",
       "      <td>11</td>\n",
       "      <td>21</td>\n",
       "    </tr>\n",
       "    <tr>\n",
       "      <th>Athletico Paranaense - PR</th>\n",
       "      <td>12123</td>\n",
       "      <td>49</td>\n",
       "      <td>335</td>\n",
       "      <td>92</td>\n",
       "      <td>59</td>\n",
       "      <td>77</td>\n",
       "      <td>283</td>\n",
       "      <td>241</td>\n",
       "      <td>42</td>\n",
       "      <td>550</td>\n",
       "      <td>26</td>\n",
       "      <td>292</td>\n",
       "    </tr>\n",
       "    <tr>\n",
       "      <th>Atletico - PR</th>\n",
       "      <td>2014</td>\n",
       "      <td>8</td>\n",
       "      <td>54</td>\n",
       "      <td>15</td>\n",
       "      <td>9</td>\n",
       "      <td>14</td>\n",
       "      <td>43</td>\n",
       "      <td>42</td>\n",
       "      <td>1</td>\n",
       "      <td>72</td>\n",
       "      <td>1</td>\n",
       "      <td>47</td>\n",
       "    </tr>\n",
       "    <tr>\n",
       "      <th>Atlético - GO</th>\n",
       "      <td>10092</td>\n",
       "      <td>79</td>\n",
       "      <td>205</td>\n",
       "      <td>49</td>\n",
       "      <td>58</td>\n",
       "      <td>83</td>\n",
       "      <td>187</td>\n",
       "      <td>261</td>\n",
       "      <td>-74</td>\n",
       "      <td>469</td>\n",
       "      <td>31</td>\n",
       "      <td>177</td>\n",
       "    </tr>\n",
       "    <tr>\n",
       "      <th>Atlético - MG</th>\n",
       "      <td>18144</td>\n",
       "      <td>52</td>\n",
       "      <td>551</td>\n",
       "      <td>154</td>\n",
       "      <td>89</td>\n",
       "      <td>99</td>\n",
       "      <td>506</td>\n",
       "      <td>399</td>\n",
       "      <td>107</td>\n",
       "      <td>777</td>\n",
       "      <td>46</td>\n",
       "      <td>481</td>\n",
       "    </tr>\n",
       "    <tr>\n",
       "      <th>Atlético - PR</th>\n",
       "      <td>6048</td>\n",
       "      <td>27</td>\n",
       "      <td>159</td>\n",
       "      <td>45</td>\n",
       "      <td>24</td>\n",
       "      <td>45</td>\n",
       "      <td>126</td>\n",
       "      <td>123</td>\n",
       "      <td>3</td>\n",
       "      <td>239</td>\n",
       "      <td>11</td>\n",
       "      <td>138</td>\n",
       "    </tr>\n",
       "    <tr>\n",
       "      <th>Atlético Mineiro - MG</th>\n",
       "      <td>4043</td>\n",
       "      <td>8</td>\n",
       "      <td>142</td>\n",
       "      <td>41</td>\n",
       "      <td>19</td>\n",
       "      <td>16</td>\n",
       "      <td>112</td>\n",
       "      <td>71</td>\n",
       "      <td>41</td>\n",
       "      <td>175</td>\n",
       "      <td>7</td>\n",
       "      <td>123</td>\n",
       "    </tr>\n",
       "    <tr>\n",
       "      <th>Atlético Mineiro Saf - MG</th>\n",
       "      <td>2023</td>\n",
       "      <td>3</td>\n",
       "      <td>66</td>\n",
       "      <td>19</td>\n",
       "      <td>9</td>\n",
       "      <td>10</td>\n",
       "      <td>52</td>\n",
       "      <td>32</td>\n",
       "      <td>20</td>\n",
       "      <td>114</td>\n",
       "      <td>7</td>\n",
       "      <td>57</td>\n",
       "    </tr>\n",
       "    <tr>\n",
       "      <th>Atlético Paranaense - PR</th>\n",
       "      <td>2013</td>\n",
       "      <td>3</td>\n",
       "      <td>64</td>\n",
       "      <td>18</td>\n",
       "      <td>10</td>\n",
       "      <td>10</td>\n",
       "      <td>65</td>\n",
       "      <td>49</td>\n",
       "      <td>16</td>\n",
       "      <td>92</td>\n",
       "      <td>5</td>\n",
       "      <td>56</td>\n",
       "    </tr>\n",
       "    <tr>\n",
       "      <th>Avaí - SC</th>\n",
       "      <td>8073</td>\n",
       "      <td>74</td>\n",
       "      <td>140</td>\n",
       "      <td>33</td>\n",
       "      <td>41</td>\n",
       "      <td>78</td>\n",
       "      <td>119</td>\n",
       "      <td>230</td>\n",
       "      <td>-111</td>\n",
       "      <td>382</td>\n",
       "      <td>22</td>\n",
       "      <td>120</td>\n",
       "    </tr>\n",
       "    <tr>\n",
       "      <th>Bahia - BA</th>\n",
       "      <td>18157</td>\n",
       "      <td>127</td>\n",
       "      <td>410</td>\n",
       "      <td>104</td>\n",
       "      <td>98</td>\n",
       "      <td>140</td>\n",
       "      <td>378</td>\n",
       "      <td>424</td>\n",
       "      <td>-46</td>\n",
       "      <td>826</td>\n",
       "      <td>54</td>\n",
       "      <td>355</td>\n",
       "    </tr>\n",
       "    <tr>\n",
       "      <th>Botafogo - RJ</th>\n",
       "      <td>20174</td>\n",
       "      <td>105</td>\n",
       "      <td>500</td>\n",
       "      <td>136</td>\n",
       "      <td>92</td>\n",
       "      <td>152</td>\n",
       "      <td>434</td>\n",
       "      <td>453</td>\n",
       "      <td>-19</td>\n",
       "      <td>880</td>\n",
       "      <td>47</td>\n",
       "      <td>433</td>\n",
       "    </tr>\n",
       "    <tr>\n",
       "      <th>Ceará - CE</th>\n",
       "      <td>10100</td>\n",
       "      <td>70</td>\n",
       "      <td>222</td>\n",
       "      <td>52</td>\n",
       "      <td>66</td>\n",
       "      <td>72</td>\n",
       "      <td>195</td>\n",
       "      <td>209</td>\n",
       "      <td>-14</td>\n",
       "      <td>484</td>\n",
       "      <td>31</td>\n",
       "      <td>192</td>\n",
       "    </tr>\n",
       "    <tr>\n",
       "      <th>Chapecoense - SC</th>\n",
       "      <td>14120</td>\n",
       "      <td>101</td>\n",
       "      <td>287</td>\n",
       "      <td>70</td>\n",
       "      <td>77</td>\n",
       "      <td>119</td>\n",
       "      <td>261</td>\n",
       "      <td>362</td>\n",
       "      <td>-101</td>\n",
       "      <td>566</td>\n",
       "      <td>28</td>\n",
       "      <td>250</td>\n",
       "    </tr>\n",
       "    <tr>\n",
       "      <th>Corinthians - SP</th>\n",
       "      <td>24210</td>\n",
       "      <td>84</td>\n",
       "      <td>707</td>\n",
       "      <td>188</td>\n",
       "      <td>143</td>\n",
       "      <td>125</td>\n",
       "      <td>548</td>\n",
       "      <td>429</td>\n",
       "      <td>119</td>\n",
       "      <td>916</td>\n",
       "      <td>44</td>\n",
       "      <td>616</td>\n",
       "    </tr>\n",
       "    <tr>\n",
       "      <th>Coritiba - PR</th>\n",
       "      <td>16129</td>\n",
       "      <td>119</td>\n",
       "      <td>349</td>\n",
       "      <td>90</td>\n",
       "      <td>79</td>\n",
       "      <td>135</td>\n",
       "      <td>321</td>\n",
       "      <td>399</td>\n",
       "      <td>-78</td>\n",
       "      <td>805</td>\n",
       "      <td>47</td>\n",
       "      <td>303</td>\n",
       "    </tr>\n",
       "    <tr>\n",
       "      <th>Coritiba S.a.f. - PR</th>\n",
       "      <td>2023</td>\n",
       "      <td>19</td>\n",
       "      <td>30</td>\n",
       "      <td>8</td>\n",
       "      <td>6</td>\n",
       "      <td>24</td>\n",
       "      <td>41</td>\n",
       "      <td>73</td>\n",
       "      <td>-32</td>\n",
       "      <td>68</td>\n",
       "      <td>6</td>\n",
       "      <td>26</td>\n",
       "    </tr>\n",
       "    <tr>\n",
       "      <th>Criciuma - SC</th>\n",
       "      <td>4027</td>\n",
       "      <td>34</td>\n",
       "      <td>78</td>\n",
       "      <td>20</td>\n",
       "      <td>18</td>\n",
       "      <td>38</td>\n",
       "      <td>77</td>\n",
       "      <td>119</td>\n",
       "      <td>-42</td>\n",
       "      <td>214</td>\n",
       "      <td>11</td>\n",
       "      <td>68</td>\n",
       "    </tr>\n",
       "    <tr>\n",
       "      <th>Cruzeiro - MG</th>\n",
       "      <td>16124</td>\n",
       "      <td>61</td>\n",
       "      <td>460</td>\n",
       "      <td>127</td>\n",
       "      <td>79</td>\n",
       "      <td>98</td>\n",
       "      <td>391</td>\n",
       "      <td>329</td>\n",
       "      <td>62</td>\n",
       "      <td>715</td>\n",
       "      <td>42</td>\n",
       "      <td>400</td>\n",
       "    </tr>\n",
       "    <tr>\n",
       "      <th>Cruzeiro Saf - MG</th>\n",
       "      <td>2023</td>\n",
       "      <td>14</td>\n",
       "      <td>47</td>\n",
       "      <td>11</td>\n",
       "      <td>14</td>\n",
       "      <td>13</td>\n",
       "      <td>35</td>\n",
       "      <td>32</td>\n",
       "      <td>3</td>\n",
       "      <td>101</td>\n",
       "      <td>6</td>\n",
       "      <td>41</td>\n",
       "    </tr>\n",
       "    <tr>\n",
       "      <th>Csa - AL</th>\n",
       "      <td>2019</td>\n",
       "      <td>18</td>\n",
       "      <td>32</td>\n",
       "      <td>8</td>\n",
       "      <td>8</td>\n",
       "      <td>22</td>\n",
       "      <td>24</td>\n",
       "      <td>58</td>\n",
       "      <td>-34</td>\n",
       "      <td>90</td>\n",
       "      <td>4</td>\n",
       "      <td>28</td>\n",
       "    </tr>\n",
       "    <tr>\n",
       "      <th>Cuiabá - MT</th>\n",
       "      <td>2021</td>\n",
       "      <td>15</td>\n",
       "      <td>47</td>\n",
       "      <td>10</td>\n",
       "      <td>17</td>\n",
       "      <td>11</td>\n",
       "      <td>34</td>\n",
       "      <td>37</td>\n",
       "      <td>-3</td>\n",
       "      <td>84</td>\n",
       "      <td>7</td>\n",
       "      <td>41</td>\n",
       "    </tr>\n",
       "    <tr>\n",
       "      <th>Cuiabá Saf - MT</th>\n",
       "      <td>4045</td>\n",
       "      <td>28</td>\n",
       "      <td>92</td>\n",
       "      <td>24</td>\n",
       "      <td>20</td>\n",
       "      <td>32</td>\n",
       "      <td>71</td>\n",
       "      <td>81</td>\n",
       "      <td>-10</td>\n",
       "      <td>184</td>\n",
       "      <td>15</td>\n",
       "      <td>79</td>\n",
       "    </tr>\n",
       "    <tr>\n",
       "      <th>Figueirense - SC</th>\n",
       "      <td>8057</td>\n",
       "      <td>67</td>\n",
       "      <td>157</td>\n",
       "      <td>39</td>\n",
       "      <td>40</td>\n",
       "      <td>73</td>\n",
       "      <td>142</td>\n",
       "      <td>219</td>\n",
       "      <td>-77</td>\n",
       "      <td>384</td>\n",
       "      <td>32</td>\n",
       "      <td>136</td>\n",
       "    </tr>\n",
       "    <tr>\n",
       "      <th>Flamengo - RJ</th>\n",
       "      <td>24210</td>\n",
       "      <td>73</td>\n",
       "      <td>755</td>\n",
       "      <td>216</td>\n",
       "      <td>111</td>\n",
       "      <td>129</td>\n",
       "      <td>672</td>\n",
       "      <td>496</td>\n",
       "      <td>176</td>\n",
       "      <td>950</td>\n",
       "      <td>58</td>\n",
       "      <td>656</td>\n",
       "    </tr>\n",
       "    <tr>\n",
       "      <th>Fluminense - RJ</th>\n",
       "      <td>24210</td>\n",
       "      <td>110</td>\n",
       "      <td>663</td>\n",
       "      <td>183</td>\n",
       "      <td>114</td>\n",
       "      <td>159</td>\n",
       "      <td>577</td>\n",
       "      <td>529</td>\n",
       "      <td>48</td>\n",
       "      <td>1085</td>\n",
       "      <td>82</td>\n",
       "      <td>577</td>\n",
       "    </tr>\n",
       "    <tr>\n",
       "      <th>Fortaleza - CE</th>\n",
       "      <td>10105</td>\n",
       "      <td>47</td>\n",
       "      <td>261</td>\n",
       "      <td>72</td>\n",
       "      <td>45</td>\n",
       "      <td>73</td>\n",
       "      <td>219</td>\n",
       "      <td>221</td>\n",
       "      <td>-2</td>\n",
       "      <td>450</td>\n",
       "      <td>41</td>\n",
       "      <td>226</td>\n",
       "    </tr>\n",
       "    <tr>\n",
       "      <th>Goiás - GO</th>\n",
       "      <td>14126</td>\n",
       "      <td>96</td>\n",
       "      <td>317</td>\n",
       "      <td>83</td>\n",
       "      <td>68</td>\n",
       "      <td>115</td>\n",
       "      <td>288</td>\n",
       "      <td>366</td>\n",
       "      <td>-78</td>\n",
       "      <td>662</td>\n",
       "      <td>39</td>\n",
       "      <td>275</td>\n",
       "    </tr>\n",
       "    <tr>\n",
       "      <th>Grêmio - RS</th>\n",
       "      <td>22188</td>\n",
       "      <td>61</td>\n",
       "      <td>681</td>\n",
       "      <td>191</td>\n",
       "      <td>108</td>\n",
       "      <td>119</td>\n",
       "      <td>554</td>\n",
       "      <td>417</td>\n",
       "      <td>137</td>\n",
       "      <td>974</td>\n",
       "      <td>52</td>\n",
       "      <td>592</td>\n",
       "    </tr>\n",
       "    <tr>\n",
       "      <th>Internacional - RS</th>\n",
       "      <td>22193</td>\n",
       "      <td>83</td>\n",
       "      <td>644</td>\n",
       "      <td>175</td>\n",
       "      <td>119</td>\n",
       "      <td>124</td>\n",
       "      <td>526</td>\n",
       "      <td>432</td>\n",
       "      <td>94</td>\n",
       "      <td>1091</td>\n",
       "      <td>70</td>\n",
       "      <td>561</td>\n",
       "    </tr>\n",
       "    <tr>\n",
       "      <th>Joinville - SC</th>\n",
       "      <td>2015</td>\n",
       "      <td>20</td>\n",
       "      <td>31</td>\n",
       "      <td>7</td>\n",
       "      <td>10</td>\n",
       "      <td>21</td>\n",
       "      <td>26</td>\n",
       "      <td>48</td>\n",
       "      <td>-22</td>\n",
       "      <td>94</td>\n",
       "      <td>8</td>\n",
       "      <td>27</td>\n",
       "    </tr>\n",
       "    <tr>\n",
       "      <th>Juventude - RS</th>\n",
       "      <td>4043</td>\n",
       "      <td>36</td>\n",
       "      <td>68</td>\n",
       "      <td>14</td>\n",
       "      <td>26</td>\n",
       "      <td>36</td>\n",
       "      <td>65</td>\n",
       "      <td>113</td>\n",
       "      <td>-48</td>\n",
       "      <td>205</td>\n",
       "      <td>12</td>\n",
       "      <td>59</td>\n",
       "    </tr>\n",
       "    <tr>\n",
       "      <th>Náutico - PE</th>\n",
       "      <td>4025</td>\n",
       "      <td>32</td>\n",
       "      <td>69</td>\n",
       "      <td>19</td>\n",
       "      <td>12</td>\n",
       "      <td>45</td>\n",
       "      <td>66</td>\n",
       "      <td>130</td>\n",
       "      <td>-64</td>\n",
       "      <td>163</td>\n",
       "      <td>9</td>\n",
       "      <td>60</td>\n",
       "    </tr>\n",
       "    <tr>\n",
       "      <th>Palmeiras - SP</th>\n",
       "      <td>22197</td>\n",
       "      <td>62</td>\n",
       "      <td>699</td>\n",
       "      <td>200</td>\n",
       "      <td>99</td>\n",
       "      <td>119</td>\n",
       "      <td>620</td>\n",
       "      <td>439</td>\n",
       "      <td>181</td>\n",
       "      <td>1035</td>\n",
       "      <td>61</td>\n",
       "      <td>608</td>\n",
       "    </tr>\n",
       "    <tr>\n",
       "      <th>Paraná - PR</th>\n",
       "      <td>2018</td>\n",
       "      <td>20</td>\n",
       "      <td>23</td>\n",
       "      <td>4</td>\n",
       "      <td>11</td>\n",
       "      <td>23</td>\n",
       "      <td>18</td>\n",
       "      <td>57</td>\n",
       "      <td>-39</td>\n",
       "      <td>98</td>\n",
       "      <td>9</td>\n",
       "      <td>20</td>\n",
       "    </tr>\n",
       "    <tr>\n",
       "      <th>Ponte Preta - SP</th>\n",
       "      <td>10073</td>\n",
       "      <td>71</td>\n",
       "      <td>228</td>\n",
       "      <td>59</td>\n",
       "      <td>51</td>\n",
       "      <td>80</td>\n",
       "      <td>200</td>\n",
       "      <td>243</td>\n",
       "      <td>-43</td>\n",
       "      <td>459</td>\n",
       "      <td>23</td>\n",
       "      <td>198</td>\n",
       "    </tr>\n",
       "    <tr>\n",
       "      <th>Portuguesa - SP</th>\n",
       "      <td>4025</td>\n",
       "      <td>33</td>\n",
       "      <td>89</td>\n",
       "      <td>22</td>\n",
       "      <td>27</td>\n",
       "      <td>27</td>\n",
       "      <td>89</td>\n",
       "      <td>87</td>\n",
       "      <td>2</td>\n",
       "      <td>176</td>\n",
       "      <td>13</td>\n",
       "      <td>77</td>\n",
       "    </tr>\n",
       "    <tr>\n",
       "      <th>Red Bull Bragantino - SP</th>\n",
       "      <td>8086</td>\n",
       "      <td>36</td>\n",
       "      <td>215</td>\n",
       "      <td>55</td>\n",
       "      <td>50</td>\n",
       "      <td>47</td>\n",
       "      <td>203</td>\n",
       "      <td>180</td>\n",
       "      <td>23</td>\n",
       "      <td>379</td>\n",
       "      <td>21</td>\n",
       "      <td>187</td>\n",
       "    </tr>\n",
       "    <tr>\n",
       "      <th>Santa Cruz - PE</th>\n",
       "      <td>2016</td>\n",
       "      <td>19</td>\n",
       "      <td>31</td>\n",
       "      <td>8</td>\n",
       "      <td>7</td>\n",
       "      <td>23</td>\n",
       "      <td>45</td>\n",
       "      <td>69</td>\n",
       "      <td>-24</td>\n",
       "      <td>84</td>\n",
       "      <td>6</td>\n",
       "      <td>27</td>\n",
       "    </tr>\n",
       "    <tr>\n",
       "      <th>Santos - SP</th>\n",
       "      <td>24210</td>\n",
       "      <td>95</td>\n",
       "      <td>673</td>\n",
       "      <td>182</td>\n",
       "      <td>127</td>\n",
       "      <td>147</td>\n",
       "      <td>579</td>\n",
       "      <td>494</td>\n",
       "      <td>85</td>\n",
       "      <td>1072</td>\n",
       "      <td>69</td>\n",
       "      <td>584</td>\n",
       "    </tr>\n",
       "    <tr>\n",
       "      <th>Sport - PE</th>\n",
       "      <td>16133</td>\n",
       "      <td>115</td>\n",
       "      <td>363</td>\n",
       "      <td>96</td>\n",
       "      <td>78</td>\n",
       "      <td>130</td>\n",
       "      <td>313</td>\n",
       "      <td>397</td>\n",
       "      <td>-84</td>\n",
       "      <td>672</td>\n",
       "      <td>39</td>\n",
       "      <td>315</td>\n",
       "    </tr>\n",
       "    <tr>\n",
       "      <th>São Paulo - SP</th>\n",
       "      <td>24210</td>\n",
       "      <td>90</td>\n",
       "      <td>697</td>\n",
       "      <td>188</td>\n",
       "      <td>133</td>\n",
       "      <td>135</td>\n",
       "      <td>572</td>\n",
       "      <td>473</td>\n",
       "      <td>99</td>\n",
       "      <td>1092</td>\n",
       "      <td>72</td>\n",
       "      <td>605</td>\n",
       "    </tr>\n",
       "    <tr>\n",
       "      <th>Vasco da Gama - RJ</th>\n",
       "      <td>14114</td>\n",
       "      <td>93</td>\n",
       "      <td>332</td>\n",
       "      <td>84</td>\n",
       "      <td>80</td>\n",
       "      <td>102</td>\n",
       "      <td>280</td>\n",
       "      <td>355</td>\n",
       "      <td>-75</td>\n",
       "      <td>689</td>\n",
       "      <td>42</td>\n",
       "      <td>286</td>\n",
       "    </tr>\n",
       "    <tr>\n",
       "      <th>Vasco da Gama S.a.f. - RJ</th>\n",
       "      <td>2023</td>\n",
       "      <td>15</td>\n",
       "      <td>45</td>\n",
       "      <td>12</td>\n",
       "      <td>9</td>\n",
       "      <td>17</td>\n",
       "      <td>41</td>\n",
       "      <td>51</td>\n",
       "      <td>-10</td>\n",
       "      <td>103</td>\n",
       "      <td>8</td>\n",
       "      <td>39</td>\n",
       "    </tr>\n",
       "    <tr>\n",
       "      <th>Vitória - BA</th>\n",
       "      <td>10078</td>\n",
       "      <td>73</td>\n",
       "      <td>222</td>\n",
       "      <td>58</td>\n",
       "      <td>48</td>\n",
       "      <td>84</td>\n",
       "      <td>233</td>\n",
       "      <td>281</td>\n",
       "      <td>-48</td>\n",
       "      <td>449</td>\n",
       "      <td>23</td>\n",
       "      <td>192</td>\n",
       "    </tr>\n",
       "  </tbody>\n",
       "</table>\n",
       "</div>"
      ],
      "text/plain": [
       "                             Ano  Colocação  Pontos  Vitórias  Empates  \\\n",
       "Clube                                                                    \n",
       "America - MG                2021          8      53        13       14   \n",
       "America Fc - MG             2018         17      40        10       10   \n",
       "América - MG                2016         20      28         7        7   \n",
       "América Fc Saf - MG         2022         10      53        15        8   \n",
       "América Saf - MG            2023         20      24         5        9   \n",
       "Athletico Paranaense - PR  12123         49     335        92       59   \n",
       "Atletico - PR               2014          8      54        15        9   \n",
       "Atlético - GO              10092         79     205        49       58   \n",
       "Atlético - MG              18144         52     551       154       89   \n",
       "Atlético - PR               6048         27     159        45       24   \n",
       "Atlético Mineiro - MG       4043          8     142        41       19   \n",
       "Atlético Mineiro Saf - MG   2023          3      66        19        9   \n",
       "Atlético Paranaense - PR    2013          3      64        18       10   \n",
       "Avaí - SC                   8073         74     140        33       41   \n",
       "Bahia - BA                 18157        127     410       104       98   \n",
       "Botafogo - RJ              20174        105     500       136       92   \n",
       "Ceará - CE                 10100         70     222        52       66   \n",
       "Chapecoense - SC           14120        101     287        70       77   \n",
       "Corinthians - SP           24210         84     707       188      143   \n",
       "Coritiba - PR              16129        119     349        90       79   \n",
       "Coritiba S.a.f. - PR        2023         19      30         8        6   \n",
       "Criciuma - SC               4027         34      78        20       18   \n",
       "Cruzeiro - MG              16124         61     460       127       79   \n",
       "Cruzeiro Saf - MG           2023         14      47        11       14   \n",
       "Csa - AL                    2019         18      32         8        8   \n",
       "Cuiabá - MT                 2021         15      47        10       17   \n",
       "Cuiabá Saf - MT             4045         28      92        24       20   \n",
       "Figueirense - SC            8057         67     157        39       40   \n",
       "Flamengo - RJ              24210         73     755       216      111   \n",
       "Fluminense - RJ            24210        110     663       183      114   \n",
       "Fortaleza - CE             10105         47     261        72       45   \n",
       "Goiás - GO                 14126         96     317        83       68   \n",
       "Grêmio - RS                22188         61     681       191      108   \n",
       "Internacional - RS         22193         83     644       175      119   \n",
       "Joinville - SC              2015         20      31         7       10   \n",
       "Juventude - RS              4043         36      68        14       26   \n",
       "Náutico - PE                4025         32      69        19       12   \n",
       "Palmeiras - SP             22197         62     699       200       99   \n",
       "Paraná - PR                 2018         20      23         4       11   \n",
       "Ponte Preta - SP           10073         71     228        59       51   \n",
       "Portuguesa - SP             4025         33      89        22       27   \n",
       "Red Bull Bragantino - SP    8086         36     215        55       50   \n",
       "Santa Cruz - PE             2016         19      31         8        7   \n",
       "Santos - SP                24210         95     673       182      127   \n",
       "Sport - PE                 16133        115     363        96       78   \n",
       "São Paulo - SP             24210         90     697       188      133   \n",
       "Vasco da Gama - RJ         14114         93     332        84       80   \n",
       "Vasco da Gama S.a.f. - RJ   2023         15      45        12        9   \n",
       "Vitória - BA               10078         73     222        58       48   \n",
       "\n",
       "                           Derrotas  Gols Feitos  Gols Sofridos  \\\n",
       "Clube                                                             \n",
       "America - MG                     11           41             37   \n",
       "America Fc - MG                  18           30             47   \n",
       "América - MG                     24           23             58   \n",
       "América Fc Saf - MG              15           40             40   \n",
       "América Saf - MG                 24           42             81   \n",
       "Athletico Paranaense - PR        77          283            241   \n",
       "Atletico - PR                    14           43             42   \n",
       "Atlético - GO                    83          187            261   \n",
       "Atlético - MG                    99          506            399   \n",
       "Atlético - PR                    45          126            123   \n",
       "Atlético Mineiro - MG            16          112             71   \n",
       "Atlético Mineiro Saf - MG        10           52             32   \n",
       "Atlético Paranaense - PR         10           65             49   \n",
       "Avaí - SC                        78          119            230   \n",
       "Bahia - BA                      140          378            424   \n",
       "Botafogo - RJ                   152          434            453   \n",
       "Ceará - CE                       72          195            209   \n",
       "Chapecoense - SC                119          261            362   \n",
       "Corinthians - SP                125          548            429   \n",
       "Coritiba - PR                   135          321            399   \n",
       "Coritiba S.a.f. - PR             24           41             73   \n",
       "Criciuma - SC                    38           77            119   \n",
       "Cruzeiro - MG                    98          391            329   \n",
       "Cruzeiro Saf - MG                13           35             32   \n",
       "Csa - AL                         22           24             58   \n",
       "Cuiabá - MT                      11           34             37   \n",
       "Cuiabá Saf - MT                  32           71             81   \n",
       "Figueirense - SC                 73          142            219   \n",
       "Flamengo - RJ                   129          672            496   \n",
       "Fluminense - RJ                 159          577            529   \n",
       "Fortaleza - CE                   73          219            221   \n",
       "Goiás - GO                      115          288            366   \n",
       "Grêmio - RS                     119          554            417   \n",
       "Internacional - RS              124          526            432   \n",
       "Joinville - SC                   21           26             48   \n",
       "Juventude - RS                   36           65            113   \n",
       "Náutico - PE                     45           66            130   \n",
       "Palmeiras - SP                  119          620            439   \n",
       "Paraná - PR                      23           18             57   \n",
       "Ponte Preta - SP                 80          200            243   \n",
       "Portuguesa - SP                  27           89             87   \n",
       "Red Bull Bragantino - SP         47          203            180   \n",
       "Santa Cruz - PE                  23           45             69   \n",
       "Santos - SP                     147          579            494   \n",
       "Sport - PE                      130          313            397   \n",
       "São Paulo - SP                  135          572            473   \n",
       "Vasco da Gama - RJ              102          280            355   \n",
       "Vasco da Gama S.a.f. - RJ        17           41             51   \n",
       "Vitória - BA                     84          233            281   \n",
       "\n",
       "                           Saldos de Gols  Cartões Amarelos  \\\n",
       "Clube                                                         \n",
       "America - MG                            4                66   \n",
       "America Fc - MG                       -17                84   \n",
       "América - MG                          -35                66   \n",
       "América Fc Saf - MG                     0                88   \n",
       "América Saf - MG                      -39                86   \n",
       "Athletico Paranaense - PR              42               550   \n",
       "Atletico - PR                           1                72   \n",
       "Atlético - GO                         -74               469   \n",
       "Atlético - MG                         107               777   \n",
       "Atlético - PR                           3               239   \n",
       "Atlético Mineiro - MG                  41               175   \n",
       "Atlético Mineiro Saf - MG              20               114   \n",
       "Atlético Paranaense - PR               16                92   \n",
       "Avaí - SC                            -111               382   \n",
       "Bahia - BA                            -46               826   \n",
       "Botafogo - RJ                         -19               880   \n",
       "Ceará - CE                            -14               484   \n",
       "Chapecoense - SC                     -101               566   \n",
       "Corinthians - SP                      119               916   \n",
       "Coritiba - PR                         -78               805   \n",
       "Coritiba S.a.f. - PR                  -32                68   \n",
       "Criciuma - SC                         -42               214   \n",
       "Cruzeiro - MG                          62               715   \n",
       "Cruzeiro Saf - MG                       3               101   \n",
       "Csa - AL                              -34                90   \n",
       "Cuiabá - MT                            -3                84   \n",
       "Cuiabá Saf - MT                       -10               184   \n",
       "Figueirense - SC                      -77               384   \n",
       "Flamengo - RJ                         176               950   \n",
       "Fluminense - RJ                        48              1085   \n",
       "Fortaleza - CE                         -2               450   \n",
       "Goiás - GO                            -78               662   \n",
       "Grêmio - RS                           137               974   \n",
       "Internacional - RS                     94              1091   \n",
       "Joinville - SC                        -22                94   \n",
       "Juventude - RS                        -48               205   \n",
       "Náutico - PE                          -64               163   \n",
       "Palmeiras - SP                        181              1035   \n",
       "Paraná - PR                           -39                98   \n",
       "Ponte Preta - SP                      -43               459   \n",
       "Portuguesa - SP                         2               176   \n",
       "Red Bull Bragantino - SP               23               379   \n",
       "Santa Cruz - PE                       -24                84   \n",
       "Santos - SP                            85              1072   \n",
       "Sport - PE                            -84               672   \n",
       "São Paulo - SP                         99              1092   \n",
       "Vasco da Gama - RJ                    -75               689   \n",
       "Vasco da Gama S.a.f. - RJ             -10               103   \n",
       "Vitória - BA                          -48               449   \n",
       "\n",
       "                           Cartões Vermelhos  Aproveitamento (%)  \n",
       "Clube                                                             \n",
       "America - MG                               2                  46  \n",
       "America Fc - MG                            8                  35  \n",
       "América - MG                               3                  24  \n",
       "América Fc Saf - MG                        5                  46  \n",
       "América Saf - MG                          11                  21  \n",
       "Athletico Paranaense - PR                 26                 292  \n",
       "Atletico - PR                              1                  47  \n",
       "Atlético - GO                             31                 177  \n",
       "Atlético - MG                             46                 481  \n",
       "Atlético - PR                             11                 138  \n",
       "Atlético Mineiro - MG                      7                 123  \n",
       "Atlético Mineiro Saf - MG                  7                  57  \n",
       "Atlético Paranaense - PR                   5                  56  \n",
       "Avaí - SC                                 22                 120  \n",
       "Bahia - BA                                54                 355  \n",
       "Botafogo - RJ                             47                 433  \n",
       "Ceará - CE                                31                 192  \n",
       "Chapecoense - SC                          28                 250  \n",
       "Corinthians - SP                          44                 616  \n",
       "Coritiba - PR                             47                 303  \n",
       "Coritiba S.a.f. - PR                       6                  26  \n",
       "Criciuma - SC                             11                  68  \n",
       "Cruzeiro - MG                             42                 400  \n",
       "Cruzeiro Saf - MG                          6                  41  \n",
       "Csa - AL                                   4                  28  \n",
       "Cuiabá - MT                                7                  41  \n",
       "Cuiabá Saf - MT                           15                  79  \n",
       "Figueirense - SC                          32                 136  \n",
       "Flamengo - RJ                             58                 656  \n",
       "Fluminense - RJ                           82                 577  \n",
       "Fortaleza - CE                            41                 226  \n",
       "Goiás - GO                                39                 275  \n",
       "Grêmio - RS                               52                 592  \n",
       "Internacional - RS                        70                 561  \n",
       "Joinville - SC                             8                  27  \n",
       "Juventude - RS                            12                  59  \n",
       "Náutico - PE                               9                  60  \n",
       "Palmeiras - SP                            61                 608  \n",
       "Paraná - PR                                9                  20  \n",
       "Ponte Preta - SP                          23                 198  \n",
       "Portuguesa - SP                           13                  77  \n",
       "Red Bull Bragantino - SP                  21                 187  \n",
       "Santa Cruz - PE                            6                  27  \n",
       "Santos - SP                               69                 584  \n",
       "Sport - PE                                39                 315  \n",
       "São Paulo - SP                            72                 605  \n",
       "Vasco da Gama - RJ                        42                 286  \n",
       "Vasco da Gama S.a.f. - RJ                  8                  39  \n",
       "Vitória - BA                              23                 192  "
      ]
     },
     "execution_count": 4,
     "metadata": {},
     "output_type": "execute_result"
    }
   ],
   "source": [
    "df.groupby('Clube').sum()"
   ]
  },
  {
   "cell_type": "code",
   "execution_count": 5,
   "metadata": {},
   "outputs": [],
   "source": [
    "def agrupar_nomes(lista_com_nomes: list, nome_correto: str):\n",
    "    for nome in lista_com_nomes:\n",
    "        df.loc[df['Clube'] == nome, 'Clube'] = nome_correto\n",
    "\n",
    "nomes_incorretos = {\n",
    "    \"América - MG\": [\"America - MG\", \"America Fc - MG\", \"América Fc Saf - MG\", \"América Saf - MG\"],\n",
    "    \"Athletico Paranaense - PR\": [\"Atletico - PR\", \"Atlético - PR\", \"Atlético Paranaense - PR\"],\n",
    "    \"Atlético Mineiro - MG\": [\"Atlético - MG\", \"Atlético Mineiro Saf - MG\"],\n",
    "    \"Atlético Goianiense - GO\": [\"Atlético - GO\"],\n",
    "    \"Coritiba - PR\": [\"Coritiba S.a.f. - PR\"],\n",
    "    \"Cruzeiro - MG\": [\"Cruzeiro Saf - MG\"],\n",
    "    \"Vasco da Gama - RJ\": [\"Vasco da Gama S.a.f. - RJ\"],\n",
    "    \"Cuiabá - MT\": [\"Cuiabá Saf - MT\"],\n",
    "}\n",
    "\n",
    "for nome_correto in nomes_incorretos.keys():\n",
    "    agrupar_nomes(nomes_incorretos[nome_correto], nome_correto)"
   ]
  },
  {
   "cell_type": "code",
   "execution_count": 6,
   "metadata": {},
   "outputs": [
    {
     "data": {
      "text/plain": [
       "['América - MG',\n",
       " 'Athletico Paranaense - PR',\n",
       " 'Atlético Goianiense - GO',\n",
       " 'Atlético Mineiro - MG',\n",
       " 'Avaí - SC',\n",
       " 'Bahia - BA',\n",
       " 'Botafogo - RJ',\n",
       " 'Ceará - CE',\n",
       " 'Chapecoense - SC',\n",
       " 'Corinthians - SP',\n",
       " 'Coritiba - PR',\n",
       " 'Criciuma - SC',\n",
       " 'Cruzeiro - MG',\n",
       " 'Csa - AL',\n",
       " 'Cuiabá - MT',\n",
       " 'Figueirense - SC',\n",
       " 'Flamengo - RJ',\n",
       " 'Fluminense - RJ',\n",
       " 'Fortaleza - CE',\n",
       " 'Goiás - GO',\n",
       " 'Grêmio - RS',\n",
       " 'Internacional - RS',\n",
       " 'Joinville - SC',\n",
       " 'Juventude - RS',\n",
       " 'Náutico - PE',\n",
       " 'Palmeiras - SP',\n",
       " 'Paraná - PR',\n",
       " 'Ponte Preta - SP',\n",
       " 'Portuguesa - SP',\n",
       " 'Red Bull Bragantino - SP',\n",
       " 'Santa Cruz - PE',\n",
       " 'Santos - SP',\n",
       " 'Sport - PE',\n",
       " 'São Paulo - SP',\n",
       " 'Vasco da Gama - RJ',\n",
       " 'Vitória - BA']"
      ]
     },
     "execution_count": 6,
     "metadata": {},
     "output_type": "execute_result"
    }
   ],
   "source": [
    "sorted(df['Clube'].unique())"
   ]
  },
  {
   "cell_type": "code",
   "execution_count": 7,
   "metadata": {},
   "outputs": [
    {
     "data": {
      "text/plain": [
       "36"
      ]
     },
     "execution_count": 7,
     "metadata": {},
     "output_type": "execute_result"
    }
   ],
   "source": [
    "len(df['Clube'].unique())"
   ]
  },
  {
   "cell_type": "markdown",
   "metadata": {},
   "source": [
    "<h2>1 - Total da soma de cada coluna de cada time.</h2>"
   ]
  },
  {
   "cell_type": "code",
   "execution_count": 8,
   "metadata": {},
   "outputs": [
    {
     "data": {
      "text/html": [
       "<div>\n",
       "<style scoped>\n",
       "    .dataframe tbody tr th:only-of-type {\n",
       "        vertical-align: middle;\n",
       "    }\n",
       "\n",
       "    .dataframe tbody tr th {\n",
       "        vertical-align: top;\n",
       "    }\n",
       "\n",
       "    .dataframe thead th {\n",
       "        text-align: right;\n",
       "    }\n",
       "</style>\n",
       "<table border=\"1\" class=\"dataframe\">\n",
       "  <thead>\n",
       "    <tr style=\"text-align: right;\">\n",
       "      <th></th>\n",
       "      <th>Pontos</th>\n",
       "      <th>Vitórias</th>\n",
       "      <th>Empates</th>\n",
       "      <th>Derrotas</th>\n",
       "      <th>Gols Feitos</th>\n",
       "      <th>Gols Sofridos</th>\n",
       "      <th>Saldos de Gols</th>\n",
       "      <th>Cartões Amarelos</th>\n",
       "      <th>Cartões Vermelhos</th>\n",
       "    </tr>\n",
       "    <tr>\n",
       "      <th>Clube</th>\n",
       "      <th></th>\n",
       "      <th></th>\n",
       "      <th></th>\n",
       "      <th></th>\n",
       "      <th></th>\n",
       "      <th></th>\n",
       "      <th></th>\n",
       "      <th></th>\n",
       "      <th></th>\n",
       "    </tr>\n",
       "  </thead>\n",
       "  <tbody>\n",
       "    <tr>\n",
       "      <th>América - MG</th>\n",
       "      <td>198</td>\n",
       "      <td>50</td>\n",
       "      <td>48</td>\n",
       "      <td>92</td>\n",
       "      <td>176</td>\n",
       "      <td>263</td>\n",
       "      <td>-87</td>\n",
       "      <td>390</td>\n",
       "      <td>29</td>\n",
       "    </tr>\n",
       "    <tr>\n",
       "      <th>Athletico Paranaense - PR</th>\n",
       "      <td>612</td>\n",
       "      <td>170</td>\n",
       "      <td>102</td>\n",
       "      <td>146</td>\n",
       "      <td>517</td>\n",
       "      <td>455</td>\n",
       "      <td>62</td>\n",
       "      <td>953</td>\n",
       "      <td>43</td>\n",
       "    </tr>\n",
       "    <tr>\n",
       "      <th>Atlético Goianiense - GO</th>\n",
       "      <td>205</td>\n",
       "      <td>49</td>\n",
       "      <td>58</td>\n",
       "      <td>83</td>\n",
       "      <td>187</td>\n",
       "      <td>261</td>\n",
       "      <td>-74</td>\n",
       "      <td>469</td>\n",
       "      <td>31</td>\n",
       "    </tr>\n",
       "    <tr>\n",
       "      <th>Atlético Mineiro - MG</th>\n",
       "      <td>759</td>\n",
       "      <td>214</td>\n",
       "      <td>117</td>\n",
       "      <td>125</td>\n",
       "      <td>670</td>\n",
       "      <td>502</td>\n",
       "      <td>168</td>\n",
       "      <td>1066</td>\n",
       "      <td>60</td>\n",
       "    </tr>\n",
       "    <tr>\n",
       "      <th>Avaí - SC</th>\n",
       "      <td>140</td>\n",
       "      <td>33</td>\n",
       "      <td>41</td>\n",
       "      <td>78</td>\n",
       "      <td>119</td>\n",
       "      <td>230</td>\n",
       "      <td>-111</td>\n",
       "      <td>382</td>\n",
       "      <td>22</td>\n",
       "    </tr>\n",
       "    <tr>\n",
       "      <th>Bahia - BA</th>\n",
       "      <td>410</td>\n",
       "      <td>104</td>\n",
       "      <td>98</td>\n",
       "      <td>140</td>\n",
       "      <td>378</td>\n",
       "      <td>424</td>\n",
       "      <td>-46</td>\n",
       "      <td>826</td>\n",
       "      <td>54</td>\n",
       "    </tr>\n",
       "    <tr>\n",
       "      <th>Botafogo - RJ</th>\n",
       "      <td>500</td>\n",
       "      <td>136</td>\n",
       "      <td>92</td>\n",
       "      <td>152</td>\n",
       "      <td>434</td>\n",
       "      <td>453</td>\n",
       "      <td>-19</td>\n",
       "      <td>880</td>\n",
       "      <td>47</td>\n",
       "    </tr>\n",
       "    <tr>\n",
       "      <th>Ceará - CE</th>\n",
       "      <td>222</td>\n",
       "      <td>52</td>\n",
       "      <td>66</td>\n",
       "      <td>72</td>\n",
       "      <td>195</td>\n",
       "      <td>209</td>\n",
       "      <td>-14</td>\n",
       "      <td>484</td>\n",
       "      <td>31</td>\n",
       "    </tr>\n",
       "    <tr>\n",
       "      <th>Chapecoense - SC</th>\n",
       "      <td>287</td>\n",
       "      <td>70</td>\n",
       "      <td>77</td>\n",
       "      <td>119</td>\n",
       "      <td>261</td>\n",
       "      <td>362</td>\n",
       "      <td>-101</td>\n",
       "      <td>566</td>\n",
       "      <td>28</td>\n",
       "    </tr>\n",
       "    <tr>\n",
       "      <th>Corinthians - SP</th>\n",
       "      <td>707</td>\n",
       "      <td>188</td>\n",
       "      <td>143</td>\n",
       "      <td>125</td>\n",
       "      <td>548</td>\n",
       "      <td>429</td>\n",
       "      <td>119</td>\n",
       "      <td>916</td>\n",
       "      <td>44</td>\n",
       "    </tr>\n",
       "    <tr>\n",
       "      <th>Coritiba - PR</th>\n",
       "      <td>379</td>\n",
       "      <td>98</td>\n",
       "      <td>85</td>\n",
       "      <td>159</td>\n",
       "      <td>362</td>\n",
       "      <td>472</td>\n",
       "      <td>-110</td>\n",
       "      <td>873</td>\n",
       "      <td>53</td>\n",
       "    </tr>\n",
       "    <tr>\n",
       "      <th>Criciuma - SC</th>\n",
       "      <td>78</td>\n",
       "      <td>20</td>\n",
       "      <td>18</td>\n",
       "      <td>38</td>\n",
       "      <td>77</td>\n",
       "      <td>119</td>\n",
       "      <td>-42</td>\n",
       "      <td>214</td>\n",
       "      <td>11</td>\n",
       "    </tr>\n",
       "    <tr>\n",
       "      <th>Cruzeiro - MG</th>\n",
       "      <td>507</td>\n",
       "      <td>138</td>\n",
       "      <td>93</td>\n",
       "      <td>111</td>\n",
       "      <td>426</td>\n",
       "      <td>361</td>\n",
       "      <td>65</td>\n",
       "      <td>816</td>\n",
       "      <td>48</td>\n",
       "    </tr>\n",
       "    <tr>\n",
       "      <th>Csa - AL</th>\n",
       "      <td>32</td>\n",
       "      <td>8</td>\n",
       "      <td>8</td>\n",
       "      <td>22</td>\n",
       "      <td>24</td>\n",
       "      <td>58</td>\n",
       "      <td>-34</td>\n",
       "      <td>90</td>\n",
       "      <td>4</td>\n",
       "    </tr>\n",
       "    <tr>\n",
       "      <th>Cuiabá - MT</th>\n",
       "      <td>139</td>\n",
       "      <td>34</td>\n",
       "      <td>37</td>\n",
       "      <td>43</td>\n",
       "      <td>105</td>\n",
       "      <td>118</td>\n",
       "      <td>-13</td>\n",
       "      <td>268</td>\n",
       "      <td>22</td>\n",
       "    </tr>\n",
       "    <tr>\n",
       "      <th>Figueirense - SC</th>\n",
       "      <td>157</td>\n",
       "      <td>39</td>\n",
       "      <td>40</td>\n",
       "      <td>73</td>\n",
       "      <td>142</td>\n",
       "      <td>219</td>\n",
       "      <td>-77</td>\n",
       "      <td>384</td>\n",
       "      <td>32</td>\n",
       "    </tr>\n",
       "    <tr>\n",
       "      <th>Flamengo - RJ</th>\n",
       "      <td>755</td>\n",
       "      <td>216</td>\n",
       "      <td>111</td>\n",
       "      <td>129</td>\n",
       "      <td>672</td>\n",
       "      <td>496</td>\n",
       "      <td>176</td>\n",
       "      <td>950</td>\n",
       "      <td>58</td>\n",
       "    </tr>\n",
       "    <tr>\n",
       "      <th>Fluminense - RJ</th>\n",
       "      <td>663</td>\n",
       "      <td>183</td>\n",
       "      <td>114</td>\n",
       "      <td>159</td>\n",
       "      <td>577</td>\n",
       "      <td>529</td>\n",
       "      <td>48</td>\n",
       "      <td>1085</td>\n",
       "      <td>82</td>\n",
       "    </tr>\n",
       "    <tr>\n",
       "      <th>Fortaleza - CE</th>\n",
       "      <td>261</td>\n",
       "      <td>72</td>\n",
       "      <td>45</td>\n",
       "      <td>73</td>\n",
       "      <td>219</td>\n",
       "      <td>221</td>\n",
       "      <td>-2</td>\n",
       "      <td>450</td>\n",
       "      <td>41</td>\n",
       "    </tr>\n",
       "    <tr>\n",
       "      <th>Goiás - GO</th>\n",
       "      <td>317</td>\n",
       "      <td>83</td>\n",
       "      <td>68</td>\n",
       "      <td>115</td>\n",
       "      <td>288</td>\n",
       "      <td>366</td>\n",
       "      <td>-78</td>\n",
       "      <td>662</td>\n",
       "      <td>39</td>\n",
       "    </tr>\n",
       "    <tr>\n",
       "      <th>Grêmio - RS</th>\n",
       "      <td>681</td>\n",
       "      <td>191</td>\n",
       "      <td>108</td>\n",
       "      <td>119</td>\n",
       "      <td>554</td>\n",
       "      <td>417</td>\n",
       "      <td>137</td>\n",
       "      <td>974</td>\n",
       "      <td>52</td>\n",
       "    </tr>\n",
       "    <tr>\n",
       "      <th>Internacional - RS</th>\n",
       "      <td>644</td>\n",
       "      <td>175</td>\n",
       "      <td>119</td>\n",
       "      <td>124</td>\n",
       "      <td>526</td>\n",
       "      <td>432</td>\n",
       "      <td>94</td>\n",
       "      <td>1091</td>\n",
       "      <td>70</td>\n",
       "    </tr>\n",
       "    <tr>\n",
       "      <th>Joinville - SC</th>\n",
       "      <td>31</td>\n",
       "      <td>7</td>\n",
       "      <td>10</td>\n",
       "      <td>21</td>\n",
       "      <td>26</td>\n",
       "      <td>48</td>\n",
       "      <td>-22</td>\n",
       "      <td>94</td>\n",
       "      <td>8</td>\n",
       "    </tr>\n",
       "    <tr>\n",
       "      <th>Juventude - RS</th>\n",
       "      <td>68</td>\n",
       "      <td>14</td>\n",
       "      <td>26</td>\n",
       "      <td>36</td>\n",
       "      <td>65</td>\n",
       "      <td>113</td>\n",
       "      <td>-48</td>\n",
       "      <td>205</td>\n",
       "      <td>12</td>\n",
       "    </tr>\n",
       "    <tr>\n",
       "      <th>Náutico - PE</th>\n",
       "      <td>69</td>\n",
       "      <td>19</td>\n",
       "      <td>12</td>\n",
       "      <td>45</td>\n",
       "      <td>66</td>\n",
       "      <td>130</td>\n",
       "      <td>-64</td>\n",
       "      <td>163</td>\n",
       "      <td>9</td>\n",
       "    </tr>\n",
       "    <tr>\n",
       "      <th>Palmeiras - SP</th>\n",
       "      <td>699</td>\n",
       "      <td>200</td>\n",
       "      <td>99</td>\n",
       "      <td>119</td>\n",
       "      <td>620</td>\n",
       "      <td>439</td>\n",
       "      <td>181</td>\n",
       "      <td>1035</td>\n",
       "      <td>61</td>\n",
       "    </tr>\n",
       "    <tr>\n",
       "      <th>Paraná - PR</th>\n",
       "      <td>23</td>\n",
       "      <td>4</td>\n",
       "      <td>11</td>\n",
       "      <td>23</td>\n",
       "      <td>18</td>\n",
       "      <td>57</td>\n",
       "      <td>-39</td>\n",
       "      <td>98</td>\n",
       "      <td>9</td>\n",
       "    </tr>\n",
       "    <tr>\n",
       "      <th>Ponte Preta - SP</th>\n",
       "      <td>228</td>\n",
       "      <td>59</td>\n",
       "      <td>51</td>\n",
       "      <td>80</td>\n",
       "      <td>200</td>\n",
       "      <td>243</td>\n",
       "      <td>-43</td>\n",
       "      <td>459</td>\n",
       "      <td>23</td>\n",
       "    </tr>\n",
       "    <tr>\n",
       "      <th>Portuguesa - SP</th>\n",
       "      <td>89</td>\n",
       "      <td>22</td>\n",
       "      <td>27</td>\n",
       "      <td>27</td>\n",
       "      <td>89</td>\n",
       "      <td>87</td>\n",
       "      <td>2</td>\n",
       "      <td>176</td>\n",
       "      <td>13</td>\n",
       "    </tr>\n",
       "    <tr>\n",
       "      <th>Red Bull Bragantino - SP</th>\n",
       "      <td>215</td>\n",
       "      <td>55</td>\n",
       "      <td>50</td>\n",
       "      <td>47</td>\n",
       "      <td>203</td>\n",
       "      <td>180</td>\n",
       "      <td>23</td>\n",
       "      <td>379</td>\n",
       "      <td>21</td>\n",
       "    </tr>\n",
       "    <tr>\n",
       "      <th>Santa Cruz - PE</th>\n",
       "      <td>31</td>\n",
       "      <td>8</td>\n",
       "      <td>7</td>\n",
       "      <td>23</td>\n",
       "      <td>45</td>\n",
       "      <td>69</td>\n",
       "      <td>-24</td>\n",
       "      <td>84</td>\n",
       "      <td>6</td>\n",
       "    </tr>\n",
       "    <tr>\n",
       "      <th>Santos - SP</th>\n",
       "      <td>673</td>\n",
       "      <td>182</td>\n",
       "      <td>127</td>\n",
       "      <td>147</td>\n",
       "      <td>579</td>\n",
       "      <td>494</td>\n",
       "      <td>85</td>\n",
       "      <td>1072</td>\n",
       "      <td>69</td>\n",
       "    </tr>\n",
       "    <tr>\n",
       "      <th>Sport - PE</th>\n",
       "      <td>363</td>\n",
       "      <td>96</td>\n",
       "      <td>78</td>\n",
       "      <td>130</td>\n",
       "      <td>313</td>\n",
       "      <td>397</td>\n",
       "      <td>-84</td>\n",
       "      <td>672</td>\n",
       "      <td>39</td>\n",
       "    </tr>\n",
       "    <tr>\n",
       "      <th>São Paulo - SP</th>\n",
       "      <td>697</td>\n",
       "      <td>188</td>\n",
       "      <td>133</td>\n",
       "      <td>135</td>\n",
       "      <td>572</td>\n",
       "      <td>473</td>\n",
       "      <td>99</td>\n",
       "      <td>1092</td>\n",
       "      <td>72</td>\n",
       "    </tr>\n",
       "    <tr>\n",
       "      <th>Vasco da Gama - RJ</th>\n",
       "      <td>377</td>\n",
       "      <td>96</td>\n",
       "      <td>89</td>\n",
       "      <td>119</td>\n",
       "      <td>321</td>\n",
       "      <td>406</td>\n",
       "      <td>-85</td>\n",
       "      <td>792</td>\n",
       "      <td>50</td>\n",
       "    </tr>\n",
       "    <tr>\n",
       "      <th>Vitória - BA</th>\n",
       "      <td>222</td>\n",
       "      <td>58</td>\n",
       "      <td>48</td>\n",
       "      <td>84</td>\n",
       "      <td>233</td>\n",
       "      <td>281</td>\n",
       "      <td>-48</td>\n",
       "      <td>449</td>\n",
       "      <td>23</td>\n",
       "    </tr>\n",
       "  </tbody>\n",
       "</table>\n",
       "</div>"
      ],
      "text/plain": [
       "                           Pontos  Vitórias  Empates  Derrotas  Gols Feitos  \\\n",
       "Clube                                                                         \n",
       "América - MG                  198        50       48        92          176   \n",
       "Athletico Paranaense - PR     612       170      102       146          517   \n",
       "Atlético Goianiense - GO      205        49       58        83          187   \n",
       "Atlético Mineiro - MG         759       214      117       125          670   \n",
       "Avaí - SC                     140        33       41        78          119   \n",
       "Bahia - BA                    410       104       98       140          378   \n",
       "Botafogo - RJ                 500       136       92       152          434   \n",
       "Ceará - CE                    222        52       66        72          195   \n",
       "Chapecoense - SC              287        70       77       119          261   \n",
       "Corinthians - SP              707       188      143       125          548   \n",
       "Coritiba - PR                 379        98       85       159          362   \n",
       "Criciuma - SC                  78        20       18        38           77   \n",
       "Cruzeiro - MG                 507       138       93       111          426   \n",
       "Csa - AL                       32         8        8        22           24   \n",
       "Cuiabá - MT                   139        34       37        43          105   \n",
       "Figueirense - SC              157        39       40        73          142   \n",
       "Flamengo - RJ                 755       216      111       129          672   \n",
       "Fluminense - RJ               663       183      114       159          577   \n",
       "Fortaleza - CE                261        72       45        73          219   \n",
       "Goiás - GO                    317        83       68       115          288   \n",
       "Grêmio - RS                   681       191      108       119          554   \n",
       "Internacional - RS            644       175      119       124          526   \n",
       "Joinville - SC                 31         7       10        21           26   \n",
       "Juventude - RS                 68        14       26        36           65   \n",
       "Náutico - PE                   69        19       12        45           66   \n",
       "Palmeiras - SP                699       200       99       119          620   \n",
       "Paraná - PR                    23         4       11        23           18   \n",
       "Ponte Preta - SP              228        59       51        80          200   \n",
       "Portuguesa - SP                89        22       27        27           89   \n",
       "Red Bull Bragantino - SP      215        55       50        47          203   \n",
       "Santa Cruz - PE                31         8        7        23           45   \n",
       "Santos - SP                   673       182      127       147          579   \n",
       "Sport - PE                    363        96       78       130          313   \n",
       "São Paulo - SP                697       188      133       135          572   \n",
       "Vasco da Gama - RJ            377        96       89       119          321   \n",
       "Vitória - BA                  222        58       48        84          233   \n",
       "\n",
       "                           Gols Sofridos  Saldos de Gols  Cartões Amarelos  \\\n",
       "Clube                                                                        \n",
       "América - MG                         263             -87               390   \n",
       "Athletico Paranaense - PR            455              62               953   \n",
       "Atlético Goianiense - GO             261             -74               469   \n",
       "Atlético Mineiro - MG                502             168              1066   \n",
       "Avaí - SC                            230            -111               382   \n",
       "Bahia - BA                           424             -46               826   \n",
       "Botafogo - RJ                        453             -19               880   \n",
       "Ceará - CE                           209             -14               484   \n",
       "Chapecoense - SC                     362            -101               566   \n",
       "Corinthians - SP                     429             119               916   \n",
       "Coritiba - PR                        472            -110               873   \n",
       "Criciuma - SC                        119             -42               214   \n",
       "Cruzeiro - MG                        361              65               816   \n",
       "Csa - AL                              58             -34                90   \n",
       "Cuiabá - MT                          118             -13               268   \n",
       "Figueirense - SC                     219             -77               384   \n",
       "Flamengo - RJ                        496             176               950   \n",
       "Fluminense - RJ                      529              48              1085   \n",
       "Fortaleza - CE                       221              -2               450   \n",
       "Goiás - GO                           366             -78               662   \n",
       "Grêmio - RS                          417             137               974   \n",
       "Internacional - RS                   432              94              1091   \n",
       "Joinville - SC                        48             -22                94   \n",
       "Juventude - RS                       113             -48               205   \n",
       "Náutico - PE                         130             -64               163   \n",
       "Palmeiras - SP                       439             181              1035   \n",
       "Paraná - PR                           57             -39                98   \n",
       "Ponte Preta - SP                     243             -43               459   \n",
       "Portuguesa - SP                       87               2               176   \n",
       "Red Bull Bragantino - SP             180              23               379   \n",
       "Santa Cruz - PE                       69             -24                84   \n",
       "Santos - SP                          494              85              1072   \n",
       "Sport - PE                           397             -84               672   \n",
       "São Paulo - SP                       473              99              1092   \n",
       "Vasco da Gama - RJ                   406             -85               792   \n",
       "Vitória - BA                         281             -48               449   \n",
       "\n",
       "                           Cartões Vermelhos  \n",
       "Clube                                         \n",
       "América - MG                              29  \n",
       "Athletico Paranaense - PR                 43  \n",
       "Atlético Goianiense - GO                  31  \n",
       "Atlético Mineiro - MG                     60  \n",
       "Avaí - SC                                 22  \n",
       "Bahia - BA                                54  \n",
       "Botafogo - RJ                             47  \n",
       "Ceará - CE                                31  \n",
       "Chapecoense - SC                          28  \n",
       "Corinthians - SP                          44  \n",
       "Coritiba - PR                             53  \n",
       "Criciuma - SC                             11  \n",
       "Cruzeiro - MG                             48  \n",
       "Csa - AL                                   4  \n",
       "Cuiabá - MT                               22  \n",
       "Figueirense - SC                          32  \n",
       "Flamengo - RJ                             58  \n",
       "Fluminense - RJ                           82  \n",
       "Fortaleza - CE                            41  \n",
       "Goiás - GO                                39  \n",
       "Grêmio - RS                               52  \n",
       "Internacional - RS                        70  \n",
       "Joinville - SC                             8  \n",
       "Juventude - RS                            12  \n",
       "Náutico - PE                               9  \n",
       "Palmeiras - SP                            61  \n",
       "Paraná - PR                                9  \n",
       "Ponte Preta - SP                          23  \n",
       "Portuguesa - SP                           13  \n",
       "Red Bull Bragantino - SP                  21  \n",
       "Santa Cruz - PE                            6  \n",
       "Santos - SP                               69  \n",
       "Sport - PE                                39  \n",
       "São Paulo - SP                            72  \n",
       "Vasco da Gama - RJ                        50  \n",
       "Vitória - BA                              23  "
      ]
     },
     "execution_count": 8,
     "metadata": {},
     "output_type": "execute_result"
    }
   ],
   "source": [
    "soma_colunas_por_time = df.groupby('Clube').sum().drop(columns=['Ano', 'Aproveitamento (%)', 'Colocação']).copy()\n",
    "soma_colunas_por_time"
   ]
  },
  {
   "cell_type": "markdown",
   "metadata": {},
   "source": [
    "<h2>2 - Média de cada coluna de cada time.</h2>"
   ]
  },
  {
   "cell_type": "code",
   "execution_count": 9,
   "metadata": {},
   "outputs": [
    {
     "data": {
      "text/html": [
       "<div>\n",
       "<style scoped>\n",
       "    .dataframe tbody tr th:only-of-type {\n",
       "        vertical-align: middle;\n",
       "    }\n",
       "\n",
       "    .dataframe tbody tr th {\n",
       "        vertical-align: top;\n",
       "    }\n",
       "\n",
       "    .dataframe thead th {\n",
       "        text-align: right;\n",
       "    }\n",
       "</style>\n",
       "<table border=\"1\" class=\"dataframe\">\n",
       "  <thead>\n",
       "    <tr style=\"text-align: right;\">\n",
       "      <th></th>\n",
       "      <th>Colocação</th>\n",
       "      <th>Pontos</th>\n",
       "      <th>Vitórias</th>\n",
       "      <th>Empates</th>\n",
       "      <th>Derrotas</th>\n",
       "      <th>Gols Feitos</th>\n",
       "      <th>Gols Sofridos</th>\n",
       "      <th>Saldos de Gols</th>\n",
       "      <th>Cartões Amarelos</th>\n",
       "      <th>Cartões Vermelhos</th>\n",
       "      <th>Aproveitamento (%)</th>\n",
       "    </tr>\n",
       "    <tr>\n",
       "      <th>Clube</th>\n",
       "      <th></th>\n",
       "      <th></th>\n",
       "      <th></th>\n",
       "      <th></th>\n",
       "      <th></th>\n",
       "      <th></th>\n",
       "      <th></th>\n",
       "      <th></th>\n",
       "      <th></th>\n",
       "      <th></th>\n",
       "      <th></th>\n",
       "    </tr>\n",
       "  </thead>\n",
       "  <tbody>\n",
       "    <tr>\n",
       "      <th>América - MG</th>\n",
       "      <td>15.0</td>\n",
       "      <td>39.6</td>\n",
       "      <td>10.0</td>\n",
       "      <td>9.6</td>\n",
       "      <td>18.4</td>\n",
       "      <td>35.2</td>\n",
       "      <td>52.6</td>\n",
       "      <td>-17.4</td>\n",
       "      <td>78.0</td>\n",
       "      <td>5.8</td>\n",
       "      <td>34.4</td>\n",
       "    </tr>\n",
       "    <tr>\n",
       "      <th>Athletico Paranaense - PR</th>\n",
       "      <td>7.9</td>\n",
       "      <td>55.6</td>\n",
       "      <td>15.5</td>\n",
       "      <td>9.3</td>\n",
       "      <td>13.3</td>\n",
       "      <td>47.0</td>\n",
       "      <td>41.4</td>\n",
       "      <td>5.6</td>\n",
       "      <td>86.6</td>\n",
       "      <td>3.9</td>\n",
       "      <td>48.5</td>\n",
       "    </tr>\n",
       "    <tr>\n",
       "      <th>Atlético Goianiense - GO</th>\n",
       "      <td>15.8</td>\n",
       "      <td>41.0</td>\n",
       "      <td>9.8</td>\n",
       "      <td>11.6</td>\n",
       "      <td>16.6</td>\n",
       "      <td>37.4</td>\n",
       "      <td>52.2</td>\n",
       "      <td>-14.8</td>\n",
       "      <td>93.8</td>\n",
       "      <td>6.2</td>\n",
       "      <td>35.4</td>\n",
       "    </tr>\n",
       "    <tr>\n",
       "      <th>Atlético Mineiro - MG</th>\n",
       "      <td>5.2</td>\n",
       "      <td>63.2</td>\n",
       "      <td>17.8</td>\n",
       "      <td>9.8</td>\n",
       "      <td>10.4</td>\n",
       "      <td>55.8</td>\n",
       "      <td>41.8</td>\n",
       "      <td>14.0</td>\n",
       "      <td>88.8</td>\n",
       "      <td>5.0</td>\n",
       "      <td>55.1</td>\n",
       "    </tr>\n",
       "    <tr>\n",
       "      <th>Avaí - SC</th>\n",
       "      <td>18.5</td>\n",
       "      <td>35.0</td>\n",
       "      <td>8.2</td>\n",
       "      <td>10.2</td>\n",
       "      <td>19.5</td>\n",
       "      <td>29.8</td>\n",
       "      <td>57.5</td>\n",
       "      <td>-27.8</td>\n",
       "      <td>95.5</td>\n",
       "      <td>5.5</td>\n",
       "      <td>30.0</td>\n",
       "    </tr>\n",
       "    <tr>\n",
       "      <th>Bahia - BA</th>\n",
       "      <td>14.1</td>\n",
       "      <td>45.6</td>\n",
       "      <td>11.6</td>\n",
       "      <td>10.9</td>\n",
       "      <td>15.6</td>\n",
       "      <td>42.0</td>\n",
       "      <td>47.1</td>\n",
       "      <td>-5.1</td>\n",
       "      <td>91.8</td>\n",
       "      <td>6.0</td>\n",
       "      <td>39.4</td>\n",
       "    </tr>\n",
       "    <tr>\n",
       "      <th>Botafogo - RJ</th>\n",
       "      <td>10.5</td>\n",
       "      <td>50.0</td>\n",
       "      <td>13.6</td>\n",
       "      <td>9.2</td>\n",
       "      <td>15.2</td>\n",
       "      <td>43.4</td>\n",
       "      <td>45.3</td>\n",
       "      <td>-1.9</td>\n",
       "      <td>88.0</td>\n",
       "      <td>4.7</td>\n",
       "      <td>43.3</td>\n",
       "    </tr>\n",
       "    <tr>\n",
       "      <th>Ceará - CE</th>\n",
       "      <td>14.0</td>\n",
       "      <td>44.4</td>\n",
       "      <td>10.4</td>\n",
       "      <td>13.2</td>\n",
       "      <td>14.4</td>\n",
       "      <td>39.0</td>\n",
       "      <td>41.8</td>\n",
       "      <td>-2.8</td>\n",
       "      <td>96.8</td>\n",
       "      <td>6.2</td>\n",
       "      <td>38.4</td>\n",
       "    </tr>\n",
       "    <tr>\n",
       "      <th>Chapecoense - SC</th>\n",
       "      <td>14.4</td>\n",
       "      <td>41.0</td>\n",
       "      <td>10.0</td>\n",
       "      <td>11.0</td>\n",
       "      <td>17.0</td>\n",
       "      <td>37.3</td>\n",
       "      <td>51.7</td>\n",
       "      <td>-14.4</td>\n",
       "      <td>80.9</td>\n",
       "      <td>4.0</td>\n",
       "      <td>35.7</td>\n",
       "    </tr>\n",
       "    <tr>\n",
       "      <th>Corinthians - SP</th>\n",
       "      <td>7.0</td>\n",
       "      <td>58.9</td>\n",
       "      <td>15.7</td>\n",
       "      <td>11.9</td>\n",
       "      <td>10.4</td>\n",
       "      <td>45.7</td>\n",
       "      <td>35.8</td>\n",
       "      <td>9.9</td>\n",
       "      <td>76.3</td>\n",
       "      <td>3.7</td>\n",
       "      <td>51.3</td>\n",
       "    </tr>\n",
       "    <tr>\n",
       "      <th>Coritiba - PR</th>\n",
       "      <td>15.3</td>\n",
       "      <td>42.1</td>\n",
       "      <td>10.9</td>\n",
       "      <td>9.4</td>\n",
       "      <td>17.7</td>\n",
       "      <td>40.2</td>\n",
       "      <td>52.4</td>\n",
       "      <td>-12.2</td>\n",
       "      <td>97.0</td>\n",
       "      <td>5.9</td>\n",
       "      <td>36.6</td>\n",
       "    </tr>\n",
       "    <tr>\n",
       "      <th>Criciuma - SC</th>\n",
       "      <td>17.0</td>\n",
       "      <td>39.0</td>\n",
       "      <td>10.0</td>\n",
       "      <td>9.0</td>\n",
       "      <td>19.0</td>\n",
       "      <td>38.5</td>\n",
       "      <td>59.5</td>\n",
       "      <td>-21.0</td>\n",
       "      <td>107.0</td>\n",
       "      <td>5.5</td>\n",
       "      <td>34.0</td>\n",
       "    </tr>\n",
       "    <tr>\n",
       "      <th>Cruzeiro - MG</th>\n",
       "      <td>8.3</td>\n",
       "      <td>56.3</td>\n",
       "      <td>15.3</td>\n",
       "      <td>10.3</td>\n",
       "      <td>12.3</td>\n",
       "      <td>47.3</td>\n",
       "      <td>40.1</td>\n",
       "      <td>7.2</td>\n",
       "      <td>90.7</td>\n",
       "      <td>5.3</td>\n",
       "      <td>49.0</td>\n",
       "    </tr>\n",
       "    <tr>\n",
       "      <th>Csa - AL</th>\n",
       "      <td>18.0</td>\n",
       "      <td>32.0</td>\n",
       "      <td>8.0</td>\n",
       "      <td>8.0</td>\n",
       "      <td>22.0</td>\n",
       "      <td>24.0</td>\n",
       "      <td>58.0</td>\n",
       "      <td>-34.0</td>\n",
       "      <td>90.0</td>\n",
       "      <td>4.0</td>\n",
       "      <td>28.0</td>\n",
       "    </tr>\n",
       "    <tr>\n",
       "      <th>Cuiabá - MT</th>\n",
       "      <td>14.3</td>\n",
       "      <td>46.3</td>\n",
       "      <td>11.3</td>\n",
       "      <td>12.3</td>\n",
       "      <td>14.3</td>\n",
       "      <td>35.0</td>\n",
       "      <td>39.3</td>\n",
       "      <td>-4.3</td>\n",
       "      <td>89.3</td>\n",
       "      <td>7.3</td>\n",
       "      <td>40.0</td>\n",
       "    </tr>\n",
       "    <tr>\n",
       "      <th>Figueirense - SC</th>\n",
       "      <td>16.8</td>\n",
       "      <td>39.2</td>\n",
       "      <td>9.8</td>\n",
       "      <td>10.0</td>\n",
       "      <td>18.2</td>\n",
       "      <td>35.5</td>\n",
       "      <td>54.8</td>\n",
       "      <td>-19.2</td>\n",
       "      <td>96.0</td>\n",
       "      <td>8.0</td>\n",
       "      <td>34.0</td>\n",
       "    </tr>\n",
       "    <tr>\n",
       "      <th>Flamengo - RJ</th>\n",
       "      <td>6.1</td>\n",
       "      <td>62.9</td>\n",
       "      <td>18.0</td>\n",
       "      <td>9.2</td>\n",
       "      <td>10.8</td>\n",
       "      <td>56.0</td>\n",
       "      <td>41.3</td>\n",
       "      <td>14.7</td>\n",
       "      <td>79.2</td>\n",
       "      <td>4.8</td>\n",
       "      <td>54.7</td>\n",
       "    </tr>\n",
       "    <tr>\n",
       "      <th>Fluminense - RJ</th>\n",
       "      <td>9.2</td>\n",
       "      <td>55.2</td>\n",
       "      <td>15.2</td>\n",
       "      <td>9.5</td>\n",
       "      <td>13.2</td>\n",
       "      <td>48.1</td>\n",
       "      <td>44.1</td>\n",
       "      <td>4.0</td>\n",
       "      <td>90.4</td>\n",
       "      <td>6.8</td>\n",
       "      <td>48.1</td>\n",
       "    </tr>\n",
       "    <tr>\n",
       "      <th>Fortaleza - CE</th>\n",
       "      <td>9.4</td>\n",
       "      <td>52.2</td>\n",
       "      <td>14.4</td>\n",
       "      <td>9.0</td>\n",
       "      <td>14.6</td>\n",
       "      <td>43.8</td>\n",
       "      <td>44.2</td>\n",
       "      <td>-0.4</td>\n",
       "      <td>90.0</td>\n",
       "      <td>8.2</td>\n",
       "      <td>45.2</td>\n",
       "    </tr>\n",
       "    <tr>\n",
       "      <th>Goiás - GO</th>\n",
       "      <td>13.7</td>\n",
       "      <td>45.3</td>\n",
       "      <td>11.9</td>\n",
       "      <td>9.7</td>\n",
       "      <td>16.4</td>\n",
       "      <td>41.1</td>\n",
       "      <td>52.3</td>\n",
       "      <td>-11.1</td>\n",
       "      <td>94.6</td>\n",
       "      <td>5.6</td>\n",
       "      <td>39.3</td>\n",
       "    </tr>\n",
       "    <tr>\n",
       "      <th>Grêmio - RS</th>\n",
       "      <td>5.5</td>\n",
       "      <td>61.9</td>\n",
       "      <td>17.4</td>\n",
       "      <td>9.8</td>\n",
       "      <td>10.8</td>\n",
       "      <td>50.4</td>\n",
       "      <td>37.9</td>\n",
       "      <td>12.5</td>\n",
       "      <td>88.5</td>\n",
       "      <td>4.7</td>\n",
       "      <td>53.8</td>\n",
       "    </tr>\n",
       "    <tr>\n",
       "      <th>Internacional - RS</th>\n",
       "      <td>7.5</td>\n",
       "      <td>58.5</td>\n",
       "      <td>15.9</td>\n",
       "      <td>10.8</td>\n",
       "      <td>11.3</td>\n",
       "      <td>47.8</td>\n",
       "      <td>39.3</td>\n",
       "      <td>8.5</td>\n",
       "      <td>99.2</td>\n",
       "      <td>6.4</td>\n",
       "      <td>51.0</td>\n",
       "    </tr>\n",
       "    <tr>\n",
       "      <th>Joinville - SC</th>\n",
       "      <td>20.0</td>\n",
       "      <td>31.0</td>\n",
       "      <td>7.0</td>\n",
       "      <td>10.0</td>\n",
       "      <td>21.0</td>\n",
       "      <td>26.0</td>\n",
       "      <td>48.0</td>\n",
       "      <td>-22.0</td>\n",
       "      <td>94.0</td>\n",
       "      <td>8.0</td>\n",
       "      <td>27.0</td>\n",
       "    </tr>\n",
       "    <tr>\n",
       "      <th>Juventude - RS</th>\n",
       "      <td>18.0</td>\n",
       "      <td>34.0</td>\n",
       "      <td>7.0</td>\n",
       "      <td>13.0</td>\n",
       "      <td>18.0</td>\n",
       "      <td>32.5</td>\n",
       "      <td>56.5</td>\n",
       "      <td>-24.0</td>\n",
       "      <td>102.5</td>\n",
       "      <td>6.0</td>\n",
       "      <td>29.5</td>\n",
       "    </tr>\n",
       "    <tr>\n",
       "      <th>Náutico - PE</th>\n",
       "      <td>16.0</td>\n",
       "      <td>34.5</td>\n",
       "      <td>9.5</td>\n",
       "      <td>6.0</td>\n",
       "      <td>22.5</td>\n",
       "      <td>33.0</td>\n",
       "      <td>65.0</td>\n",
       "      <td>-32.0</td>\n",
       "      <td>81.5</td>\n",
       "      <td>4.5</td>\n",
       "      <td>30.0</td>\n",
       "    </tr>\n",
       "    <tr>\n",
       "      <th>Palmeiras - SP</th>\n",
       "      <td>5.6</td>\n",
       "      <td>63.5</td>\n",
       "      <td>18.2</td>\n",
       "      <td>9.0</td>\n",
       "      <td>10.8</td>\n",
       "      <td>56.4</td>\n",
       "      <td>39.9</td>\n",
       "      <td>16.5</td>\n",
       "      <td>94.1</td>\n",
       "      <td>5.5</td>\n",
       "      <td>55.3</td>\n",
       "    </tr>\n",
       "    <tr>\n",
       "      <th>Paraná - PR</th>\n",
       "      <td>20.0</td>\n",
       "      <td>23.0</td>\n",
       "      <td>4.0</td>\n",
       "      <td>11.0</td>\n",
       "      <td>23.0</td>\n",
       "      <td>18.0</td>\n",
       "      <td>57.0</td>\n",
       "      <td>-39.0</td>\n",
       "      <td>98.0</td>\n",
       "      <td>9.0</td>\n",
       "      <td>20.0</td>\n",
       "    </tr>\n",
       "    <tr>\n",
       "      <th>Ponte Preta - SP</th>\n",
       "      <td>14.2</td>\n",
       "      <td>45.6</td>\n",
       "      <td>11.8</td>\n",
       "      <td>10.2</td>\n",
       "      <td>16.0</td>\n",
       "      <td>40.0</td>\n",
       "      <td>48.6</td>\n",
       "      <td>-8.6</td>\n",
       "      <td>91.8</td>\n",
       "      <td>4.6</td>\n",
       "      <td>39.6</td>\n",
       "    </tr>\n",
       "    <tr>\n",
       "      <th>Portuguesa - SP</th>\n",
       "      <td>16.5</td>\n",
       "      <td>44.5</td>\n",
       "      <td>11.0</td>\n",
       "      <td>13.5</td>\n",
       "      <td>13.5</td>\n",
       "      <td>44.5</td>\n",
       "      <td>43.5</td>\n",
       "      <td>1.0</td>\n",
       "      <td>88.0</td>\n",
       "      <td>6.5</td>\n",
       "      <td>38.5</td>\n",
       "    </tr>\n",
       "    <tr>\n",
       "      <th>Red Bull Bragantino - SP</th>\n",
       "      <td>9.0</td>\n",
       "      <td>53.8</td>\n",
       "      <td>13.8</td>\n",
       "      <td>12.5</td>\n",
       "      <td>11.8</td>\n",
       "      <td>50.8</td>\n",
       "      <td>45.0</td>\n",
       "      <td>5.8</td>\n",
       "      <td>94.8</td>\n",
       "      <td>5.2</td>\n",
       "      <td>46.8</td>\n",
       "    </tr>\n",
       "    <tr>\n",
       "      <th>Santa Cruz - PE</th>\n",
       "      <td>19.0</td>\n",
       "      <td>31.0</td>\n",
       "      <td>8.0</td>\n",
       "      <td>7.0</td>\n",
       "      <td>23.0</td>\n",
       "      <td>45.0</td>\n",
       "      <td>69.0</td>\n",
       "      <td>-24.0</td>\n",
       "      <td>84.0</td>\n",
       "      <td>6.0</td>\n",
       "      <td>27.0</td>\n",
       "    </tr>\n",
       "    <tr>\n",
       "      <th>Santos - SP</th>\n",
       "      <td>7.9</td>\n",
       "      <td>56.1</td>\n",
       "      <td>15.2</td>\n",
       "      <td>10.6</td>\n",
       "      <td>12.2</td>\n",
       "      <td>48.2</td>\n",
       "      <td>41.2</td>\n",
       "      <td>7.1</td>\n",
       "      <td>89.3</td>\n",
       "      <td>5.8</td>\n",
       "      <td>48.7</td>\n",
       "    </tr>\n",
       "    <tr>\n",
       "      <th>Sport - PE</th>\n",
       "      <td>14.4</td>\n",
       "      <td>45.4</td>\n",
       "      <td>12.0</td>\n",
       "      <td>9.8</td>\n",
       "      <td>16.2</td>\n",
       "      <td>39.1</td>\n",
       "      <td>49.6</td>\n",
       "      <td>-10.5</td>\n",
       "      <td>84.0</td>\n",
       "      <td>4.9</td>\n",
       "      <td>39.4</td>\n",
       "    </tr>\n",
       "    <tr>\n",
       "      <th>São Paulo - SP</th>\n",
       "      <td>7.5</td>\n",
       "      <td>58.1</td>\n",
       "      <td>15.7</td>\n",
       "      <td>11.1</td>\n",
       "      <td>11.2</td>\n",
       "      <td>47.7</td>\n",
       "      <td>39.4</td>\n",
       "      <td>8.2</td>\n",
       "      <td>91.0</td>\n",
       "      <td>6.0</td>\n",
       "      <td>50.4</td>\n",
       "    </tr>\n",
       "    <tr>\n",
       "      <th>Vasco da Gama - RJ</th>\n",
       "      <td>13.5</td>\n",
       "      <td>47.1</td>\n",
       "      <td>12.0</td>\n",
       "      <td>11.1</td>\n",
       "      <td>14.9</td>\n",
       "      <td>40.1</td>\n",
       "      <td>50.8</td>\n",
       "      <td>-10.6</td>\n",
       "      <td>99.0</td>\n",
       "      <td>6.2</td>\n",
       "      <td>40.6</td>\n",
       "    </tr>\n",
       "    <tr>\n",
       "      <th>Vitória - BA</th>\n",
       "      <td>14.6</td>\n",
       "      <td>44.4</td>\n",
       "      <td>11.6</td>\n",
       "      <td>9.6</td>\n",
       "      <td>16.8</td>\n",
       "      <td>46.6</td>\n",
       "      <td>56.2</td>\n",
       "      <td>-9.6</td>\n",
       "      <td>89.8</td>\n",
       "      <td>4.6</td>\n",
       "      <td>38.4</td>\n",
       "    </tr>\n",
       "  </tbody>\n",
       "</table>\n",
       "</div>"
      ],
      "text/plain": [
       "                           Colocação  Pontos  Vitórias  Empates  Derrotas  \\\n",
       "Clube                                                                       \n",
       "América - MG                    15.0    39.6      10.0      9.6      18.4   \n",
       "Athletico Paranaense - PR        7.9    55.6      15.5      9.3      13.3   \n",
       "Atlético Goianiense - GO        15.8    41.0       9.8     11.6      16.6   \n",
       "Atlético Mineiro - MG            5.2    63.2      17.8      9.8      10.4   \n",
       "Avaí - SC                       18.5    35.0       8.2     10.2      19.5   \n",
       "Bahia - BA                      14.1    45.6      11.6     10.9      15.6   \n",
       "Botafogo - RJ                   10.5    50.0      13.6      9.2      15.2   \n",
       "Ceará - CE                      14.0    44.4      10.4     13.2      14.4   \n",
       "Chapecoense - SC                14.4    41.0      10.0     11.0      17.0   \n",
       "Corinthians - SP                 7.0    58.9      15.7     11.9      10.4   \n",
       "Coritiba - PR                   15.3    42.1      10.9      9.4      17.7   \n",
       "Criciuma - SC                   17.0    39.0      10.0      9.0      19.0   \n",
       "Cruzeiro - MG                    8.3    56.3      15.3     10.3      12.3   \n",
       "Csa - AL                        18.0    32.0       8.0      8.0      22.0   \n",
       "Cuiabá - MT                     14.3    46.3      11.3     12.3      14.3   \n",
       "Figueirense - SC                16.8    39.2       9.8     10.0      18.2   \n",
       "Flamengo - RJ                    6.1    62.9      18.0      9.2      10.8   \n",
       "Fluminense - RJ                  9.2    55.2      15.2      9.5      13.2   \n",
       "Fortaleza - CE                   9.4    52.2      14.4      9.0      14.6   \n",
       "Goiás - GO                      13.7    45.3      11.9      9.7      16.4   \n",
       "Grêmio - RS                      5.5    61.9      17.4      9.8      10.8   \n",
       "Internacional - RS               7.5    58.5      15.9     10.8      11.3   \n",
       "Joinville - SC                  20.0    31.0       7.0     10.0      21.0   \n",
       "Juventude - RS                  18.0    34.0       7.0     13.0      18.0   \n",
       "Náutico - PE                    16.0    34.5       9.5      6.0      22.5   \n",
       "Palmeiras - SP                   5.6    63.5      18.2      9.0      10.8   \n",
       "Paraná - PR                     20.0    23.0       4.0     11.0      23.0   \n",
       "Ponte Preta - SP                14.2    45.6      11.8     10.2      16.0   \n",
       "Portuguesa - SP                 16.5    44.5      11.0     13.5      13.5   \n",
       "Red Bull Bragantino - SP         9.0    53.8      13.8     12.5      11.8   \n",
       "Santa Cruz - PE                 19.0    31.0       8.0      7.0      23.0   \n",
       "Santos - SP                      7.9    56.1      15.2     10.6      12.2   \n",
       "Sport - PE                      14.4    45.4      12.0      9.8      16.2   \n",
       "São Paulo - SP                   7.5    58.1      15.7     11.1      11.2   \n",
       "Vasco da Gama - RJ              13.5    47.1      12.0     11.1      14.9   \n",
       "Vitória - BA                    14.6    44.4      11.6      9.6      16.8   \n",
       "\n",
       "                           Gols Feitos  Gols Sofridos  Saldos de Gols  \\\n",
       "Clube                                                                   \n",
       "América - MG                      35.2           52.6           -17.4   \n",
       "Athletico Paranaense - PR         47.0           41.4             5.6   \n",
       "Atlético Goianiense - GO          37.4           52.2           -14.8   \n",
       "Atlético Mineiro - MG             55.8           41.8            14.0   \n",
       "Avaí - SC                         29.8           57.5           -27.8   \n",
       "Bahia - BA                        42.0           47.1            -5.1   \n",
       "Botafogo - RJ                     43.4           45.3            -1.9   \n",
       "Ceará - CE                        39.0           41.8            -2.8   \n",
       "Chapecoense - SC                  37.3           51.7           -14.4   \n",
       "Corinthians - SP                  45.7           35.8             9.9   \n",
       "Coritiba - PR                     40.2           52.4           -12.2   \n",
       "Criciuma - SC                     38.5           59.5           -21.0   \n",
       "Cruzeiro - MG                     47.3           40.1             7.2   \n",
       "Csa - AL                          24.0           58.0           -34.0   \n",
       "Cuiabá - MT                       35.0           39.3            -4.3   \n",
       "Figueirense - SC                  35.5           54.8           -19.2   \n",
       "Flamengo - RJ                     56.0           41.3            14.7   \n",
       "Fluminense - RJ                   48.1           44.1             4.0   \n",
       "Fortaleza - CE                    43.8           44.2            -0.4   \n",
       "Goiás - GO                        41.1           52.3           -11.1   \n",
       "Grêmio - RS                       50.4           37.9            12.5   \n",
       "Internacional - RS                47.8           39.3             8.5   \n",
       "Joinville - SC                    26.0           48.0           -22.0   \n",
       "Juventude - RS                    32.5           56.5           -24.0   \n",
       "Náutico - PE                      33.0           65.0           -32.0   \n",
       "Palmeiras - SP                    56.4           39.9            16.5   \n",
       "Paraná - PR                       18.0           57.0           -39.0   \n",
       "Ponte Preta - SP                  40.0           48.6            -8.6   \n",
       "Portuguesa - SP                   44.5           43.5             1.0   \n",
       "Red Bull Bragantino - SP          50.8           45.0             5.8   \n",
       "Santa Cruz - PE                   45.0           69.0           -24.0   \n",
       "Santos - SP                       48.2           41.2             7.1   \n",
       "Sport - PE                        39.1           49.6           -10.5   \n",
       "São Paulo - SP                    47.7           39.4             8.2   \n",
       "Vasco da Gama - RJ                40.1           50.8           -10.6   \n",
       "Vitória - BA                      46.6           56.2            -9.6   \n",
       "\n",
       "                           Cartões Amarelos  Cartões Vermelhos  \\\n",
       "Clube                                                            \n",
       "América - MG                           78.0                5.8   \n",
       "Athletico Paranaense - PR              86.6                3.9   \n",
       "Atlético Goianiense - GO               93.8                6.2   \n",
       "Atlético Mineiro - MG                  88.8                5.0   \n",
       "Avaí - SC                              95.5                5.5   \n",
       "Bahia - BA                             91.8                6.0   \n",
       "Botafogo - RJ                          88.0                4.7   \n",
       "Ceará - CE                             96.8                6.2   \n",
       "Chapecoense - SC                       80.9                4.0   \n",
       "Corinthians - SP                       76.3                3.7   \n",
       "Coritiba - PR                          97.0                5.9   \n",
       "Criciuma - SC                         107.0                5.5   \n",
       "Cruzeiro - MG                          90.7                5.3   \n",
       "Csa - AL                               90.0                4.0   \n",
       "Cuiabá - MT                            89.3                7.3   \n",
       "Figueirense - SC                       96.0                8.0   \n",
       "Flamengo - RJ                          79.2                4.8   \n",
       "Fluminense - RJ                        90.4                6.8   \n",
       "Fortaleza - CE                         90.0                8.2   \n",
       "Goiás - GO                             94.6                5.6   \n",
       "Grêmio - RS                            88.5                4.7   \n",
       "Internacional - RS                     99.2                6.4   \n",
       "Joinville - SC                         94.0                8.0   \n",
       "Juventude - RS                        102.5                6.0   \n",
       "Náutico - PE                           81.5                4.5   \n",
       "Palmeiras - SP                         94.1                5.5   \n",
       "Paraná - PR                            98.0                9.0   \n",
       "Ponte Preta - SP                       91.8                4.6   \n",
       "Portuguesa - SP                        88.0                6.5   \n",
       "Red Bull Bragantino - SP               94.8                5.2   \n",
       "Santa Cruz - PE                        84.0                6.0   \n",
       "Santos - SP                            89.3                5.8   \n",
       "Sport - PE                             84.0                4.9   \n",
       "São Paulo - SP                         91.0                6.0   \n",
       "Vasco da Gama - RJ                     99.0                6.2   \n",
       "Vitória - BA                           89.8                4.6   \n",
       "\n",
       "                           Aproveitamento (%)  \n",
       "Clube                                          \n",
       "América - MG                             34.4  \n",
       "Athletico Paranaense - PR                48.5  \n",
       "Atlético Goianiense - GO                 35.4  \n",
       "Atlético Mineiro - MG                    55.1  \n",
       "Avaí - SC                                30.0  \n",
       "Bahia - BA                               39.4  \n",
       "Botafogo - RJ                            43.3  \n",
       "Ceará - CE                               38.4  \n",
       "Chapecoense - SC                         35.7  \n",
       "Corinthians - SP                         51.3  \n",
       "Coritiba - PR                            36.6  \n",
       "Criciuma - SC                            34.0  \n",
       "Cruzeiro - MG                            49.0  \n",
       "Csa - AL                                 28.0  \n",
       "Cuiabá - MT                              40.0  \n",
       "Figueirense - SC                         34.0  \n",
       "Flamengo - RJ                            54.7  \n",
       "Fluminense - RJ                          48.1  \n",
       "Fortaleza - CE                           45.2  \n",
       "Goiás - GO                               39.3  \n",
       "Grêmio - RS                              53.8  \n",
       "Internacional - RS                       51.0  \n",
       "Joinville - SC                           27.0  \n",
       "Juventude - RS                           29.5  \n",
       "Náutico - PE                             30.0  \n",
       "Palmeiras - SP                           55.3  \n",
       "Paraná - PR                              20.0  \n",
       "Ponte Preta - SP                         39.6  \n",
       "Portuguesa - SP                          38.5  \n",
       "Red Bull Bragantino - SP                 46.8  \n",
       "Santa Cruz - PE                          27.0  \n",
       "Santos - SP                              48.7  \n",
       "Sport - PE                               39.4  \n",
       "São Paulo - SP                           50.4  \n",
       "Vasco da Gama - RJ                       40.6  \n",
       "Vitória - BA                             38.4  "
      ]
     },
     "execution_count": 9,
     "metadata": {},
     "output_type": "execute_result"
    }
   ],
   "source": [
    "media_colunas_por_time = df.groupby('Clube').mean().drop(columns=['Ano']).round(1).copy()\n",
    "media_colunas_por_time"
   ]
  },
  {
   "cell_type": "markdown",
   "metadata": {},
   "source": [
    "<h2>3 - Soma das informações de cada ano.</h2>"
   ]
  },
  {
   "cell_type": "code",
   "execution_count": 10,
   "metadata": {},
   "outputs": [
    {
     "data": {
      "text/html": [
       "<div>\n",
       "<style scoped>\n",
       "    .dataframe tbody tr th:only-of-type {\n",
       "        vertical-align: middle;\n",
       "    }\n",
       "\n",
       "    .dataframe tbody tr th {\n",
       "        vertical-align: top;\n",
       "    }\n",
       "\n",
       "    .dataframe thead th {\n",
       "        text-align: right;\n",
       "    }\n",
       "</style>\n",
       "<table border=\"1\" class=\"dataframe\">\n",
       "  <thead>\n",
       "    <tr style=\"text-align: right;\">\n",
       "      <th></th>\n",
       "      <th>Pontos</th>\n",
       "      <th>Vitórias</th>\n",
       "      <th>Empates</th>\n",
       "      <th>Derrotas</th>\n",
       "      <th>Gols Feitos</th>\n",
       "      <th>Gols Sofridos</th>\n",
       "      <th>Saldos de Gols</th>\n",
       "      <th>Cartões Amarelos</th>\n",
       "      <th>Cartões Vermelhos</th>\n",
       "    </tr>\n",
       "    <tr>\n",
       "      <th>Ano</th>\n",
       "      <th></th>\n",
       "      <th></th>\n",
       "      <th></th>\n",
       "      <th></th>\n",
       "      <th></th>\n",
       "      <th></th>\n",
       "      <th></th>\n",
       "      <th></th>\n",
       "      <th></th>\n",
       "    </tr>\n",
       "  </thead>\n",
       "  <tbody>\n",
       "    <tr>\n",
       "      <th>2012</th>\n",
       "      <td>1035</td>\n",
       "      <td>275</td>\n",
       "      <td>210</td>\n",
       "      <td>275</td>\n",
       "      <td>940</td>\n",
       "      <td>940</td>\n",
       "      <td>0</td>\n",
       "      <td>1893</td>\n",
       "      <td>112</td>\n",
       "    </tr>\n",
       "    <tr>\n",
       "      <th>2013</th>\n",
       "      <td>1024</td>\n",
       "      <td>272</td>\n",
       "      <td>216</td>\n",
       "      <td>272</td>\n",
       "      <td>936</td>\n",
       "      <td>936</td>\n",
       "      <td>0</td>\n",
       "      <td>1683</td>\n",
       "      <td>107</td>\n",
       "    </tr>\n",
       "    <tr>\n",
       "      <th>2014</th>\n",
       "      <td>1048</td>\n",
       "      <td>288</td>\n",
       "      <td>184</td>\n",
       "      <td>288</td>\n",
       "      <td>860</td>\n",
       "      <td>860</td>\n",
       "      <td>0</td>\n",
       "      <td>1657</td>\n",
       "      <td>82</td>\n",
       "    </tr>\n",
       "    <tr>\n",
       "      <th>2015</th>\n",
       "      <td>1049</td>\n",
       "      <td>289</td>\n",
       "      <td>182</td>\n",
       "      <td>289</td>\n",
       "      <td>897</td>\n",
       "      <td>897</td>\n",
       "      <td>0</td>\n",
       "      <td>1824</td>\n",
       "      <td>109</td>\n",
       "    </tr>\n",
       "    <tr>\n",
       "      <th>2016</th>\n",
       "      <td>1043</td>\n",
       "      <td>285</td>\n",
       "      <td>188</td>\n",
       "      <td>287</td>\n",
       "      <td>912</td>\n",
       "      <td>918</td>\n",
       "      <td>-6</td>\n",
       "      <td>1693</td>\n",
       "      <td>86</td>\n",
       "    </tr>\n",
       "    <tr>\n",
       "      <th>2017</th>\n",
       "      <td>1037</td>\n",
       "      <td>277</td>\n",
       "      <td>206</td>\n",
       "      <td>277</td>\n",
       "      <td>923</td>\n",
       "      <td>923</td>\n",
       "      <td>0</td>\n",
       "      <td>1777</td>\n",
       "      <td>77</td>\n",
       "    </tr>\n",
       "    <tr>\n",
       "      <th>2018</th>\n",
       "      <td>1027</td>\n",
       "      <td>270</td>\n",
       "      <td>220</td>\n",
       "      <td>270</td>\n",
       "      <td>827</td>\n",
       "      <td>827</td>\n",
       "      <td>0</td>\n",
       "      <td>1815</td>\n",
       "      <td>101</td>\n",
       "    </tr>\n",
       "    <tr>\n",
       "      <th>2019</th>\n",
       "      <td>1042</td>\n",
       "      <td>282</td>\n",
       "      <td>196</td>\n",
       "      <td>282</td>\n",
       "      <td>875</td>\n",
       "      <td>875</td>\n",
       "      <td>0</td>\n",
       "      <td>1703</td>\n",
       "      <td>116</td>\n",
       "    </tr>\n",
       "    <tr>\n",
       "      <th>2020</th>\n",
       "      <td>1032</td>\n",
       "      <td>272</td>\n",
       "      <td>216</td>\n",
       "      <td>272</td>\n",
       "      <td>944</td>\n",
       "      <td>944</td>\n",
       "      <td>0</td>\n",
       "      <td>1730</td>\n",
       "      <td>133</td>\n",
       "    </tr>\n",
       "    <tr>\n",
       "      <th>2021</th>\n",
       "      <td>1027</td>\n",
       "      <td>267</td>\n",
       "      <td>226</td>\n",
       "      <td>267</td>\n",
       "      <td>842</td>\n",
       "      <td>842</td>\n",
       "      <td>0</td>\n",
       "      <td>1803</td>\n",
       "      <td>116</td>\n",
       "    </tr>\n",
       "    <tr>\n",
       "      <th>2022</th>\n",
       "      <td>1032</td>\n",
       "      <td>272</td>\n",
       "      <td>216</td>\n",
       "      <td>272</td>\n",
       "      <td>905</td>\n",
       "      <td>905</td>\n",
       "      <td>0</td>\n",
       "      <td>1948</td>\n",
       "      <td>143</td>\n",
       "    </tr>\n",
       "    <tr>\n",
       "      <th>2023</th>\n",
       "      <td>1042</td>\n",
       "      <td>282</td>\n",
       "      <td>196</td>\n",
       "      <td>282</td>\n",
       "      <td>946</td>\n",
       "      <td>946</td>\n",
       "      <td>0</td>\n",
       "      <td>2033</td>\n",
       "      <td>134</td>\n",
       "    </tr>\n",
       "  </tbody>\n",
       "</table>\n",
       "</div>"
      ],
      "text/plain": [
       "      Pontos  Vitórias  Empates  Derrotas  Gols Feitos  Gols Sofridos  \\\n",
       "Ano                                                                     \n",
       "2012    1035       275      210       275          940            940   \n",
       "2013    1024       272      216       272          936            936   \n",
       "2014    1048       288      184       288          860            860   \n",
       "2015    1049       289      182       289          897            897   \n",
       "2016    1043       285      188       287          912            918   \n",
       "2017    1037       277      206       277          923            923   \n",
       "2018    1027       270      220       270          827            827   \n",
       "2019    1042       282      196       282          875            875   \n",
       "2020    1032       272      216       272          944            944   \n",
       "2021    1027       267      226       267          842            842   \n",
       "2022    1032       272      216       272          905            905   \n",
       "2023    1042       282      196       282          946            946   \n",
       "\n",
       "      Saldos de Gols  Cartões Amarelos  Cartões Vermelhos  \n",
       "Ano                                                        \n",
       "2012               0              1893                112  \n",
       "2013               0              1683                107  \n",
       "2014               0              1657                 82  \n",
       "2015               0              1824                109  \n",
       "2016              -6              1693                 86  \n",
       "2017               0              1777                 77  \n",
       "2018               0              1815                101  \n",
       "2019               0              1703                116  \n",
       "2020               0              1730                133  \n",
       "2021               0              1803                116  \n",
       "2022               0              1948                143  \n",
       "2023               0              2033                134  "
      ]
     },
     "execution_count": 10,
     "metadata": {},
     "output_type": "execute_result"
    }
   ],
   "source": [
    "somas_colunas_por_ano = df.groupby('Ano').sum().drop(columns=['Clube', 'Aproveitamento (%)', 'Colocação']).copy()\n",
    "somas_colunas_por_ano"
   ]
  },
  {
   "cell_type": "markdown",
   "metadata": {},
   "source": [
    "<p>Em 2016, na última rodada do Brasileirão, houve um W.O duplo entre Chapecoense x Atlético-MG. Devido à isso, o saldo de gols é negativo.</p>"
   ]
  },
  {
   "cell_type": "markdown",
   "metadata": {},
   "source": [
    "<h2>4 - Média de cada informação de cada ano</h2>"
   ]
  },
  {
   "cell_type": "code",
   "execution_count": 11,
   "metadata": {},
   "outputs": [
    {
     "data": {
      "text/html": [
       "<div>\n",
       "<style scoped>\n",
       "    .dataframe tbody tr th:only-of-type {\n",
       "        vertical-align: middle;\n",
       "    }\n",
       "\n",
       "    .dataframe tbody tr th {\n",
       "        vertical-align: top;\n",
       "    }\n",
       "\n",
       "    .dataframe thead th {\n",
       "        text-align: right;\n",
       "    }\n",
       "</style>\n",
       "<table border=\"1\" class=\"dataframe\">\n",
       "  <thead>\n",
       "    <tr style=\"text-align: right;\">\n",
       "      <th></th>\n",
       "      <th>Pontos</th>\n",
       "      <th>Vitórias</th>\n",
       "      <th>Empates</th>\n",
       "      <th>Derrotas</th>\n",
       "      <th>Gols Feitos</th>\n",
       "      <th>Gols Sofridos</th>\n",
       "      <th>Saldos de Gols</th>\n",
       "      <th>Cartões Amarelos</th>\n",
       "      <th>Cartões Vermelhos</th>\n",
       "      <th>Aproveitamento (%)</th>\n",
       "    </tr>\n",
       "    <tr>\n",
       "      <th>Ano</th>\n",
       "      <th></th>\n",
       "      <th></th>\n",
       "      <th></th>\n",
       "      <th></th>\n",
       "      <th></th>\n",
       "      <th></th>\n",
       "      <th></th>\n",
       "      <th></th>\n",
       "      <th></th>\n",
       "      <th></th>\n",
       "    </tr>\n",
       "  </thead>\n",
       "  <tbody>\n",
       "    <tr>\n",
       "      <th>2012</th>\n",
       "      <td>51.8</td>\n",
       "      <td>13.8</td>\n",
       "      <td>10.5</td>\n",
       "      <td>13.8</td>\n",
       "      <td>47.0</td>\n",
       "      <td>47.0</td>\n",
       "      <td>0.0</td>\n",
       "      <td>94.6</td>\n",
       "      <td>5.6</td>\n",
       "      <td>45.0</td>\n",
       "    </tr>\n",
       "    <tr>\n",
       "      <th>2013</th>\n",
       "      <td>51.2</td>\n",
       "      <td>13.6</td>\n",
       "      <td>10.8</td>\n",
       "      <td>13.6</td>\n",
       "      <td>46.8</td>\n",
       "      <td>46.8</td>\n",
       "      <td>0.0</td>\n",
       "      <td>84.2</td>\n",
       "      <td>5.4</td>\n",
       "      <td>44.5</td>\n",
       "    </tr>\n",
       "    <tr>\n",
       "      <th>2014</th>\n",
       "      <td>52.4</td>\n",
       "      <td>14.4</td>\n",
       "      <td>9.2</td>\n",
       "      <td>14.4</td>\n",
       "      <td>43.0</td>\n",
       "      <td>43.0</td>\n",
       "      <td>0.0</td>\n",
       "      <td>82.8</td>\n",
       "      <td>4.1</td>\n",
       "      <td>45.6</td>\n",
       "    </tr>\n",
       "    <tr>\n",
       "      <th>2015</th>\n",
       "      <td>52.4</td>\n",
       "      <td>14.4</td>\n",
       "      <td>9.1</td>\n",
       "      <td>14.4</td>\n",
       "      <td>44.8</td>\n",
       "      <td>44.8</td>\n",
       "      <td>0.0</td>\n",
       "      <td>91.2</td>\n",
       "      <td>5.4</td>\n",
       "      <td>45.4</td>\n",
       "    </tr>\n",
       "    <tr>\n",
       "      <th>2016</th>\n",
       "      <td>52.2</td>\n",
       "      <td>14.2</td>\n",
       "      <td>9.4</td>\n",
       "      <td>14.4</td>\n",
       "      <td>45.6</td>\n",
       "      <td>45.9</td>\n",
       "      <td>-0.3</td>\n",
       "      <td>84.6</td>\n",
       "      <td>4.3</td>\n",
       "      <td>45.4</td>\n",
       "    </tr>\n",
       "    <tr>\n",
       "      <th>2017</th>\n",
       "      <td>51.8</td>\n",
       "      <td>13.8</td>\n",
       "      <td>10.3</td>\n",
       "      <td>13.8</td>\n",
       "      <td>46.2</td>\n",
       "      <td>46.2</td>\n",
       "      <td>0.0</td>\n",
       "      <td>88.8</td>\n",
       "      <td>3.8</td>\n",
       "      <td>45.0</td>\n",
       "    </tr>\n",
       "    <tr>\n",
       "      <th>2018</th>\n",
       "      <td>51.4</td>\n",
       "      <td>13.5</td>\n",
       "      <td>11.0</td>\n",
       "      <td>13.5</td>\n",
       "      <td>41.4</td>\n",
       "      <td>41.4</td>\n",
       "      <td>0.0</td>\n",
       "      <td>90.8</td>\n",
       "      <td>5.0</td>\n",
       "      <td>44.6</td>\n",
       "    </tr>\n",
       "    <tr>\n",
       "      <th>2019</th>\n",
       "      <td>52.1</td>\n",
       "      <td>14.1</td>\n",
       "      <td>9.8</td>\n",
       "      <td>14.1</td>\n",
       "      <td>43.8</td>\n",
       "      <td>43.8</td>\n",
       "      <td>0.0</td>\n",
       "      <td>85.2</td>\n",
       "      <td>5.8</td>\n",
       "      <td>45.2</td>\n",
       "    </tr>\n",
       "    <tr>\n",
       "      <th>2020</th>\n",
       "      <td>51.6</td>\n",
       "      <td>13.6</td>\n",
       "      <td>10.8</td>\n",
       "      <td>13.6</td>\n",
       "      <td>47.2</td>\n",
       "      <td>47.2</td>\n",
       "      <td>0.0</td>\n",
       "      <td>86.5</td>\n",
       "      <td>6.6</td>\n",
       "      <td>44.6</td>\n",
       "    </tr>\n",
       "    <tr>\n",
       "      <th>2021</th>\n",
       "      <td>51.4</td>\n",
       "      <td>13.4</td>\n",
       "      <td>11.3</td>\n",
       "      <td>13.4</td>\n",
       "      <td>42.1</td>\n",
       "      <td>42.1</td>\n",
       "      <td>0.0</td>\n",
       "      <td>90.2</td>\n",
       "      <td>5.8</td>\n",
       "      <td>44.6</td>\n",
       "    </tr>\n",
       "    <tr>\n",
       "      <th>2022</th>\n",
       "      <td>51.6</td>\n",
       "      <td>13.6</td>\n",
       "      <td>10.8</td>\n",
       "      <td>13.6</td>\n",
       "      <td>45.2</td>\n",
       "      <td>45.2</td>\n",
       "      <td>0.0</td>\n",
       "      <td>97.4</td>\n",
       "      <td>7.2</td>\n",
       "      <td>44.8</td>\n",
       "    </tr>\n",
       "    <tr>\n",
       "      <th>2023</th>\n",
       "      <td>52.1</td>\n",
       "      <td>14.1</td>\n",
       "      <td>9.8</td>\n",
       "      <td>14.1</td>\n",
       "      <td>47.3</td>\n",
       "      <td>47.3</td>\n",
       "      <td>0.0</td>\n",
       "      <td>101.6</td>\n",
       "      <td>6.7</td>\n",
       "      <td>45.2</td>\n",
       "    </tr>\n",
       "  </tbody>\n",
       "</table>\n",
       "</div>"
      ],
      "text/plain": [
       "      Pontos  Vitórias  Empates  Derrotas  Gols Feitos  Gols Sofridos  \\\n",
       "Ano                                                                     \n",
       "2012    51.8      13.8     10.5      13.8         47.0           47.0   \n",
       "2013    51.2      13.6     10.8      13.6         46.8           46.8   \n",
       "2014    52.4      14.4      9.2      14.4         43.0           43.0   \n",
       "2015    52.4      14.4      9.1      14.4         44.8           44.8   \n",
       "2016    52.2      14.2      9.4      14.4         45.6           45.9   \n",
       "2017    51.8      13.8     10.3      13.8         46.2           46.2   \n",
       "2018    51.4      13.5     11.0      13.5         41.4           41.4   \n",
       "2019    52.1      14.1      9.8      14.1         43.8           43.8   \n",
       "2020    51.6      13.6     10.8      13.6         47.2           47.2   \n",
       "2021    51.4      13.4     11.3      13.4         42.1           42.1   \n",
       "2022    51.6      13.6     10.8      13.6         45.2           45.2   \n",
       "2023    52.1      14.1      9.8      14.1         47.3           47.3   \n",
       "\n",
       "      Saldos de Gols  Cartões Amarelos  Cartões Vermelhos  Aproveitamento (%)  \n",
       "Ano                                                                            \n",
       "2012             0.0              94.6                5.6                45.0  \n",
       "2013             0.0              84.2                5.4                44.5  \n",
       "2014             0.0              82.8                4.1                45.6  \n",
       "2015             0.0              91.2                5.4                45.4  \n",
       "2016            -0.3              84.6                4.3                45.4  \n",
       "2017             0.0              88.8                3.8                45.0  \n",
       "2018             0.0              90.8                5.0                44.6  \n",
       "2019             0.0              85.2                5.8                45.2  \n",
       "2020             0.0              86.5                6.6                44.6  \n",
       "2021             0.0              90.2                5.8                44.6  \n",
       "2022             0.0              97.4                7.2                44.8  \n",
       "2023             0.0             101.6                6.7                45.2  "
      ]
     },
     "execution_count": 11,
     "metadata": {},
     "output_type": "execute_result"
    }
   ],
   "source": [
    "media_colunas_por_anos = df.groupby('Ano').mean(numeric_only=True).drop(columns=\"Colocação\").round(1).copy()\n",
    "media_colunas_por_anos"
   ]
  },
  {
   "cell_type": "markdown",
   "metadata": {},
   "source": [
    "<h2>5 - Identificar A MENOR e A MAIOR pontuação do 17 colocado no Brasileirão.</h2>"
   ]
  },
  {
   "cell_type": "code",
   "execution_count": 12,
   "metadata": {},
   "outputs": [],
   "source": [
    "def devolve_maior_e_menor_pontuacao(colocacao: int | float):\n",
    "    tabela = df.loc[df['Colocação'] == colocacao, :].copy()\n",
    "    if tabela.empty:     \n",
    "        return None\n",
    "    tabela = tabela.sort_values('Pontos', ascending=False)\n",
    "    return {\"maior\": tabela.head(1), \"menor\": tabela.tail(1)}"
   ]
  },
  {
   "cell_type": "code",
   "execution_count": 13,
   "metadata": {},
   "outputs": [
    {
     "data": {
      "text/html": [
       "<div>\n",
       "<style scoped>\n",
       "    .dataframe tbody tr th:only-of-type {\n",
       "        vertical-align: middle;\n",
       "    }\n",
       "\n",
       "    .dataframe tbody tr th {\n",
       "        vertical-align: top;\n",
       "    }\n",
       "\n",
       "    .dataframe thead th {\n",
       "        text-align: right;\n",
       "    }\n",
       "</style>\n",
       "<table border=\"1\" class=\"dataframe\">\n",
       "  <thead>\n",
       "    <tr style=\"text-align: right;\">\n",
       "      <th></th>\n",
       "      <th>Ano</th>\n",
       "      <th>Colocação</th>\n",
       "      <th>Clube</th>\n",
       "      <th>Pontos</th>\n",
       "      <th>Vitórias</th>\n",
       "      <th>Empates</th>\n",
       "      <th>Derrotas</th>\n",
       "      <th>Gols Feitos</th>\n",
       "      <th>Gols Sofridos</th>\n",
       "      <th>Saldos de Gols</th>\n",
       "      <th>Cartões Amarelos</th>\n",
       "      <th>Cartões Vermelhos</th>\n",
       "      <th>Aproveitamento (%)</th>\n",
       "    </tr>\n",
       "  </thead>\n",
       "  <tbody>\n",
       "    <tr>\n",
       "      <th>36</th>\n",
       "      <td>2013</td>\n",
       "      <td>17</td>\n",
       "      <td>Portuguesa - SP</td>\n",
       "      <td>44</td>\n",
       "      <td>12</td>\n",
       "      <td>12</td>\n",
       "      <td>14</td>\n",
       "      <td>50</td>\n",
       "      <td>46</td>\n",
       "      <td>4</td>\n",
       "      <td>89</td>\n",
       "      <td>9</td>\n",
       "      <td>38</td>\n",
       "    </tr>\n",
       "  </tbody>\n",
       "</table>\n",
       "</div>"
      ],
      "text/plain": [
       "     Ano  Colocação            Clube  Pontos  Vitórias  Empates  Derrotas  \\\n",
       "36  2013         17  Portuguesa - SP      44        12       12        14   \n",
       "\n",
       "    Gols Feitos  Gols Sofridos  Saldos de Gols  Cartões Amarelos  \\\n",
       "36           50             46               4                89   \n",
       "\n",
       "    Cartões Vermelhos  Aproveitamento (%)  \n",
       "36                  9                  38  "
      ]
     },
     "execution_count": 13,
     "metadata": {},
     "output_type": "execute_result"
    }
   ],
   "source": [
    "colocacoes_17 = devolve_maior_e_menor_pontuacao(17)\n",
    "colocacoes_17['maior']"
   ]
  },
  {
   "cell_type": "code",
   "execution_count": 14,
   "metadata": {},
   "outputs": [
    {
     "data": {
      "text/html": [
       "<div>\n",
       "<style scoped>\n",
       "    .dataframe tbody tr th:only-of-type {\n",
       "        vertical-align: middle;\n",
       "    }\n",
       "\n",
       "    .dataframe tbody tr th {\n",
       "        vertical-align: top;\n",
       "    }\n",
       "\n",
       "    .dataframe thead th {\n",
       "        text-align: right;\n",
       "    }\n",
       "</style>\n",
       "<table border=\"1\" class=\"dataframe\">\n",
       "  <thead>\n",
       "    <tr style=\"text-align: right;\">\n",
       "      <th></th>\n",
       "      <th>Ano</th>\n",
       "      <th>Colocação</th>\n",
       "      <th>Clube</th>\n",
       "      <th>Pontos</th>\n",
       "      <th>Vitórias</th>\n",
       "      <th>Empates</th>\n",
       "      <th>Derrotas</th>\n",
       "      <th>Gols Feitos</th>\n",
       "      <th>Gols Sofridos</th>\n",
       "      <th>Saldos de Gols</th>\n",
       "      <th>Cartões Amarelos</th>\n",
       "      <th>Cartões Vermelhos</th>\n",
       "      <th>Aproveitamento (%)</th>\n",
       "    </tr>\n",
       "  </thead>\n",
       "  <tbody>\n",
       "    <tr>\n",
       "      <th>156</th>\n",
       "      <td>2019</td>\n",
       "      <td>17</td>\n",
       "      <td>Cruzeiro - MG</td>\n",
       "      <td>36</td>\n",
       "      <td>7</td>\n",
       "      <td>15</td>\n",
       "      <td>16</td>\n",
       "      <td>27</td>\n",
       "      <td>46</td>\n",
       "      <td>-19</td>\n",
       "      <td>81</td>\n",
       "      <td>6</td>\n",
       "      <td>31</td>\n",
       "    </tr>\n",
       "  </tbody>\n",
       "</table>\n",
       "</div>"
      ],
      "text/plain": [
       "      Ano  Colocação          Clube  Pontos  Vitórias  Empates  Derrotas  \\\n",
       "156  2019         17  Cruzeiro - MG      36         7       15        16   \n",
       "\n",
       "     Gols Feitos  Gols Sofridos  Saldos de Gols  Cartões Amarelos  \\\n",
       "156           27             46             -19                81   \n",
       "\n",
       "     Cartões Vermelhos  Aproveitamento (%)  \n",
       "156                  6                  31  "
      ]
     },
     "execution_count": 14,
     "metadata": {},
     "output_type": "execute_result"
    }
   ],
   "source": [
    "colocacoes_17['menor']"
   ]
  },
  {
   "cell_type": "markdown",
   "metadata": {},
   "source": [
    "<h2>5.1 - Média de pontuação do 17 colocado.</h2>"
   ]
  },
  {
   "cell_type": "code",
   "execution_count": 81,
   "metadata": {},
   "outputs": [
    {
     "data": {
      "text/plain": [
       "40.916666666666664"
      ]
     },
     "execution_count": 81,
     "metadata": {},
     "output_type": "execute_result"
    }
   ],
   "source": [
    "df.loc[df['Colocação'] == 17, 'Pontos'].mean()"
   ]
  },
  {
   "cell_type": "markdown",
   "metadata": {},
   "source": [
    "<h2>6 - Identificar A MENOR e A MAIOR pontuação do lanterna do Brasileirão.</h2>"
   ]
  },
  {
   "cell_type": "code",
   "execution_count": 15,
   "metadata": {},
   "outputs": [
    {
     "data": {
      "text/html": [
       "<div>\n",
       "<style scoped>\n",
       "    .dataframe tbody tr th:only-of-type {\n",
       "        vertical-align: middle;\n",
       "    }\n",
       "\n",
       "    .dataframe tbody tr th {\n",
       "        vertical-align: top;\n",
       "    }\n",
       "\n",
       "    .dataframe thead th {\n",
       "        text-align: right;\n",
       "    }\n",
       "</style>\n",
       "<table border=\"1\" class=\"dataframe\">\n",
       "  <thead>\n",
       "    <tr style=\"text-align: right;\">\n",
       "      <th></th>\n",
       "      <th>Ano</th>\n",
       "      <th>Colocação</th>\n",
       "      <th>Clube</th>\n",
       "      <th>Pontos</th>\n",
       "      <th>Vitórias</th>\n",
       "      <th>Empates</th>\n",
       "      <th>Derrotas</th>\n",
       "      <th>Gols Feitos</th>\n",
       "      <th>Gols Sofridos</th>\n",
       "      <th>Saldos de Gols</th>\n",
       "      <th>Cartões Amarelos</th>\n",
       "      <th>Cartões Vermelhos</th>\n",
       "      <th>Aproveitamento (%)</th>\n",
       "    </tr>\n",
       "  </thead>\n",
       "  <tbody>\n",
       "    <tr>\n",
       "      <th>119</th>\n",
       "      <td>2017</td>\n",
       "      <td>20</td>\n",
       "      <td>Atlético Goianiense - GO</td>\n",
       "      <td>36</td>\n",
       "      <td>9</td>\n",
       "      <td>9</td>\n",
       "      <td>20</td>\n",
       "      <td>38</td>\n",
       "      <td>56</td>\n",
       "      <td>-18</td>\n",
       "      <td>83</td>\n",
       "      <td>3</td>\n",
       "      <td>31</td>\n",
       "    </tr>\n",
       "  </tbody>\n",
       "</table>\n",
       "</div>"
      ],
      "text/plain": [
       "      Ano  Colocação                     Clube  Pontos  Vitórias  Empates  \\\n",
       "119  2017         20  Atlético Goianiense - GO      36         9        9   \n",
       "\n",
       "     Derrotas  Gols Feitos  Gols Sofridos  Saldos de Gols  Cartões Amarelos  \\\n",
       "119        20           38             56             -18                83   \n",
       "\n",
       "     Cartões Vermelhos  Aproveitamento (%)  \n",
       "119                  3                  31  "
      ]
     },
     "execution_count": 15,
     "metadata": {},
     "output_type": "execute_result"
    }
   ],
   "source": [
    "colocacoes_20 = devolve_maior_e_menor_pontuacao(20)\n",
    "colocacoes_20['maior']"
   ]
  },
  {
   "cell_type": "code",
   "execution_count": 16,
   "metadata": {},
   "outputs": [
    {
     "data": {
      "text/html": [
       "<div>\n",
       "<style scoped>\n",
       "    .dataframe tbody tr th:only-of-type {\n",
       "        vertical-align: middle;\n",
       "    }\n",
       "\n",
       "    .dataframe tbody tr th {\n",
       "        vertical-align: top;\n",
       "    }\n",
       "\n",
       "    .dataframe thead th {\n",
       "        text-align: right;\n",
       "    }\n",
       "</style>\n",
       "<table border=\"1\" class=\"dataframe\">\n",
       "  <thead>\n",
       "    <tr style=\"text-align: right;\">\n",
       "      <th></th>\n",
       "      <th>Ano</th>\n",
       "      <th>Colocação</th>\n",
       "      <th>Clube</th>\n",
       "      <th>Pontos</th>\n",
       "      <th>Vitórias</th>\n",
       "      <th>Empates</th>\n",
       "      <th>Derrotas</th>\n",
       "      <th>Gols Feitos</th>\n",
       "      <th>Gols Sofridos</th>\n",
       "      <th>Saldos de Gols</th>\n",
       "      <th>Cartões Amarelos</th>\n",
       "      <th>Cartões Vermelhos</th>\n",
       "      <th>Aproveitamento (%)</th>\n",
       "    </tr>\n",
       "  </thead>\n",
       "  <tbody>\n",
       "    <tr>\n",
       "      <th>199</th>\n",
       "      <td>2021</td>\n",
       "      <td>20</td>\n",
       "      <td>Chapecoense - SC</td>\n",
       "      <td>15</td>\n",
       "      <td>1</td>\n",
       "      <td>12</td>\n",
       "      <td>25</td>\n",
       "      <td>27</td>\n",
       "      <td>67</td>\n",
       "      <td>-40</td>\n",
       "      <td>82</td>\n",
       "      <td>10</td>\n",
       "      <td>13</td>\n",
       "    </tr>\n",
       "  </tbody>\n",
       "</table>\n",
       "</div>"
      ],
      "text/plain": [
       "      Ano  Colocação             Clube  Pontos  Vitórias  Empates  Derrotas  \\\n",
       "199  2021         20  Chapecoense - SC      15         1       12        25   \n",
       "\n",
       "     Gols Feitos  Gols Sofridos  Saldos de Gols  Cartões Amarelos  \\\n",
       "199           27             67             -40                82   \n",
       "\n",
       "     Cartões Vermelhos  Aproveitamento (%)  \n",
       "199                 10                  13  "
      ]
     },
     "execution_count": 16,
     "metadata": {},
     "output_type": "execute_result"
    }
   ],
   "source": [
    "colocacoes_20['menor']"
   ]
  },
  {
   "cell_type": "markdown",
   "metadata": {},
   "source": [
    "<h2>6.1 - Média de pontuação do lanterna.</h2>"
   ]
  },
  {
   "cell_type": "code",
   "execution_count": 82,
   "metadata": {},
   "outputs": [
    {
     "data": {
      "text/plain": [
       "25.666666666666668"
      ]
     },
     "execution_count": 82,
     "metadata": {},
     "output_type": "execute_result"
    }
   ],
   "source": [
    "df.loc[df['Colocação'] == 20, 'Pontos'].mean()"
   ]
  },
  {
   "cell_type": "markdown",
   "metadata": {},
   "source": [
    "<h2>7 - Identificar A MENOR e A MAIOR pontuação do campeão no Brasileirão.</h2>"
   ]
  },
  {
   "cell_type": "code",
   "execution_count": 17,
   "metadata": {},
   "outputs": [
    {
     "data": {
      "text/html": [
       "<div>\n",
       "<style scoped>\n",
       "    .dataframe tbody tr th:only-of-type {\n",
       "        vertical-align: middle;\n",
       "    }\n",
       "\n",
       "    .dataframe tbody tr th {\n",
       "        vertical-align: top;\n",
       "    }\n",
       "\n",
       "    .dataframe thead th {\n",
       "        text-align: right;\n",
       "    }\n",
       "</style>\n",
       "<table border=\"1\" class=\"dataframe\">\n",
       "  <thead>\n",
       "    <tr style=\"text-align: right;\">\n",
       "      <th></th>\n",
       "      <th>Ano</th>\n",
       "      <th>Colocação</th>\n",
       "      <th>Clube</th>\n",
       "      <th>Pontos</th>\n",
       "      <th>Vitórias</th>\n",
       "      <th>Empates</th>\n",
       "      <th>Derrotas</th>\n",
       "      <th>Gols Feitos</th>\n",
       "      <th>Gols Sofridos</th>\n",
       "      <th>Saldos de Gols</th>\n",
       "      <th>Cartões Amarelos</th>\n",
       "      <th>Cartões Vermelhos</th>\n",
       "      <th>Aproveitamento (%)</th>\n",
       "    </tr>\n",
       "  </thead>\n",
       "  <tbody>\n",
       "    <tr>\n",
       "      <th>140</th>\n",
       "      <td>2019</td>\n",
       "      <td>1</td>\n",
       "      <td>Flamengo - RJ</td>\n",
       "      <td>90</td>\n",
       "      <td>28</td>\n",
       "      <td>6</td>\n",
       "      <td>4</td>\n",
       "      <td>86</td>\n",
       "      <td>37</td>\n",
       "      <td>49</td>\n",
       "      <td>90</td>\n",
       "      <td>3</td>\n",
       "      <td>78</td>\n",
       "    </tr>\n",
       "  </tbody>\n",
       "</table>\n",
       "</div>"
      ],
      "text/plain": [
       "      Ano  Colocação          Clube  Pontos  Vitórias  Empates  Derrotas  \\\n",
       "140  2019          1  Flamengo - RJ      90        28        6         4   \n",
       "\n",
       "     Gols Feitos  Gols Sofridos  Saldos de Gols  Cartões Amarelos  \\\n",
       "140           86             37              49                90   \n",
       "\n",
       "     Cartões Vermelhos  Aproveitamento (%)  \n",
       "140                  3                  78  "
      ]
     },
     "execution_count": 17,
     "metadata": {},
     "output_type": "execute_result"
    }
   ],
   "source": [
    "colocacoes_1 = devolve_maior_e_menor_pontuacao(1)\n",
    "colocacoes_1['maior']"
   ]
  },
  {
   "cell_type": "code",
   "execution_count": 18,
   "metadata": {},
   "outputs": [
    {
     "data": {
      "text/html": [
       "<div>\n",
       "<style scoped>\n",
       "    .dataframe tbody tr th:only-of-type {\n",
       "        vertical-align: middle;\n",
       "    }\n",
       "\n",
       "    .dataframe tbody tr th {\n",
       "        vertical-align: top;\n",
       "    }\n",
       "\n",
       "    .dataframe thead th {\n",
       "        text-align: right;\n",
       "    }\n",
       "</style>\n",
       "<table border=\"1\" class=\"dataframe\">\n",
       "  <thead>\n",
       "    <tr style=\"text-align: right;\">\n",
       "      <th></th>\n",
       "      <th>Ano</th>\n",
       "      <th>Colocação</th>\n",
       "      <th>Clube</th>\n",
       "      <th>Pontos</th>\n",
       "      <th>Vitórias</th>\n",
       "      <th>Empates</th>\n",
       "      <th>Derrotas</th>\n",
       "      <th>Gols Feitos</th>\n",
       "      <th>Gols Sofridos</th>\n",
       "      <th>Saldos de Gols</th>\n",
       "      <th>Cartões Amarelos</th>\n",
       "      <th>Cartões Vermelhos</th>\n",
       "      <th>Aproveitamento (%)</th>\n",
       "    </tr>\n",
       "  </thead>\n",
       "  <tbody>\n",
       "    <tr>\n",
       "      <th>220</th>\n",
       "      <td>2023</td>\n",
       "      <td>1</td>\n",
       "      <td>Palmeiras - SP</td>\n",
       "      <td>70</td>\n",
       "      <td>20</td>\n",
       "      <td>10</td>\n",
       "      <td>8</td>\n",
       "      <td>64</td>\n",
       "      <td>33</td>\n",
       "      <td>31</td>\n",
       "      <td>101</td>\n",
       "      <td>7</td>\n",
       "      <td>61</td>\n",
       "    </tr>\n",
       "  </tbody>\n",
       "</table>\n",
       "</div>"
      ],
      "text/plain": [
       "      Ano  Colocação           Clube  Pontos  Vitórias  Empates  Derrotas  \\\n",
       "220  2023          1  Palmeiras - SP      70        20       10         8   \n",
       "\n",
       "     Gols Feitos  Gols Sofridos  Saldos de Gols  Cartões Amarelos  \\\n",
       "220           64             33              31               101   \n",
       "\n",
       "     Cartões Vermelhos  Aproveitamento (%)  \n",
       "220                  7                  61  "
      ]
     },
     "execution_count": 18,
     "metadata": {},
     "output_type": "execute_result"
    }
   ],
   "source": [
    "colocacoes_1['menor']"
   ]
  },
  {
   "cell_type": "markdown",
   "metadata": {},
   "source": [
    "<h2>7.1 - Média de pontuação do campeão.</h2>"
   ]
  },
  {
   "cell_type": "code",
   "execution_count": 83,
   "metadata": {},
   "outputs": [
    {
     "data": {
      "text/plain": [
       "78.5"
      ]
     },
     "execution_count": 83,
     "metadata": {},
     "output_type": "execute_result"
    }
   ],
   "source": [
    "df.loc[df['Colocação'] == 1, 'Pontos'].mean()"
   ]
  },
  {
   "cell_type": "markdown",
   "metadata": {},
   "source": [
    "<h2>8 - Identificar o time que MAIS TOMOU CARTÃO AMARELO e o que MAIS TOMOU CARTÃO VERMELHO em UM ANO, e vice-versa.</h2>"
   ]
  },
  {
   "cell_type": "code",
   "execution_count": 19,
   "metadata": {},
   "outputs": [
    {
     "data": {
      "text/html": [
       "<div>\n",
       "<style scoped>\n",
       "    .dataframe tbody tr th:only-of-type {\n",
       "        vertical-align: middle;\n",
       "    }\n",
       "\n",
       "    .dataframe tbody tr th {\n",
       "        vertical-align: top;\n",
       "    }\n",
       "\n",
       "    .dataframe thead th {\n",
       "        text-align: right;\n",
       "    }\n",
       "</style>\n",
       "<table border=\"1\" class=\"dataframe\">\n",
       "  <thead>\n",
       "    <tr style=\"text-align: right;\">\n",
       "      <th></th>\n",
       "      <th>Ano</th>\n",
       "      <th>Colocação</th>\n",
       "      <th>Clube</th>\n",
       "      <th>Pontos</th>\n",
       "      <th>Vitórias</th>\n",
       "      <th>Empates</th>\n",
       "      <th>Derrotas</th>\n",
       "      <th>Gols Feitos</th>\n",
       "      <th>Gols Sofridos</th>\n",
       "      <th>Saldos de Gols</th>\n",
       "      <th>Cartões Amarelos</th>\n",
       "      <th>Cartões Vermelhos</th>\n",
       "      <th>Aproveitamento (%)</th>\n",
       "    </tr>\n",
       "  </thead>\n",
       "  <tbody>\n",
       "    <tr>\n",
       "      <th>226</th>\n",
       "      <td>2023</td>\n",
       "      <td>7</td>\n",
       "      <td>Fluminense - RJ</td>\n",
       "      <td>56</td>\n",
       "      <td>16</td>\n",
       "      <td>8</td>\n",
       "      <td>14</td>\n",
       "      <td>51</td>\n",
       "      <td>47</td>\n",
       "      <td>4</td>\n",
       "      <td>130</td>\n",
       "      <td>12</td>\n",
       "      <td>49</td>\n",
       "    </tr>\n",
       "  </tbody>\n",
       "</table>\n",
       "</div>"
      ],
      "text/plain": [
       "      Ano  Colocação            Clube  Pontos  Vitórias  Empates  Derrotas  \\\n",
       "226  2023          7  Fluminense - RJ      56        16        8        14   \n",
       "\n",
       "     Gols Feitos  Gols Sofridos  Saldos de Gols  Cartões Amarelos  \\\n",
       "226           51             47               4               130   \n",
       "\n",
       "     Cartões Vermelhos  Aproveitamento (%)  \n",
       "226                 12                  49  "
      ]
     },
     "execution_count": 19,
     "metadata": {},
     "output_type": "execute_result"
    }
   ],
   "source": [
    "#time que mais tomou cartões amarelos em uma edição\n",
    "df.loc[df['Cartões Amarelos'] == df['Cartões Amarelos'].max(), :]"
   ]
  },
  {
   "cell_type": "code",
   "execution_count": 20,
   "metadata": {},
   "outputs": [
    {
     "data": {
      "text/html": [
       "<div>\n",
       "<style scoped>\n",
       "    .dataframe tbody tr th:only-of-type {\n",
       "        vertical-align: middle;\n",
       "    }\n",
       "\n",
       "    .dataframe tbody tr th {\n",
       "        vertical-align: top;\n",
       "    }\n",
       "\n",
       "    .dataframe thead th {\n",
       "        text-align: right;\n",
       "    }\n",
       "</style>\n",
       "<table border=\"1\" class=\"dataframe\">\n",
       "  <thead>\n",
       "    <tr style=\"text-align: right;\">\n",
       "      <th></th>\n",
       "      <th>Ano</th>\n",
       "      <th>Colocação</th>\n",
       "      <th>Clube</th>\n",
       "      <th>Pontos</th>\n",
       "      <th>Vitórias</th>\n",
       "      <th>Empates</th>\n",
       "      <th>Derrotas</th>\n",
       "      <th>Gols Feitos</th>\n",
       "      <th>Gols Sofridos</th>\n",
       "      <th>Saldos de Gols</th>\n",
       "      <th>Cartões Amarelos</th>\n",
       "      <th>Cartões Vermelhos</th>\n",
       "      <th>Aproveitamento (%)</th>\n",
       "    </tr>\n",
       "  </thead>\n",
       "  <tbody>\n",
       "    <tr>\n",
       "      <th>184</th>\n",
       "      <td>2021</td>\n",
       "      <td>5</td>\n",
       "      <td>Corinthians - SP</td>\n",
       "      <td>57</td>\n",
       "      <td>15</td>\n",
       "      <td>12</td>\n",
       "      <td>11</td>\n",
       "      <td>40</td>\n",
       "      <td>36</td>\n",
       "      <td>4</td>\n",
       "      <td>61</td>\n",
       "      <td>3</td>\n",
       "      <td>50</td>\n",
       "    </tr>\n",
       "  </tbody>\n",
       "</table>\n",
       "</div>"
      ],
      "text/plain": [
       "      Ano  Colocação             Clube  Pontos  Vitórias  Empates  Derrotas  \\\n",
       "184  2021          5  Corinthians - SP      57        15       12        11   \n",
       "\n",
       "     Gols Feitos  Gols Sofridos  Saldos de Gols  Cartões Amarelos  \\\n",
       "184           40             36               4                61   \n",
       "\n",
       "     Cartões Vermelhos  Aproveitamento (%)  \n",
       "184                  3                  50  "
      ]
     },
     "execution_count": 20,
     "metadata": {},
     "output_type": "execute_result"
    }
   ],
   "source": [
    "#time que menos tomou cartões amarelos em uma edição\n",
    "df.loc[df['Cartões Amarelos'] == df['Cartões Amarelos'].min(), :]"
   ]
  },
  {
   "cell_type": "code",
   "execution_count": 21,
   "metadata": {},
   "outputs": [
    {
     "data": {
      "text/html": [
       "<div>\n",
       "<style scoped>\n",
       "    .dataframe tbody tr th:only-of-type {\n",
       "        vertical-align: middle;\n",
       "    }\n",
       "\n",
       "    .dataframe tbody tr th {\n",
       "        vertical-align: top;\n",
       "    }\n",
       "\n",
       "    .dataframe thead th {\n",
       "        text-align: right;\n",
       "    }\n",
       "</style>\n",
       "<table border=\"1\" class=\"dataframe\">\n",
       "  <thead>\n",
       "    <tr style=\"text-align: right;\">\n",
       "      <th></th>\n",
       "      <th>Ano</th>\n",
       "      <th>Colocação</th>\n",
       "      <th>Clube</th>\n",
       "      <th>Pontos</th>\n",
       "      <th>Vitórias</th>\n",
       "      <th>Empates</th>\n",
       "      <th>Derrotas</th>\n",
       "      <th>Gols Feitos</th>\n",
       "      <th>Gols Sofridos</th>\n",
       "      <th>Saldos de Gols</th>\n",
       "      <th>Cartões Amarelos</th>\n",
       "      <th>Cartões Vermelhos</th>\n",
       "      <th>Aproveitamento (%)</th>\n",
       "    </tr>\n",
       "  </thead>\n",
       "  <tbody>\n",
       "    <tr>\n",
       "      <th>77</th>\n",
       "      <td>2015</td>\n",
       "      <td>18</td>\n",
       "      <td>Vasco da Gama - RJ</td>\n",
       "      <td>41</td>\n",
       "      <td>10</td>\n",
       "      <td>11</td>\n",
       "      <td>17</td>\n",
       "      <td>28</td>\n",
       "      <td>54</td>\n",
       "      <td>-26</td>\n",
       "      <td>108</td>\n",
       "      <td>14</td>\n",
       "      <td>35</td>\n",
       "    </tr>\n",
       "  </tbody>\n",
       "</table>\n",
       "</div>"
      ],
      "text/plain": [
       "     Ano  Colocação               Clube  Pontos  Vitórias  Empates  Derrotas  \\\n",
       "77  2015         18  Vasco da Gama - RJ      41        10       11        17   \n",
       "\n",
       "    Gols Feitos  Gols Sofridos  Saldos de Gols  Cartões Amarelos  \\\n",
       "77           28             54             -26               108   \n",
       "\n",
       "    Cartões Vermelhos  Aproveitamento (%)  \n",
       "77                 14                  35  "
      ]
     },
     "execution_count": 21,
     "metadata": {},
     "output_type": "execute_result"
    }
   ],
   "source": [
    "#time que mais tomou cartões vermelhos em uma edição\n",
    "df.loc[df['Cartões Vermelhos'] == df['Cartões Vermelhos'].max(), :]"
   ]
  },
  {
   "cell_type": "code",
   "execution_count": 22,
   "metadata": {},
   "outputs": [
    {
     "data": {
      "text/html": [
       "<div>\n",
       "<style scoped>\n",
       "    .dataframe tbody tr th:only-of-type {\n",
       "        vertical-align: middle;\n",
       "    }\n",
       "\n",
       "    .dataframe tbody tr th {\n",
       "        vertical-align: top;\n",
       "    }\n",
       "\n",
       "    .dataframe thead th {\n",
       "        text-align: right;\n",
       "    }\n",
       "</style>\n",
       "<table border=\"1\" class=\"dataframe\">\n",
       "  <thead>\n",
       "    <tr style=\"text-align: right;\">\n",
       "      <th></th>\n",
       "      <th>Ano</th>\n",
       "      <th>Colocação</th>\n",
       "      <th>Clube</th>\n",
       "      <th>Pontos</th>\n",
       "      <th>Vitórias</th>\n",
       "      <th>Empates</th>\n",
       "      <th>Derrotas</th>\n",
       "      <th>Gols Feitos</th>\n",
       "      <th>Gols Sofridos</th>\n",
       "      <th>Saldos de Gols</th>\n",
       "      <th>Cartões Amarelos</th>\n",
       "      <th>Cartões Vermelhos</th>\n",
       "      <th>Aproveitamento (%)</th>\n",
       "    </tr>\n",
       "  </thead>\n",
       "  <tbody>\n",
       "    <tr>\n",
       "      <th>80</th>\n",
       "      <td>2016</td>\n",
       "      <td>1</td>\n",
       "      <td>Palmeiras - SP</td>\n",
       "      <td>80</td>\n",
       "      <td>24</td>\n",
       "      <td>8</td>\n",
       "      <td>6</td>\n",
       "      <td>62</td>\n",
       "      <td>32</td>\n",
       "      <td>30</td>\n",
       "      <td>95</td>\n",
       "      <td>0</td>\n",
       "      <td>70</td>\n",
       "    </tr>\n",
       "  </tbody>\n",
       "</table>\n",
       "</div>"
      ],
      "text/plain": [
       "     Ano  Colocação           Clube  Pontos  Vitórias  Empates  Derrotas  \\\n",
       "80  2016          1  Palmeiras - SP      80        24        8         6   \n",
       "\n",
       "    Gols Feitos  Gols Sofridos  Saldos de Gols  Cartões Amarelos  \\\n",
       "80           62             32              30                95   \n",
       "\n",
       "    Cartões Vermelhos  Aproveitamento (%)  \n",
       "80                  0                  70  "
      ]
     },
     "execution_count": 22,
     "metadata": {},
     "output_type": "execute_result"
    }
   ],
   "source": [
    "#time que menos tomou cartões vermelhos em uma edição\n",
    "df.loc[df['Cartões Vermelhos'] == df['Cartões Vermelhos'].min(), :]"
   ]
  },
  {
   "cell_type": "markdown",
   "metadata": {},
   "source": [
    "<h2>8.1 O time que mais tomou cartões amarelos e o que mais tomou vermelhos em todo o registro</h2>"
   ]
  },
  {
   "cell_type": "code",
   "execution_count": 23,
   "metadata": {},
   "outputs": [
    {
     "data": {
      "text/html": [
       "<div>\n",
       "<style scoped>\n",
       "    .dataframe tbody tr th:only-of-type {\n",
       "        vertical-align: middle;\n",
       "    }\n",
       "\n",
       "    .dataframe tbody tr th {\n",
       "        vertical-align: top;\n",
       "    }\n",
       "\n",
       "    .dataframe thead th {\n",
       "        text-align: right;\n",
       "    }\n",
       "</style>\n",
       "<table border=\"1\" class=\"dataframe\">\n",
       "  <thead>\n",
       "    <tr style=\"text-align: right;\">\n",
       "      <th></th>\n",
       "      <th>Pontos</th>\n",
       "      <th>Vitórias</th>\n",
       "      <th>Empates</th>\n",
       "      <th>Derrotas</th>\n",
       "      <th>Gols Feitos</th>\n",
       "      <th>Gols Sofridos</th>\n",
       "      <th>Saldos de Gols</th>\n",
       "      <th>Cartões Amarelos</th>\n",
       "      <th>Cartões Vermelhos</th>\n",
       "    </tr>\n",
       "    <tr>\n",
       "      <th>Clube</th>\n",
       "      <th></th>\n",
       "      <th></th>\n",
       "      <th></th>\n",
       "      <th></th>\n",
       "      <th></th>\n",
       "      <th></th>\n",
       "      <th></th>\n",
       "      <th></th>\n",
       "      <th></th>\n",
       "    </tr>\n",
       "  </thead>\n",
       "  <tbody>\n",
       "    <tr>\n",
       "      <th>São Paulo - SP</th>\n",
       "      <td>697</td>\n",
       "      <td>188</td>\n",
       "      <td>133</td>\n",
       "      <td>135</td>\n",
       "      <td>572</td>\n",
       "      <td>473</td>\n",
       "      <td>99</td>\n",
       "      <td>1092</td>\n",
       "      <td>72</td>\n",
       "    </tr>\n",
       "  </tbody>\n",
       "</table>\n",
       "</div>"
      ],
      "text/plain": [
       "                Pontos  Vitórias  Empates  Derrotas  Gols Feitos  \\\n",
       "Clube                                                              \n",
       "São Paulo - SP     697       188      133       135          572   \n",
       "\n",
       "                Gols Sofridos  Saldos de Gols  Cartões Amarelos  \\\n",
       "Clube                                                             \n",
       "São Paulo - SP            473              99              1092   \n",
       "\n",
       "                Cartões Vermelhos  \n",
       "Clube                              \n",
       "São Paulo - SP                 72  "
      ]
     },
     "execution_count": 23,
     "metadata": {},
     "output_type": "execute_result"
    }
   ],
   "source": [
    "#Mais sofreu cartões amarelos\n",
    "soma_colunas_por_time.loc[soma_colunas_por_time['Cartões Amarelos'] == soma_colunas_por_time['Cartões Amarelos'].max()]"
   ]
  },
  {
   "cell_type": "code",
   "execution_count": 24,
   "metadata": {},
   "outputs": [
    {
     "data": {
      "text/html": [
       "<div>\n",
       "<style scoped>\n",
       "    .dataframe tbody tr th:only-of-type {\n",
       "        vertical-align: middle;\n",
       "    }\n",
       "\n",
       "    .dataframe tbody tr th {\n",
       "        vertical-align: top;\n",
       "    }\n",
       "\n",
       "    .dataframe thead th {\n",
       "        text-align: right;\n",
       "    }\n",
       "</style>\n",
       "<table border=\"1\" class=\"dataframe\">\n",
       "  <thead>\n",
       "    <tr style=\"text-align: right;\">\n",
       "      <th></th>\n",
       "      <th>Pontos</th>\n",
       "      <th>Vitórias</th>\n",
       "      <th>Empates</th>\n",
       "      <th>Derrotas</th>\n",
       "      <th>Gols Feitos</th>\n",
       "      <th>Gols Sofridos</th>\n",
       "      <th>Saldos de Gols</th>\n",
       "      <th>Cartões Amarelos</th>\n",
       "      <th>Cartões Vermelhos</th>\n",
       "    </tr>\n",
       "    <tr>\n",
       "      <th>Clube</th>\n",
       "      <th></th>\n",
       "      <th></th>\n",
       "      <th></th>\n",
       "      <th></th>\n",
       "      <th></th>\n",
       "      <th></th>\n",
       "      <th></th>\n",
       "      <th></th>\n",
       "      <th></th>\n",
       "    </tr>\n",
       "  </thead>\n",
       "  <tbody>\n",
       "    <tr>\n",
       "      <th>Fluminense - RJ</th>\n",
       "      <td>663</td>\n",
       "      <td>183</td>\n",
       "      <td>114</td>\n",
       "      <td>159</td>\n",
       "      <td>577</td>\n",
       "      <td>529</td>\n",
       "      <td>48</td>\n",
       "      <td>1085</td>\n",
       "      <td>82</td>\n",
       "    </tr>\n",
       "  </tbody>\n",
       "</table>\n",
       "</div>"
      ],
      "text/plain": [
       "                 Pontos  Vitórias  Empates  Derrotas  Gols Feitos  \\\n",
       "Clube                                                               \n",
       "Fluminense - RJ     663       183      114       159          577   \n",
       "\n",
       "                 Gols Sofridos  Saldos de Gols  Cartões Amarelos  \\\n",
       "Clube                                                              \n",
       "Fluminense - RJ            529              48              1085   \n",
       "\n",
       "                 Cartões Vermelhos  \n",
       "Clube                               \n",
       "Fluminense - RJ                 82  "
      ]
     },
     "execution_count": 24,
     "metadata": {},
     "output_type": "execute_result"
    }
   ],
   "source": [
    "#Mais sofreu cartões vermelhos\n",
    "soma_colunas_por_time.loc[soma_colunas_por_time['Cartões Vermelhos'] == soma_colunas_por_time['Cartões Vermelhos'].max()]"
   ]
  },
  {
   "cell_type": "markdown",
   "metadata": {},
   "source": [
    "<h2>9 - Identificar os times com as maiores e menores médias de cartões amarelos e cartões vermelhos por campeonato.</h2>\n",
    "<p>Estabelecido um filtro mínimo de 3 campeonatos, isto é, apenas equipes que jogaram pelo menos 3 vezes o Brasileirão, nesse registro, serão contabilizados no cálculo.</p>"
   ]
  },
  {
   "cell_type": "code",
   "execution_count": 25,
   "metadata": {},
   "outputs": [
    {
     "data": {
      "text/plain": [
       "Index(['Criciuma - SC', 'Csa - AL', 'Joinville - SC', 'Juventude - RS',\n",
       "       'Náutico - PE', 'Paraná - PR', 'Portuguesa - SP', 'Santa Cruz - PE'],\n",
       "      dtype='object', name='Clube')"
      ]
     },
     "execution_count": 25,
     "metadata": {},
     "output_type": "execute_result"
    }
   ],
   "source": [
    "filtro_minimo = soma_colunas_por_time[soma_colunas_por_time['Vitórias'] + soma_colunas_por_time['Empates'] + soma_colunas_por_time['Derrotas'] <= 76].index\n",
    "filtro_minimo"
   ]
  },
  {
   "cell_type": "code",
   "execution_count": 26,
   "metadata": {},
   "outputs": [],
   "source": [
    "media_com_filtro = media_colunas_por_time.drop(filtro_minimo)"
   ]
  },
  {
   "cell_type": "code",
   "execution_count": 27,
   "metadata": {},
   "outputs": [
    {
     "data": {
      "text/html": [
       "<div>\n",
       "<style scoped>\n",
       "    .dataframe tbody tr th:only-of-type {\n",
       "        vertical-align: middle;\n",
       "    }\n",
       "\n",
       "    .dataframe tbody tr th {\n",
       "        vertical-align: top;\n",
       "    }\n",
       "\n",
       "    .dataframe thead th {\n",
       "        text-align: right;\n",
       "    }\n",
       "</style>\n",
       "<table border=\"1\" class=\"dataframe\">\n",
       "  <thead>\n",
       "    <tr style=\"text-align: right;\">\n",
       "      <th></th>\n",
       "      <th>Colocação</th>\n",
       "      <th>Pontos</th>\n",
       "      <th>Vitórias</th>\n",
       "      <th>Empates</th>\n",
       "      <th>Derrotas</th>\n",
       "      <th>Gols Feitos</th>\n",
       "      <th>Gols Sofridos</th>\n",
       "      <th>Saldos de Gols</th>\n",
       "      <th>Cartões Amarelos</th>\n",
       "      <th>Cartões Vermelhos</th>\n",
       "      <th>Aproveitamento (%)</th>\n",
       "    </tr>\n",
       "    <tr>\n",
       "      <th>Clube</th>\n",
       "      <th></th>\n",
       "      <th></th>\n",
       "      <th></th>\n",
       "      <th></th>\n",
       "      <th></th>\n",
       "      <th></th>\n",
       "      <th></th>\n",
       "      <th></th>\n",
       "      <th></th>\n",
       "      <th></th>\n",
       "      <th></th>\n",
       "    </tr>\n",
       "  </thead>\n",
       "  <tbody>\n",
       "    <tr>\n",
       "      <th>Internacional - RS</th>\n",
       "      <td>7.5</td>\n",
       "      <td>58.5</td>\n",
       "      <td>15.9</td>\n",
       "      <td>10.8</td>\n",
       "      <td>11.3</td>\n",
       "      <td>47.8</td>\n",
       "      <td>39.3</td>\n",
       "      <td>8.5</td>\n",
       "      <td>99.2</td>\n",
       "      <td>6.4</td>\n",
       "      <td>51.0</td>\n",
       "    </tr>\n",
       "  </tbody>\n",
       "</table>\n",
       "</div>"
      ],
      "text/plain": [
       "                    Colocação  Pontos  Vitórias  Empates  Derrotas  \\\n",
       "Clube                                                                \n",
       "Internacional - RS        7.5    58.5      15.9     10.8      11.3   \n",
       "\n",
       "                    Gols Feitos  Gols Sofridos  Saldos de Gols  \\\n",
       "Clube                                                            \n",
       "Internacional - RS         47.8           39.3             8.5   \n",
       "\n",
       "                    Cartões Amarelos  Cartões Vermelhos  Aproveitamento (%)  \n",
       "Clube                                                                        \n",
       "Internacional - RS              99.2                6.4                51.0  "
      ]
     },
     "execution_count": 27,
     "metadata": {},
     "output_type": "execute_result"
    }
   ],
   "source": [
    "#clube com a maior média de cartões amarelos\n",
    "media_com_filtro[media_com_filtro['Cartões Amarelos'] == media_com_filtro['Cartões Amarelos'].max()]"
   ]
  },
  {
   "cell_type": "code",
   "execution_count": 28,
   "metadata": {},
   "outputs": [
    {
     "data": {
      "text/html": [
       "<div>\n",
       "<style scoped>\n",
       "    .dataframe tbody tr th:only-of-type {\n",
       "        vertical-align: middle;\n",
       "    }\n",
       "\n",
       "    .dataframe tbody tr th {\n",
       "        vertical-align: top;\n",
       "    }\n",
       "\n",
       "    .dataframe thead th {\n",
       "        text-align: right;\n",
       "    }\n",
       "</style>\n",
       "<table border=\"1\" class=\"dataframe\">\n",
       "  <thead>\n",
       "    <tr style=\"text-align: right;\">\n",
       "      <th></th>\n",
       "      <th>Colocação</th>\n",
       "      <th>Pontos</th>\n",
       "      <th>Vitórias</th>\n",
       "      <th>Empates</th>\n",
       "      <th>Derrotas</th>\n",
       "      <th>Gols Feitos</th>\n",
       "      <th>Gols Sofridos</th>\n",
       "      <th>Saldos de Gols</th>\n",
       "      <th>Cartões Amarelos</th>\n",
       "      <th>Cartões Vermelhos</th>\n",
       "      <th>Aproveitamento (%)</th>\n",
       "    </tr>\n",
       "    <tr>\n",
       "      <th>Clube</th>\n",
       "      <th></th>\n",
       "      <th></th>\n",
       "      <th></th>\n",
       "      <th></th>\n",
       "      <th></th>\n",
       "      <th></th>\n",
       "      <th></th>\n",
       "      <th></th>\n",
       "      <th></th>\n",
       "      <th></th>\n",
       "      <th></th>\n",
       "    </tr>\n",
       "  </thead>\n",
       "  <tbody>\n",
       "    <tr>\n",
       "      <th>Corinthians - SP</th>\n",
       "      <td>7.0</td>\n",
       "      <td>58.9</td>\n",
       "      <td>15.7</td>\n",
       "      <td>11.9</td>\n",
       "      <td>10.4</td>\n",
       "      <td>45.7</td>\n",
       "      <td>35.8</td>\n",
       "      <td>9.9</td>\n",
       "      <td>76.3</td>\n",
       "      <td>3.7</td>\n",
       "      <td>51.3</td>\n",
       "    </tr>\n",
       "  </tbody>\n",
       "</table>\n",
       "</div>"
      ],
      "text/plain": [
       "                  Colocação  Pontos  Vitórias  Empates  Derrotas  Gols Feitos  \\\n",
       "Clube                                                                           \n",
       "Corinthians - SP        7.0    58.9      15.7     11.9      10.4         45.7   \n",
       "\n",
       "                  Gols Sofridos  Saldos de Gols  Cartões Amarelos  \\\n",
       "Clube                                                               \n",
       "Corinthians - SP           35.8             9.9              76.3   \n",
       "\n",
       "                  Cartões Vermelhos  Aproveitamento (%)  \n",
       "Clube                                                    \n",
       "Corinthians - SP                3.7                51.3  "
      ]
     },
     "execution_count": 28,
     "metadata": {},
     "output_type": "execute_result"
    }
   ],
   "source": [
    "#clube com a menor média de cartões amarelos\n",
    "media_com_filtro[media_com_filtro['Cartões Amarelos'] == media_com_filtro['Cartões Amarelos'].min()]"
   ]
  },
  {
   "cell_type": "code",
   "execution_count": 29,
   "metadata": {},
   "outputs": [
    {
     "data": {
      "text/html": [
       "<div>\n",
       "<style scoped>\n",
       "    .dataframe tbody tr th:only-of-type {\n",
       "        vertical-align: middle;\n",
       "    }\n",
       "\n",
       "    .dataframe tbody tr th {\n",
       "        vertical-align: top;\n",
       "    }\n",
       "\n",
       "    .dataframe thead th {\n",
       "        text-align: right;\n",
       "    }\n",
       "</style>\n",
       "<table border=\"1\" class=\"dataframe\">\n",
       "  <thead>\n",
       "    <tr style=\"text-align: right;\">\n",
       "      <th></th>\n",
       "      <th>Colocação</th>\n",
       "      <th>Pontos</th>\n",
       "      <th>Vitórias</th>\n",
       "      <th>Empates</th>\n",
       "      <th>Derrotas</th>\n",
       "      <th>Gols Feitos</th>\n",
       "      <th>Gols Sofridos</th>\n",
       "      <th>Saldos de Gols</th>\n",
       "      <th>Cartões Amarelos</th>\n",
       "      <th>Cartões Vermelhos</th>\n",
       "      <th>Aproveitamento (%)</th>\n",
       "    </tr>\n",
       "    <tr>\n",
       "      <th>Clube</th>\n",
       "      <th></th>\n",
       "      <th></th>\n",
       "      <th></th>\n",
       "      <th></th>\n",
       "      <th></th>\n",
       "      <th></th>\n",
       "      <th></th>\n",
       "      <th></th>\n",
       "      <th></th>\n",
       "      <th></th>\n",
       "      <th></th>\n",
       "    </tr>\n",
       "  </thead>\n",
       "  <tbody>\n",
       "    <tr>\n",
       "      <th>Fortaleza - CE</th>\n",
       "      <td>9.4</td>\n",
       "      <td>52.2</td>\n",
       "      <td>14.4</td>\n",
       "      <td>9.0</td>\n",
       "      <td>14.6</td>\n",
       "      <td>43.8</td>\n",
       "      <td>44.2</td>\n",
       "      <td>-0.4</td>\n",
       "      <td>90.0</td>\n",
       "      <td>8.2</td>\n",
       "      <td>45.2</td>\n",
       "    </tr>\n",
       "  </tbody>\n",
       "</table>\n",
       "</div>"
      ],
      "text/plain": [
       "                Colocação  Pontos  Vitórias  Empates  Derrotas  Gols Feitos  \\\n",
       "Clube                                                                         \n",
       "Fortaleza - CE        9.4    52.2      14.4      9.0      14.6         43.8   \n",
       "\n",
       "                Gols Sofridos  Saldos de Gols  Cartões Amarelos  \\\n",
       "Clube                                                             \n",
       "Fortaleza - CE           44.2            -0.4              90.0   \n",
       "\n",
       "                Cartões Vermelhos  Aproveitamento (%)  \n",
       "Clube                                                  \n",
       "Fortaleza - CE                8.2                45.2  "
      ]
     },
     "execution_count": 29,
     "metadata": {},
     "output_type": "execute_result"
    }
   ],
   "source": [
    "#clube com a maior média de cartões amarelos\n",
    "media_com_filtro[media_com_filtro['Cartões Vermelhos'] == media_com_filtro['Cartões Vermelhos'].max()]"
   ]
  },
  {
   "cell_type": "code",
   "execution_count": 30,
   "metadata": {},
   "outputs": [
    {
     "data": {
      "text/html": [
       "<div>\n",
       "<style scoped>\n",
       "    .dataframe tbody tr th:only-of-type {\n",
       "        vertical-align: middle;\n",
       "    }\n",
       "\n",
       "    .dataframe tbody tr th {\n",
       "        vertical-align: top;\n",
       "    }\n",
       "\n",
       "    .dataframe thead th {\n",
       "        text-align: right;\n",
       "    }\n",
       "</style>\n",
       "<table border=\"1\" class=\"dataframe\">\n",
       "  <thead>\n",
       "    <tr style=\"text-align: right;\">\n",
       "      <th></th>\n",
       "      <th>Colocação</th>\n",
       "      <th>Pontos</th>\n",
       "      <th>Vitórias</th>\n",
       "      <th>Empates</th>\n",
       "      <th>Derrotas</th>\n",
       "      <th>Gols Feitos</th>\n",
       "      <th>Gols Sofridos</th>\n",
       "      <th>Saldos de Gols</th>\n",
       "      <th>Cartões Amarelos</th>\n",
       "      <th>Cartões Vermelhos</th>\n",
       "      <th>Aproveitamento (%)</th>\n",
       "    </tr>\n",
       "    <tr>\n",
       "      <th>Clube</th>\n",
       "      <th></th>\n",
       "      <th></th>\n",
       "      <th></th>\n",
       "      <th></th>\n",
       "      <th></th>\n",
       "      <th></th>\n",
       "      <th></th>\n",
       "      <th></th>\n",
       "      <th></th>\n",
       "      <th></th>\n",
       "      <th></th>\n",
       "    </tr>\n",
       "  </thead>\n",
       "  <tbody>\n",
       "    <tr>\n",
       "      <th>Corinthians - SP</th>\n",
       "      <td>7.0</td>\n",
       "      <td>58.9</td>\n",
       "      <td>15.7</td>\n",
       "      <td>11.9</td>\n",
       "      <td>10.4</td>\n",
       "      <td>45.7</td>\n",
       "      <td>35.8</td>\n",
       "      <td>9.9</td>\n",
       "      <td>76.3</td>\n",
       "      <td>3.7</td>\n",
       "      <td>51.3</td>\n",
       "    </tr>\n",
       "  </tbody>\n",
       "</table>\n",
       "</div>"
      ],
      "text/plain": [
       "                  Colocação  Pontos  Vitórias  Empates  Derrotas  Gols Feitos  \\\n",
       "Clube                                                                           \n",
       "Corinthians - SP        7.0    58.9      15.7     11.9      10.4         45.7   \n",
       "\n",
       "                  Gols Sofridos  Saldos de Gols  Cartões Amarelos  \\\n",
       "Clube                                                               \n",
       "Corinthians - SP           35.8             9.9              76.3   \n",
       "\n",
       "                  Cartões Vermelhos  Aproveitamento (%)  \n",
       "Clube                                                    \n",
       "Corinthians - SP                3.7                51.3  "
      ]
     },
     "execution_count": 30,
     "metadata": {},
     "output_type": "execute_result"
    }
   ],
   "source": [
    "#clube com a menor média de cartões amarelos\n",
    "media_com_filtro[media_com_filtro['Cartões Vermelhos'] == media_com_filtro['Cartões Vermelhos'].min()]"
   ]
  },
  {
   "cell_type": "code",
   "execution_count": 31,
   "metadata": {},
   "outputs": [],
   "source": [
    "def plotar_grafico_de_cartoes(dataframe: pd.DataFrame, coluna: str, tipo: str):\n",
    "    title = f\"Média de {coluna} por Clube\"\n",
    "    if tipo == \"Ano\":\n",
    "        title += \" por Ano\"\n",
    "    fig = px.bar(dataframe, x=dataframe.index, y=coluna, title=title, color=dataframe.index)\n",
    "    fig.update_layout(\n",
    "        showlegend=False,\n",
    "        xaxis_title='',\n",
    "        yaxis_title=f\"Média de {coluna}\"\n",
    "        )\n",
    "    fig.update_traces(\n",
    "        hovertemplate=\"%{x}<br>%{y}<extra></extra>\"\n",
    "    )\n",
    "    fig.show()"
   ]
  },
  {
   "cell_type": "code",
   "execution_count": 32,
   "metadata": {},
   "outputs": [
    {
     "data": {
      "application/vnd.plotly.v1+json": {
       "config": {
        "plotlyServerURL": "https://plot.ly"
       },
       "data": [
        {
         "alignmentgroup": "True",
         "hovertemplate": "%{x}<br>%{y}<extra></extra>",
         "legendgroup": "América - MG",
         "marker": {
          "color": "#636efa",
          "pattern": {
           "shape": ""
          }
         },
         "name": "América - MG",
         "offsetgroup": "América - MG",
         "orientation": "v",
         "showlegend": true,
         "textposition": "auto",
         "type": "bar",
         "x": [
          "América - MG"
         ],
         "xaxis": "x",
         "y": [
          78
         ],
         "yaxis": "y"
        },
        {
         "alignmentgroup": "True",
         "hovertemplate": "%{x}<br>%{y}<extra></extra>",
         "legendgroup": "Athletico Paranaense - PR",
         "marker": {
          "color": "#EF553B",
          "pattern": {
           "shape": ""
          }
         },
         "name": "Athletico Paranaense - PR",
         "offsetgroup": "Athletico Paranaense - PR",
         "orientation": "v",
         "showlegend": true,
         "textposition": "auto",
         "type": "bar",
         "x": [
          "Athletico Paranaense - PR"
         ],
         "xaxis": "x",
         "y": [
          86.6
         ],
         "yaxis": "y"
        },
        {
         "alignmentgroup": "True",
         "hovertemplate": "%{x}<br>%{y}<extra></extra>",
         "legendgroup": "Atlético Goianiense - GO",
         "marker": {
          "color": "#00cc96",
          "pattern": {
           "shape": ""
          }
         },
         "name": "Atlético Goianiense - GO",
         "offsetgroup": "Atlético Goianiense - GO",
         "orientation": "v",
         "showlegend": true,
         "textposition": "auto",
         "type": "bar",
         "x": [
          "Atlético Goianiense - GO"
         ],
         "xaxis": "x",
         "y": [
          93.8
         ],
         "yaxis": "y"
        },
        {
         "alignmentgroup": "True",
         "hovertemplate": "%{x}<br>%{y}<extra></extra>",
         "legendgroup": "Atlético Mineiro - MG",
         "marker": {
          "color": "#ab63fa",
          "pattern": {
           "shape": ""
          }
         },
         "name": "Atlético Mineiro - MG",
         "offsetgroup": "Atlético Mineiro - MG",
         "orientation": "v",
         "showlegend": true,
         "textposition": "auto",
         "type": "bar",
         "x": [
          "Atlético Mineiro - MG"
         ],
         "xaxis": "x",
         "y": [
          88.8
         ],
         "yaxis": "y"
        },
        {
         "alignmentgroup": "True",
         "hovertemplate": "%{x}<br>%{y}<extra></extra>",
         "legendgroup": "Avaí - SC",
         "marker": {
          "color": "#FFA15A",
          "pattern": {
           "shape": ""
          }
         },
         "name": "Avaí - SC",
         "offsetgroup": "Avaí - SC",
         "orientation": "v",
         "showlegend": true,
         "textposition": "auto",
         "type": "bar",
         "x": [
          "Avaí - SC"
         ],
         "xaxis": "x",
         "y": [
          95.5
         ],
         "yaxis": "y"
        },
        {
         "alignmentgroup": "True",
         "hovertemplate": "%{x}<br>%{y}<extra></extra>",
         "legendgroup": "Bahia - BA",
         "marker": {
          "color": "#19d3f3",
          "pattern": {
           "shape": ""
          }
         },
         "name": "Bahia - BA",
         "offsetgroup": "Bahia - BA",
         "orientation": "v",
         "showlegend": true,
         "textposition": "auto",
         "type": "bar",
         "x": [
          "Bahia - BA"
         ],
         "xaxis": "x",
         "y": [
          91.8
         ],
         "yaxis": "y"
        },
        {
         "alignmentgroup": "True",
         "hovertemplate": "%{x}<br>%{y}<extra></extra>",
         "legendgroup": "Botafogo - RJ",
         "marker": {
          "color": "#FF6692",
          "pattern": {
           "shape": ""
          }
         },
         "name": "Botafogo - RJ",
         "offsetgroup": "Botafogo - RJ",
         "orientation": "v",
         "showlegend": true,
         "textposition": "auto",
         "type": "bar",
         "x": [
          "Botafogo - RJ"
         ],
         "xaxis": "x",
         "y": [
          88
         ],
         "yaxis": "y"
        },
        {
         "alignmentgroup": "True",
         "hovertemplate": "%{x}<br>%{y}<extra></extra>",
         "legendgroup": "Ceará - CE",
         "marker": {
          "color": "#B6E880",
          "pattern": {
           "shape": ""
          }
         },
         "name": "Ceará - CE",
         "offsetgroup": "Ceará - CE",
         "orientation": "v",
         "showlegend": true,
         "textposition": "auto",
         "type": "bar",
         "x": [
          "Ceará - CE"
         ],
         "xaxis": "x",
         "y": [
          96.8
         ],
         "yaxis": "y"
        },
        {
         "alignmentgroup": "True",
         "hovertemplate": "%{x}<br>%{y}<extra></extra>",
         "legendgroup": "Chapecoense - SC",
         "marker": {
          "color": "#FF97FF",
          "pattern": {
           "shape": ""
          }
         },
         "name": "Chapecoense - SC",
         "offsetgroup": "Chapecoense - SC",
         "orientation": "v",
         "showlegend": true,
         "textposition": "auto",
         "type": "bar",
         "x": [
          "Chapecoense - SC"
         ],
         "xaxis": "x",
         "y": [
          80.9
         ],
         "yaxis": "y"
        },
        {
         "alignmentgroup": "True",
         "hovertemplate": "%{x}<br>%{y}<extra></extra>",
         "legendgroup": "Corinthians - SP",
         "marker": {
          "color": "#FECB52",
          "pattern": {
           "shape": ""
          }
         },
         "name": "Corinthians - SP",
         "offsetgroup": "Corinthians - SP",
         "orientation": "v",
         "showlegend": true,
         "textposition": "auto",
         "type": "bar",
         "x": [
          "Corinthians - SP"
         ],
         "xaxis": "x",
         "y": [
          76.3
         ],
         "yaxis": "y"
        },
        {
         "alignmentgroup": "True",
         "hovertemplate": "%{x}<br>%{y}<extra></extra>",
         "legendgroup": "Coritiba - PR",
         "marker": {
          "color": "#636efa",
          "pattern": {
           "shape": ""
          }
         },
         "name": "Coritiba - PR",
         "offsetgroup": "Coritiba - PR",
         "orientation": "v",
         "showlegend": true,
         "textposition": "auto",
         "type": "bar",
         "x": [
          "Coritiba - PR"
         ],
         "xaxis": "x",
         "y": [
          97
         ],
         "yaxis": "y"
        },
        {
         "alignmentgroup": "True",
         "hovertemplate": "%{x}<br>%{y}<extra></extra>",
         "legendgroup": "Cruzeiro - MG",
         "marker": {
          "color": "#EF553B",
          "pattern": {
           "shape": ""
          }
         },
         "name": "Cruzeiro - MG",
         "offsetgroup": "Cruzeiro - MG",
         "orientation": "v",
         "showlegend": true,
         "textposition": "auto",
         "type": "bar",
         "x": [
          "Cruzeiro - MG"
         ],
         "xaxis": "x",
         "y": [
          90.7
         ],
         "yaxis": "y"
        },
        {
         "alignmentgroup": "True",
         "hovertemplate": "%{x}<br>%{y}<extra></extra>",
         "legendgroup": "Cuiabá - MT",
         "marker": {
          "color": "#00cc96",
          "pattern": {
           "shape": ""
          }
         },
         "name": "Cuiabá - MT",
         "offsetgroup": "Cuiabá - MT",
         "orientation": "v",
         "showlegend": true,
         "textposition": "auto",
         "type": "bar",
         "x": [
          "Cuiabá - MT"
         ],
         "xaxis": "x",
         "y": [
          89.3
         ],
         "yaxis": "y"
        },
        {
         "alignmentgroup": "True",
         "hovertemplate": "%{x}<br>%{y}<extra></extra>",
         "legendgroup": "Figueirense - SC",
         "marker": {
          "color": "#ab63fa",
          "pattern": {
           "shape": ""
          }
         },
         "name": "Figueirense - SC",
         "offsetgroup": "Figueirense - SC",
         "orientation": "v",
         "showlegend": true,
         "textposition": "auto",
         "type": "bar",
         "x": [
          "Figueirense - SC"
         ],
         "xaxis": "x",
         "y": [
          96
         ],
         "yaxis": "y"
        },
        {
         "alignmentgroup": "True",
         "hovertemplate": "%{x}<br>%{y}<extra></extra>",
         "legendgroup": "Flamengo - RJ",
         "marker": {
          "color": "#FFA15A",
          "pattern": {
           "shape": ""
          }
         },
         "name": "Flamengo - RJ",
         "offsetgroup": "Flamengo - RJ",
         "orientation": "v",
         "showlegend": true,
         "textposition": "auto",
         "type": "bar",
         "x": [
          "Flamengo - RJ"
         ],
         "xaxis": "x",
         "y": [
          79.2
         ],
         "yaxis": "y"
        },
        {
         "alignmentgroup": "True",
         "hovertemplate": "%{x}<br>%{y}<extra></extra>",
         "legendgroup": "Fluminense - RJ",
         "marker": {
          "color": "#19d3f3",
          "pattern": {
           "shape": ""
          }
         },
         "name": "Fluminense - RJ",
         "offsetgroup": "Fluminense - RJ",
         "orientation": "v",
         "showlegend": true,
         "textposition": "auto",
         "type": "bar",
         "x": [
          "Fluminense - RJ"
         ],
         "xaxis": "x",
         "y": [
          90.4
         ],
         "yaxis": "y"
        },
        {
         "alignmentgroup": "True",
         "hovertemplate": "%{x}<br>%{y}<extra></extra>",
         "legendgroup": "Fortaleza - CE",
         "marker": {
          "color": "#FF6692",
          "pattern": {
           "shape": ""
          }
         },
         "name": "Fortaleza - CE",
         "offsetgroup": "Fortaleza - CE",
         "orientation": "v",
         "showlegend": true,
         "textposition": "auto",
         "type": "bar",
         "x": [
          "Fortaleza - CE"
         ],
         "xaxis": "x",
         "y": [
          90
         ],
         "yaxis": "y"
        },
        {
         "alignmentgroup": "True",
         "hovertemplate": "%{x}<br>%{y}<extra></extra>",
         "legendgroup": "Goiás - GO",
         "marker": {
          "color": "#B6E880",
          "pattern": {
           "shape": ""
          }
         },
         "name": "Goiás - GO",
         "offsetgroup": "Goiás - GO",
         "orientation": "v",
         "showlegend": true,
         "textposition": "auto",
         "type": "bar",
         "x": [
          "Goiás - GO"
         ],
         "xaxis": "x",
         "y": [
          94.6
         ],
         "yaxis": "y"
        },
        {
         "alignmentgroup": "True",
         "hovertemplate": "%{x}<br>%{y}<extra></extra>",
         "legendgroup": "Grêmio - RS",
         "marker": {
          "color": "#FF97FF",
          "pattern": {
           "shape": ""
          }
         },
         "name": "Grêmio - RS",
         "offsetgroup": "Grêmio - RS",
         "orientation": "v",
         "showlegend": true,
         "textposition": "auto",
         "type": "bar",
         "x": [
          "Grêmio - RS"
         ],
         "xaxis": "x",
         "y": [
          88.5
         ],
         "yaxis": "y"
        },
        {
         "alignmentgroup": "True",
         "hovertemplate": "%{x}<br>%{y}<extra></extra>",
         "legendgroup": "Internacional - RS",
         "marker": {
          "color": "#FECB52",
          "pattern": {
           "shape": ""
          }
         },
         "name": "Internacional - RS",
         "offsetgroup": "Internacional - RS",
         "orientation": "v",
         "showlegend": true,
         "textposition": "auto",
         "type": "bar",
         "x": [
          "Internacional - RS"
         ],
         "xaxis": "x",
         "y": [
          99.2
         ],
         "yaxis": "y"
        },
        {
         "alignmentgroup": "True",
         "hovertemplate": "%{x}<br>%{y}<extra></extra>",
         "legendgroup": "Palmeiras - SP",
         "marker": {
          "color": "#636efa",
          "pattern": {
           "shape": ""
          }
         },
         "name": "Palmeiras - SP",
         "offsetgroup": "Palmeiras - SP",
         "orientation": "v",
         "showlegend": true,
         "textposition": "auto",
         "type": "bar",
         "x": [
          "Palmeiras - SP"
         ],
         "xaxis": "x",
         "y": [
          94.1
         ],
         "yaxis": "y"
        },
        {
         "alignmentgroup": "True",
         "hovertemplate": "%{x}<br>%{y}<extra></extra>",
         "legendgroup": "Ponte Preta - SP",
         "marker": {
          "color": "#EF553B",
          "pattern": {
           "shape": ""
          }
         },
         "name": "Ponte Preta - SP",
         "offsetgroup": "Ponte Preta - SP",
         "orientation": "v",
         "showlegend": true,
         "textposition": "auto",
         "type": "bar",
         "x": [
          "Ponte Preta - SP"
         ],
         "xaxis": "x",
         "y": [
          91.8
         ],
         "yaxis": "y"
        },
        {
         "alignmentgroup": "True",
         "hovertemplate": "%{x}<br>%{y}<extra></extra>",
         "legendgroup": "Red Bull Bragantino - SP",
         "marker": {
          "color": "#00cc96",
          "pattern": {
           "shape": ""
          }
         },
         "name": "Red Bull Bragantino - SP",
         "offsetgroup": "Red Bull Bragantino - SP",
         "orientation": "v",
         "showlegend": true,
         "textposition": "auto",
         "type": "bar",
         "x": [
          "Red Bull Bragantino - SP"
         ],
         "xaxis": "x",
         "y": [
          94.8
         ],
         "yaxis": "y"
        },
        {
         "alignmentgroup": "True",
         "hovertemplate": "%{x}<br>%{y}<extra></extra>",
         "legendgroup": "Santos - SP",
         "marker": {
          "color": "#ab63fa",
          "pattern": {
           "shape": ""
          }
         },
         "name": "Santos - SP",
         "offsetgroup": "Santos - SP",
         "orientation": "v",
         "showlegend": true,
         "textposition": "auto",
         "type": "bar",
         "x": [
          "Santos - SP"
         ],
         "xaxis": "x",
         "y": [
          89.3
         ],
         "yaxis": "y"
        },
        {
         "alignmentgroup": "True",
         "hovertemplate": "%{x}<br>%{y}<extra></extra>",
         "legendgroup": "Sport - PE",
         "marker": {
          "color": "#FFA15A",
          "pattern": {
           "shape": ""
          }
         },
         "name": "Sport - PE",
         "offsetgroup": "Sport - PE",
         "orientation": "v",
         "showlegend": true,
         "textposition": "auto",
         "type": "bar",
         "x": [
          "Sport - PE"
         ],
         "xaxis": "x",
         "y": [
          84
         ],
         "yaxis": "y"
        },
        {
         "alignmentgroup": "True",
         "hovertemplate": "%{x}<br>%{y}<extra></extra>",
         "legendgroup": "São Paulo - SP",
         "marker": {
          "color": "#19d3f3",
          "pattern": {
           "shape": ""
          }
         },
         "name": "São Paulo - SP",
         "offsetgroup": "São Paulo - SP",
         "orientation": "v",
         "showlegend": true,
         "textposition": "auto",
         "type": "bar",
         "x": [
          "São Paulo - SP"
         ],
         "xaxis": "x",
         "y": [
          91
         ],
         "yaxis": "y"
        },
        {
         "alignmentgroup": "True",
         "hovertemplate": "%{x}<br>%{y}<extra></extra>",
         "legendgroup": "Vasco da Gama - RJ",
         "marker": {
          "color": "#FF6692",
          "pattern": {
           "shape": ""
          }
         },
         "name": "Vasco da Gama - RJ",
         "offsetgroup": "Vasco da Gama - RJ",
         "orientation": "v",
         "showlegend": true,
         "textposition": "auto",
         "type": "bar",
         "x": [
          "Vasco da Gama - RJ"
         ],
         "xaxis": "x",
         "y": [
          99
         ],
         "yaxis": "y"
        },
        {
         "alignmentgroup": "True",
         "hovertemplate": "%{x}<br>%{y}<extra></extra>",
         "legendgroup": "Vitória - BA",
         "marker": {
          "color": "#B6E880",
          "pattern": {
           "shape": ""
          }
         },
         "name": "Vitória - BA",
         "offsetgroup": "Vitória - BA",
         "orientation": "v",
         "showlegend": true,
         "textposition": "auto",
         "type": "bar",
         "x": [
          "Vitória - BA"
         ],
         "xaxis": "x",
         "y": [
          89.8
         ],
         "yaxis": "y"
        }
       ],
       "layout": {
        "barmode": "relative",
        "legend": {
         "title": {
          "text": "Clube"
         },
         "tracegroupgap": 0
        },
        "showlegend": false,
        "template": {
         "data": {
          "bar": [
           {
            "error_x": {
             "color": "#2a3f5f"
            },
            "error_y": {
             "color": "#2a3f5f"
            },
            "marker": {
             "line": {
              "color": "#E5ECF6",
              "width": 0.5
             },
             "pattern": {
              "fillmode": "overlay",
              "size": 10,
              "solidity": 0.2
             }
            },
            "type": "bar"
           }
          ],
          "barpolar": [
           {
            "marker": {
             "line": {
              "color": "#E5ECF6",
              "width": 0.5
             },
             "pattern": {
              "fillmode": "overlay",
              "size": 10,
              "solidity": 0.2
             }
            },
            "type": "barpolar"
           }
          ],
          "carpet": [
           {
            "aaxis": {
             "endlinecolor": "#2a3f5f",
             "gridcolor": "white",
             "linecolor": "white",
             "minorgridcolor": "white",
             "startlinecolor": "#2a3f5f"
            },
            "baxis": {
             "endlinecolor": "#2a3f5f",
             "gridcolor": "white",
             "linecolor": "white",
             "minorgridcolor": "white",
             "startlinecolor": "#2a3f5f"
            },
            "type": "carpet"
           }
          ],
          "choropleth": [
           {
            "colorbar": {
             "outlinewidth": 0,
             "ticks": ""
            },
            "type": "choropleth"
           }
          ],
          "contour": [
           {
            "colorbar": {
             "outlinewidth": 0,
             "ticks": ""
            },
            "colorscale": [
             [
              0,
              "#0d0887"
             ],
             [
              0.1111111111111111,
              "#46039f"
             ],
             [
              0.2222222222222222,
              "#7201a8"
             ],
             [
              0.3333333333333333,
              "#9c179e"
             ],
             [
              0.4444444444444444,
              "#bd3786"
             ],
             [
              0.5555555555555556,
              "#d8576b"
             ],
             [
              0.6666666666666666,
              "#ed7953"
             ],
             [
              0.7777777777777778,
              "#fb9f3a"
             ],
             [
              0.8888888888888888,
              "#fdca26"
             ],
             [
              1,
              "#f0f921"
             ]
            ],
            "type": "contour"
           }
          ],
          "contourcarpet": [
           {
            "colorbar": {
             "outlinewidth": 0,
             "ticks": ""
            },
            "type": "contourcarpet"
           }
          ],
          "heatmap": [
           {
            "colorbar": {
             "outlinewidth": 0,
             "ticks": ""
            },
            "colorscale": [
             [
              0,
              "#0d0887"
             ],
             [
              0.1111111111111111,
              "#46039f"
             ],
             [
              0.2222222222222222,
              "#7201a8"
             ],
             [
              0.3333333333333333,
              "#9c179e"
             ],
             [
              0.4444444444444444,
              "#bd3786"
             ],
             [
              0.5555555555555556,
              "#d8576b"
             ],
             [
              0.6666666666666666,
              "#ed7953"
             ],
             [
              0.7777777777777778,
              "#fb9f3a"
             ],
             [
              0.8888888888888888,
              "#fdca26"
             ],
             [
              1,
              "#f0f921"
             ]
            ],
            "type": "heatmap"
           }
          ],
          "heatmapgl": [
           {
            "colorbar": {
             "outlinewidth": 0,
             "ticks": ""
            },
            "colorscale": [
             [
              0,
              "#0d0887"
             ],
             [
              0.1111111111111111,
              "#46039f"
             ],
             [
              0.2222222222222222,
              "#7201a8"
             ],
             [
              0.3333333333333333,
              "#9c179e"
             ],
             [
              0.4444444444444444,
              "#bd3786"
             ],
             [
              0.5555555555555556,
              "#d8576b"
             ],
             [
              0.6666666666666666,
              "#ed7953"
             ],
             [
              0.7777777777777778,
              "#fb9f3a"
             ],
             [
              0.8888888888888888,
              "#fdca26"
             ],
             [
              1,
              "#f0f921"
             ]
            ],
            "type": "heatmapgl"
           }
          ],
          "histogram": [
           {
            "marker": {
             "pattern": {
              "fillmode": "overlay",
              "size": 10,
              "solidity": 0.2
             }
            },
            "type": "histogram"
           }
          ],
          "histogram2d": [
           {
            "colorbar": {
             "outlinewidth": 0,
             "ticks": ""
            },
            "colorscale": [
             [
              0,
              "#0d0887"
             ],
             [
              0.1111111111111111,
              "#46039f"
             ],
             [
              0.2222222222222222,
              "#7201a8"
             ],
             [
              0.3333333333333333,
              "#9c179e"
             ],
             [
              0.4444444444444444,
              "#bd3786"
             ],
             [
              0.5555555555555556,
              "#d8576b"
             ],
             [
              0.6666666666666666,
              "#ed7953"
             ],
             [
              0.7777777777777778,
              "#fb9f3a"
             ],
             [
              0.8888888888888888,
              "#fdca26"
             ],
             [
              1,
              "#f0f921"
             ]
            ],
            "type": "histogram2d"
           }
          ],
          "histogram2dcontour": [
           {
            "colorbar": {
             "outlinewidth": 0,
             "ticks": ""
            },
            "colorscale": [
             [
              0,
              "#0d0887"
             ],
             [
              0.1111111111111111,
              "#46039f"
             ],
             [
              0.2222222222222222,
              "#7201a8"
             ],
             [
              0.3333333333333333,
              "#9c179e"
             ],
             [
              0.4444444444444444,
              "#bd3786"
             ],
             [
              0.5555555555555556,
              "#d8576b"
             ],
             [
              0.6666666666666666,
              "#ed7953"
             ],
             [
              0.7777777777777778,
              "#fb9f3a"
             ],
             [
              0.8888888888888888,
              "#fdca26"
             ],
             [
              1,
              "#f0f921"
             ]
            ],
            "type": "histogram2dcontour"
           }
          ],
          "mesh3d": [
           {
            "colorbar": {
             "outlinewidth": 0,
             "ticks": ""
            },
            "type": "mesh3d"
           }
          ],
          "parcoords": [
           {
            "line": {
             "colorbar": {
              "outlinewidth": 0,
              "ticks": ""
             }
            },
            "type": "parcoords"
           }
          ],
          "pie": [
           {
            "automargin": true,
            "type": "pie"
           }
          ],
          "scatter": [
           {
            "fillpattern": {
             "fillmode": "overlay",
             "size": 10,
             "solidity": 0.2
            },
            "type": "scatter"
           }
          ],
          "scatter3d": [
           {
            "line": {
             "colorbar": {
              "outlinewidth": 0,
              "ticks": ""
             }
            },
            "marker": {
             "colorbar": {
              "outlinewidth": 0,
              "ticks": ""
             }
            },
            "type": "scatter3d"
           }
          ],
          "scattercarpet": [
           {
            "marker": {
             "colorbar": {
              "outlinewidth": 0,
              "ticks": ""
             }
            },
            "type": "scattercarpet"
           }
          ],
          "scattergeo": [
           {
            "marker": {
             "colorbar": {
              "outlinewidth": 0,
              "ticks": ""
             }
            },
            "type": "scattergeo"
           }
          ],
          "scattergl": [
           {
            "marker": {
             "colorbar": {
              "outlinewidth": 0,
              "ticks": ""
             }
            },
            "type": "scattergl"
           }
          ],
          "scattermapbox": [
           {
            "marker": {
             "colorbar": {
              "outlinewidth": 0,
              "ticks": ""
             }
            },
            "type": "scattermapbox"
           }
          ],
          "scatterpolar": [
           {
            "marker": {
             "colorbar": {
              "outlinewidth": 0,
              "ticks": ""
             }
            },
            "type": "scatterpolar"
           }
          ],
          "scatterpolargl": [
           {
            "marker": {
             "colorbar": {
              "outlinewidth": 0,
              "ticks": ""
             }
            },
            "type": "scatterpolargl"
           }
          ],
          "scatterternary": [
           {
            "marker": {
             "colorbar": {
              "outlinewidth": 0,
              "ticks": ""
             }
            },
            "type": "scatterternary"
           }
          ],
          "surface": [
           {
            "colorbar": {
             "outlinewidth": 0,
             "ticks": ""
            },
            "colorscale": [
             [
              0,
              "#0d0887"
             ],
             [
              0.1111111111111111,
              "#46039f"
             ],
             [
              0.2222222222222222,
              "#7201a8"
             ],
             [
              0.3333333333333333,
              "#9c179e"
             ],
             [
              0.4444444444444444,
              "#bd3786"
             ],
             [
              0.5555555555555556,
              "#d8576b"
             ],
             [
              0.6666666666666666,
              "#ed7953"
             ],
             [
              0.7777777777777778,
              "#fb9f3a"
             ],
             [
              0.8888888888888888,
              "#fdca26"
             ],
             [
              1,
              "#f0f921"
             ]
            ],
            "type": "surface"
           }
          ],
          "table": [
           {
            "cells": {
             "fill": {
              "color": "#EBF0F8"
             },
             "line": {
              "color": "white"
             }
            },
            "header": {
             "fill": {
              "color": "#C8D4E3"
             },
             "line": {
              "color": "white"
             }
            },
            "type": "table"
           }
          ]
         },
         "layout": {
          "annotationdefaults": {
           "arrowcolor": "#2a3f5f",
           "arrowhead": 0,
           "arrowwidth": 1
          },
          "autotypenumbers": "strict",
          "coloraxis": {
           "colorbar": {
            "outlinewidth": 0,
            "ticks": ""
           }
          },
          "colorscale": {
           "diverging": [
            [
             0,
             "#8e0152"
            ],
            [
             0.1,
             "#c51b7d"
            ],
            [
             0.2,
             "#de77ae"
            ],
            [
             0.3,
             "#f1b6da"
            ],
            [
             0.4,
             "#fde0ef"
            ],
            [
             0.5,
             "#f7f7f7"
            ],
            [
             0.6,
             "#e6f5d0"
            ],
            [
             0.7,
             "#b8e186"
            ],
            [
             0.8,
             "#7fbc41"
            ],
            [
             0.9,
             "#4d9221"
            ],
            [
             1,
             "#276419"
            ]
           ],
           "sequential": [
            [
             0,
             "#0d0887"
            ],
            [
             0.1111111111111111,
             "#46039f"
            ],
            [
             0.2222222222222222,
             "#7201a8"
            ],
            [
             0.3333333333333333,
             "#9c179e"
            ],
            [
             0.4444444444444444,
             "#bd3786"
            ],
            [
             0.5555555555555556,
             "#d8576b"
            ],
            [
             0.6666666666666666,
             "#ed7953"
            ],
            [
             0.7777777777777778,
             "#fb9f3a"
            ],
            [
             0.8888888888888888,
             "#fdca26"
            ],
            [
             1,
             "#f0f921"
            ]
           ],
           "sequentialminus": [
            [
             0,
             "#0d0887"
            ],
            [
             0.1111111111111111,
             "#46039f"
            ],
            [
             0.2222222222222222,
             "#7201a8"
            ],
            [
             0.3333333333333333,
             "#9c179e"
            ],
            [
             0.4444444444444444,
             "#bd3786"
            ],
            [
             0.5555555555555556,
             "#d8576b"
            ],
            [
             0.6666666666666666,
             "#ed7953"
            ],
            [
             0.7777777777777778,
             "#fb9f3a"
            ],
            [
             0.8888888888888888,
             "#fdca26"
            ],
            [
             1,
             "#f0f921"
            ]
           ]
          },
          "colorway": [
           "#636efa",
           "#EF553B",
           "#00cc96",
           "#ab63fa",
           "#FFA15A",
           "#19d3f3",
           "#FF6692",
           "#B6E880",
           "#FF97FF",
           "#FECB52"
          ],
          "font": {
           "color": "#2a3f5f"
          },
          "geo": {
           "bgcolor": "white",
           "lakecolor": "white",
           "landcolor": "#E5ECF6",
           "showlakes": true,
           "showland": true,
           "subunitcolor": "white"
          },
          "hoverlabel": {
           "align": "left"
          },
          "hovermode": "closest",
          "mapbox": {
           "style": "light"
          },
          "paper_bgcolor": "white",
          "plot_bgcolor": "#E5ECF6",
          "polar": {
           "angularaxis": {
            "gridcolor": "white",
            "linecolor": "white",
            "ticks": ""
           },
           "bgcolor": "#E5ECF6",
           "radialaxis": {
            "gridcolor": "white",
            "linecolor": "white",
            "ticks": ""
           }
          },
          "scene": {
           "xaxis": {
            "backgroundcolor": "#E5ECF6",
            "gridcolor": "white",
            "gridwidth": 2,
            "linecolor": "white",
            "showbackground": true,
            "ticks": "",
            "zerolinecolor": "white"
           },
           "yaxis": {
            "backgroundcolor": "#E5ECF6",
            "gridcolor": "white",
            "gridwidth": 2,
            "linecolor": "white",
            "showbackground": true,
            "ticks": "",
            "zerolinecolor": "white"
           },
           "zaxis": {
            "backgroundcolor": "#E5ECF6",
            "gridcolor": "white",
            "gridwidth": 2,
            "linecolor": "white",
            "showbackground": true,
            "ticks": "",
            "zerolinecolor": "white"
           }
          },
          "shapedefaults": {
           "line": {
            "color": "#2a3f5f"
           }
          },
          "ternary": {
           "aaxis": {
            "gridcolor": "white",
            "linecolor": "white",
            "ticks": ""
           },
           "baxis": {
            "gridcolor": "white",
            "linecolor": "white",
            "ticks": ""
           },
           "bgcolor": "#E5ECF6",
           "caxis": {
            "gridcolor": "white",
            "linecolor": "white",
            "ticks": ""
           }
          },
          "title": {
           "x": 0.05
          },
          "xaxis": {
           "automargin": true,
           "gridcolor": "white",
           "linecolor": "white",
           "ticks": "",
           "title": {
            "standoff": 15
           },
           "zerolinecolor": "white",
           "zerolinewidth": 2
          },
          "yaxis": {
           "automargin": true,
           "gridcolor": "white",
           "linecolor": "white",
           "ticks": "",
           "title": {
            "standoff": 15
           },
           "zerolinecolor": "white",
           "zerolinewidth": 2
          }
         }
        },
        "title": {
         "text": "Média de Cartões Amarelos por Clube"
        },
        "xaxis": {
         "anchor": "y",
         "categoryarray": [
          "América - MG",
          "Athletico Paranaense - PR",
          "Atlético Goianiense - GO",
          "Atlético Mineiro - MG",
          "Avaí - SC",
          "Bahia - BA",
          "Botafogo - RJ",
          "Ceará - CE",
          "Chapecoense - SC",
          "Corinthians - SP",
          "Coritiba - PR",
          "Cruzeiro - MG",
          "Cuiabá - MT",
          "Figueirense - SC",
          "Flamengo - RJ",
          "Fluminense - RJ",
          "Fortaleza - CE",
          "Goiás - GO",
          "Grêmio - RS",
          "Internacional - RS",
          "Palmeiras - SP",
          "Ponte Preta - SP",
          "Red Bull Bragantino - SP",
          "Santos - SP",
          "Sport - PE",
          "São Paulo - SP",
          "Vasco da Gama - RJ",
          "Vitória - BA"
         ],
         "categoryorder": "array",
         "domain": [
          0,
          1
         ],
         "title": {
          "text": ""
         }
        },
        "yaxis": {
         "anchor": "x",
         "domain": [
          0,
          1
         ],
         "title": {
          "text": "Média de Cartões Amarelos"
         }
        }
       }
      }
     },
     "metadata": {},
     "output_type": "display_data"
    }
   ],
   "source": [
    "plotar_grafico_de_cartoes(media_com_filtro, \"Cartões Amarelos\", \"Clube\")"
   ]
  },
  {
   "cell_type": "code",
   "execution_count": 33,
   "metadata": {},
   "outputs": [
    {
     "data": {
      "application/vnd.plotly.v1+json": {
       "config": {
        "plotlyServerURL": "https://plot.ly"
       },
       "data": [
        {
         "alignmentgroup": "True",
         "hovertemplate": "%{x}<br>%{y}<extra></extra>",
         "legendgroup": "América - MG",
         "marker": {
          "color": "#636efa",
          "pattern": {
           "shape": ""
          }
         },
         "name": "América - MG",
         "offsetgroup": "América - MG",
         "orientation": "v",
         "showlegend": true,
         "textposition": "auto",
         "type": "bar",
         "x": [
          "América - MG"
         ],
         "xaxis": "x",
         "y": [
          5.8
         ],
         "yaxis": "y"
        },
        {
         "alignmentgroup": "True",
         "hovertemplate": "%{x}<br>%{y}<extra></extra>",
         "legendgroup": "Athletico Paranaense - PR",
         "marker": {
          "color": "#EF553B",
          "pattern": {
           "shape": ""
          }
         },
         "name": "Athletico Paranaense - PR",
         "offsetgroup": "Athletico Paranaense - PR",
         "orientation": "v",
         "showlegend": true,
         "textposition": "auto",
         "type": "bar",
         "x": [
          "Athletico Paranaense - PR"
         ],
         "xaxis": "x",
         "y": [
          3.9
         ],
         "yaxis": "y"
        },
        {
         "alignmentgroup": "True",
         "hovertemplate": "%{x}<br>%{y}<extra></extra>",
         "legendgroup": "Atlético Goianiense - GO",
         "marker": {
          "color": "#00cc96",
          "pattern": {
           "shape": ""
          }
         },
         "name": "Atlético Goianiense - GO",
         "offsetgroup": "Atlético Goianiense - GO",
         "orientation": "v",
         "showlegend": true,
         "textposition": "auto",
         "type": "bar",
         "x": [
          "Atlético Goianiense - GO"
         ],
         "xaxis": "x",
         "y": [
          6.2
         ],
         "yaxis": "y"
        },
        {
         "alignmentgroup": "True",
         "hovertemplate": "%{x}<br>%{y}<extra></extra>",
         "legendgroup": "Atlético Mineiro - MG",
         "marker": {
          "color": "#ab63fa",
          "pattern": {
           "shape": ""
          }
         },
         "name": "Atlético Mineiro - MG",
         "offsetgroup": "Atlético Mineiro - MG",
         "orientation": "v",
         "showlegend": true,
         "textposition": "auto",
         "type": "bar",
         "x": [
          "Atlético Mineiro - MG"
         ],
         "xaxis": "x",
         "y": [
          5
         ],
         "yaxis": "y"
        },
        {
         "alignmentgroup": "True",
         "hovertemplate": "%{x}<br>%{y}<extra></extra>",
         "legendgroup": "Avaí - SC",
         "marker": {
          "color": "#FFA15A",
          "pattern": {
           "shape": ""
          }
         },
         "name": "Avaí - SC",
         "offsetgroup": "Avaí - SC",
         "orientation": "v",
         "showlegend": true,
         "textposition": "auto",
         "type": "bar",
         "x": [
          "Avaí - SC"
         ],
         "xaxis": "x",
         "y": [
          5.5
         ],
         "yaxis": "y"
        },
        {
         "alignmentgroup": "True",
         "hovertemplate": "%{x}<br>%{y}<extra></extra>",
         "legendgroup": "Bahia - BA",
         "marker": {
          "color": "#19d3f3",
          "pattern": {
           "shape": ""
          }
         },
         "name": "Bahia - BA",
         "offsetgroup": "Bahia - BA",
         "orientation": "v",
         "showlegend": true,
         "textposition": "auto",
         "type": "bar",
         "x": [
          "Bahia - BA"
         ],
         "xaxis": "x",
         "y": [
          6
         ],
         "yaxis": "y"
        },
        {
         "alignmentgroup": "True",
         "hovertemplate": "%{x}<br>%{y}<extra></extra>",
         "legendgroup": "Botafogo - RJ",
         "marker": {
          "color": "#FF6692",
          "pattern": {
           "shape": ""
          }
         },
         "name": "Botafogo - RJ",
         "offsetgroup": "Botafogo - RJ",
         "orientation": "v",
         "showlegend": true,
         "textposition": "auto",
         "type": "bar",
         "x": [
          "Botafogo - RJ"
         ],
         "xaxis": "x",
         "y": [
          4.7
         ],
         "yaxis": "y"
        },
        {
         "alignmentgroup": "True",
         "hovertemplate": "%{x}<br>%{y}<extra></extra>",
         "legendgroup": "Ceará - CE",
         "marker": {
          "color": "#B6E880",
          "pattern": {
           "shape": ""
          }
         },
         "name": "Ceará - CE",
         "offsetgroup": "Ceará - CE",
         "orientation": "v",
         "showlegend": true,
         "textposition": "auto",
         "type": "bar",
         "x": [
          "Ceará - CE"
         ],
         "xaxis": "x",
         "y": [
          6.2
         ],
         "yaxis": "y"
        },
        {
         "alignmentgroup": "True",
         "hovertemplate": "%{x}<br>%{y}<extra></extra>",
         "legendgroup": "Chapecoense - SC",
         "marker": {
          "color": "#FF97FF",
          "pattern": {
           "shape": ""
          }
         },
         "name": "Chapecoense - SC",
         "offsetgroup": "Chapecoense - SC",
         "orientation": "v",
         "showlegend": true,
         "textposition": "auto",
         "type": "bar",
         "x": [
          "Chapecoense - SC"
         ],
         "xaxis": "x",
         "y": [
          4
         ],
         "yaxis": "y"
        },
        {
         "alignmentgroup": "True",
         "hovertemplate": "%{x}<br>%{y}<extra></extra>",
         "legendgroup": "Corinthians - SP",
         "marker": {
          "color": "#FECB52",
          "pattern": {
           "shape": ""
          }
         },
         "name": "Corinthians - SP",
         "offsetgroup": "Corinthians - SP",
         "orientation": "v",
         "showlegend": true,
         "textposition": "auto",
         "type": "bar",
         "x": [
          "Corinthians - SP"
         ],
         "xaxis": "x",
         "y": [
          3.7
         ],
         "yaxis": "y"
        },
        {
         "alignmentgroup": "True",
         "hovertemplate": "%{x}<br>%{y}<extra></extra>",
         "legendgroup": "Coritiba - PR",
         "marker": {
          "color": "#636efa",
          "pattern": {
           "shape": ""
          }
         },
         "name": "Coritiba - PR",
         "offsetgroup": "Coritiba - PR",
         "orientation": "v",
         "showlegend": true,
         "textposition": "auto",
         "type": "bar",
         "x": [
          "Coritiba - PR"
         ],
         "xaxis": "x",
         "y": [
          5.9
         ],
         "yaxis": "y"
        },
        {
         "alignmentgroup": "True",
         "hovertemplate": "%{x}<br>%{y}<extra></extra>",
         "legendgroup": "Cruzeiro - MG",
         "marker": {
          "color": "#EF553B",
          "pattern": {
           "shape": ""
          }
         },
         "name": "Cruzeiro - MG",
         "offsetgroup": "Cruzeiro - MG",
         "orientation": "v",
         "showlegend": true,
         "textposition": "auto",
         "type": "bar",
         "x": [
          "Cruzeiro - MG"
         ],
         "xaxis": "x",
         "y": [
          5.3
         ],
         "yaxis": "y"
        },
        {
         "alignmentgroup": "True",
         "hovertemplate": "%{x}<br>%{y}<extra></extra>",
         "legendgroup": "Cuiabá - MT",
         "marker": {
          "color": "#00cc96",
          "pattern": {
           "shape": ""
          }
         },
         "name": "Cuiabá - MT",
         "offsetgroup": "Cuiabá - MT",
         "orientation": "v",
         "showlegend": true,
         "textposition": "auto",
         "type": "bar",
         "x": [
          "Cuiabá - MT"
         ],
         "xaxis": "x",
         "y": [
          7.3
         ],
         "yaxis": "y"
        },
        {
         "alignmentgroup": "True",
         "hovertemplate": "%{x}<br>%{y}<extra></extra>",
         "legendgroup": "Figueirense - SC",
         "marker": {
          "color": "#ab63fa",
          "pattern": {
           "shape": ""
          }
         },
         "name": "Figueirense - SC",
         "offsetgroup": "Figueirense - SC",
         "orientation": "v",
         "showlegend": true,
         "textposition": "auto",
         "type": "bar",
         "x": [
          "Figueirense - SC"
         ],
         "xaxis": "x",
         "y": [
          8
         ],
         "yaxis": "y"
        },
        {
         "alignmentgroup": "True",
         "hovertemplate": "%{x}<br>%{y}<extra></extra>",
         "legendgroup": "Flamengo - RJ",
         "marker": {
          "color": "#FFA15A",
          "pattern": {
           "shape": ""
          }
         },
         "name": "Flamengo - RJ",
         "offsetgroup": "Flamengo - RJ",
         "orientation": "v",
         "showlegend": true,
         "textposition": "auto",
         "type": "bar",
         "x": [
          "Flamengo - RJ"
         ],
         "xaxis": "x",
         "y": [
          4.8
         ],
         "yaxis": "y"
        },
        {
         "alignmentgroup": "True",
         "hovertemplate": "%{x}<br>%{y}<extra></extra>",
         "legendgroup": "Fluminense - RJ",
         "marker": {
          "color": "#19d3f3",
          "pattern": {
           "shape": ""
          }
         },
         "name": "Fluminense - RJ",
         "offsetgroup": "Fluminense - RJ",
         "orientation": "v",
         "showlegend": true,
         "textposition": "auto",
         "type": "bar",
         "x": [
          "Fluminense - RJ"
         ],
         "xaxis": "x",
         "y": [
          6.8
         ],
         "yaxis": "y"
        },
        {
         "alignmentgroup": "True",
         "hovertemplate": "%{x}<br>%{y}<extra></extra>",
         "legendgroup": "Fortaleza - CE",
         "marker": {
          "color": "#FF6692",
          "pattern": {
           "shape": ""
          }
         },
         "name": "Fortaleza - CE",
         "offsetgroup": "Fortaleza - CE",
         "orientation": "v",
         "showlegend": true,
         "textposition": "auto",
         "type": "bar",
         "x": [
          "Fortaleza - CE"
         ],
         "xaxis": "x",
         "y": [
          8.2
         ],
         "yaxis": "y"
        },
        {
         "alignmentgroup": "True",
         "hovertemplate": "%{x}<br>%{y}<extra></extra>",
         "legendgroup": "Goiás - GO",
         "marker": {
          "color": "#B6E880",
          "pattern": {
           "shape": ""
          }
         },
         "name": "Goiás - GO",
         "offsetgroup": "Goiás - GO",
         "orientation": "v",
         "showlegend": true,
         "textposition": "auto",
         "type": "bar",
         "x": [
          "Goiás - GO"
         ],
         "xaxis": "x",
         "y": [
          5.6
         ],
         "yaxis": "y"
        },
        {
         "alignmentgroup": "True",
         "hovertemplate": "%{x}<br>%{y}<extra></extra>",
         "legendgroup": "Grêmio - RS",
         "marker": {
          "color": "#FF97FF",
          "pattern": {
           "shape": ""
          }
         },
         "name": "Grêmio - RS",
         "offsetgroup": "Grêmio - RS",
         "orientation": "v",
         "showlegend": true,
         "textposition": "auto",
         "type": "bar",
         "x": [
          "Grêmio - RS"
         ],
         "xaxis": "x",
         "y": [
          4.7
         ],
         "yaxis": "y"
        },
        {
         "alignmentgroup": "True",
         "hovertemplate": "%{x}<br>%{y}<extra></extra>",
         "legendgroup": "Internacional - RS",
         "marker": {
          "color": "#FECB52",
          "pattern": {
           "shape": ""
          }
         },
         "name": "Internacional - RS",
         "offsetgroup": "Internacional - RS",
         "orientation": "v",
         "showlegend": true,
         "textposition": "auto",
         "type": "bar",
         "x": [
          "Internacional - RS"
         ],
         "xaxis": "x",
         "y": [
          6.4
         ],
         "yaxis": "y"
        },
        {
         "alignmentgroup": "True",
         "hovertemplate": "%{x}<br>%{y}<extra></extra>",
         "legendgroup": "Palmeiras - SP",
         "marker": {
          "color": "#636efa",
          "pattern": {
           "shape": ""
          }
         },
         "name": "Palmeiras - SP",
         "offsetgroup": "Palmeiras - SP",
         "orientation": "v",
         "showlegend": true,
         "textposition": "auto",
         "type": "bar",
         "x": [
          "Palmeiras - SP"
         ],
         "xaxis": "x",
         "y": [
          5.5
         ],
         "yaxis": "y"
        },
        {
         "alignmentgroup": "True",
         "hovertemplate": "%{x}<br>%{y}<extra></extra>",
         "legendgroup": "Ponte Preta - SP",
         "marker": {
          "color": "#EF553B",
          "pattern": {
           "shape": ""
          }
         },
         "name": "Ponte Preta - SP",
         "offsetgroup": "Ponte Preta - SP",
         "orientation": "v",
         "showlegend": true,
         "textposition": "auto",
         "type": "bar",
         "x": [
          "Ponte Preta - SP"
         ],
         "xaxis": "x",
         "y": [
          4.6
         ],
         "yaxis": "y"
        },
        {
         "alignmentgroup": "True",
         "hovertemplate": "%{x}<br>%{y}<extra></extra>",
         "legendgroup": "Red Bull Bragantino - SP",
         "marker": {
          "color": "#00cc96",
          "pattern": {
           "shape": ""
          }
         },
         "name": "Red Bull Bragantino - SP",
         "offsetgroup": "Red Bull Bragantino - SP",
         "orientation": "v",
         "showlegend": true,
         "textposition": "auto",
         "type": "bar",
         "x": [
          "Red Bull Bragantino - SP"
         ],
         "xaxis": "x",
         "y": [
          5.2
         ],
         "yaxis": "y"
        },
        {
         "alignmentgroup": "True",
         "hovertemplate": "%{x}<br>%{y}<extra></extra>",
         "legendgroup": "Santos - SP",
         "marker": {
          "color": "#ab63fa",
          "pattern": {
           "shape": ""
          }
         },
         "name": "Santos - SP",
         "offsetgroup": "Santos - SP",
         "orientation": "v",
         "showlegend": true,
         "textposition": "auto",
         "type": "bar",
         "x": [
          "Santos - SP"
         ],
         "xaxis": "x",
         "y": [
          5.8
         ],
         "yaxis": "y"
        },
        {
         "alignmentgroup": "True",
         "hovertemplate": "%{x}<br>%{y}<extra></extra>",
         "legendgroup": "Sport - PE",
         "marker": {
          "color": "#FFA15A",
          "pattern": {
           "shape": ""
          }
         },
         "name": "Sport - PE",
         "offsetgroup": "Sport - PE",
         "orientation": "v",
         "showlegend": true,
         "textposition": "auto",
         "type": "bar",
         "x": [
          "Sport - PE"
         ],
         "xaxis": "x",
         "y": [
          4.9
         ],
         "yaxis": "y"
        },
        {
         "alignmentgroup": "True",
         "hovertemplate": "%{x}<br>%{y}<extra></extra>",
         "legendgroup": "São Paulo - SP",
         "marker": {
          "color": "#19d3f3",
          "pattern": {
           "shape": ""
          }
         },
         "name": "São Paulo - SP",
         "offsetgroup": "São Paulo - SP",
         "orientation": "v",
         "showlegend": true,
         "textposition": "auto",
         "type": "bar",
         "x": [
          "São Paulo - SP"
         ],
         "xaxis": "x",
         "y": [
          6
         ],
         "yaxis": "y"
        },
        {
         "alignmentgroup": "True",
         "hovertemplate": "%{x}<br>%{y}<extra></extra>",
         "legendgroup": "Vasco da Gama - RJ",
         "marker": {
          "color": "#FF6692",
          "pattern": {
           "shape": ""
          }
         },
         "name": "Vasco da Gama - RJ",
         "offsetgroup": "Vasco da Gama - RJ",
         "orientation": "v",
         "showlegend": true,
         "textposition": "auto",
         "type": "bar",
         "x": [
          "Vasco da Gama - RJ"
         ],
         "xaxis": "x",
         "y": [
          6.2
         ],
         "yaxis": "y"
        },
        {
         "alignmentgroup": "True",
         "hovertemplate": "%{x}<br>%{y}<extra></extra>",
         "legendgroup": "Vitória - BA",
         "marker": {
          "color": "#B6E880",
          "pattern": {
           "shape": ""
          }
         },
         "name": "Vitória - BA",
         "offsetgroup": "Vitória - BA",
         "orientation": "v",
         "showlegend": true,
         "textposition": "auto",
         "type": "bar",
         "x": [
          "Vitória - BA"
         ],
         "xaxis": "x",
         "y": [
          4.6
         ],
         "yaxis": "y"
        }
       ],
       "layout": {
        "barmode": "relative",
        "legend": {
         "title": {
          "text": "Clube"
         },
         "tracegroupgap": 0
        },
        "showlegend": false,
        "template": {
         "data": {
          "bar": [
           {
            "error_x": {
             "color": "#2a3f5f"
            },
            "error_y": {
             "color": "#2a3f5f"
            },
            "marker": {
             "line": {
              "color": "#E5ECF6",
              "width": 0.5
             },
             "pattern": {
              "fillmode": "overlay",
              "size": 10,
              "solidity": 0.2
             }
            },
            "type": "bar"
           }
          ],
          "barpolar": [
           {
            "marker": {
             "line": {
              "color": "#E5ECF6",
              "width": 0.5
             },
             "pattern": {
              "fillmode": "overlay",
              "size": 10,
              "solidity": 0.2
             }
            },
            "type": "barpolar"
           }
          ],
          "carpet": [
           {
            "aaxis": {
             "endlinecolor": "#2a3f5f",
             "gridcolor": "white",
             "linecolor": "white",
             "minorgridcolor": "white",
             "startlinecolor": "#2a3f5f"
            },
            "baxis": {
             "endlinecolor": "#2a3f5f",
             "gridcolor": "white",
             "linecolor": "white",
             "minorgridcolor": "white",
             "startlinecolor": "#2a3f5f"
            },
            "type": "carpet"
           }
          ],
          "choropleth": [
           {
            "colorbar": {
             "outlinewidth": 0,
             "ticks": ""
            },
            "type": "choropleth"
           }
          ],
          "contour": [
           {
            "colorbar": {
             "outlinewidth": 0,
             "ticks": ""
            },
            "colorscale": [
             [
              0,
              "#0d0887"
             ],
             [
              0.1111111111111111,
              "#46039f"
             ],
             [
              0.2222222222222222,
              "#7201a8"
             ],
             [
              0.3333333333333333,
              "#9c179e"
             ],
             [
              0.4444444444444444,
              "#bd3786"
             ],
             [
              0.5555555555555556,
              "#d8576b"
             ],
             [
              0.6666666666666666,
              "#ed7953"
             ],
             [
              0.7777777777777778,
              "#fb9f3a"
             ],
             [
              0.8888888888888888,
              "#fdca26"
             ],
             [
              1,
              "#f0f921"
             ]
            ],
            "type": "contour"
           }
          ],
          "contourcarpet": [
           {
            "colorbar": {
             "outlinewidth": 0,
             "ticks": ""
            },
            "type": "contourcarpet"
           }
          ],
          "heatmap": [
           {
            "colorbar": {
             "outlinewidth": 0,
             "ticks": ""
            },
            "colorscale": [
             [
              0,
              "#0d0887"
             ],
             [
              0.1111111111111111,
              "#46039f"
             ],
             [
              0.2222222222222222,
              "#7201a8"
             ],
             [
              0.3333333333333333,
              "#9c179e"
             ],
             [
              0.4444444444444444,
              "#bd3786"
             ],
             [
              0.5555555555555556,
              "#d8576b"
             ],
             [
              0.6666666666666666,
              "#ed7953"
             ],
             [
              0.7777777777777778,
              "#fb9f3a"
             ],
             [
              0.8888888888888888,
              "#fdca26"
             ],
             [
              1,
              "#f0f921"
             ]
            ],
            "type": "heatmap"
           }
          ],
          "heatmapgl": [
           {
            "colorbar": {
             "outlinewidth": 0,
             "ticks": ""
            },
            "colorscale": [
             [
              0,
              "#0d0887"
             ],
             [
              0.1111111111111111,
              "#46039f"
             ],
             [
              0.2222222222222222,
              "#7201a8"
             ],
             [
              0.3333333333333333,
              "#9c179e"
             ],
             [
              0.4444444444444444,
              "#bd3786"
             ],
             [
              0.5555555555555556,
              "#d8576b"
             ],
             [
              0.6666666666666666,
              "#ed7953"
             ],
             [
              0.7777777777777778,
              "#fb9f3a"
             ],
             [
              0.8888888888888888,
              "#fdca26"
             ],
             [
              1,
              "#f0f921"
             ]
            ],
            "type": "heatmapgl"
           }
          ],
          "histogram": [
           {
            "marker": {
             "pattern": {
              "fillmode": "overlay",
              "size": 10,
              "solidity": 0.2
             }
            },
            "type": "histogram"
           }
          ],
          "histogram2d": [
           {
            "colorbar": {
             "outlinewidth": 0,
             "ticks": ""
            },
            "colorscale": [
             [
              0,
              "#0d0887"
             ],
             [
              0.1111111111111111,
              "#46039f"
             ],
             [
              0.2222222222222222,
              "#7201a8"
             ],
             [
              0.3333333333333333,
              "#9c179e"
             ],
             [
              0.4444444444444444,
              "#bd3786"
             ],
             [
              0.5555555555555556,
              "#d8576b"
             ],
             [
              0.6666666666666666,
              "#ed7953"
             ],
             [
              0.7777777777777778,
              "#fb9f3a"
             ],
             [
              0.8888888888888888,
              "#fdca26"
             ],
             [
              1,
              "#f0f921"
             ]
            ],
            "type": "histogram2d"
           }
          ],
          "histogram2dcontour": [
           {
            "colorbar": {
             "outlinewidth": 0,
             "ticks": ""
            },
            "colorscale": [
             [
              0,
              "#0d0887"
             ],
             [
              0.1111111111111111,
              "#46039f"
             ],
             [
              0.2222222222222222,
              "#7201a8"
             ],
             [
              0.3333333333333333,
              "#9c179e"
             ],
             [
              0.4444444444444444,
              "#bd3786"
             ],
             [
              0.5555555555555556,
              "#d8576b"
             ],
             [
              0.6666666666666666,
              "#ed7953"
             ],
             [
              0.7777777777777778,
              "#fb9f3a"
             ],
             [
              0.8888888888888888,
              "#fdca26"
             ],
             [
              1,
              "#f0f921"
             ]
            ],
            "type": "histogram2dcontour"
           }
          ],
          "mesh3d": [
           {
            "colorbar": {
             "outlinewidth": 0,
             "ticks": ""
            },
            "type": "mesh3d"
           }
          ],
          "parcoords": [
           {
            "line": {
             "colorbar": {
              "outlinewidth": 0,
              "ticks": ""
             }
            },
            "type": "parcoords"
           }
          ],
          "pie": [
           {
            "automargin": true,
            "type": "pie"
           }
          ],
          "scatter": [
           {
            "fillpattern": {
             "fillmode": "overlay",
             "size": 10,
             "solidity": 0.2
            },
            "type": "scatter"
           }
          ],
          "scatter3d": [
           {
            "line": {
             "colorbar": {
              "outlinewidth": 0,
              "ticks": ""
             }
            },
            "marker": {
             "colorbar": {
              "outlinewidth": 0,
              "ticks": ""
             }
            },
            "type": "scatter3d"
           }
          ],
          "scattercarpet": [
           {
            "marker": {
             "colorbar": {
              "outlinewidth": 0,
              "ticks": ""
             }
            },
            "type": "scattercarpet"
           }
          ],
          "scattergeo": [
           {
            "marker": {
             "colorbar": {
              "outlinewidth": 0,
              "ticks": ""
             }
            },
            "type": "scattergeo"
           }
          ],
          "scattergl": [
           {
            "marker": {
             "colorbar": {
              "outlinewidth": 0,
              "ticks": ""
             }
            },
            "type": "scattergl"
           }
          ],
          "scattermapbox": [
           {
            "marker": {
             "colorbar": {
              "outlinewidth": 0,
              "ticks": ""
             }
            },
            "type": "scattermapbox"
           }
          ],
          "scatterpolar": [
           {
            "marker": {
             "colorbar": {
              "outlinewidth": 0,
              "ticks": ""
             }
            },
            "type": "scatterpolar"
           }
          ],
          "scatterpolargl": [
           {
            "marker": {
             "colorbar": {
              "outlinewidth": 0,
              "ticks": ""
             }
            },
            "type": "scatterpolargl"
           }
          ],
          "scatterternary": [
           {
            "marker": {
             "colorbar": {
              "outlinewidth": 0,
              "ticks": ""
             }
            },
            "type": "scatterternary"
           }
          ],
          "surface": [
           {
            "colorbar": {
             "outlinewidth": 0,
             "ticks": ""
            },
            "colorscale": [
             [
              0,
              "#0d0887"
             ],
             [
              0.1111111111111111,
              "#46039f"
             ],
             [
              0.2222222222222222,
              "#7201a8"
             ],
             [
              0.3333333333333333,
              "#9c179e"
             ],
             [
              0.4444444444444444,
              "#bd3786"
             ],
             [
              0.5555555555555556,
              "#d8576b"
             ],
             [
              0.6666666666666666,
              "#ed7953"
             ],
             [
              0.7777777777777778,
              "#fb9f3a"
             ],
             [
              0.8888888888888888,
              "#fdca26"
             ],
             [
              1,
              "#f0f921"
             ]
            ],
            "type": "surface"
           }
          ],
          "table": [
           {
            "cells": {
             "fill": {
              "color": "#EBF0F8"
             },
             "line": {
              "color": "white"
             }
            },
            "header": {
             "fill": {
              "color": "#C8D4E3"
             },
             "line": {
              "color": "white"
             }
            },
            "type": "table"
           }
          ]
         },
         "layout": {
          "annotationdefaults": {
           "arrowcolor": "#2a3f5f",
           "arrowhead": 0,
           "arrowwidth": 1
          },
          "autotypenumbers": "strict",
          "coloraxis": {
           "colorbar": {
            "outlinewidth": 0,
            "ticks": ""
           }
          },
          "colorscale": {
           "diverging": [
            [
             0,
             "#8e0152"
            ],
            [
             0.1,
             "#c51b7d"
            ],
            [
             0.2,
             "#de77ae"
            ],
            [
             0.3,
             "#f1b6da"
            ],
            [
             0.4,
             "#fde0ef"
            ],
            [
             0.5,
             "#f7f7f7"
            ],
            [
             0.6,
             "#e6f5d0"
            ],
            [
             0.7,
             "#b8e186"
            ],
            [
             0.8,
             "#7fbc41"
            ],
            [
             0.9,
             "#4d9221"
            ],
            [
             1,
             "#276419"
            ]
           ],
           "sequential": [
            [
             0,
             "#0d0887"
            ],
            [
             0.1111111111111111,
             "#46039f"
            ],
            [
             0.2222222222222222,
             "#7201a8"
            ],
            [
             0.3333333333333333,
             "#9c179e"
            ],
            [
             0.4444444444444444,
             "#bd3786"
            ],
            [
             0.5555555555555556,
             "#d8576b"
            ],
            [
             0.6666666666666666,
             "#ed7953"
            ],
            [
             0.7777777777777778,
             "#fb9f3a"
            ],
            [
             0.8888888888888888,
             "#fdca26"
            ],
            [
             1,
             "#f0f921"
            ]
           ],
           "sequentialminus": [
            [
             0,
             "#0d0887"
            ],
            [
             0.1111111111111111,
             "#46039f"
            ],
            [
             0.2222222222222222,
             "#7201a8"
            ],
            [
             0.3333333333333333,
             "#9c179e"
            ],
            [
             0.4444444444444444,
             "#bd3786"
            ],
            [
             0.5555555555555556,
             "#d8576b"
            ],
            [
             0.6666666666666666,
             "#ed7953"
            ],
            [
             0.7777777777777778,
             "#fb9f3a"
            ],
            [
             0.8888888888888888,
             "#fdca26"
            ],
            [
             1,
             "#f0f921"
            ]
           ]
          },
          "colorway": [
           "#636efa",
           "#EF553B",
           "#00cc96",
           "#ab63fa",
           "#FFA15A",
           "#19d3f3",
           "#FF6692",
           "#B6E880",
           "#FF97FF",
           "#FECB52"
          ],
          "font": {
           "color": "#2a3f5f"
          },
          "geo": {
           "bgcolor": "white",
           "lakecolor": "white",
           "landcolor": "#E5ECF6",
           "showlakes": true,
           "showland": true,
           "subunitcolor": "white"
          },
          "hoverlabel": {
           "align": "left"
          },
          "hovermode": "closest",
          "mapbox": {
           "style": "light"
          },
          "paper_bgcolor": "white",
          "plot_bgcolor": "#E5ECF6",
          "polar": {
           "angularaxis": {
            "gridcolor": "white",
            "linecolor": "white",
            "ticks": ""
           },
           "bgcolor": "#E5ECF6",
           "radialaxis": {
            "gridcolor": "white",
            "linecolor": "white",
            "ticks": ""
           }
          },
          "scene": {
           "xaxis": {
            "backgroundcolor": "#E5ECF6",
            "gridcolor": "white",
            "gridwidth": 2,
            "linecolor": "white",
            "showbackground": true,
            "ticks": "",
            "zerolinecolor": "white"
           },
           "yaxis": {
            "backgroundcolor": "#E5ECF6",
            "gridcolor": "white",
            "gridwidth": 2,
            "linecolor": "white",
            "showbackground": true,
            "ticks": "",
            "zerolinecolor": "white"
           },
           "zaxis": {
            "backgroundcolor": "#E5ECF6",
            "gridcolor": "white",
            "gridwidth": 2,
            "linecolor": "white",
            "showbackground": true,
            "ticks": "",
            "zerolinecolor": "white"
           }
          },
          "shapedefaults": {
           "line": {
            "color": "#2a3f5f"
           }
          },
          "ternary": {
           "aaxis": {
            "gridcolor": "white",
            "linecolor": "white",
            "ticks": ""
           },
           "baxis": {
            "gridcolor": "white",
            "linecolor": "white",
            "ticks": ""
           },
           "bgcolor": "#E5ECF6",
           "caxis": {
            "gridcolor": "white",
            "linecolor": "white",
            "ticks": ""
           }
          },
          "title": {
           "x": 0.05
          },
          "xaxis": {
           "automargin": true,
           "gridcolor": "white",
           "linecolor": "white",
           "ticks": "",
           "title": {
            "standoff": 15
           },
           "zerolinecolor": "white",
           "zerolinewidth": 2
          },
          "yaxis": {
           "automargin": true,
           "gridcolor": "white",
           "linecolor": "white",
           "ticks": "",
           "title": {
            "standoff": 15
           },
           "zerolinecolor": "white",
           "zerolinewidth": 2
          }
         }
        },
        "title": {
         "text": "Média de Cartões Vermelhos por Clube"
        },
        "xaxis": {
         "anchor": "y",
         "categoryarray": [
          "América - MG",
          "Athletico Paranaense - PR",
          "Atlético Goianiense - GO",
          "Atlético Mineiro - MG",
          "Avaí - SC",
          "Bahia - BA",
          "Botafogo - RJ",
          "Ceará - CE",
          "Chapecoense - SC",
          "Corinthians - SP",
          "Coritiba - PR",
          "Cruzeiro - MG",
          "Cuiabá - MT",
          "Figueirense - SC",
          "Flamengo - RJ",
          "Fluminense - RJ",
          "Fortaleza - CE",
          "Goiás - GO",
          "Grêmio - RS",
          "Internacional - RS",
          "Palmeiras - SP",
          "Ponte Preta - SP",
          "Red Bull Bragantino - SP",
          "Santos - SP",
          "Sport - PE",
          "São Paulo - SP",
          "Vasco da Gama - RJ",
          "Vitória - BA"
         ],
         "categoryorder": "array",
         "domain": [
          0,
          1
         ],
         "title": {
          "text": ""
         }
        },
        "yaxis": {
         "anchor": "x",
         "domain": [
          0,
          1
         ],
         "title": {
          "text": "Média de Cartões Vermelhos"
         }
        }
       }
      }
     },
     "metadata": {},
     "output_type": "display_data"
    }
   ],
   "source": [
    "plotar_grafico_de_cartoes(media_com_filtro, \"Cartões Vermelhos\", \"Clube\")"
   ]
  },
  {
   "cell_type": "code",
   "execution_count": 34,
   "metadata": {},
   "outputs": [
    {
     "data": {
      "application/vnd.plotly.v1+json": {
       "config": {
        "plotlyServerURL": "https://plot.ly"
       },
       "data": [
        {
         "alignmentgroup": "True",
         "hovertemplate": "%{x}<br>%{y}<extra></extra>",
         "legendgroup": "",
         "marker": {
          "color": [
           2012,
           2013,
           2014,
           2015,
           2016,
           2017,
           2018,
           2019,
           2020,
           2021,
           2022,
           2023
          ],
          "coloraxis": "coloraxis",
          "pattern": {
           "shape": ""
          }
         },
         "name": "",
         "offsetgroup": "",
         "orientation": "v",
         "showlegend": false,
         "textposition": "auto",
         "type": "bar",
         "x": [
          2012,
          2013,
          2014,
          2015,
          2016,
          2017,
          2018,
          2019,
          2020,
          2021,
          2022,
          2023
         ],
         "xaxis": "x",
         "y": [
          94.6,
          84.2,
          82.8,
          91.2,
          84.6,
          88.8,
          90.8,
          85.2,
          86.5,
          90.2,
          97.4,
          101.6
         ],
         "yaxis": "y"
        }
       ],
       "layout": {
        "barmode": "relative",
        "coloraxis": {
         "colorbar": {
          "title": {
           "text": "Ano"
          }
         },
         "colorscale": [
          [
           0,
           "#0d0887"
          ],
          [
           0.1111111111111111,
           "#46039f"
          ],
          [
           0.2222222222222222,
           "#7201a8"
          ],
          [
           0.3333333333333333,
           "#9c179e"
          ],
          [
           0.4444444444444444,
           "#bd3786"
          ],
          [
           0.5555555555555556,
           "#d8576b"
          ],
          [
           0.6666666666666666,
           "#ed7953"
          ],
          [
           0.7777777777777778,
           "#fb9f3a"
          ],
          [
           0.8888888888888888,
           "#fdca26"
          ],
          [
           1,
           "#f0f921"
          ]
         ]
        },
        "legend": {
         "tracegroupgap": 0
        },
        "showlegend": false,
        "template": {
         "data": {
          "bar": [
           {
            "error_x": {
             "color": "#2a3f5f"
            },
            "error_y": {
             "color": "#2a3f5f"
            },
            "marker": {
             "line": {
              "color": "#E5ECF6",
              "width": 0.5
             },
             "pattern": {
              "fillmode": "overlay",
              "size": 10,
              "solidity": 0.2
             }
            },
            "type": "bar"
           }
          ],
          "barpolar": [
           {
            "marker": {
             "line": {
              "color": "#E5ECF6",
              "width": 0.5
             },
             "pattern": {
              "fillmode": "overlay",
              "size": 10,
              "solidity": 0.2
             }
            },
            "type": "barpolar"
           }
          ],
          "carpet": [
           {
            "aaxis": {
             "endlinecolor": "#2a3f5f",
             "gridcolor": "white",
             "linecolor": "white",
             "minorgridcolor": "white",
             "startlinecolor": "#2a3f5f"
            },
            "baxis": {
             "endlinecolor": "#2a3f5f",
             "gridcolor": "white",
             "linecolor": "white",
             "minorgridcolor": "white",
             "startlinecolor": "#2a3f5f"
            },
            "type": "carpet"
           }
          ],
          "choropleth": [
           {
            "colorbar": {
             "outlinewidth": 0,
             "ticks": ""
            },
            "type": "choropleth"
           }
          ],
          "contour": [
           {
            "colorbar": {
             "outlinewidth": 0,
             "ticks": ""
            },
            "colorscale": [
             [
              0,
              "#0d0887"
             ],
             [
              0.1111111111111111,
              "#46039f"
             ],
             [
              0.2222222222222222,
              "#7201a8"
             ],
             [
              0.3333333333333333,
              "#9c179e"
             ],
             [
              0.4444444444444444,
              "#bd3786"
             ],
             [
              0.5555555555555556,
              "#d8576b"
             ],
             [
              0.6666666666666666,
              "#ed7953"
             ],
             [
              0.7777777777777778,
              "#fb9f3a"
             ],
             [
              0.8888888888888888,
              "#fdca26"
             ],
             [
              1,
              "#f0f921"
             ]
            ],
            "type": "contour"
           }
          ],
          "contourcarpet": [
           {
            "colorbar": {
             "outlinewidth": 0,
             "ticks": ""
            },
            "type": "contourcarpet"
           }
          ],
          "heatmap": [
           {
            "colorbar": {
             "outlinewidth": 0,
             "ticks": ""
            },
            "colorscale": [
             [
              0,
              "#0d0887"
             ],
             [
              0.1111111111111111,
              "#46039f"
             ],
             [
              0.2222222222222222,
              "#7201a8"
             ],
             [
              0.3333333333333333,
              "#9c179e"
             ],
             [
              0.4444444444444444,
              "#bd3786"
             ],
             [
              0.5555555555555556,
              "#d8576b"
             ],
             [
              0.6666666666666666,
              "#ed7953"
             ],
             [
              0.7777777777777778,
              "#fb9f3a"
             ],
             [
              0.8888888888888888,
              "#fdca26"
             ],
             [
              1,
              "#f0f921"
             ]
            ],
            "type": "heatmap"
           }
          ],
          "heatmapgl": [
           {
            "colorbar": {
             "outlinewidth": 0,
             "ticks": ""
            },
            "colorscale": [
             [
              0,
              "#0d0887"
             ],
             [
              0.1111111111111111,
              "#46039f"
             ],
             [
              0.2222222222222222,
              "#7201a8"
             ],
             [
              0.3333333333333333,
              "#9c179e"
             ],
             [
              0.4444444444444444,
              "#bd3786"
             ],
             [
              0.5555555555555556,
              "#d8576b"
             ],
             [
              0.6666666666666666,
              "#ed7953"
             ],
             [
              0.7777777777777778,
              "#fb9f3a"
             ],
             [
              0.8888888888888888,
              "#fdca26"
             ],
             [
              1,
              "#f0f921"
             ]
            ],
            "type": "heatmapgl"
           }
          ],
          "histogram": [
           {
            "marker": {
             "pattern": {
              "fillmode": "overlay",
              "size": 10,
              "solidity": 0.2
             }
            },
            "type": "histogram"
           }
          ],
          "histogram2d": [
           {
            "colorbar": {
             "outlinewidth": 0,
             "ticks": ""
            },
            "colorscale": [
             [
              0,
              "#0d0887"
             ],
             [
              0.1111111111111111,
              "#46039f"
             ],
             [
              0.2222222222222222,
              "#7201a8"
             ],
             [
              0.3333333333333333,
              "#9c179e"
             ],
             [
              0.4444444444444444,
              "#bd3786"
             ],
             [
              0.5555555555555556,
              "#d8576b"
             ],
             [
              0.6666666666666666,
              "#ed7953"
             ],
             [
              0.7777777777777778,
              "#fb9f3a"
             ],
             [
              0.8888888888888888,
              "#fdca26"
             ],
             [
              1,
              "#f0f921"
             ]
            ],
            "type": "histogram2d"
           }
          ],
          "histogram2dcontour": [
           {
            "colorbar": {
             "outlinewidth": 0,
             "ticks": ""
            },
            "colorscale": [
             [
              0,
              "#0d0887"
             ],
             [
              0.1111111111111111,
              "#46039f"
             ],
             [
              0.2222222222222222,
              "#7201a8"
             ],
             [
              0.3333333333333333,
              "#9c179e"
             ],
             [
              0.4444444444444444,
              "#bd3786"
             ],
             [
              0.5555555555555556,
              "#d8576b"
             ],
             [
              0.6666666666666666,
              "#ed7953"
             ],
             [
              0.7777777777777778,
              "#fb9f3a"
             ],
             [
              0.8888888888888888,
              "#fdca26"
             ],
             [
              1,
              "#f0f921"
             ]
            ],
            "type": "histogram2dcontour"
           }
          ],
          "mesh3d": [
           {
            "colorbar": {
             "outlinewidth": 0,
             "ticks": ""
            },
            "type": "mesh3d"
           }
          ],
          "parcoords": [
           {
            "line": {
             "colorbar": {
              "outlinewidth": 0,
              "ticks": ""
             }
            },
            "type": "parcoords"
           }
          ],
          "pie": [
           {
            "automargin": true,
            "type": "pie"
           }
          ],
          "scatter": [
           {
            "fillpattern": {
             "fillmode": "overlay",
             "size": 10,
             "solidity": 0.2
            },
            "type": "scatter"
           }
          ],
          "scatter3d": [
           {
            "line": {
             "colorbar": {
              "outlinewidth": 0,
              "ticks": ""
             }
            },
            "marker": {
             "colorbar": {
              "outlinewidth": 0,
              "ticks": ""
             }
            },
            "type": "scatter3d"
           }
          ],
          "scattercarpet": [
           {
            "marker": {
             "colorbar": {
              "outlinewidth": 0,
              "ticks": ""
             }
            },
            "type": "scattercarpet"
           }
          ],
          "scattergeo": [
           {
            "marker": {
             "colorbar": {
              "outlinewidth": 0,
              "ticks": ""
             }
            },
            "type": "scattergeo"
           }
          ],
          "scattergl": [
           {
            "marker": {
             "colorbar": {
              "outlinewidth": 0,
              "ticks": ""
             }
            },
            "type": "scattergl"
           }
          ],
          "scattermapbox": [
           {
            "marker": {
             "colorbar": {
              "outlinewidth": 0,
              "ticks": ""
             }
            },
            "type": "scattermapbox"
           }
          ],
          "scatterpolar": [
           {
            "marker": {
             "colorbar": {
              "outlinewidth": 0,
              "ticks": ""
             }
            },
            "type": "scatterpolar"
           }
          ],
          "scatterpolargl": [
           {
            "marker": {
             "colorbar": {
              "outlinewidth": 0,
              "ticks": ""
             }
            },
            "type": "scatterpolargl"
           }
          ],
          "scatterternary": [
           {
            "marker": {
             "colorbar": {
              "outlinewidth": 0,
              "ticks": ""
             }
            },
            "type": "scatterternary"
           }
          ],
          "surface": [
           {
            "colorbar": {
             "outlinewidth": 0,
             "ticks": ""
            },
            "colorscale": [
             [
              0,
              "#0d0887"
             ],
             [
              0.1111111111111111,
              "#46039f"
             ],
             [
              0.2222222222222222,
              "#7201a8"
             ],
             [
              0.3333333333333333,
              "#9c179e"
             ],
             [
              0.4444444444444444,
              "#bd3786"
             ],
             [
              0.5555555555555556,
              "#d8576b"
             ],
             [
              0.6666666666666666,
              "#ed7953"
             ],
             [
              0.7777777777777778,
              "#fb9f3a"
             ],
             [
              0.8888888888888888,
              "#fdca26"
             ],
             [
              1,
              "#f0f921"
             ]
            ],
            "type": "surface"
           }
          ],
          "table": [
           {
            "cells": {
             "fill": {
              "color": "#EBF0F8"
             },
             "line": {
              "color": "white"
             }
            },
            "header": {
             "fill": {
              "color": "#C8D4E3"
             },
             "line": {
              "color": "white"
             }
            },
            "type": "table"
           }
          ]
         },
         "layout": {
          "annotationdefaults": {
           "arrowcolor": "#2a3f5f",
           "arrowhead": 0,
           "arrowwidth": 1
          },
          "autotypenumbers": "strict",
          "coloraxis": {
           "colorbar": {
            "outlinewidth": 0,
            "ticks": ""
           }
          },
          "colorscale": {
           "diverging": [
            [
             0,
             "#8e0152"
            ],
            [
             0.1,
             "#c51b7d"
            ],
            [
             0.2,
             "#de77ae"
            ],
            [
             0.3,
             "#f1b6da"
            ],
            [
             0.4,
             "#fde0ef"
            ],
            [
             0.5,
             "#f7f7f7"
            ],
            [
             0.6,
             "#e6f5d0"
            ],
            [
             0.7,
             "#b8e186"
            ],
            [
             0.8,
             "#7fbc41"
            ],
            [
             0.9,
             "#4d9221"
            ],
            [
             1,
             "#276419"
            ]
           ],
           "sequential": [
            [
             0,
             "#0d0887"
            ],
            [
             0.1111111111111111,
             "#46039f"
            ],
            [
             0.2222222222222222,
             "#7201a8"
            ],
            [
             0.3333333333333333,
             "#9c179e"
            ],
            [
             0.4444444444444444,
             "#bd3786"
            ],
            [
             0.5555555555555556,
             "#d8576b"
            ],
            [
             0.6666666666666666,
             "#ed7953"
            ],
            [
             0.7777777777777778,
             "#fb9f3a"
            ],
            [
             0.8888888888888888,
             "#fdca26"
            ],
            [
             1,
             "#f0f921"
            ]
           ],
           "sequentialminus": [
            [
             0,
             "#0d0887"
            ],
            [
             0.1111111111111111,
             "#46039f"
            ],
            [
             0.2222222222222222,
             "#7201a8"
            ],
            [
             0.3333333333333333,
             "#9c179e"
            ],
            [
             0.4444444444444444,
             "#bd3786"
            ],
            [
             0.5555555555555556,
             "#d8576b"
            ],
            [
             0.6666666666666666,
             "#ed7953"
            ],
            [
             0.7777777777777778,
             "#fb9f3a"
            ],
            [
             0.8888888888888888,
             "#fdca26"
            ],
            [
             1,
             "#f0f921"
            ]
           ]
          },
          "colorway": [
           "#636efa",
           "#EF553B",
           "#00cc96",
           "#ab63fa",
           "#FFA15A",
           "#19d3f3",
           "#FF6692",
           "#B6E880",
           "#FF97FF",
           "#FECB52"
          ],
          "font": {
           "color": "#2a3f5f"
          },
          "geo": {
           "bgcolor": "white",
           "lakecolor": "white",
           "landcolor": "#E5ECF6",
           "showlakes": true,
           "showland": true,
           "subunitcolor": "white"
          },
          "hoverlabel": {
           "align": "left"
          },
          "hovermode": "closest",
          "mapbox": {
           "style": "light"
          },
          "paper_bgcolor": "white",
          "plot_bgcolor": "#E5ECF6",
          "polar": {
           "angularaxis": {
            "gridcolor": "white",
            "linecolor": "white",
            "ticks": ""
           },
           "bgcolor": "#E5ECF6",
           "radialaxis": {
            "gridcolor": "white",
            "linecolor": "white",
            "ticks": ""
           }
          },
          "scene": {
           "xaxis": {
            "backgroundcolor": "#E5ECF6",
            "gridcolor": "white",
            "gridwidth": 2,
            "linecolor": "white",
            "showbackground": true,
            "ticks": "",
            "zerolinecolor": "white"
           },
           "yaxis": {
            "backgroundcolor": "#E5ECF6",
            "gridcolor": "white",
            "gridwidth": 2,
            "linecolor": "white",
            "showbackground": true,
            "ticks": "",
            "zerolinecolor": "white"
           },
           "zaxis": {
            "backgroundcolor": "#E5ECF6",
            "gridcolor": "white",
            "gridwidth": 2,
            "linecolor": "white",
            "showbackground": true,
            "ticks": "",
            "zerolinecolor": "white"
           }
          },
          "shapedefaults": {
           "line": {
            "color": "#2a3f5f"
           }
          },
          "ternary": {
           "aaxis": {
            "gridcolor": "white",
            "linecolor": "white",
            "ticks": ""
           },
           "baxis": {
            "gridcolor": "white",
            "linecolor": "white",
            "ticks": ""
           },
           "bgcolor": "#E5ECF6",
           "caxis": {
            "gridcolor": "white",
            "linecolor": "white",
            "ticks": ""
           }
          },
          "title": {
           "x": 0.05
          },
          "xaxis": {
           "automargin": true,
           "gridcolor": "white",
           "linecolor": "white",
           "ticks": "",
           "title": {
            "standoff": 15
           },
           "zerolinecolor": "white",
           "zerolinewidth": 2
          },
          "yaxis": {
           "automargin": true,
           "gridcolor": "white",
           "linecolor": "white",
           "ticks": "",
           "title": {
            "standoff": 15
           },
           "zerolinecolor": "white",
           "zerolinewidth": 2
          }
         }
        },
        "title": {
         "text": "Média de Cartões Amarelos por Clube por Ano"
        },
        "xaxis": {
         "anchor": "y",
         "domain": [
          0,
          1
         ],
         "title": {
          "text": ""
         }
        },
        "yaxis": {
         "anchor": "x",
         "domain": [
          0,
          1
         ],
         "title": {
          "text": "Média de Cartões Amarelos"
         }
        }
       }
      }
     },
     "metadata": {},
     "output_type": "display_data"
    }
   ],
   "source": [
    "plotar_grafico_de_cartoes(media_colunas_por_anos, \"Cartões Amarelos\", \"Ano\")"
   ]
  },
  {
   "cell_type": "code",
   "execution_count": 35,
   "metadata": {},
   "outputs": [
    {
     "data": {
      "application/vnd.plotly.v1+json": {
       "config": {
        "plotlyServerURL": "https://plot.ly"
       },
       "data": [
        {
         "alignmentgroup": "True",
         "hovertemplate": "%{x}<br>%{y}<extra></extra>",
         "legendgroup": "",
         "marker": {
          "color": [
           2012,
           2013,
           2014,
           2015,
           2016,
           2017,
           2018,
           2019,
           2020,
           2021,
           2022,
           2023
          ],
          "coloraxis": "coloraxis",
          "pattern": {
           "shape": ""
          }
         },
         "name": "",
         "offsetgroup": "",
         "orientation": "v",
         "showlegend": false,
         "textposition": "auto",
         "type": "bar",
         "x": [
          2012,
          2013,
          2014,
          2015,
          2016,
          2017,
          2018,
          2019,
          2020,
          2021,
          2022,
          2023
         ],
         "xaxis": "x",
         "y": [
          5.6,
          5.4,
          4.1,
          5.4,
          4.3,
          3.8,
          5,
          5.8,
          6.6,
          5.8,
          7.2,
          6.7
         ],
         "yaxis": "y"
        }
       ],
       "layout": {
        "barmode": "relative",
        "coloraxis": {
         "colorbar": {
          "title": {
           "text": "Ano"
          }
         },
         "colorscale": [
          [
           0,
           "#0d0887"
          ],
          [
           0.1111111111111111,
           "#46039f"
          ],
          [
           0.2222222222222222,
           "#7201a8"
          ],
          [
           0.3333333333333333,
           "#9c179e"
          ],
          [
           0.4444444444444444,
           "#bd3786"
          ],
          [
           0.5555555555555556,
           "#d8576b"
          ],
          [
           0.6666666666666666,
           "#ed7953"
          ],
          [
           0.7777777777777778,
           "#fb9f3a"
          ],
          [
           0.8888888888888888,
           "#fdca26"
          ],
          [
           1,
           "#f0f921"
          ]
         ]
        },
        "legend": {
         "tracegroupgap": 0
        },
        "showlegend": false,
        "template": {
         "data": {
          "bar": [
           {
            "error_x": {
             "color": "#2a3f5f"
            },
            "error_y": {
             "color": "#2a3f5f"
            },
            "marker": {
             "line": {
              "color": "#E5ECF6",
              "width": 0.5
             },
             "pattern": {
              "fillmode": "overlay",
              "size": 10,
              "solidity": 0.2
             }
            },
            "type": "bar"
           }
          ],
          "barpolar": [
           {
            "marker": {
             "line": {
              "color": "#E5ECF6",
              "width": 0.5
             },
             "pattern": {
              "fillmode": "overlay",
              "size": 10,
              "solidity": 0.2
             }
            },
            "type": "barpolar"
           }
          ],
          "carpet": [
           {
            "aaxis": {
             "endlinecolor": "#2a3f5f",
             "gridcolor": "white",
             "linecolor": "white",
             "minorgridcolor": "white",
             "startlinecolor": "#2a3f5f"
            },
            "baxis": {
             "endlinecolor": "#2a3f5f",
             "gridcolor": "white",
             "linecolor": "white",
             "minorgridcolor": "white",
             "startlinecolor": "#2a3f5f"
            },
            "type": "carpet"
           }
          ],
          "choropleth": [
           {
            "colorbar": {
             "outlinewidth": 0,
             "ticks": ""
            },
            "type": "choropleth"
           }
          ],
          "contour": [
           {
            "colorbar": {
             "outlinewidth": 0,
             "ticks": ""
            },
            "colorscale": [
             [
              0,
              "#0d0887"
             ],
             [
              0.1111111111111111,
              "#46039f"
             ],
             [
              0.2222222222222222,
              "#7201a8"
             ],
             [
              0.3333333333333333,
              "#9c179e"
             ],
             [
              0.4444444444444444,
              "#bd3786"
             ],
             [
              0.5555555555555556,
              "#d8576b"
             ],
             [
              0.6666666666666666,
              "#ed7953"
             ],
             [
              0.7777777777777778,
              "#fb9f3a"
             ],
             [
              0.8888888888888888,
              "#fdca26"
             ],
             [
              1,
              "#f0f921"
             ]
            ],
            "type": "contour"
           }
          ],
          "contourcarpet": [
           {
            "colorbar": {
             "outlinewidth": 0,
             "ticks": ""
            },
            "type": "contourcarpet"
           }
          ],
          "heatmap": [
           {
            "colorbar": {
             "outlinewidth": 0,
             "ticks": ""
            },
            "colorscale": [
             [
              0,
              "#0d0887"
             ],
             [
              0.1111111111111111,
              "#46039f"
             ],
             [
              0.2222222222222222,
              "#7201a8"
             ],
             [
              0.3333333333333333,
              "#9c179e"
             ],
             [
              0.4444444444444444,
              "#bd3786"
             ],
             [
              0.5555555555555556,
              "#d8576b"
             ],
             [
              0.6666666666666666,
              "#ed7953"
             ],
             [
              0.7777777777777778,
              "#fb9f3a"
             ],
             [
              0.8888888888888888,
              "#fdca26"
             ],
             [
              1,
              "#f0f921"
             ]
            ],
            "type": "heatmap"
           }
          ],
          "heatmapgl": [
           {
            "colorbar": {
             "outlinewidth": 0,
             "ticks": ""
            },
            "colorscale": [
             [
              0,
              "#0d0887"
             ],
             [
              0.1111111111111111,
              "#46039f"
             ],
             [
              0.2222222222222222,
              "#7201a8"
             ],
             [
              0.3333333333333333,
              "#9c179e"
             ],
             [
              0.4444444444444444,
              "#bd3786"
             ],
             [
              0.5555555555555556,
              "#d8576b"
             ],
             [
              0.6666666666666666,
              "#ed7953"
             ],
             [
              0.7777777777777778,
              "#fb9f3a"
             ],
             [
              0.8888888888888888,
              "#fdca26"
             ],
             [
              1,
              "#f0f921"
             ]
            ],
            "type": "heatmapgl"
           }
          ],
          "histogram": [
           {
            "marker": {
             "pattern": {
              "fillmode": "overlay",
              "size": 10,
              "solidity": 0.2
             }
            },
            "type": "histogram"
           }
          ],
          "histogram2d": [
           {
            "colorbar": {
             "outlinewidth": 0,
             "ticks": ""
            },
            "colorscale": [
             [
              0,
              "#0d0887"
             ],
             [
              0.1111111111111111,
              "#46039f"
             ],
             [
              0.2222222222222222,
              "#7201a8"
             ],
             [
              0.3333333333333333,
              "#9c179e"
             ],
             [
              0.4444444444444444,
              "#bd3786"
             ],
             [
              0.5555555555555556,
              "#d8576b"
             ],
             [
              0.6666666666666666,
              "#ed7953"
             ],
             [
              0.7777777777777778,
              "#fb9f3a"
             ],
             [
              0.8888888888888888,
              "#fdca26"
             ],
             [
              1,
              "#f0f921"
             ]
            ],
            "type": "histogram2d"
           }
          ],
          "histogram2dcontour": [
           {
            "colorbar": {
             "outlinewidth": 0,
             "ticks": ""
            },
            "colorscale": [
             [
              0,
              "#0d0887"
             ],
             [
              0.1111111111111111,
              "#46039f"
             ],
             [
              0.2222222222222222,
              "#7201a8"
             ],
             [
              0.3333333333333333,
              "#9c179e"
             ],
             [
              0.4444444444444444,
              "#bd3786"
             ],
             [
              0.5555555555555556,
              "#d8576b"
             ],
             [
              0.6666666666666666,
              "#ed7953"
             ],
             [
              0.7777777777777778,
              "#fb9f3a"
             ],
             [
              0.8888888888888888,
              "#fdca26"
             ],
             [
              1,
              "#f0f921"
             ]
            ],
            "type": "histogram2dcontour"
           }
          ],
          "mesh3d": [
           {
            "colorbar": {
             "outlinewidth": 0,
             "ticks": ""
            },
            "type": "mesh3d"
           }
          ],
          "parcoords": [
           {
            "line": {
             "colorbar": {
              "outlinewidth": 0,
              "ticks": ""
             }
            },
            "type": "parcoords"
           }
          ],
          "pie": [
           {
            "automargin": true,
            "type": "pie"
           }
          ],
          "scatter": [
           {
            "fillpattern": {
             "fillmode": "overlay",
             "size": 10,
             "solidity": 0.2
            },
            "type": "scatter"
           }
          ],
          "scatter3d": [
           {
            "line": {
             "colorbar": {
              "outlinewidth": 0,
              "ticks": ""
             }
            },
            "marker": {
             "colorbar": {
              "outlinewidth": 0,
              "ticks": ""
             }
            },
            "type": "scatter3d"
           }
          ],
          "scattercarpet": [
           {
            "marker": {
             "colorbar": {
              "outlinewidth": 0,
              "ticks": ""
             }
            },
            "type": "scattercarpet"
           }
          ],
          "scattergeo": [
           {
            "marker": {
             "colorbar": {
              "outlinewidth": 0,
              "ticks": ""
             }
            },
            "type": "scattergeo"
           }
          ],
          "scattergl": [
           {
            "marker": {
             "colorbar": {
              "outlinewidth": 0,
              "ticks": ""
             }
            },
            "type": "scattergl"
           }
          ],
          "scattermapbox": [
           {
            "marker": {
             "colorbar": {
              "outlinewidth": 0,
              "ticks": ""
             }
            },
            "type": "scattermapbox"
           }
          ],
          "scatterpolar": [
           {
            "marker": {
             "colorbar": {
              "outlinewidth": 0,
              "ticks": ""
             }
            },
            "type": "scatterpolar"
           }
          ],
          "scatterpolargl": [
           {
            "marker": {
             "colorbar": {
              "outlinewidth": 0,
              "ticks": ""
             }
            },
            "type": "scatterpolargl"
           }
          ],
          "scatterternary": [
           {
            "marker": {
             "colorbar": {
              "outlinewidth": 0,
              "ticks": ""
             }
            },
            "type": "scatterternary"
           }
          ],
          "surface": [
           {
            "colorbar": {
             "outlinewidth": 0,
             "ticks": ""
            },
            "colorscale": [
             [
              0,
              "#0d0887"
             ],
             [
              0.1111111111111111,
              "#46039f"
             ],
             [
              0.2222222222222222,
              "#7201a8"
             ],
             [
              0.3333333333333333,
              "#9c179e"
             ],
             [
              0.4444444444444444,
              "#bd3786"
             ],
             [
              0.5555555555555556,
              "#d8576b"
             ],
             [
              0.6666666666666666,
              "#ed7953"
             ],
             [
              0.7777777777777778,
              "#fb9f3a"
             ],
             [
              0.8888888888888888,
              "#fdca26"
             ],
             [
              1,
              "#f0f921"
             ]
            ],
            "type": "surface"
           }
          ],
          "table": [
           {
            "cells": {
             "fill": {
              "color": "#EBF0F8"
             },
             "line": {
              "color": "white"
             }
            },
            "header": {
             "fill": {
              "color": "#C8D4E3"
             },
             "line": {
              "color": "white"
             }
            },
            "type": "table"
           }
          ]
         },
         "layout": {
          "annotationdefaults": {
           "arrowcolor": "#2a3f5f",
           "arrowhead": 0,
           "arrowwidth": 1
          },
          "autotypenumbers": "strict",
          "coloraxis": {
           "colorbar": {
            "outlinewidth": 0,
            "ticks": ""
           }
          },
          "colorscale": {
           "diverging": [
            [
             0,
             "#8e0152"
            ],
            [
             0.1,
             "#c51b7d"
            ],
            [
             0.2,
             "#de77ae"
            ],
            [
             0.3,
             "#f1b6da"
            ],
            [
             0.4,
             "#fde0ef"
            ],
            [
             0.5,
             "#f7f7f7"
            ],
            [
             0.6,
             "#e6f5d0"
            ],
            [
             0.7,
             "#b8e186"
            ],
            [
             0.8,
             "#7fbc41"
            ],
            [
             0.9,
             "#4d9221"
            ],
            [
             1,
             "#276419"
            ]
           ],
           "sequential": [
            [
             0,
             "#0d0887"
            ],
            [
             0.1111111111111111,
             "#46039f"
            ],
            [
             0.2222222222222222,
             "#7201a8"
            ],
            [
             0.3333333333333333,
             "#9c179e"
            ],
            [
             0.4444444444444444,
             "#bd3786"
            ],
            [
             0.5555555555555556,
             "#d8576b"
            ],
            [
             0.6666666666666666,
             "#ed7953"
            ],
            [
             0.7777777777777778,
             "#fb9f3a"
            ],
            [
             0.8888888888888888,
             "#fdca26"
            ],
            [
             1,
             "#f0f921"
            ]
           ],
           "sequentialminus": [
            [
             0,
             "#0d0887"
            ],
            [
             0.1111111111111111,
             "#46039f"
            ],
            [
             0.2222222222222222,
             "#7201a8"
            ],
            [
             0.3333333333333333,
             "#9c179e"
            ],
            [
             0.4444444444444444,
             "#bd3786"
            ],
            [
             0.5555555555555556,
             "#d8576b"
            ],
            [
             0.6666666666666666,
             "#ed7953"
            ],
            [
             0.7777777777777778,
             "#fb9f3a"
            ],
            [
             0.8888888888888888,
             "#fdca26"
            ],
            [
             1,
             "#f0f921"
            ]
           ]
          },
          "colorway": [
           "#636efa",
           "#EF553B",
           "#00cc96",
           "#ab63fa",
           "#FFA15A",
           "#19d3f3",
           "#FF6692",
           "#B6E880",
           "#FF97FF",
           "#FECB52"
          ],
          "font": {
           "color": "#2a3f5f"
          },
          "geo": {
           "bgcolor": "white",
           "lakecolor": "white",
           "landcolor": "#E5ECF6",
           "showlakes": true,
           "showland": true,
           "subunitcolor": "white"
          },
          "hoverlabel": {
           "align": "left"
          },
          "hovermode": "closest",
          "mapbox": {
           "style": "light"
          },
          "paper_bgcolor": "white",
          "plot_bgcolor": "#E5ECF6",
          "polar": {
           "angularaxis": {
            "gridcolor": "white",
            "linecolor": "white",
            "ticks": ""
           },
           "bgcolor": "#E5ECF6",
           "radialaxis": {
            "gridcolor": "white",
            "linecolor": "white",
            "ticks": ""
           }
          },
          "scene": {
           "xaxis": {
            "backgroundcolor": "#E5ECF6",
            "gridcolor": "white",
            "gridwidth": 2,
            "linecolor": "white",
            "showbackground": true,
            "ticks": "",
            "zerolinecolor": "white"
           },
           "yaxis": {
            "backgroundcolor": "#E5ECF6",
            "gridcolor": "white",
            "gridwidth": 2,
            "linecolor": "white",
            "showbackground": true,
            "ticks": "",
            "zerolinecolor": "white"
           },
           "zaxis": {
            "backgroundcolor": "#E5ECF6",
            "gridcolor": "white",
            "gridwidth": 2,
            "linecolor": "white",
            "showbackground": true,
            "ticks": "",
            "zerolinecolor": "white"
           }
          },
          "shapedefaults": {
           "line": {
            "color": "#2a3f5f"
           }
          },
          "ternary": {
           "aaxis": {
            "gridcolor": "white",
            "linecolor": "white",
            "ticks": ""
           },
           "baxis": {
            "gridcolor": "white",
            "linecolor": "white",
            "ticks": ""
           },
           "bgcolor": "#E5ECF6",
           "caxis": {
            "gridcolor": "white",
            "linecolor": "white",
            "ticks": ""
           }
          },
          "title": {
           "x": 0.05
          },
          "xaxis": {
           "automargin": true,
           "gridcolor": "white",
           "linecolor": "white",
           "ticks": "",
           "title": {
            "standoff": 15
           },
           "zerolinecolor": "white",
           "zerolinewidth": 2
          },
          "yaxis": {
           "automargin": true,
           "gridcolor": "white",
           "linecolor": "white",
           "ticks": "",
           "title": {
            "standoff": 15
           },
           "zerolinecolor": "white",
           "zerolinewidth": 2
          }
         }
        },
        "title": {
         "text": "Média de Cartões Vermelhos por Clube por Ano"
        },
        "xaxis": {
         "anchor": "y",
         "domain": [
          0,
          1
         ],
         "title": {
          "text": ""
         }
        },
        "yaxis": {
         "anchor": "x",
         "domain": [
          0,
          1
         ],
         "title": {
          "text": "Média de Cartões Vermelhos"
         }
        }
       }
      }
     },
     "metadata": {},
     "output_type": "display_data"
    }
   ],
   "source": [
    "plotar_grafico_de_cartoes(media_colunas_por_anos, \"Cartões Vermelhos\", \"Ano\")"
   ]
  },
  {
   "cell_type": "markdown",
   "metadata": {},
   "source": [
    "<h2>10 - Identificar o time com MAIS GOLS FEITOS em uma edição.</h2>"
   ]
  },
  {
   "cell_type": "code",
   "execution_count": 36,
   "metadata": {},
   "outputs": [
    {
     "data": {
      "text/html": [
       "<div>\n",
       "<style scoped>\n",
       "    .dataframe tbody tr th:only-of-type {\n",
       "        vertical-align: middle;\n",
       "    }\n",
       "\n",
       "    .dataframe tbody tr th {\n",
       "        vertical-align: top;\n",
       "    }\n",
       "\n",
       "    .dataframe thead th {\n",
       "        text-align: right;\n",
       "    }\n",
       "</style>\n",
       "<table border=\"1\" class=\"dataframe\">\n",
       "  <thead>\n",
       "    <tr style=\"text-align: right;\">\n",
       "      <th></th>\n",
       "      <th>Ano</th>\n",
       "      <th>Colocação</th>\n",
       "      <th>Clube</th>\n",
       "      <th>Pontos</th>\n",
       "      <th>Gols Feitos</th>\n",
       "    </tr>\n",
       "  </thead>\n",
       "  <tbody>\n",
       "    <tr>\n",
       "      <th>140</th>\n",
       "      <td>2019</td>\n",
       "      <td>1</td>\n",
       "      <td>Flamengo - RJ</td>\n",
       "      <td>90</td>\n",
       "      <td>86</td>\n",
       "    </tr>\n",
       "  </tbody>\n",
       "</table>\n",
       "</div>"
      ],
      "text/plain": [
       "      Ano  Colocação          Clube  Pontos  Gols Feitos\n",
       "140  2019          1  Flamengo - RJ      90           86"
      ]
     },
     "execution_count": 36,
     "metadata": {},
     "output_type": "execute_result"
    }
   ],
   "source": [
    "df.loc[df['Gols Feitos'] == df['Gols Feitos'].max(), ['Ano', 'Colocação', 'Clube', 'Pontos', 'Gols Feitos']]"
   ]
  },
  {
   "cell_type": "markdown",
   "metadata": {},
   "source": [
    "<h2>10.1 - Identificar o time com MENOS GOLS FEITOS em uma edição.</h2>"
   ]
  },
  {
   "cell_type": "code",
   "execution_count": 37,
   "metadata": {},
   "outputs": [
    {
     "data": {
      "text/html": [
       "<div>\n",
       "<style scoped>\n",
       "    .dataframe tbody tr th:only-of-type {\n",
       "        vertical-align: middle;\n",
       "    }\n",
       "\n",
       "    .dataframe tbody tr th {\n",
       "        vertical-align: top;\n",
       "    }\n",
       "\n",
       "    .dataframe thead th {\n",
       "        text-align: right;\n",
       "    }\n",
       "</style>\n",
       "<table border=\"1\" class=\"dataframe\">\n",
       "  <thead>\n",
       "    <tr style=\"text-align: right;\">\n",
       "      <th></th>\n",
       "      <th>Ano</th>\n",
       "      <th>Colocação</th>\n",
       "      <th>Clube</th>\n",
       "      <th>Pontos</th>\n",
       "      <th>Gols Feitos</th>\n",
       "    </tr>\n",
       "  </thead>\n",
       "  <tbody>\n",
       "    <tr>\n",
       "      <th>139</th>\n",
       "      <td>2018</td>\n",
       "      <td>20</td>\n",
       "      <td>Paraná - PR</td>\n",
       "      <td>23</td>\n",
       "      <td>18</td>\n",
       "    </tr>\n",
       "    <tr>\n",
       "      <th>159</th>\n",
       "      <td>2019</td>\n",
       "      <td>20</td>\n",
       "      <td>Avaí - SC</td>\n",
       "      <td>20</td>\n",
       "      <td>18</td>\n",
       "    </tr>\n",
       "  </tbody>\n",
       "</table>\n",
       "</div>"
      ],
      "text/plain": [
       "      Ano  Colocação        Clube  Pontos  Gols Feitos\n",
       "139  2018         20  Paraná - PR      23           18\n",
       "159  2019         20    Avaí - SC      20           18"
      ]
     },
     "execution_count": 37,
     "metadata": {},
     "output_type": "execute_result"
    }
   ],
   "source": [
    "df.loc[df['Gols Feitos'] == df['Gols Feitos'].min(), ['Ano', 'Colocação', 'Clube', 'Pontos', 'Gols Feitos']]"
   ]
  },
  {
   "cell_type": "markdown",
   "metadata": {},
   "source": [
    "<h2>11 - Identificar o time com MAIS GOLS SOFRIDOS em uma edição</h2>"
   ]
  },
  {
   "cell_type": "code",
   "execution_count": 38,
   "metadata": {},
   "outputs": [
    {
     "data": {
      "text/html": [
       "<div>\n",
       "<style scoped>\n",
       "    .dataframe tbody tr th:only-of-type {\n",
       "        vertical-align: middle;\n",
       "    }\n",
       "\n",
       "    .dataframe tbody tr th {\n",
       "        vertical-align: top;\n",
       "    }\n",
       "\n",
       "    .dataframe thead th {\n",
       "        text-align: right;\n",
       "    }\n",
       "</style>\n",
       "<table border=\"1\" class=\"dataframe\">\n",
       "  <thead>\n",
       "    <tr style=\"text-align: right;\">\n",
       "      <th></th>\n",
       "      <th>Ano</th>\n",
       "      <th>Colocação</th>\n",
       "      <th>Clube</th>\n",
       "      <th>Pontos</th>\n",
       "      <th>Gols Sofridos</th>\n",
       "    </tr>\n",
       "  </thead>\n",
       "  <tbody>\n",
       "    <tr>\n",
       "      <th>239</th>\n",
       "      <td>2023</td>\n",
       "      <td>20</td>\n",
       "      <td>América - MG</td>\n",
       "      <td>24</td>\n",
       "      <td>81</td>\n",
       "    </tr>\n",
       "  </tbody>\n",
       "</table>\n",
       "</div>"
      ],
      "text/plain": [
       "      Ano  Colocação         Clube  Pontos  Gols Sofridos\n",
       "239  2023         20  América - MG      24             81"
      ]
     },
     "execution_count": 38,
     "metadata": {},
     "output_type": "execute_result"
    }
   ],
   "source": [
    "df.loc[df['Gols Sofridos'] == df['Gols Sofridos'].max(), ['Ano', 'Colocação', 'Clube', 'Pontos', 'Gols Sofridos']]"
   ]
  },
  {
   "cell_type": "markdown",
   "metadata": {},
   "source": [
    "<h2>11.1 - Identificar o time com MENOS GOLS SOFRIDOS em uma edição</h2>"
   ]
  },
  {
   "cell_type": "code",
   "execution_count": 39,
   "metadata": {},
   "outputs": [
    {
     "data": {
      "text/html": [
       "<div>\n",
       "<style scoped>\n",
       "    .dataframe tbody tr th:only-of-type {\n",
       "        vertical-align: middle;\n",
       "    }\n",
       "\n",
       "    .dataframe tbody tr th {\n",
       "        vertical-align: top;\n",
       "    }\n",
       "\n",
       "    .dataframe thead th {\n",
       "        text-align: right;\n",
       "    }\n",
       "</style>\n",
       "<table border=\"1\" class=\"dataframe\">\n",
       "  <thead>\n",
       "    <tr style=\"text-align: right;\">\n",
       "      <th></th>\n",
       "      <th>Ano</th>\n",
       "      <th>Colocação</th>\n",
       "      <th>Clube</th>\n",
       "      <th>Pontos</th>\n",
       "      <th>Gols Sofridos</th>\n",
       "    </tr>\n",
       "  </thead>\n",
       "  <tbody>\n",
       "    <tr>\n",
       "      <th>29</th>\n",
       "      <td>2013</td>\n",
       "      <td>10</td>\n",
       "      <td>Corinthians - SP</td>\n",
       "      <td>50</td>\n",
       "      <td>22</td>\n",
       "    </tr>\n",
       "  </tbody>\n",
       "</table>\n",
       "</div>"
      ],
      "text/plain": [
       "     Ano  Colocação             Clube  Pontos  Gols Sofridos\n",
       "29  2013         10  Corinthians - SP      50             22"
      ]
     },
     "execution_count": 39,
     "metadata": {},
     "output_type": "execute_result"
    }
   ],
   "source": [
    "df.loc[df['Gols Sofridos'] == df['Gols Sofridos'].min(), ['Ano', 'Colocação', 'Clube', 'Pontos', 'Gols Sofridos']]"
   ]
  },
  {
   "cell_type": "markdown",
   "metadata": {},
   "source": [
    "<h2>12 - Identificar o time com o MAIOR SALDO DE GOLS em uma edição</h2>"
   ]
  },
  {
   "cell_type": "code",
   "execution_count": 40,
   "metadata": {},
   "outputs": [
    {
     "data": {
      "text/html": [
       "<div>\n",
       "<style scoped>\n",
       "    .dataframe tbody tr th:only-of-type {\n",
       "        vertical-align: middle;\n",
       "    }\n",
       "\n",
       "    .dataframe tbody tr th {\n",
       "        vertical-align: top;\n",
       "    }\n",
       "\n",
       "    .dataframe thead th {\n",
       "        text-align: right;\n",
       "    }\n",
       "</style>\n",
       "<table border=\"1\" class=\"dataframe\">\n",
       "  <thead>\n",
       "    <tr style=\"text-align: right;\">\n",
       "      <th></th>\n",
       "      <th>Ano</th>\n",
       "      <th>Colocação</th>\n",
       "      <th>Clube</th>\n",
       "      <th>Pontos</th>\n",
       "      <th>Saldos de Gols</th>\n",
       "    </tr>\n",
       "  </thead>\n",
       "  <tbody>\n",
       "    <tr>\n",
       "      <th>140</th>\n",
       "      <td>2019</td>\n",
       "      <td>1</td>\n",
       "      <td>Flamengo - RJ</td>\n",
       "      <td>90</td>\n",
       "      <td>49</td>\n",
       "    </tr>\n",
       "  </tbody>\n",
       "</table>\n",
       "</div>"
      ],
      "text/plain": [
       "      Ano  Colocação          Clube  Pontos  Saldos de Gols\n",
       "140  2019          1  Flamengo - RJ      90              49"
      ]
     },
     "execution_count": 40,
     "metadata": {},
     "output_type": "execute_result"
    }
   ],
   "source": [
    "df.loc[df['Saldos de Gols'] == df['Saldos de Gols'].max(), ['Ano', 'Colocação', 'Clube', 'Pontos', 'Saldos de Gols']]"
   ]
  },
  {
   "cell_type": "markdown",
   "metadata": {},
   "source": [
    "<h2>12.1 - Identificar o time com o MENOR SALDO DE GOLS em uma edição</h2>"
   ]
  },
  {
   "cell_type": "code",
   "execution_count": 41,
   "metadata": {},
   "outputs": [
    {
     "data": {
      "text/html": [
       "<div>\n",
       "<style scoped>\n",
       "    .dataframe tbody tr th:only-of-type {\n",
       "        vertical-align: middle;\n",
       "    }\n",
       "\n",
       "    .dataframe tbody tr th {\n",
       "        vertical-align: top;\n",
       "    }\n",
       "\n",
       "    .dataframe thead th {\n",
       "        text-align: right;\n",
       "    }\n",
       "</style>\n",
       "<table border=\"1\" class=\"dataframe\">\n",
       "  <thead>\n",
       "    <tr style=\"text-align: right;\">\n",
       "      <th></th>\n",
       "      <th>Ano</th>\n",
       "      <th>Colocação</th>\n",
       "      <th>Clube</th>\n",
       "      <th>Pontos</th>\n",
       "      <th>Saldos de Gols</th>\n",
       "    </tr>\n",
       "  </thead>\n",
       "  <tbody>\n",
       "    <tr>\n",
       "      <th>39</th>\n",
       "      <td>2013</td>\n",
       "      <td>20</td>\n",
       "      <td>Náutico - PE</td>\n",
       "      <td>20</td>\n",
       "      <td>-57</td>\n",
       "    </tr>\n",
       "  </tbody>\n",
       "</table>\n",
       "</div>"
      ],
      "text/plain": [
       "     Ano  Colocação         Clube  Pontos  Saldos de Gols\n",
       "39  2013         20  Náutico - PE      20             -57"
      ]
     },
     "execution_count": 41,
     "metadata": {},
     "output_type": "execute_result"
    }
   ],
   "source": [
    "df.loc[df['Saldos de Gols'] == df['Saldos de Gols'].min(), ['Ano', 'Colocação', 'Clube', 'Pontos', 'Saldos de Gols']]"
   ]
  },
  {
   "cell_type": "markdown",
   "metadata": {},
   "source": [
    "<h2>13 - Identificar OS TIMES que MAIS FIZERAM GOLS no TOTAL.</h2>"
   ]
  },
  {
   "cell_type": "code",
   "execution_count": 42,
   "metadata": {},
   "outputs": [
    {
     "data": {
      "text/html": [
       "<div>\n",
       "<style scoped>\n",
       "    .dataframe tbody tr th:only-of-type {\n",
       "        vertical-align: middle;\n",
       "    }\n",
       "\n",
       "    .dataframe tbody tr th {\n",
       "        vertical-align: top;\n",
       "    }\n",
       "\n",
       "    .dataframe thead th {\n",
       "        text-align: right;\n",
       "    }\n",
       "</style>\n",
       "<table border=\"1\" class=\"dataframe\">\n",
       "  <thead>\n",
       "    <tr style=\"text-align: right;\">\n",
       "      <th></th>\n",
       "      <th>Pontos</th>\n",
       "      <th>Vitórias</th>\n",
       "      <th>Empates</th>\n",
       "      <th>Derrotas</th>\n",
       "      <th>Gols Feitos</th>\n",
       "      <th>Gols Sofridos</th>\n",
       "      <th>Saldos de Gols</th>\n",
       "      <th>Cartões Amarelos</th>\n",
       "      <th>Cartões Vermelhos</th>\n",
       "    </tr>\n",
       "    <tr>\n",
       "      <th>Clube</th>\n",
       "      <th></th>\n",
       "      <th></th>\n",
       "      <th></th>\n",
       "      <th></th>\n",
       "      <th></th>\n",
       "      <th></th>\n",
       "      <th></th>\n",
       "      <th></th>\n",
       "      <th></th>\n",
       "    </tr>\n",
       "  </thead>\n",
       "  <tbody>\n",
       "    <tr>\n",
       "      <th>Flamengo - RJ</th>\n",
       "      <td>755</td>\n",
       "      <td>216</td>\n",
       "      <td>111</td>\n",
       "      <td>129</td>\n",
       "      <td>672</td>\n",
       "      <td>496</td>\n",
       "      <td>176</td>\n",
       "      <td>950</td>\n",
       "      <td>58</td>\n",
       "    </tr>\n",
       "    <tr>\n",
       "      <th>Atlético Mineiro - MG</th>\n",
       "      <td>759</td>\n",
       "      <td>214</td>\n",
       "      <td>117</td>\n",
       "      <td>125</td>\n",
       "      <td>670</td>\n",
       "      <td>502</td>\n",
       "      <td>168</td>\n",
       "      <td>1066</td>\n",
       "      <td>60</td>\n",
       "    </tr>\n",
       "    <tr>\n",
       "      <th>Palmeiras - SP</th>\n",
       "      <td>699</td>\n",
       "      <td>200</td>\n",
       "      <td>99</td>\n",
       "      <td>119</td>\n",
       "      <td>620</td>\n",
       "      <td>439</td>\n",
       "      <td>181</td>\n",
       "      <td>1035</td>\n",
       "      <td>61</td>\n",
       "    </tr>\n",
       "    <tr>\n",
       "      <th>Santos - SP</th>\n",
       "      <td>673</td>\n",
       "      <td>182</td>\n",
       "      <td>127</td>\n",
       "      <td>147</td>\n",
       "      <td>579</td>\n",
       "      <td>494</td>\n",
       "      <td>85</td>\n",
       "      <td>1072</td>\n",
       "      <td>69</td>\n",
       "    </tr>\n",
       "    <tr>\n",
       "      <th>Fluminense - RJ</th>\n",
       "      <td>663</td>\n",
       "      <td>183</td>\n",
       "      <td>114</td>\n",
       "      <td>159</td>\n",
       "      <td>577</td>\n",
       "      <td>529</td>\n",
       "      <td>48</td>\n",
       "      <td>1085</td>\n",
       "      <td>82</td>\n",
       "    </tr>\n",
       "  </tbody>\n",
       "</table>\n",
       "</div>"
      ],
      "text/plain": [
       "                       Pontos  Vitórias  Empates  Derrotas  Gols Feitos  \\\n",
       "Clube                                                                     \n",
       "Flamengo - RJ             755       216      111       129          672   \n",
       "Atlético Mineiro - MG     759       214      117       125          670   \n",
       "Palmeiras - SP            699       200       99       119          620   \n",
       "Santos - SP               673       182      127       147          579   \n",
       "Fluminense - RJ           663       183      114       159          577   \n",
       "\n",
       "                       Gols Sofridos  Saldos de Gols  Cartões Amarelos  \\\n",
       "Clube                                                                    \n",
       "Flamengo - RJ                    496             176               950   \n",
       "Atlético Mineiro - MG            502             168              1066   \n",
       "Palmeiras - SP                   439             181              1035   \n",
       "Santos - SP                      494              85              1072   \n",
       "Fluminense - RJ                  529              48              1085   \n",
       "\n",
       "                       Cartões Vermelhos  \n",
       "Clube                                     \n",
       "Flamengo - RJ                         58  \n",
       "Atlético Mineiro - MG                 60  \n",
       "Palmeiras - SP                        61  \n",
       "Santos - SP                           69  \n",
       "Fluminense - RJ                       82  "
      ]
     },
     "execution_count": 42,
     "metadata": {},
     "output_type": "execute_result"
    }
   ],
   "source": [
    "soma_colunas_por_time.sort_values('Gols Feitos', ascending=False).head()"
   ]
  },
  {
   "cell_type": "markdown",
   "metadata": {},
   "source": [
    "<h2>14 - Identificar OS TIMES que MAIS SOFRERAM GOLS no TOTAL.</h2>"
   ]
  },
  {
   "cell_type": "code",
   "execution_count": 43,
   "metadata": {},
   "outputs": [
    {
     "data": {
      "text/html": [
       "<div>\n",
       "<style scoped>\n",
       "    .dataframe tbody tr th:only-of-type {\n",
       "        vertical-align: middle;\n",
       "    }\n",
       "\n",
       "    .dataframe tbody tr th {\n",
       "        vertical-align: top;\n",
       "    }\n",
       "\n",
       "    .dataframe thead th {\n",
       "        text-align: right;\n",
       "    }\n",
       "</style>\n",
       "<table border=\"1\" class=\"dataframe\">\n",
       "  <thead>\n",
       "    <tr style=\"text-align: right;\">\n",
       "      <th></th>\n",
       "      <th>Pontos</th>\n",
       "      <th>Vitórias</th>\n",
       "      <th>Empates</th>\n",
       "      <th>Derrotas</th>\n",
       "      <th>Gols Feitos</th>\n",
       "      <th>Gols Sofridos</th>\n",
       "      <th>Saldos de Gols</th>\n",
       "      <th>Cartões Amarelos</th>\n",
       "      <th>Cartões Vermelhos</th>\n",
       "    </tr>\n",
       "    <tr>\n",
       "      <th>Clube</th>\n",
       "      <th></th>\n",
       "      <th></th>\n",
       "      <th></th>\n",
       "      <th></th>\n",
       "      <th></th>\n",
       "      <th></th>\n",
       "      <th></th>\n",
       "      <th></th>\n",
       "      <th></th>\n",
       "    </tr>\n",
       "  </thead>\n",
       "  <tbody>\n",
       "    <tr>\n",
       "      <th>Fluminense - RJ</th>\n",
       "      <td>663</td>\n",
       "      <td>183</td>\n",
       "      <td>114</td>\n",
       "      <td>159</td>\n",
       "      <td>577</td>\n",
       "      <td>529</td>\n",
       "      <td>48</td>\n",
       "      <td>1085</td>\n",
       "      <td>82</td>\n",
       "    </tr>\n",
       "    <tr>\n",
       "      <th>Atlético Mineiro - MG</th>\n",
       "      <td>759</td>\n",
       "      <td>214</td>\n",
       "      <td>117</td>\n",
       "      <td>125</td>\n",
       "      <td>670</td>\n",
       "      <td>502</td>\n",
       "      <td>168</td>\n",
       "      <td>1066</td>\n",
       "      <td>60</td>\n",
       "    </tr>\n",
       "    <tr>\n",
       "      <th>Flamengo - RJ</th>\n",
       "      <td>755</td>\n",
       "      <td>216</td>\n",
       "      <td>111</td>\n",
       "      <td>129</td>\n",
       "      <td>672</td>\n",
       "      <td>496</td>\n",
       "      <td>176</td>\n",
       "      <td>950</td>\n",
       "      <td>58</td>\n",
       "    </tr>\n",
       "    <tr>\n",
       "      <th>Santos - SP</th>\n",
       "      <td>673</td>\n",
       "      <td>182</td>\n",
       "      <td>127</td>\n",
       "      <td>147</td>\n",
       "      <td>579</td>\n",
       "      <td>494</td>\n",
       "      <td>85</td>\n",
       "      <td>1072</td>\n",
       "      <td>69</td>\n",
       "    </tr>\n",
       "    <tr>\n",
       "      <th>São Paulo - SP</th>\n",
       "      <td>697</td>\n",
       "      <td>188</td>\n",
       "      <td>133</td>\n",
       "      <td>135</td>\n",
       "      <td>572</td>\n",
       "      <td>473</td>\n",
       "      <td>99</td>\n",
       "      <td>1092</td>\n",
       "      <td>72</td>\n",
       "    </tr>\n",
       "  </tbody>\n",
       "</table>\n",
       "</div>"
      ],
      "text/plain": [
       "                       Pontos  Vitórias  Empates  Derrotas  Gols Feitos  \\\n",
       "Clube                                                                     \n",
       "Fluminense - RJ           663       183      114       159          577   \n",
       "Atlético Mineiro - MG     759       214      117       125          670   \n",
       "Flamengo - RJ             755       216      111       129          672   \n",
       "Santos - SP               673       182      127       147          579   \n",
       "São Paulo - SP            697       188      133       135          572   \n",
       "\n",
       "                       Gols Sofridos  Saldos de Gols  Cartões Amarelos  \\\n",
       "Clube                                                                    \n",
       "Fluminense - RJ                  529              48              1085   \n",
       "Atlético Mineiro - MG            502             168              1066   \n",
       "Flamengo - RJ                    496             176               950   \n",
       "Santos - SP                      494              85              1072   \n",
       "São Paulo - SP                   473              99              1092   \n",
       "\n",
       "                       Cartões Vermelhos  \n",
       "Clube                                     \n",
       "Fluminense - RJ                       82  \n",
       "Atlético Mineiro - MG                 60  \n",
       "Flamengo - RJ                         58  \n",
       "Santos - SP                           69  \n",
       "São Paulo - SP                        72  "
      ]
     },
     "execution_count": 43,
     "metadata": {},
     "output_type": "execute_result"
    }
   ],
   "source": [
    "soma_colunas_por_time.sort_values('Gols Sofridos', ascending=False).head()"
   ]
  },
  {
   "cell_type": "markdown",
   "metadata": {},
   "source": [
    "Nos cálculos de média a seguir, assim como nos anteriores, apenas serão consideradas equipes que jogaram, pelo menos, 3 vezes o campeonato."
   ]
  },
  {
   "cell_type": "markdown",
   "metadata": {},
   "source": [
    "<h2>15 - Identificar OS TIMES que MAIS FAZEM GOLS na MÉDIA.</h2>"
   ]
  },
  {
   "cell_type": "code",
   "execution_count": 44,
   "metadata": {},
   "outputs": [
    {
     "data": {
      "text/html": [
       "<div>\n",
       "<style scoped>\n",
       "    .dataframe tbody tr th:only-of-type {\n",
       "        vertical-align: middle;\n",
       "    }\n",
       "\n",
       "    .dataframe tbody tr th {\n",
       "        vertical-align: top;\n",
       "    }\n",
       "\n",
       "    .dataframe thead th {\n",
       "        text-align: right;\n",
       "    }\n",
       "</style>\n",
       "<table border=\"1\" class=\"dataframe\">\n",
       "  <thead>\n",
       "    <tr style=\"text-align: right;\">\n",
       "      <th></th>\n",
       "      <th>Colocação</th>\n",
       "      <th>Pontos</th>\n",
       "      <th>Vitórias</th>\n",
       "      <th>Empates</th>\n",
       "      <th>Derrotas</th>\n",
       "      <th>Gols Feitos</th>\n",
       "      <th>Gols Sofridos</th>\n",
       "      <th>Saldos de Gols</th>\n",
       "      <th>Cartões Amarelos</th>\n",
       "      <th>Cartões Vermelhos</th>\n",
       "      <th>Aproveitamento (%)</th>\n",
       "    </tr>\n",
       "    <tr>\n",
       "      <th>Clube</th>\n",
       "      <th></th>\n",
       "      <th></th>\n",
       "      <th></th>\n",
       "      <th></th>\n",
       "      <th></th>\n",
       "      <th></th>\n",
       "      <th></th>\n",
       "      <th></th>\n",
       "      <th></th>\n",
       "      <th></th>\n",
       "      <th></th>\n",
       "    </tr>\n",
       "  </thead>\n",
       "  <tbody>\n",
       "    <tr>\n",
       "      <th>Palmeiras - SP</th>\n",
       "      <td>5.6</td>\n",
       "      <td>63.5</td>\n",
       "      <td>18.2</td>\n",
       "      <td>9.0</td>\n",
       "      <td>10.8</td>\n",
       "      <td>56.4</td>\n",
       "      <td>39.9</td>\n",
       "      <td>16.5</td>\n",
       "      <td>94.1</td>\n",
       "      <td>5.5</td>\n",
       "      <td>55.3</td>\n",
       "    </tr>\n",
       "    <tr>\n",
       "      <th>Flamengo - RJ</th>\n",
       "      <td>6.1</td>\n",
       "      <td>62.9</td>\n",
       "      <td>18.0</td>\n",
       "      <td>9.2</td>\n",
       "      <td>10.8</td>\n",
       "      <td>56.0</td>\n",
       "      <td>41.3</td>\n",
       "      <td>14.7</td>\n",
       "      <td>79.2</td>\n",
       "      <td>4.8</td>\n",
       "      <td>54.7</td>\n",
       "    </tr>\n",
       "    <tr>\n",
       "      <th>Atlético Mineiro - MG</th>\n",
       "      <td>5.2</td>\n",
       "      <td>63.2</td>\n",
       "      <td>17.8</td>\n",
       "      <td>9.8</td>\n",
       "      <td>10.4</td>\n",
       "      <td>55.8</td>\n",
       "      <td>41.8</td>\n",
       "      <td>14.0</td>\n",
       "      <td>88.8</td>\n",
       "      <td>5.0</td>\n",
       "      <td>55.1</td>\n",
       "    </tr>\n",
       "    <tr>\n",
       "      <th>Red Bull Bragantino - SP</th>\n",
       "      <td>9.0</td>\n",
       "      <td>53.8</td>\n",
       "      <td>13.8</td>\n",
       "      <td>12.5</td>\n",
       "      <td>11.8</td>\n",
       "      <td>50.8</td>\n",
       "      <td>45.0</td>\n",
       "      <td>5.8</td>\n",
       "      <td>94.8</td>\n",
       "      <td>5.2</td>\n",
       "      <td>46.8</td>\n",
       "    </tr>\n",
       "    <tr>\n",
       "      <th>Grêmio - RS</th>\n",
       "      <td>5.5</td>\n",
       "      <td>61.9</td>\n",
       "      <td>17.4</td>\n",
       "      <td>9.8</td>\n",
       "      <td>10.8</td>\n",
       "      <td>50.4</td>\n",
       "      <td>37.9</td>\n",
       "      <td>12.5</td>\n",
       "      <td>88.5</td>\n",
       "      <td>4.7</td>\n",
       "      <td>53.8</td>\n",
       "    </tr>\n",
       "  </tbody>\n",
       "</table>\n",
       "</div>"
      ],
      "text/plain": [
       "                          Colocação  Pontos  Vitórias  Empates  Derrotas  \\\n",
       "Clube                                                                      \n",
       "Palmeiras - SP                  5.6    63.5      18.2      9.0      10.8   \n",
       "Flamengo - RJ                   6.1    62.9      18.0      9.2      10.8   \n",
       "Atlético Mineiro - MG           5.2    63.2      17.8      9.8      10.4   \n",
       "Red Bull Bragantino - SP        9.0    53.8      13.8     12.5      11.8   \n",
       "Grêmio - RS                     5.5    61.9      17.4      9.8      10.8   \n",
       "\n",
       "                          Gols Feitos  Gols Sofridos  Saldos de Gols  \\\n",
       "Clube                                                                  \n",
       "Palmeiras - SP                   56.4           39.9            16.5   \n",
       "Flamengo - RJ                    56.0           41.3            14.7   \n",
       "Atlético Mineiro - MG            55.8           41.8            14.0   \n",
       "Red Bull Bragantino - SP         50.8           45.0             5.8   \n",
       "Grêmio - RS                      50.4           37.9            12.5   \n",
       "\n",
       "                          Cartões Amarelos  Cartões Vermelhos  \\\n",
       "Clube                                                           \n",
       "Palmeiras - SP                        94.1                5.5   \n",
       "Flamengo - RJ                         79.2                4.8   \n",
       "Atlético Mineiro - MG                 88.8                5.0   \n",
       "Red Bull Bragantino - SP              94.8                5.2   \n",
       "Grêmio - RS                           88.5                4.7   \n",
       "\n",
       "                          Aproveitamento (%)  \n",
       "Clube                                         \n",
       "Palmeiras - SP                          55.3  \n",
       "Flamengo - RJ                           54.7  \n",
       "Atlético Mineiro - MG                   55.1  \n",
       "Red Bull Bragantino - SP                46.8  \n",
       "Grêmio - RS                             53.8  "
      ]
     },
     "execution_count": 44,
     "metadata": {},
     "output_type": "execute_result"
    }
   ],
   "source": [
    "media_com_filtro.sort_values('Gols Feitos', ascending=False).head()"
   ]
  },
  {
   "cell_type": "markdown",
   "metadata": {},
   "source": [
    "<h2>15.1 - Identificar OS TIMES que MENOS FAZEM GOLS na MÉDIA.</h2>"
   ]
  },
  {
   "cell_type": "code",
   "execution_count": 45,
   "metadata": {},
   "outputs": [
    {
     "data": {
      "text/html": [
       "<div>\n",
       "<style scoped>\n",
       "    .dataframe tbody tr th:only-of-type {\n",
       "        vertical-align: middle;\n",
       "    }\n",
       "\n",
       "    .dataframe tbody tr th {\n",
       "        vertical-align: top;\n",
       "    }\n",
       "\n",
       "    .dataframe thead th {\n",
       "        text-align: right;\n",
       "    }\n",
       "</style>\n",
       "<table border=\"1\" class=\"dataframe\">\n",
       "  <thead>\n",
       "    <tr style=\"text-align: right;\">\n",
       "      <th></th>\n",
       "      <th>Colocação</th>\n",
       "      <th>Pontos</th>\n",
       "      <th>Vitórias</th>\n",
       "      <th>Empates</th>\n",
       "      <th>Derrotas</th>\n",
       "      <th>Gols Feitos</th>\n",
       "      <th>Gols Sofridos</th>\n",
       "      <th>Saldos de Gols</th>\n",
       "      <th>Cartões Amarelos</th>\n",
       "      <th>Cartões Vermelhos</th>\n",
       "      <th>Aproveitamento (%)</th>\n",
       "    </tr>\n",
       "    <tr>\n",
       "      <th>Clube</th>\n",
       "      <th></th>\n",
       "      <th></th>\n",
       "      <th></th>\n",
       "      <th></th>\n",
       "      <th></th>\n",
       "      <th></th>\n",
       "      <th></th>\n",
       "      <th></th>\n",
       "      <th></th>\n",
       "      <th></th>\n",
       "      <th></th>\n",
       "    </tr>\n",
       "  </thead>\n",
       "  <tbody>\n",
       "    <tr>\n",
       "      <th>Avaí - SC</th>\n",
       "      <td>18.5</td>\n",
       "      <td>35.0</td>\n",
       "      <td>8.2</td>\n",
       "      <td>10.2</td>\n",
       "      <td>19.5</td>\n",
       "      <td>29.8</td>\n",
       "      <td>57.5</td>\n",
       "      <td>-27.8</td>\n",
       "      <td>95.5</td>\n",
       "      <td>5.5</td>\n",
       "      <td>30.0</td>\n",
       "    </tr>\n",
       "    <tr>\n",
       "      <th>Cuiabá - MT</th>\n",
       "      <td>14.3</td>\n",
       "      <td>46.3</td>\n",
       "      <td>11.3</td>\n",
       "      <td>12.3</td>\n",
       "      <td>14.3</td>\n",
       "      <td>35.0</td>\n",
       "      <td>39.3</td>\n",
       "      <td>-4.3</td>\n",
       "      <td>89.3</td>\n",
       "      <td>7.3</td>\n",
       "      <td>40.0</td>\n",
       "    </tr>\n",
       "    <tr>\n",
       "      <th>América - MG</th>\n",
       "      <td>15.0</td>\n",
       "      <td>39.6</td>\n",
       "      <td>10.0</td>\n",
       "      <td>9.6</td>\n",
       "      <td>18.4</td>\n",
       "      <td>35.2</td>\n",
       "      <td>52.6</td>\n",
       "      <td>-17.4</td>\n",
       "      <td>78.0</td>\n",
       "      <td>5.8</td>\n",
       "      <td>34.4</td>\n",
       "    </tr>\n",
       "    <tr>\n",
       "      <th>Figueirense - SC</th>\n",
       "      <td>16.8</td>\n",
       "      <td>39.2</td>\n",
       "      <td>9.8</td>\n",
       "      <td>10.0</td>\n",
       "      <td>18.2</td>\n",
       "      <td>35.5</td>\n",
       "      <td>54.8</td>\n",
       "      <td>-19.2</td>\n",
       "      <td>96.0</td>\n",
       "      <td>8.0</td>\n",
       "      <td>34.0</td>\n",
       "    </tr>\n",
       "    <tr>\n",
       "      <th>Chapecoense - SC</th>\n",
       "      <td>14.4</td>\n",
       "      <td>41.0</td>\n",
       "      <td>10.0</td>\n",
       "      <td>11.0</td>\n",
       "      <td>17.0</td>\n",
       "      <td>37.3</td>\n",
       "      <td>51.7</td>\n",
       "      <td>-14.4</td>\n",
       "      <td>80.9</td>\n",
       "      <td>4.0</td>\n",
       "      <td>35.7</td>\n",
       "    </tr>\n",
       "  </tbody>\n",
       "</table>\n",
       "</div>"
      ],
      "text/plain": [
       "                  Colocação  Pontos  Vitórias  Empates  Derrotas  Gols Feitos  \\\n",
       "Clube                                                                           \n",
       "Avaí - SC              18.5    35.0       8.2     10.2      19.5         29.8   \n",
       "Cuiabá - MT            14.3    46.3      11.3     12.3      14.3         35.0   \n",
       "América - MG           15.0    39.6      10.0      9.6      18.4         35.2   \n",
       "Figueirense - SC       16.8    39.2       9.8     10.0      18.2         35.5   \n",
       "Chapecoense - SC       14.4    41.0      10.0     11.0      17.0         37.3   \n",
       "\n",
       "                  Gols Sofridos  Saldos de Gols  Cartões Amarelos  \\\n",
       "Clube                                                               \n",
       "Avaí - SC                  57.5           -27.8              95.5   \n",
       "Cuiabá - MT                39.3            -4.3              89.3   \n",
       "América - MG               52.6           -17.4              78.0   \n",
       "Figueirense - SC           54.8           -19.2              96.0   \n",
       "Chapecoense - SC           51.7           -14.4              80.9   \n",
       "\n",
       "                  Cartões Vermelhos  Aproveitamento (%)  \n",
       "Clube                                                    \n",
       "Avaí - SC                       5.5                30.0  \n",
       "Cuiabá - MT                     7.3                40.0  \n",
       "América - MG                    5.8                34.4  \n",
       "Figueirense - SC                8.0                34.0  \n",
       "Chapecoense - SC                4.0                35.7  "
      ]
     },
     "execution_count": 45,
     "metadata": {},
     "output_type": "execute_result"
    }
   ],
   "source": [
    "media_com_filtro.sort_values('Gols Feitos').head()"
   ]
  },
  {
   "cell_type": "code",
   "execution_count": 46,
   "metadata": {},
   "outputs": [
    {
     "data": {
      "application/vnd.plotly.v1+json": {
       "config": {
        "plotlyServerURL": "https://plot.ly"
       },
       "data": [
        {
         "alignmentgroup": "True",
         "hovertemplate": "Clube=%{x}<br>Gols Feitos=%{y}<extra></extra>",
         "legendgroup": "América - MG",
         "marker": {
          "color": "#636efa",
          "pattern": {
           "shape": ""
          }
         },
         "name": "América - MG",
         "offsetgroup": "América - MG",
         "orientation": "v",
         "showlegend": true,
         "textposition": "auto",
         "type": "bar",
         "x": [
          "América - MG"
         ],
         "xaxis": "x",
         "y": [
          35.2
         ],
         "yaxis": "y"
        },
        {
         "alignmentgroup": "True",
         "hovertemplate": "Clube=%{x}<br>Gols Feitos=%{y}<extra></extra>",
         "legendgroup": "Athletico Paranaense - PR",
         "marker": {
          "color": "#EF553B",
          "pattern": {
           "shape": ""
          }
         },
         "name": "Athletico Paranaense - PR",
         "offsetgroup": "Athletico Paranaense - PR",
         "orientation": "v",
         "showlegend": true,
         "textposition": "auto",
         "type": "bar",
         "x": [
          "Athletico Paranaense - PR"
         ],
         "xaxis": "x",
         "y": [
          47
         ],
         "yaxis": "y"
        },
        {
         "alignmentgroup": "True",
         "hovertemplate": "Clube=%{x}<br>Gols Feitos=%{y}<extra></extra>",
         "legendgroup": "Atlético Goianiense - GO",
         "marker": {
          "color": "#00cc96",
          "pattern": {
           "shape": ""
          }
         },
         "name": "Atlético Goianiense - GO",
         "offsetgroup": "Atlético Goianiense - GO",
         "orientation": "v",
         "showlegend": true,
         "textposition": "auto",
         "type": "bar",
         "x": [
          "Atlético Goianiense - GO"
         ],
         "xaxis": "x",
         "y": [
          37.4
         ],
         "yaxis": "y"
        },
        {
         "alignmentgroup": "True",
         "hovertemplate": "Clube=%{x}<br>Gols Feitos=%{y}<extra></extra>",
         "legendgroup": "Atlético Mineiro - MG",
         "marker": {
          "color": "#ab63fa",
          "pattern": {
           "shape": ""
          }
         },
         "name": "Atlético Mineiro - MG",
         "offsetgroup": "Atlético Mineiro - MG",
         "orientation": "v",
         "showlegend": true,
         "textposition": "auto",
         "type": "bar",
         "x": [
          "Atlético Mineiro - MG"
         ],
         "xaxis": "x",
         "y": [
          55.8
         ],
         "yaxis": "y"
        },
        {
         "alignmentgroup": "True",
         "hovertemplate": "Clube=%{x}<br>Gols Feitos=%{y}<extra></extra>",
         "legendgroup": "Avaí - SC",
         "marker": {
          "color": "#FFA15A",
          "pattern": {
           "shape": ""
          }
         },
         "name": "Avaí - SC",
         "offsetgroup": "Avaí - SC",
         "orientation": "v",
         "showlegend": true,
         "textposition": "auto",
         "type": "bar",
         "x": [
          "Avaí - SC"
         ],
         "xaxis": "x",
         "y": [
          29.8
         ],
         "yaxis": "y"
        },
        {
         "alignmentgroup": "True",
         "hovertemplate": "Clube=%{x}<br>Gols Feitos=%{y}<extra></extra>",
         "legendgroup": "Bahia - BA",
         "marker": {
          "color": "#19d3f3",
          "pattern": {
           "shape": ""
          }
         },
         "name": "Bahia - BA",
         "offsetgroup": "Bahia - BA",
         "orientation": "v",
         "showlegend": true,
         "textposition": "auto",
         "type": "bar",
         "x": [
          "Bahia - BA"
         ],
         "xaxis": "x",
         "y": [
          42
         ],
         "yaxis": "y"
        },
        {
         "alignmentgroup": "True",
         "hovertemplate": "Clube=%{x}<br>Gols Feitos=%{y}<extra></extra>",
         "legendgroup": "Botafogo - RJ",
         "marker": {
          "color": "#FF6692",
          "pattern": {
           "shape": ""
          }
         },
         "name": "Botafogo - RJ",
         "offsetgroup": "Botafogo - RJ",
         "orientation": "v",
         "showlegend": true,
         "textposition": "auto",
         "type": "bar",
         "x": [
          "Botafogo - RJ"
         ],
         "xaxis": "x",
         "y": [
          43.4
         ],
         "yaxis": "y"
        },
        {
         "alignmentgroup": "True",
         "hovertemplate": "Clube=%{x}<br>Gols Feitos=%{y}<extra></extra>",
         "legendgroup": "Ceará - CE",
         "marker": {
          "color": "#B6E880",
          "pattern": {
           "shape": ""
          }
         },
         "name": "Ceará - CE",
         "offsetgroup": "Ceará - CE",
         "orientation": "v",
         "showlegend": true,
         "textposition": "auto",
         "type": "bar",
         "x": [
          "Ceará - CE"
         ],
         "xaxis": "x",
         "y": [
          39
         ],
         "yaxis": "y"
        },
        {
         "alignmentgroup": "True",
         "hovertemplate": "Clube=%{x}<br>Gols Feitos=%{y}<extra></extra>",
         "legendgroup": "Chapecoense - SC",
         "marker": {
          "color": "#FF97FF",
          "pattern": {
           "shape": ""
          }
         },
         "name": "Chapecoense - SC",
         "offsetgroup": "Chapecoense - SC",
         "orientation": "v",
         "showlegend": true,
         "textposition": "auto",
         "type": "bar",
         "x": [
          "Chapecoense - SC"
         ],
         "xaxis": "x",
         "y": [
          37.3
         ],
         "yaxis": "y"
        },
        {
         "alignmentgroup": "True",
         "hovertemplate": "Clube=%{x}<br>Gols Feitos=%{y}<extra></extra>",
         "legendgroup": "Corinthians - SP",
         "marker": {
          "color": "#FECB52",
          "pattern": {
           "shape": ""
          }
         },
         "name": "Corinthians - SP",
         "offsetgroup": "Corinthians - SP",
         "orientation": "v",
         "showlegend": true,
         "textposition": "auto",
         "type": "bar",
         "x": [
          "Corinthians - SP"
         ],
         "xaxis": "x",
         "y": [
          45.7
         ],
         "yaxis": "y"
        },
        {
         "alignmentgroup": "True",
         "hovertemplate": "Clube=%{x}<br>Gols Feitos=%{y}<extra></extra>",
         "legendgroup": "Coritiba - PR",
         "marker": {
          "color": "#636efa",
          "pattern": {
           "shape": ""
          }
         },
         "name": "Coritiba - PR",
         "offsetgroup": "Coritiba - PR",
         "orientation": "v",
         "showlegend": true,
         "textposition": "auto",
         "type": "bar",
         "x": [
          "Coritiba - PR"
         ],
         "xaxis": "x",
         "y": [
          40.2
         ],
         "yaxis": "y"
        },
        {
         "alignmentgroup": "True",
         "hovertemplate": "Clube=%{x}<br>Gols Feitos=%{y}<extra></extra>",
         "legendgroup": "Cruzeiro - MG",
         "marker": {
          "color": "#EF553B",
          "pattern": {
           "shape": ""
          }
         },
         "name": "Cruzeiro - MG",
         "offsetgroup": "Cruzeiro - MG",
         "orientation": "v",
         "showlegend": true,
         "textposition": "auto",
         "type": "bar",
         "x": [
          "Cruzeiro - MG"
         ],
         "xaxis": "x",
         "y": [
          47.3
         ],
         "yaxis": "y"
        },
        {
         "alignmentgroup": "True",
         "hovertemplate": "Clube=%{x}<br>Gols Feitos=%{y}<extra></extra>",
         "legendgroup": "Cuiabá - MT",
         "marker": {
          "color": "#00cc96",
          "pattern": {
           "shape": ""
          }
         },
         "name": "Cuiabá - MT",
         "offsetgroup": "Cuiabá - MT",
         "orientation": "v",
         "showlegend": true,
         "textposition": "auto",
         "type": "bar",
         "x": [
          "Cuiabá - MT"
         ],
         "xaxis": "x",
         "y": [
          35
         ],
         "yaxis": "y"
        },
        {
         "alignmentgroup": "True",
         "hovertemplate": "Clube=%{x}<br>Gols Feitos=%{y}<extra></extra>",
         "legendgroup": "Figueirense - SC",
         "marker": {
          "color": "#ab63fa",
          "pattern": {
           "shape": ""
          }
         },
         "name": "Figueirense - SC",
         "offsetgroup": "Figueirense - SC",
         "orientation": "v",
         "showlegend": true,
         "textposition": "auto",
         "type": "bar",
         "x": [
          "Figueirense - SC"
         ],
         "xaxis": "x",
         "y": [
          35.5
         ],
         "yaxis": "y"
        },
        {
         "alignmentgroup": "True",
         "hovertemplate": "Clube=%{x}<br>Gols Feitos=%{y}<extra></extra>",
         "legendgroup": "Flamengo - RJ",
         "marker": {
          "color": "#FFA15A",
          "pattern": {
           "shape": ""
          }
         },
         "name": "Flamengo - RJ",
         "offsetgroup": "Flamengo - RJ",
         "orientation": "v",
         "showlegend": true,
         "textposition": "auto",
         "type": "bar",
         "x": [
          "Flamengo - RJ"
         ],
         "xaxis": "x",
         "y": [
          56
         ],
         "yaxis": "y"
        },
        {
         "alignmentgroup": "True",
         "hovertemplate": "Clube=%{x}<br>Gols Feitos=%{y}<extra></extra>",
         "legendgroup": "Fluminense - RJ",
         "marker": {
          "color": "#19d3f3",
          "pattern": {
           "shape": ""
          }
         },
         "name": "Fluminense - RJ",
         "offsetgroup": "Fluminense - RJ",
         "orientation": "v",
         "showlegend": true,
         "textposition": "auto",
         "type": "bar",
         "x": [
          "Fluminense - RJ"
         ],
         "xaxis": "x",
         "y": [
          48.1
         ],
         "yaxis": "y"
        },
        {
         "alignmentgroup": "True",
         "hovertemplate": "Clube=%{x}<br>Gols Feitos=%{y}<extra></extra>",
         "legendgroup": "Fortaleza - CE",
         "marker": {
          "color": "#FF6692",
          "pattern": {
           "shape": ""
          }
         },
         "name": "Fortaleza - CE",
         "offsetgroup": "Fortaleza - CE",
         "orientation": "v",
         "showlegend": true,
         "textposition": "auto",
         "type": "bar",
         "x": [
          "Fortaleza - CE"
         ],
         "xaxis": "x",
         "y": [
          43.8
         ],
         "yaxis": "y"
        },
        {
         "alignmentgroup": "True",
         "hovertemplate": "Clube=%{x}<br>Gols Feitos=%{y}<extra></extra>",
         "legendgroup": "Goiás - GO",
         "marker": {
          "color": "#B6E880",
          "pattern": {
           "shape": ""
          }
         },
         "name": "Goiás - GO",
         "offsetgroup": "Goiás - GO",
         "orientation": "v",
         "showlegend": true,
         "textposition": "auto",
         "type": "bar",
         "x": [
          "Goiás - GO"
         ],
         "xaxis": "x",
         "y": [
          41.1
         ],
         "yaxis": "y"
        },
        {
         "alignmentgroup": "True",
         "hovertemplate": "Clube=%{x}<br>Gols Feitos=%{y}<extra></extra>",
         "legendgroup": "Grêmio - RS",
         "marker": {
          "color": "#FF97FF",
          "pattern": {
           "shape": ""
          }
         },
         "name": "Grêmio - RS",
         "offsetgroup": "Grêmio - RS",
         "orientation": "v",
         "showlegend": true,
         "textposition": "auto",
         "type": "bar",
         "x": [
          "Grêmio - RS"
         ],
         "xaxis": "x",
         "y": [
          50.4
         ],
         "yaxis": "y"
        },
        {
         "alignmentgroup": "True",
         "hovertemplate": "Clube=%{x}<br>Gols Feitos=%{y}<extra></extra>",
         "legendgroup": "Internacional - RS",
         "marker": {
          "color": "#FECB52",
          "pattern": {
           "shape": ""
          }
         },
         "name": "Internacional - RS",
         "offsetgroup": "Internacional - RS",
         "orientation": "v",
         "showlegend": true,
         "textposition": "auto",
         "type": "bar",
         "x": [
          "Internacional - RS"
         ],
         "xaxis": "x",
         "y": [
          47.8
         ],
         "yaxis": "y"
        },
        {
         "alignmentgroup": "True",
         "hovertemplate": "Clube=%{x}<br>Gols Feitos=%{y}<extra></extra>",
         "legendgroup": "Palmeiras - SP",
         "marker": {
          "color": "#636efa",
          "pattern": {
           "shape": ""
          }
         },
         "name": "Palmeiras - SP",
         "offsetgroup": "Palmeiras - SP",
         "orientation": "v",
         "showlegend": true,
         "textposition": "auto",
         "type": "bar",
         "x": [
          "Palmeiras - SP"
         ],
         "xaxis": "x",
         "y": [
          56.4
         ],
         "yaxis": "y"
        },
        {
         "alignmentgroup": "True",
         "hovertemplate": "Clube=%{x}<br>Gols Feitos=%{y}<extra></extra>",
         "legendgroup": "Ponte Preta - SP",
         "marker": {
          "color": "#EF553B",
          "pattern": {
           "shape": ""
          }
         },
         "name": "Ponte Preta - SP",
         "offsetgroup": "Ponte Preta - SP",
         "orientation": "v",
         "showlegend": true,
         "textposition": "auto",
         "type": "bar",
         "x": [
          "Ponte Preta - SP"
         ],
         "xaxis": "x",
         "y": [
          40
         ],
         "yaxis": "y"
        },
        {
         "alignmentgroup": "True",
         "hovertemplate": "Clube=%{x}<br>Gols Feitos=%{y}<extra></extra>",
         "legendgroup": "Red Bull Bragantino - SP",
         "marker": {
          "color": "#00cc96",
          "pattern": {
           "shape": ""
          }
         },
         "name": "Red Bull Bragantino - SP",
         "offsetgroup": "Red Bull Bragantino - SP",
         "orientation": "v",
         "showlegend": true,
         "textposition": "auto",
         "type": "bar",
         "x": [
          "Red Bull Bragantino - SP"
         ],
         "xaxis": "x",
         "y": [
          50.8
         ],
         "yaxis": "y"
        },
        {
         "alignmentgroup": "True",
         "hovertemplate": "Clube=%{x}<br>Gols Feitos=%{y}<extra></extra>",
         "legendgroup": "Santos - SP",
         "marker": {
          "color": "#ab63fa",
          "pattern": {
           "shape": ""
          }
         },
         "name": "Santos - SP",
         "offsetgroup": "Santos - SP",
         "orientation": "v",
         "showlegend": true,
         "textposition": "auto",
         "type": "bar",
         "x": [
          "Santos - SP"
         ],
         "xaxis": "x",
         "y": [
          48.2
         ],
         "yaxis": "y"
        },
        {
         "alignmentgroup": "True",
         "hovertemplate": "Clube=%{x}<br>Gols Feitos=%{y}<extra></extra>",
         "legendgroup": "Sport - PE",
         "marker": {
          "color": "#FFA15A",
          "pattern": {
           "shape": ""
          }
         },
         "name": "Sport - PE",
         "offsetgroup": "Sport - PE",
         "orientation": "v",
         "showlegend": true,
         "textposition": "auto",
         "type": "bar",
         "x": [
          "Sport - PE"
         ],
         "xaxis": "x",
         "y": [
          39.1
         ],
         "yaxis": "y"
        },
        {
         "alignmentgroup": "True",
         "hovertemplate": "Clube=%{x}<br>Gols Feitos=%{y}<extra></extra>",
         "legendgroup": "São Paulo - SP",
         "marker": {
          "color": "#19d3f3",
          "pattern": {
           "shape": ""
          }
         },
         "name": "São Paulo - SP",
         "offsetgroup": "São Paulo - SP",
         "orientation": "v",
         "showlegend": true,
         "textposition": "auto",
         "type": "bar",
         "x": [
          "São Paulo - SP"
         ],
         "xaxis": "x",
         "y": [
          47.7
         ],
         "yaxis": "y"
        },
        {
         "alignmentgroup": "True",
         "hovertemplate": "Clube=%{x}<br>Gols Feitos=%{y}<extra></extra>",
         "legendgroup": "Vasco da Gama - RJ",
         "marker": {
          "color": "#FF6692",
          "pattern": {
           "shape": ""
          }
         },
         "name": "Vasco da Gama - RJ",
         "offsetgroup": "Vasco da Gama - RJ",
         "orientation": "v",
         "showlegend": true,
         "textposition": "auto",
         "type": "bar",
         "x": [
          "Vasco da Gama - RJ"
         ],
         "xaxis": "x",
         "y": [
          40.1
         ],
         "yaxis": "y"
        },
        {
         "alignmentgroup": "True",
         "hovertemplate": "Clube=%{x}<br>Gols Feitos=%{y}<extra></extra>",
         "legendgroup": "Vitória - BA",
         "marker": {
          "color": "#B6E880",
          "pattern": {
           "shape": ""
          }
         },
         "name": "Vitória - BA",
         "offsetgroup": "Vitória - BA",
         "orientation": "v",
         "showlegend": true,
         "textposition": "auto",
         "type": "bar",
         "x": [
          "Vitória - BA"
         ],
         "xaxis": "x",
         "y": [
          46.6
         ],
         "yaxis": "y"
        }
       ],
       "layout": {
        "barmode": "relative",
        "legend": {
         "title": {
          "text": "Clube"
         },
         "tracegroupgap": 0
        },
        "showlegend": false,
        "template": {
         "data": {
          "bar": [
           {
            "error_x": {
             "color": "#2a3f5f"
            },
            "error_y": {
             "color": "#2a3f5f"
            },
            "marker": {
             "line": {
              "color": "#E5ECF6",
              "width": 0.5
             },
             "pattern": {
              "fillmode": "overlay",
              "size": 10,
              "solidity": 0.2
             }
            },
            "type": "bar"
           }
          ],
          "barpolar": [
           {
            "marker": {
             "line": {
              "color": "#E5ECF6",
              "width": 0.5
             },
             "pattern": {
              "fillmode": "overlay",
              "size": 10,
              "solidity": 0.2
             }
            },
            "type": "barpolar"
           }
          ],
          "carpet": [
           {
            "aaxis": {
             "endlinecolor": "#2a3f5f",
             "gridcolor": "white",
             "linecolor": "white",
             "minorgridcolor": "white",
             "startlinecolor": "#2a3f5f"
            },
            "baxis": {
             "endlinecolor": "#2a3f5f",
             "gridcolor": "white",
             "linecolor": "white",
             "minorgridcolor": "white",
             "startlinecolor": "#2a3f5f"
            },
            "type": "carpet"
           }
          ],
          "choropleth": [
           {
            "colorbar": {
             "outlinewidth": 0,
             "ticks": ""
            },
            "type": "choropleth"
           }
          ],
          "contour": [
           {
            "colorbar": {
             "outlinewidth": 0,
             "ticks": ""
            },
            "colorscale": [
             [
              0,
              "#0d0887"
             ],
             [
              0.1111111111111111,
              "#46039f"
             ],
             [
              0.2222222222222222,
              "#7201a8"
             ],
             [
              0.3333333333333333,
              "#9c179e"
             ],
             [
              0.4444444444444444,
              "#bd3786"
             ],
             [
              0.5555555555555556,
              "#d8576b"
             ],
             [
              0.6666666666666666,
              "#ed7953"
             ],
             [
              0.7777777777777778,
              "#fb9f3a"
             ],
             [
              0.8888888888888888,
              "#fdca26"
             ],
             [
              1,
              "#f0f921"
             ]
            ],
            "type": "contour"
           }
          ],
          "contourcarpet": [
           {
            "colorbar": {
             "outlinewidth": 0,
             "ticks": ""
            },
            "type": "contourcarpet"
           }
          ],
          "heatmap": [
           {
            "colorbar": {
             "outlinewidth": 0,
             "ticks": ""
            },
            "colorscale": [
             [
              0,
              "#0d0887"
             ],
             [
              0.1111111111111111,
              "#46039f"
             ],
             [
              0.2222222222222222,
              "#7201a8"
             ],
             [
              0.3333333333333333,
              "#9c179e"
             ],
             [
              0.4444444444444444,
              "#bd3786"
             ],
             [
              0.5555555555555556,
              "#d8576b"
             ],
             [
              0.6666666666666666,
              "#ed7953"
             ],
             [
              0.7777777777777778,
              "#fb9f3a"
             ],
             [
              0.8888888888888888,
              "#fdca26"
             ],
             [
              1,
              "#f0f921"
             ]
            ],
            "type": "heatmap"
           }
          ],
          "heatmapgl": [
           {
            "colorbar": {
             "outlinewidth": 0,
             "ticks": ""
            },
            "colorscale": [
             [
              0,
              "#0d0887"
             ],
             [
              0.1111111111111111,
              "#46039f"
             ],
             [
              0.2222222222222222,
              "#7201a8"
             ],
             [
              0.3333333333333333,
              "#9c179e"
             ],
             [
              0.4444444444444444,
              "#bd3786"
             ],
             [
              0.5555555555555556,
              "#d8576b"
             ],
             [
              0.6666666666666666,
              "#ed7953"
             ],
             [
              0.7777777777777778,
              "#fb9f3a"
             ],
             [
              0.8888888888888888,
              "#fdca26"
             ],
             [
              1,
              "#f0f921"
             ]
            ],
            "type": "heatmapgl"
           }
          ],
          "histogram": [
           {
            "marker": {
             "pattern": {
              "fillmode": "overlay",
              "size": 10,
              "solidity": 0.2
             }
            },
            "type": "histogram"
           }
          ],
          "histogram2d": [
           {
            "colorbar": {
             "outlinewidth": 0,
             "ticks": ""
            },
            "colorscale": [
             [
              0,
              "#0d0887"
             ],
             [
              0.1111111111111111,
              "#46039f"
             ],
             [
              0.2222222222222222,
              "#7201a8"
             ],
             [
              0.3333333333333333,
              "#9c179e"
             ],
             [
              0.4444444444444444,
              "#bd3786"
             ],
             [
              0.5555555555555556,
              "#d8576b"
             ],
             [
              0.6666666666666666,
              "#ed7953"
             ],
             [
              0.7777777777777778,
              "#fb9f3a"
             ],
             [
              0.8888888888888888,
              "#fdca26"
             ],
             [
              1,
              "#f0f921"
             ]
            ],
            "type": "histogram2d"
           }
          ],
          "histogram2dcontour": [
           {
            "colorbar": {
             "outlinewidth": 0,
             "ticks": ""
            },
            "colorscale": [
             [
              0,
              "#0d0887"
             ],
             [
              0.1111111111111111,
              "#46039f"
             ],
             [
              0.2222222222222222,
              "#7201a8"
             ],
             [
              0.3333333333333333,
              "#9c179e"
             ],
             [
              0.4444444444444444,
              "#bd3786"
             ],
             [
              0.5555555555555556,
              "#d8576b"
             ],
             [
              0.6666666666666666,
              "#ed7953"
             ],
             [
              0.7777777777777778,
              "#fb9f3a"
             ],
             [
              0.8888888888888888,
              "#fdca26"
             ],
             [
              1,
              "#f0f921"
             ]
            ],
            "type": "histogram2dcontour"
           }
          ],
          "mesh3d": [
           {
            "colorbar": {
             "outlinewidth": 0,
             "ticks": ""
            },
            "type": "mesh3d"
           }
          ],
          "parcoords": [
           {
            "line": {
             "colorbar": {
              "outlinewidth": 0,
              "ticks": ""
             }
            },
            "type": "parcoords"
           }
          ],
          "pie": [
           {
            "automargin": true,
            "type": "pie"
           }
          ],
          "scatter": [
           {
            "fillpattern": {
             "fillmode": "overlay",
             "size": 10,
             "solidity": 0.2
            },
            "type": "scatter"
           }
          ],
          "scatter3d": [
           {
            "line": {
             "colorbar": {
              "outlinewidth": 0,
              "ticks": ""
             }
            },
            "marker": {
             "colorbar": {
              "outlinewidth": 0,
              "ticks": ""
             }
            },
            "type": "scatter3d"
           }
          ],
          "scattercarpet": [
           {
            "marker": {
             "colorbar": {
              "outlinewidth": 0,
              "ticks": ""
             }
            },
            "type": "scattercarpet"
           }
          ],
          "scattergeo": [
           {
            "marker": {
             "colorbar": {
              "outlinewidth": 0,
              "ticks": ""
             }
            },
            "type": "scattergeo"
           }
          ],
          "scattergl": [
           {
            "marker": {
             "colorbar": {
              "outlinewidth": 0,
              "ticks": ""
             }
            },
            "type": "scattergl"
           }
          ],
          "scattermapbox": [
           {
            "marker": {
             "colorbar": {
              "outlinewidth": 0,
              "ticks": ""
             }
            },
            "type": "scattermapbox"
           }
          ],
          "scatterpolar": [
           {
            "marker": {
             "colorbar": {
              "outlinewidth": 0,
              "ticks": ""
             }
            },
            "type": "scatterpolar"
           }
          ],
          "scatterpolargl": [
           {
            "marker": {
             "colorbar": {
              "outlinewidth": 0,
              "ticks": ""
             }
            },
            "type": "scatterpolargl"
           }
          ],
          "scatterternary": [
           {
            "marker": {
             "colorbar": {
              "outlinewidth": 0,
              "ticks": ""
             }
            },
            "type": "scatterternary"
           }
          ],
          "surface": [
           {
            "colorbar": {
             "outlinewidth": 0,
             "ticks": ""
            },
            "colorscale": [
             [
              0,
              "#0d0887"
             ],
             [
              0.1111111111111111,
              "#46039f"
             ],
             [
              0.2222222222222222,
              "#7201a8"
             ],
             [
              0.3333333333333333,
              "#9c179e"
             ],
             [
              0.4444444444444444,
              "#bd3786"
             ],
             [
              0.5555555555555556,
              "#d8576b"
             ],
             [
              0.6666666666666666,
              "#ed7953"
             ],
             [
              0.7777777777777778,
              "#fb9f3a"
             ],
             [
              0.8888888888888888,
              "#fdca26"
             ],
             [
              1,
              "#f0f921"
             ]
            ],
            "type": "surface"
           }
          ],
          "table": [
           {
            "cells": {
             "fill": {
              "color": "#EBF0F8"
             },
             "line": {
              "color": "white"
             }
            },
            "header": {
             "fill": {
              "color": "#C8D4E3"
             },
             "line": {
              "color": "white"
             }
            },
            "type": "table"
           }
          ]
         },
         "layout": {
          "annotationdefaults": {
           "arrowcolor": "#2a3f5f",
           "arrowhead": 0,
           "arrowwidth": 1
          },
          "autotypenumbers": "strict",
          "coloraxis": {
           "colorbar": {
            "outlinewidth": 0,
            "ticks": ""
           }
          },
          "colorscale": {
           "diverging": [
            [
             0,
             "#8e0152"
            ],
            [
             0.1,
             "#c51b7d"
            ],
            [
             0.2,
             "#de77ae"
            ],
            [
             0.3,
             "#f1b6da"
            ],
            [
             0.4,
             "#fde0ef"
            ],
            [
             0.5,
             "#f7f7f7"
            ],
            [
             0.6,
             "#e6f5d0"
            ],
            [
             0.7,
             "#b8e186"
            ],
            [
             0.8,
             "#7fbc41"
            ],
            [
             0.9,
             "#4d9221"
            ],
            [
             1,
             "#276419"
            ]
           ],
           "sequential": [
            [
             0,
             "#0d0887"
            ],
            [
             0.1111111111111111,
             "#46039f"
            ],
            [
             0.2222222222222222,
             "#7201a8"
            ],
            [
             0.3333333333333333,
             "#9c179e"
            ],
            [
             0.4444444444444444,
             "#bd3786"
            ],
            [
             0.5555555555555556,
             "#d8576b"
            ],
            [
             0.6666666666666666,
             "#ed7953"
            ],
            [
             0.7777777777777778,
             "#fb9f3a"
            ],
            [
             0.8888888888888888,
             "#fdca26"
            ],
            [
             1,
             "#f0f921"
            ]
           ],
           "sequentialminus": [
            [
             0,
             "#0d0887"
            ],
            [
             0.1111111111111111,
             "#46039f"
            ],
            [
             0.2222222222222222,
             "#7201a8"
            ],
            [
             0.3333333333333333,
             "#9c179e"
            ],
            [
             0.4444444444444444,
             "#bd3786"
            ],
            [
             0.5555555555555556,
             "#d8576b"
            ],
            [
             0.6666666666666666,
             "#ed7953"
            ],
            [
             0.7777777777777778,
             "#fb9f3a"
            ],
            [
             0.8888888888888888,
             "#fdca26"
            ],
            [
             1,
             "#f0f921"
            ]
           ]
          },
          "colorway": [
           "#636efa",
           "#EF553B",
           "#00cc96",
           "#ab63fa",
           "#FFA15A",
           "#19d3f3",
           "#FF6692",
           "#B6E880",
           "#FF97FF",
           "#FECB52"
          ],
          "font": {
           "color": "#2a3f5f"
          },
          "geo": {
           "bgcolor": "white",
           "lakecolor": "white",
           "landcolor": "#E5ECF6",
           "showlakes": true,
           "showland": true,
           "subunitcolor": "white"
          },
          "hoverlabel": {
           "align": "left"
          },
          "hovermode": "closest",
          "mapbox": {
           "style": "light"
          },
          "paper_bgcolor": "white",
          "plot_bgcolor": "#E5ECF6",
          "polar": {
           "angularaxis": {
            "gridcolor": "white",
            "linecolor": "white",
            "ticks": ""
           },
           "bgcolor": "#E5ECF6",
           "radialaxis": {
            "gridcolor": "white",
            "linecolor": "white",
            "ticks": ""
           }
          },
          "scene": {
           "xaxis": {
            "backgroundcolor": "#E5ECF6",
            "gridcolor": "white",
            "gridwidth": 2,
            "linecolor": "white",
            "showbackground": true,
            "ticks": "",
            "zerolinecolor": "white"
           },
           "yaxis": {
            "backgroundcolor": "#E5ECF6",
            "gridcolor": "white",
            "gridwidth": 2,
            "linecolor": "white",
            "showbackground": true,
            "ticks": "",
            "zerolinecolor": "white"
           },
           "zaxis": {
            "backgroundcolor": "#E5ECF6",
            "gridcolor": "white",
            "gridwidth": 2,
            "linecolor": "white",
            "showbackground": true,
            "ticks": "",
            "zerolinecolor": "white"
           }
          },
          "shapedefaults": {
           "line": {
            "color": "#2a3f5f"
           }
          },
          "ternary": {
           "aaxis": {
            "gridcolor": "white",
            "linecolor": "white",
            "ticks": ""
           },
           "baxis": {
            "gridcolor": "white",
            "linecolor": "white",
            "ticks": ""
           },
           "bgcolor": "#E5ECF6",
           "caxis": {
            "gridcolor": "white",
            "linecolor": "white",
            "ticks": ""
           }
          },
          "title": {
           "x": 0.05
          },
          "xaxis": {
           "automargin": true,
           "gridcolor": "white",
           "linecolor": "white",
           "ticks": "",
           "title": {
            "standoff": 15
           },
           "zerolinecolor": "white",
           "zerolinewidth": 2
          },
          "yaxis": {
           "automargin": true,
           "gridcolor": "white",
           "linecolor": "white",
           "ticks": "",
           "title": {
            "standoff": 15
           },
           "zerolinecolor": "white",
           "zerolinewidth": 2
          }
         }
        },
        "title": {
         "text": "Média de Gols Feitos por Equipe"
        },
        "xaxis": {
         "anchor": "y",
         "categoryarray": [
          "América - MG",
          "Athletico Paranaense - PR",
          "Atlético Goianiense - GO",
          "Atlético Mineiro - MG",
          "Avaí - SC",
          "Bahia - BA",
          "Botafogo - RJ",
          "Ceará - CE",
          "Chapecoense - SC",
          "Corinthians - SP",
          "Coritiba - PR",
          "Cruzeiro - MG",
          "Cuiabá - MT",
          "Figueirense - SC",
          "Flamengo - RJ",
          "Fluminense - RJ",
          "Fortaleza - CE",
          "Goiás - GO",
          "Grêmio - RS",
          "Internacional - RS",
          "Palmeiras - SP",
          "Ponte Preta - SP",
          "Red Bull Bragantino - SP",
          "Santos - SP",
          "Sport - PE",
          "São Paulo - SP",
          "Vasco da Gama - RJ",
          "Vitória - BA"
         ],
         "categoryorder": "array",
         "domain": [
          0,
          1
         ],
         "title": {
          "text": ""
         }
        },
        "yaxis": {
         "anchor": "x",
         "domain": [
          0,
          1
         ],
         "title": {
          "text": "Média de Gols Feitos"
         }
        }
       }
      }
     },
     "metadata": {},
     "output_type": "display_data"
    }
   ],
   "source": [
    "fig = px.bar(media_com_filtro, x=media_com_filtro.index, y=\"Gols Feitos\", color=media_com_filtro.index, title=\"Média de Gols Feitos por Equipe\")\n",
    "fig.update_layout(\n",
    "    showlegend=False,\n",
    "    yaxis_title = \"Média de Gols Feitos\",\n",
    "    xaxis_title = \"\",\n",
    ")\n",
    "fig.show()"
   ]
  },
  {
   "cell_type": "markdown",
   "metadata": {},
   "source": [
    "<h2>16 - Identificar OS TIMES que MAIS SOFREM GOLS na MÉDIA.</h2>"
   ]
  },
  {
   "cell_type": "code",
   "execution_count": 47,
   "metadata": {},
   "outputs": [
    {
     "data": {
      "text/html": [
       "<div>\n",
       "<style scoped>\n",
       "    .dataframe tbody tr th:only-of-type {\n",
       "        vertical-align: middle;\n",
       "    }\n",
       "\n",
       "    .dataframe tbody tr th {\n",
       "        vertical-align: top;\n",
       "    }\n",
       "\n",
       "    .dataframe thead th {\n",
       "        text-align: right;\n",
       "    }\n",
       "</style>\n",
       "<table border=\"1\" class=\"dataframe\">\n",
       "  <thead>\n",
       "    <tr style=\"text-align: right;\">\n",
       "      <th></th>\n",
       "      <th>Colocação</th>\n",
       "      <th>Pontos</th>\n",
       "      <th>Vitórias</th>\n",
       "      <th>Empates</th>\n",
       "      <th>Derrotas</th>\n",
       "      <th>Gols Feitos</th>\n",
       "      <th>Gols Sofridos</th>\n",
       "      <th>Saldos de Gols</th>\n",
       "      <th>Cartões Amarelos</th>\n",
       "      <th>Cartões Vermelhos</th>\n",
       "      <th>Aproveitamento (%)</th>\n",
       "    </tr>\n",
       "    <tr>\n",
       "      <th>Clube</th>\n",
       "      <th></th>\n",
       "      <th></th>\n",
       "      <th></th>\n",
       "      <th></th>\n",
       "      <th></th>\n",
       "      <th></th>\n",
       "      <th></th>\n",
       "      <th></th>\n",
       "      <th></th>\n",
       "      <th></th>\n",
       "      <th></th>\n",
       "    </tr>\n",
       "  </thead>\n",
       "  <tbody>\n",
       "    <tr>\n",
       "      <th>Avaí - SC</th>\n",
       "      <td>18.5</td>\n",
       "      <td>35.0</td>\n",
       "      <td>8.2</td>\n",
       "      <td>10.2</td>\n",
       "      <td>19.5</td>\n",
       "      <td>29.8</td>\n",
       "      <td>57.5</td>\n",
       "      <td>-27.8</td>\n",
       "      <td>95.5</td>\n",
       "      <td>5.5</td>\n",
       "      <td>30.0</td>\n",
       "    </tr>\n",
       "    <tr>\n",
       "      <th>Vitória - BA</th>\n",
       "      <td>14.6</td>\n",
       "      <td>44.4</td>\n",
       "      <td>11.6</td>\n",
       "      <td>9.6</td>\n",
       "      <td>16.8</td>\n",
       "      <td>46.6</td>\n",
       "      <td>56.2</td>\n",
       "      <td>-9.6</td>\n",
       "      <td>89.8</td>\n",
       "      <td>4.6</td>\n",
       "      <td>38.4</td>\n",
       "    </tr>\n",
       "    <tr>\n",
       "      <th>Figueirense - SC</th>\n",
       "      <td>16.8</td>\n",
       "      <td>39.2</td>\n",
       "      <td>9.8</td>\n",
       "      <td>10.0</td>\n",
       "      <td>18.2</td>\n",
       "      <td>35.5</td>\n",
       "      <td>54.8</td>\n",
       "      <td>-19.2</td>\n",
       "      <td>96.0</td>\n",
       "      <td>8.0</td>\n",
       "      <td>34.0</td>\n",
       "    </tr>\n",
       "    <tr>\n",
       "      <th>América - MG</th>\n",
       "      <td>15.0</td>\n",
       "      <td>39.6</td>\n",
       "      <td>10.0</td>\n",
       "      <td>9.6</td>\n",
       "      <td>18.4</td>\n",
       "      <td>35.2</td>\n",
       "      <td>52.6</td>\n",
       "      <td>-17.4</td>\n",
       "      <td>78.0</td>\n",
       "      <td>5.8</td>\n",
       "      <td>34.4</td>\n",
       "    </tr>\n",
       "    <tr>\n",
       "      <th>Coritiba - PR</th>\n",
       "      <td>15.3</td>\n",
       "      <td>42.1</td>\n",
       "      <td>10.9</td>\n",
       "      <td>9.4</td>\n",
       "      <td>17.7</td>\n",
       "      <td>40.2</td>\n",
       "      <td>52.4</td>\n",
       "      <td>-12.2</td>\n",
       "      <td>97.0</td>\n",
       "      <td>5.9</td>\n",
       "      <td>36.6</td>\n",
       "    </tr>\n",
       "  </tbody>\n",
       "</table>\n",
       "</div>"
      ],
      "text/plain": [
       "                  Colocação  Pontos  Vitórias  Empates  Derrotas  Gols Feitos  \\\n",
       "Clube                                                                           \n",
       "Avaí - SC              18.5    35.0       8.2     10.2      19.5         29.8   \n",
       "Vitória - BA           14.6    44.4      11.6      9.6      16.8         46.6   \n",
       "Figueirense - SC       16.8    39.2       9.8     10.0      18.2         35.5   \n",
       "América - MG           15.0    39.6      10.0      9.6      18.4         35.2   \n",
       "Coritiba - PR          15.3    42.1      10.9      9.4      17.7         40.2   \n",
       "\n",
       "                  Gols Sofridos  Saldos de Gols  Cartões Amarelos  \\\n",
       "Clube                                                               \n",
       "Avaí - SC                  57.5           -27.8              95.5   \n",
       "Vitória - BA               56.2            -9.6              89.8   \n",
       "Figueirense - SC           54.8           -19.2              96.0   \n",
       "América - MG               52.6           -17.4              78.0   \n",
       "Coritiba - PR              52.4           -12.2              97.0   \n",
       "\n",
       "                  Cartões Vermelhos  Aproveitamento (%)  \n",
       "Clube                                                    \n",
       "Avaí - SC                       5.5                30.0  \n",
       "Vitória - BA                    4.6                38.4  \n",
       "Figueirense - SC                8.0                34.0  \n",
       "América - MG                    5.8                34.4  \n",
       "Coritiba - PR                   5.9                36.6  "
      ]
     },
     "execution_count": 47,
     "metadata": {},
     "output_type": "execute_result"
    }
   ],
   "source": [
    "media_com_filtro.sort_values('Gols Sofridos', ascending=False).head()"
   ]
  },
  {
   "cell_type": "markdown",
   "metadata": {},
   "source": [
    "<h2>16.1 - Identificar OS TIMES que MENOS SOFREM GOLS na MÉDIA.</h2>"
   ]
  },
  {
   "cell_type": "code",
   "execution_count": 48,
   "metadata": {},
   "outputs": [
    {
     "data": {
      "text/html": [
       "<div>\n",
       "<style scoped>\n",
       "    .dataframe tbody tr th:only-of-type {\n",
       "        vertical-align: middle;\n",
       "    }\n",
       "\n",
       "    .dataframe tbody tr th {\n",
       "        vertical-align: top;\n",
       "    }\n",
       "\n",
       "    .dataframe thead th {\n",
       "        text-align: right;\n",
       "    }\n",
       "</style>\n",
       "<table border=\"1\" class=\"dataframe\">\n",
       "  <thead>\n",
       "    <tr style=\"text-align: right;\">\n",
       "      <th></th>\n",
       "      <th>Colocação</th>\n",
       "      <th>Pontos</th>\n",
       "      <th>Vitórias</th>\n",
       "      <th>Empates</th>\n",
       "      <th>Derrotas</th>\n",
       "      <th>Gols Feitos</th>\n",
       "      <th>Gols Sofridos</th>\n",
       "      <th>Saldos de Gols</th>\n",
       "      <th>Cartões Amarelos</th>\n",
       "      <th>Cartões Vermelhos</th>\n",
       "      <th>Aproveitamento (%)</th>\n",
       "    </tr>\n",
       "    <tr>\n",
       "      <th>Clube</th>\n",
       "      <th></th>\n",
       "      <th></th>\n",
       "      <th></th>\n",
       "      <th></th>\n",
       "      <th></th>\n",
       "      <th></th>\n",
       "      <th></th>\n",
       "      <th></th>\n",
       "      <th></th>\n",
       "      <th></th>\n",
       "      <th></th>\n",
       "    </tr>\n",
       "  </thead>\n",
       "  <tbody>\n",
       "    <tr>\n",
       "      <th>Corinthians - SP</th>\n",
       "      <td>7.0</td>\n",
       "      <td>58.9</td>\n",
       "      <td>15.7</td>\n",
       "      <td>11.9</td>\n",
       "      <td>10.4</td>\n",
       "      <td>45.7</td>\n",
       "      <td>35.8</td>\n",
       "      <td>9.9</td>\n",
       "      <td>76.3</td>\n",
       "      <td>3.7</td>\n",
       "      <td>51.3</td>\n",
       "    </tr>\n",
       "    <tr>\n",
       "      <th>Grêmio - RS</th>\n",
       "      <td>5.5</td>\n",
       "      <td>61.9</td>\n",
       "      <td>17.4</td>\n",
       "      <td>9.8</td>\n",
       "      <td>10.8</td>\n",
       "      <td>50.4</td>\n",
       "      <td>37.9</td>\n",
       "      <td>12.5</td>\n",
       "      <td>88.5</td>\n",
       "      <td>4.7</td>\n",
       "      <td>53.8</td>\n",
       "    </tr>\n",
       "    <tr>\n",
       "      <th>Internacional - RS</th>\n",
       "      <td>7.5</td>\n",
       "      <td>58.5</td>\n",
       "      <td>15.9</td>\n",
       "      <td>10.8</td>\n",
       "      <td>11.3</td>\n",
       "      <td>47.8</td>\n",
       "      <td>39.3</td>\n",
       "      <td>8.5</td>\n",
       "      <td>99.2</td>\n",
       "      <td>6.4</td>\n",
       "      <td>51.0</td>\n",
       "    </tr>\n",
       "    <tr>\n",
       "      <th>Cuiabá - MT</th>\n",
       "      <td>14.3</td>\n",
       "      <td>46.3</td>\n",
       "      <td>11.3</td>\n",
       "      <td>12.3</td>\n",
       "      <td>14.3</td>\n",
       "      <td>35.0</td>\n",
       "      <td>39.3</td>\n",
       "      <td>-4.3</td>\n",
       "      <td>89.3</td>\n",
       "      <td>7.3</td>\n",
       "      <td>40.0</td>\n",
       "    </tr>\n",
       "    <tr>\n",
       "      <th>São Paulo - SP</th>\n",
       "      <td>7.5</td>\n",
       "      <td>58.1</td>\n",
       "      <td>15.7</td>\n",
       "      <td>11.1</td>\n",
       "      <td>11.2</td>\n",
       "      <td>47.7</td>\n",
       "      <td>39.4</td>\n",
       "      <td>8.2</td>\n",
       "      <td>91.0</td>\n",
       "      <td>6.0</td>\n",
       "      <td>50.4</td>\n",
       "    </tr>\n",
       "  </tbody>\n",
       "</table>\n",
       "</div>"
      ],
      "text/plain": [
       "                    Colocação  Pontos  Vitórias  Empates  Derrotas  \\\n",
       "Clube                                                                \n",
       "Corinthians - SP          7.0    58.9      15.7     11.9      10.4   \n",
       "Grêmio - RS               5.5    61.9      17.4      9.8      10.8   \n",
       "Internacional - RS        7.5    58.5      15.9     10.8      11.3   \n",
       "Cuiabá - MT              14.3    46.3      11.3     12.3      14.3   \n",
       "São Paulo - SP            7.5    58.1      15.7     11.1      11.2   \n",
       "\n",
       "                    Gols Feitos  Gols Sofridos  Saldos de Gols  \\\n",
       "Clube                                                            \n",
       "Corinthians - SP           45.7           35.8             9.9   \n",
       "Grêmio - RS                50.4           37.9            12.5   \n",
       "Internacional - RS         47.8           39.3             8.5   \n",
       "Cuiabá - MT                35.0           39.3            -4.3   \n",
       "São Paulo - SP             47.7           39.4             8.2   \n",
       "\n",
       "                    Cartões Amarelos  Cartões Vermelhos  Aproveitamento (%)  \n",
       "Clube                                                                        \n",
       "Corinthians - SP                76.3                3.7                51.3  \n",
       "Grêmio - RS                     88.5                4.7                53.8  \n",
       "Internacional - RS              99.2                6.4                51.0  \n",
       "Cuiabá - MT                     89.3                7.3                40.0  \n",
       "São Paulo - SP                  91.0                6.0                50.4  "
      ]
     },
     "execution_count": 48,
     "metadata": {},
     "output_type": "execute_result"
    }
   ],
   "source": [
    "media_com_filtro.sort_values('Gols Sofridos').head()"
   ]
  },
  {
   "cell_type": "code",
   "execution_count": 49,
   "metadata": {},
   "outputs": [
    {
     "data": {
      "application/vnd.plotly.v1+json": {
       "config": {
        "plotlyServerURL": "https://plot.ly"
       },
       "data": [
        {
         "alignmentgroup": "True",
         "hovertemplate": "Clube=%{x}<br>Gols Sofridos=%{y}<extra></extra>",
         "legendgroup": "América - MG",
         "marker": {
          "color": "#636efa",
          "pattern": {
           "shape": ""
          }
         },
         "name": "América - MG",
         "offsetgroup": "América - MG",
         "orientation": "v",
         "showlegend": true,
         "textposition": "auto",
         "type": "bar",
         "x": [
          "América - MG"
         ],
         "xaxis": "x",
         "y": [
          52.6
         ],
         "yaxis": "y"
        },
        {
         "alignmentgroup": "True",
         "hovertemplate": "Clube=%{x}<br>Gols Sofridos=%{y}<extra></extra>",
         "legendgroup": "Athletico Paranaense - PR",
         "marker": {
          "color": "#EF553B",
          "pattern": {
           "shape": ""
          }
         },
         "name": "Athletico Paranaense - PR",
         "offsetgroup": "Athletico Paranaense - PR",
         "orientation": "v",
         "showlegend": true,
         "textposition": "auto",
         "type": "bar",
         "x": [
          "Athletico Paranaense - PR"
         ],
         "xaxis": "x",
         "y": [
          41.4
         ],
         "yaxis": "y"
        },
        {
         "alignmentgroup": "True",
         "hovertemplate": "Clube=%{x}<br>Gols Sofridos=%{y}<extra></extra>",
         "legendgroup": "Atlético Goianiense - GO",
         "marker": {
          "color": "#00cc96",
          "pattern": {
           "shape": ""
          }
         },
         "name": "Atlético Goianiense - GO",
         "offsetgroup": "Atlético Goianiense - GO",
         "orientation": "v",
         "showlegend": true,
         "textposition": "auto",
         "type": "bar",
         "x": [
          "Atlético Goianiense - GO"
         ],
         "xaxis": "x",
         "y": [
          52.2
         ],
         "yaxis": "y"
        },
        {
         "alignmentgroup": "True",
         "hovertemplate": "Clube=%{x}<br>Gols Sofridos=%{y}<extra></extra>",
         "legendgroup": "Atlético Mineiro - MG",
         "marker": {
          "color": "#ab63fa",
          "pattern": {
           "shape": ""
          }
         },
         "name": "Atlético Mineiro - MG",
         "offsetgroup": "Atlético Mineiro - MG",
         "orientation": "v",
         "showlegend": true,
         "textposition": "auto",
         "type": "bar",
         "x": [
          "Atlético Mineiro - MG"
         ],
         "xaxis": "x",
         "y": [
          41.8
         ],
         "yaxis": "y"
        },
        {
         "alignmentgroup": "True",
         "hovertemplate": "Clube=%{x}<br>Gols Sofridos=%{y}<extra></extra>",
         "legendgroup": "Avaí - SC",
         "marker": {
          "color": "#FFA15A",
          "pattern": {
           "shape": ""
          }
         },
         "name": "Avaí - SC",
         "offsetgroup": "Avaí - SC",
         "orientation": "v",
         "showlegend": true,
         "textposition": "auto",
         "type": "bar",
         "x": [
          "Avaí - SC"
         ],
         "xaxis": "x",
         "y": [
          57.5
         ],
         "yaxis": "y"
        },
        {
         "alignmentgroup": "True",
         "hovertemplate": "Clube=%{x}<br>Gols Sofridos=%{y}<extra></extra>",
         "legendgroup": "Bahia - BA",
         "marker": {
          "color": "#19d3f3",
          "pattern": {
           "shape": ""
          }
         },
         "name": "Bahia - BA",
         "offsetgroup": "Bahia - BA",
         "orientation": "v",
         "showlegend": true,
         "textposition": "auto",
         "type": "bar",
         "x": [
          "Bahia - BA"
         ],
         "xaxis": "x",
         "y": [
          47.1
         ],
         "yaxis": "y"
        },
        {
         "alignmentgroup": "True",
         "hovertemplate": "Clube=%{x}<br>Gols Sofridos=%{y}<extra></extra>",
         "legendgroup": "Botafogo - RJ",
         "marker": {
          "color": "#FF6692",
          "pattern": {
           "shape": ""
          }
         },
         "name": "Botafogo - RJ",
         "offsetgroup": "Botafogo - RJ",
         "orientation": "v",
         "showlegend": true,
         "textposition": "auto",
         "type": "bar",
         "x": [
          "Botafogo - RJ"
         ],
         "xaxis": "x",
         "y": [
          45.3
         ],
         "yaxis": "y"
        },
        {
         "alignmentgroup": "True",
         "hovertemplate": "Clube=%{x}<br>Gols Sofridos=%{y}<extra></extra>",
         "legendgroup": "Ceará - CE",
         "marker": {
          "color": "#B6E880",
          "pattern": {
           "shape": ""
          }
         },
         "name": "Ceará - CE",
         "offsetgroup": "Ceará - CE",
         "orientation": "v",
         "showlegend": true,
         "textposition": "auto",
         "type": "bar",
         "x": [
          "Ceará - CE"
         ],
         "xaxis": "x",
         "y": [
          41.8
         ],
         "yaxis": "y"
        },
        {
         "alignmentgroup": "True",
         "hovertemplate": "Clube=%{x}<br>Gols Sofridos=%{y}<extra></extra>",
         "legendgroup": "Chapecoense - SC",
         "marker": {
          "color": "#FF97FF",
          "pattern": {
           "shape": ""
          }
         },
         "name": "Chapecoense - SC",
         "offsetgroup": "Chapecoense - SC",
         "orientation": "v",
         "showlegend": true,
         "textposition": "auto",
         "type": "bar",
         "x": [
          "Chapecoense - SC"
         ],
         "xaxis": "x",
         "y": [
          51.7
         ],
         "yaxis": "y"
        },
        {
         "alignmentgroup": "True",
         "hovertemplate": "Clube=%{x}<br>Gols Sofridos=%{y}<extra></extra>",
         "legendgroup": "Corinthians - SP",
         "marker": {
          "color": "#FECB52",
          "pattern": {
           "shape": ""
          }
         },
         "name": "Corinthians - SP",
         "offsetgroup": "Corinthians - SP",
         "orientation": "v",
         "showlegend": true,
         "textposition": "auto",
         "type": "bar",
         "x": [
          "Corinthians - SP"
         ],
         "xaxis": "x",
         "y": [
          35.8
         ],
         "yaxis": "y"
        },
        {
         "alignmentgroup": "True",
         "hovertemplate": "Clube=%{x}<br>Gols Sofridos=%{y}<extra></extra>",
         "legendgroup": "Coritiba - PR",
         "marker": {
          "color": "#636efa",
          "pattern": {
           "shape": ""
          }
         },
         "name": "Coritiba - PR",
         "offsetgroup": "Coritiba - PR",
         "orientation": "v",
         "showlegend": true,
         "textposition": "auto",
         "type": "bar",
         "x": [
          "Coritiba - PR"
         ],
         "xaxis": "x",
         "y": [
          52.4
         ],
         "yaxis": "y"
        },
        {
         "alignmentgroup": "True",
         "hovertemplate": "Clube=%{x}<br>Gols Sofridos=%{y}<extra></extra>",
         "legendgroup": "Cruzeiro - MG",
         "marker": {
          "color": "#EF553B",
          "pattern": {
           "shape": ""
          }
         },
         "name": "Cruzeiro - MG",
         "offsetgroup": "Cruzeiro - MG",
         "orientation": "v",
         "showlegend": true,
         "textposition": "auto",
         "type": "bar",
         "x": [
          "Cruzeiro - MG"
         ],
         "xaxis": "x",
         "y": [
          40.1
         ],
         "yaxis": "y"
        },
        {
         "alignmentgroup": "True",
         "hovertemplate": "Clube=%{x}<br>Gols Sofridos=%{y}<extra></extra>",
         "legendgroup": "Cuiabá - MT",
         "marker": {
          "color": "#00cc96",
          "pattern": {
           "shape": ""
          }
         },
         "name": "Cuiabá - MT",
         "offsetgroup": "Cuiabá - MT",
         "orientation": "v",
         "showlegend": true,
         "textposition": "auto",
         "type": "bar",
         "x": [
          "Cuiabá - MT"
         ],
         "xaxis": "x",
         "y": [
          39.3
         ],
         "yaxis": "y"
        },
        {
         "alignmentgroup": "True",
         "hovertemplate": "Clube=%{x}<br>Gols Sofridos=%{y}<extra></extra>",
         "legendgroup": "Figueirense - SC",
         "marker": {
          "color": "#ab63fa",
          "pattern": {
           "shape": ""
          }
         },
         "name": "Figueirense - SC",
         "offsetgroup": "Figueirense - SC",
         "orientation": "v",
         "showlegend": true,
         "textposition": "auto",
         "type": "bar",
         "x": [
          "Figueirense - SC"
         ],
         "xaxis": "x",
         "y": [
          54.8
         ],
         "yaxis": "y"
        },
        {
         "alignmentgroup": "True",
         "hovertemplate": "Clube=%{x}<br>Gols Sofridos=%{y}<extra></extra>",
         "legendgroup": "Flamengo - RJ",
         "marker": {
          "color": "#FFA15A",
          "pattern": {
           "shape": ""
          }
         },
         "name": "Flamengo - RJ",
         "offsetgroup": "Flamengo - RJ",
         "orientation": "v",
         "showlegend": true,
         "textposition": "auto",
         "type": "bar",
         "x": [
          "Flamengo - RJ"
         ],
         "xaxis": "x",
         "y": [
          41.3
         ],
         "yaxis": "y"
        },
        {
         "alignmentgroup": "True",
         "hovertemplate": "Clube=%{x}<br>Gols Sofridos=%{y}<extra></extra>",
         "legendgroup": "Fluminense - RJ",
         "marker": {
          "color": "#19d3f3",
          "pattern": {
           "shape": ""
          }
         },
         "name": "Fluminense - RJ",
         "offsetgroup": "Fluminense - RJ",
         "orientation": "v",
         "showlegend": true,
         "textposition": "auto",
         "type": "bar",
         "x": [
          "Fluminense - RJ"
         ],
         "xaxis": "x",
         "y": [
          44.1
         ],
         "yaxis": "y"
        },
        {
         "alignmentgroup": "True",
         "hovertemplate": "Clube=%{x}<br>Gols Sofridos=%{y}<extra></extra>",
         "legendgroup": "Fortaleza - CE",
         "marker": {
          "color": "#FF6692",
          "pattern": {
           "shape": ""
          }
         },
         "name": "Fortaleza - CE",
         "offsetgroup": "Fortaleza - CE",
         "orientation": "v",
         "showlegend": true,
         "textposition": "auto",
         "type": "bar",
         "x": [
          "Fortaleza - CE"
         ],
         "xaxis": "x",
         "y": [
          44.2
         ],
         "yaxis": "y"
        },
        {
         "alignmentgroup": "True",
         "hovertemplate": "Clube=%{x}<br>Gols Sofridos=%{y}<extra></extra>",
         "legendgroup": "Goiás - GO",
         "marker": {
          "color": "#B6E880",
          "pattern": {
           "shape": ""
          }
         },
         "name": "Goiás - GO",
         "offsetgroup": "Goiás - GO",
         "orientation": "v",
         "showlegend": true,
         "textposition": "auto",
         "type": "bar",
         "x": [
          "Goiás - GO"
         ],
         "xaxis": "x",
         "y": [
          52.3
         ],
         "yaxis": "y"
        },
        {
         "alignmentgroup": "True",
         "hovertemplate": "Clube=%{x}<br>Gols Sofridos=%{y}<extra></extra>",
         "legendgroup": "Grêmio - RS",
         "marker": {
          "color": "#FF97FF",
          "pattern": {
           "shape": ""
          }
         },
         "name": "Grêmio - RS",
         "offsetgroup": "Grêmio - RS",
         "orientation": "v",
         "showlegend": true,
         "textposition": "auto",
         "type": "bar",
         "x": [
          "Grêmio - RS"
         ],
         "xaxis": "x",
         "y": [
          37.9
         ],
         "yaxis": "y"
        },
        {
         "alignmentgroup": "True",
         "hovertemplate": "Clube=%{x}<br>Gols Sofridos=%{y}<extra></extra>",
         "legendgroup": "Internacional - RS",
         "marker": {
          "color": "#FECB52",
          "pattern": {
           "shape": ""
          }
         },
         "name": "Internacional - RS",
         "offsetgroup": "Internacional - RS",
         "orientation": "v",
         "showlegend": true,
         "textposition": "auto",
         "type": "bar",
         "x": [
          "Internacional - RS"
         ],
         "xaxis": "x",
         "y": [
          39.3
         ],
         "yaxis": "y"
        },
        {
         "alignmentgroup": "True",
         "hovertemplate": "Clube=%{x}<br>Gols Sofridos=%{y}<extra></extra>",
         "legendgroup": "Palmeiras - SP",
         "marker": {
          "color": "#636efa",
          "pattern": {
           "shape": ""
          }
         },
         "name": "Palmeiras - SP",
         "offsetgroup": "Palmeiras - SP",
         "orientation": "v",
         "showlegend": true,
         "textposition": "auto",
         "type": "bar",
         "x": [
          "Palmeiras - SP"
         ],
         "xaxis": "x",
         "y": [
          39.9
         ],
         "yaxis": "y"
        },
        {
         "alignmentgroup": "True",
         "hovertemplate": "Clube=%{x}<br>Gols Sofridos=%{y}<extra></extra>",
         "legendgroup": "Ponte Preta - SP",
         "marker": {
          "color": "#EF553B",
          "pattern": {
           "shape": ""
          }
         },
         "name": "Ponte Preta - SP",
         "offsetgroup": "Ponte Preta - SP",
         "orientation": "v",
         "showlegend": true,
         "textposition": "auto",
         "type": "bar",
         "x": [
          "Ponte Preta - SP"
         ],
         "xaxis": "x",
         "y": [
          48.6
         ],
         "yaxis": "y"
        },
        {
         "alignmentgroup": "True",
         "hovertemplate": "Clube=%{x}<br>Gols Sofridos=%{y}<extra></extra>",
         "legendgroup": "Red Bull Bragantino - SP",
         "marker": {
          "color": "#00cc96",
          "pattern": {
           "shape": ""
          }
         },
         "name": "Red Bull Bragantino - SP",
         "offsetgroup": "Red Bull Bragantino - SP",
         "orientation": "v",
         "showlegend": true,
         "textposition": "auto",
         "type": "bar",
         "x": [
          "Red Bull Bragantino - SP"
         ],
         "xaxis": "x",
         "y": [
          45
         ],
         "yaxis": "y"
        },
        {
         "alignmentgroup": "True",
         "hovertemplate": "Clube=%{x}<br>Gols Sofridos=%{y}<extra></extra>",
         "legendgroup": "Santos - SP",
         "marker": {
          "color": "#ab63fa",
          "pattern": {
           "shape": ""
          }
         },
         "name": "Santos - SP",
         "offsetgroup": "Santos - SP",
         "orientation": "v",
         "showlegend": true,
         "textposition": "auto",
         "type": "bar",
         "x": [
          "Santos - SP"
         ],
         "xaxis": "x",
         "y": [
          41.2
         ],
         "yaxis": "y"
        },
        {
         "alignmentgroup": "True",
         "hovertemplate": "Clube=%{x}<br>Gols Sofridos=%{y}<extra></extra>",
         "legendgroup": "Sport - PE",
         "marker": {
          "color": "#FFA15A",
          "pattern": {
           "shape": ""
          }
         },
         "name": "Sport - PE",
         "offsetgroup": "Sport - PE",
         "orientation": "v",
         "showlegend": true,
         "textposition": "auto",
         "type": "bar",
         "x": [
          "Sport - PE"
         ],
         "xaxis": "x",
         "y": [
          49.6
         ],
         "yaxis": "y"
        },
        {
         "alignmentgroup": "True",
         "hovertemplate": "Clube=%{x}<br>Gols Sofridos=%{y}<extra></extra>",
         "legendgroup": "São Paulo - SP",
         "marker": {
          "color": "#19d3f3",
          "pattern": {
           "shape": ""
          }
         },
         "name": "São Paulo - SP",
         "offsetgroup": "São Paulo - SP",
         "orientation": "v",
         "showlegend": true,
         "textposition": "auto",
         "type": "bar",
         "x": [
          "São Paulo - SP"
         ],
         "xaxis": "x",
         "y": [
          39.4
         ],
         "yaxis": "y"
        },
        {
         "alignmentgroup": "True",
         "hovertemplate": "Clube=%{x}<br>Gols Sofridos=%{y}<extra></extra>",
         "legendgroup": "Vasco da Gama - RJ",
         "marker": {
          "color": "#FF6692",
          "pattern": {
           "shape": ""
          }
         },
         "name": "Vasco da Gama - RJ",
         "offsetgroup": "Vasco da Gama - RJ",
         "orientation": "v",
         "showlegend": true,
         "textposition": "auto",
         "type": "bar",
         "x": [
          "Vasco da Gama - RJ"
         ],
         "xaxis": "x",
         "y": [
          50.8
         ],
         "yaxis": "y"
        },
        {
         "alignmentgroup": "True",
         "hovertemplate": "Clube=%{x}<br>Gols Sofridos=%{y}<extra></extra>",
         "legendgroup": "Vitória - BA",
         "marker": {
          "color": "#B6E880",
          "pattern": {
           "shape": ""
          }
         },
         "name": "Vitória - BA",
         "offsetgroup": "Vitória - BA",
         "orientation": "v",
         "showlegend": true,
         "textposition": "auto",
         "type": "bar",
         "x": [
          "Vitória - BA"
         ],
         "xaxis": "x",
         "y": [
          56.2
         ],
         "yaxis": "y"
        }
       ],
       "layout": {
        "barmode": "relative",
        "legend": {
         "title": {
          "text": "Clube"
         },
         "tracegroupgap": 0
        },
        "showlegend": false,
        "template": {
         "data": {
          "bar": [
           {
            "error_x": {
             "color": "#2a3f5f"
            },
            "error_y": {
             "color": "#2a3f5f"
            },
            "marker": {
             "line": {
              "color": "#E5ECF6",
              "width": 0.5
             },
             "pattern": {
              "fillmode": "overlay",
              "size": 10,
              "solidity": 0.2
             }
            },
            "type": "bar"
           }
          ],
          "barpolar": [
           {
            "marker": {
             "line": {
              "color": "#E5ECF6",
              "width": 0.5
             },
             "pattern": {
              "fillmode": "overlay",
              "size": 10,
              "solidity": 0.2
             }
            },
            "type": "barpolar"
           }
          ],
          "carpet": [
           {
            "aaxis": {
             "endlinecolor": "#2a3f5f",
             "gridcolor": "white",
             "linecolor": "white",
             "minorgridcolor": "white",
             "startlinecolor": "#2a3f5f"
            },
            "baxis": {
             "endlinecolor": "#2a3f5f",
             "gridcolor": "white",
             "linecolor": "white",
             "minorgridcolor": "white",
             "startlinecolor": "#2a3f5f"
            },
            "type": "carpet"
           }
          ],
          "choropleth": [
           {
            "colorbar": {
             "outlinewidth": 0,
             "ticks": ""
            },
            "type": "choropleth"
           }
          ],
          "contour": [
           {
            "colorbar": {
             "outlinewidth": 0,
             "ticks": ""
            },
            "colorscale": [
             [
              0,
              "#0d0887"
             ],
             [
              0.1111111111111111,
              "#46039f"
             ],
             [
              0.2222222222222222,
              "#7201a8"
             ],
             [
              0.3333333333333333,
              "#9c179e"
             ],
             [
              0.4444444444444444,
              "#bd3786"
             ],
             [
              0.5555555555555556,
              "#d8576b"
             ],
             [
              0.6666666666666666,
              "#ed7953"
             ],
             [
              0.7777777777777778,
              "#fb9f3a"
             ],
             [
              0.8888888888888888,
              "#fdca26"
             ],
             [
              1,
              "#f0f921"
             ]
            ],
            "type": "contour"
           }
          ],
          "contourcarpet": [
           {
            "colorbar": {
             "outlinewidth": 0,
             "ticks": ""
            },
            "type": "contourcarpet"
           }
          ],
          "heatmap": [
           {
            "colorbar": {
             "outlinewidth": 0,
             "ticks": ""
            },
            "colorscale": [
             [
              0,
              "#0d0887"
             ],
             [
              0.1111111111111111,
              "#46039f"
             ],
             [
              0.2222222222222222,
              "#7201a8"
             ],
             [
              0.3333333333333333,
              "#9c179e"
             ],
             [
              0.4444444444444444,
              "#bd3786"
             ],
             [
              0.5555555555555556,
              "#d8576b"
             ],
             [
              0.6666666666666666,
              "#ed7953"
             ],
             [
              0.7777777777777778,
              "#fb9f3a"
             ],
             [
              0.8888888888888888,
              "#fdca26"
             ],
             [
              1,
              "#f0f921"
             ]
            ],
            "type": "heatmap"
           }
          ],
          "heatmapgl": [
           {
            "colorbar": {
             "outlinewidth": 0,
             "ticks": ""
            },
            "colorscale": [
             [
              0,
              "#0d0887"
             ],
             [
              0.1111111111111111,
              "#46039f"
             ],
             [
              0.2222222222222222,
              "#7201a8"
             ],
             [
              0.3333333333333333,
              "#9c179e"
             ],
             [
              0.4444444444444444,
              "#bd3786"
             ],
             [
              0.5555555555555556,
              "#d8576b"
             ],
             [
              0.6666666666666666,
              "#ed7953"
             ],
             [
              0.7777777777777778,
              "#fb9f3a"
             ],
             [
              0.8888888888888888,
              "#fdca26"
             ],
             [
              1,
              "#f0f921"
             ]
            ],
            "type": "heatmapgl"
           }
          ],
          "histogram": [
           {
            "marker": {
             "pattern": {
              "fillmode": "overlay",
              "size": 10,
              "solidity": 0.2
             }
            },
            "type": "histogram"
           }
          ],
          "histogram2d": [
           {
            "colorbar": {
             "outlinewidth": 0,
             "ticks": ""
            },
            "colorscale": [
             [
              0,
              "#0d0887"
             ],
             [
              0.1111111111111111,
              "#46039f"
             ],
             [
              0.2222222222222222,
              "#7201a8"
             ],
             [
              0.3333333333333333,
              "#9c179e"
             ],
             [
              0.4444444444444444,
              "#bd3786"
             ],
             [
              0.5555555555555556,
              "#d8576b"
             ],
             [
              0.6666666666666666,
              "#ed7953"
             ],
             [
              0.7777777777777778,
              "#fb9f3a"
             ],
             [
              0.8888888888888888,
              "#fdca26"
             ],
             [
              1,
              "#f0f921"
             ]
            ],
            "type": "histogram2d"
           }
          ],
          "histogram2dcontour": [
           {
            "colorbar": {
             "outlinewidth": 0,
             "ticks": ""
            },
            "colorscale": [
             [
              0,
              "#0d0887"
             ],
             [
              0.1111111111111111,
              "#46039f"
             ],
             [
              0.2222222222222222,
              "#7201a8"
             ],
             [
              0.3333333333333333,
              "#9c179e"
             ],
             [
              0.4444444444444444,
              "#bd3786"
             ],
             [
              0.5555555555555556,
              "#d8576b"
             ],
             [
              0.6666666666666666,
              "#ed7953"
             ],
             [
              0.7777777777777778,
              "#fb9f3a"
             ],
             [
              0.8888888888888888,
              "#fdca26"
             ],
             [
              1,
              "#f0f921"
             ]
            ],
            "type": "histogram2dcontour"
           }
          ],
          "mesh3d": [
           {
            "colorbar": {
             "outlinewidth": 0,
             "ticks": ""
            },
            "type": "mesh3d"
           }
          ],
          "parcoords": [
           {
            "line": {
             "colorbar": {
              "outlinewidth": 0,
              "ticks": ""
             }
            },
            "type": "parcoords"
           }
          ],
          "pie": [
           {
            "automargin": true,
            "type": "pie"
           }
          ],
          "scatter": [
           {
            "fillpattern": {
             "fillmode": "overlay",
             "size": 10,
             "solidity": 0.2
            },
            "type": "scatter"
           }
          ],
          "scatter3d": [
           {
            "line": {
             "colorbar": {
              "outlinewidth": 0,
              "ticks": ""
             }
            },
            "marker": {
             "colorbar": {
              "outlinewidth": 0,
              "ticks": ""
             }
            },
            "type": "scatter3d"
           }
          ],
          "scattercarpet": [
           {
            "marker": {
             "colorbar": {
              "outlinewidth": 0,
              "ticks": ""
             }
            },
            "type": "scattercarpet"
           }
          ],
          "scattergeo": [
           {
            "marker": {
             "colorbar": {
              "outlinewidth": 0,
              "ticks": ""
             }
            },
            "type": "scattergeo"
           }
          ],
          "scattergl": [
           {
            "marker": {
             "colorbar": {
              "outlinewidth": 0,
              "ticks": ""
             }
            },
            "type": "scattergl"
           }
          ],
          "scattermapbox": [
           {
            "marker": {
             "colorbar": {
              "outlinewidth": 0,
              "ticks": ""
             }
            },
            "type": "scattermapbox"
           }
          ],
          "scatterpolar": [
           {
            "marker": {
             "colorbar": {
              "outlinewidth": 0,
              "ticks": ""
             }
            },
            "type": "scatterpolar"
           }
          ],
          "scatterpolargl": [
           {
            "marker": {
             "colorbar": {
              "outlinewidth": 0,
              "ticks": ""
             }
            },
            "type": "scatterpolargl"
           }
          ],
          "scatterternary": [
           {
            "marker": {
             "colorbar": {
              "outlinewidth": 0,
              "ticks": ""
             }
            },
            "type": "scatterternary"
           }
          ],
          "surface": [
           {
            "colorbar": {
             "outlinewidth": 0,
             "ticks": ""
            },
            "colorscale": [
             [
              0,
              "#0d0887"
             ],
             [
              0.1111111111111111,
              "#46039f"
             ],
             [
              0.2222222222222222,
              "#7201a8"
             ],
             [
              0.3333333333333333,
              "#9c179e"
             ],
             [
              0.4444444444444444,
              "#bd3786"
             ],
             [
              0.5555555555555556,
              "#d8576b"
             ],
             [
              0.6666666666666666,
              "#ed7953"
             ],
             [
              0.7777777777777778,
              "#fb9f3a"
             ],
             [
              0.8888888888888888,
              "#fdca26"
             ],
             [
              1,
              "#f0f921"
             ]
            ],
            "type": "surface"
           }
          ],
          "table": [
           {
            "cells": {
             "fill": {
              "color": "#EBF0F8"
             },
             "line": {
              "color": "white"
             }
            },
            "header": {
             "fill": {
              "color": "#C8D4E3"
             },
             "line": {
              "color": "white"
             }
            },
            "type": "table"
           }
          ]
         },
         "layout": {
          "annotationdefaults": {
           "arrowcolor": "#2a3f5f",
           "arrowhead": 0,
           "arrowwidth": 1
          },
          "autotypenumbers": "strict",
          "coloraxis": {
           "colorbar": {
            "outlinewidth": 0,
            "ticks": ""
           }
          },
          "colorscale": {
           "diverging": [
            [
             0,
             "#8e0152"
            ],
            [
             0.1,
             "#c51b7d"
            ],
            [
             0.2,
             "#de77ae"
            ],
            [
             0.3,
             "#f1b6da"
            ],
            [
             0.4,
             "#fde0ef"
            ],
            [
             0.5,
             "#f7f7f7"
            ],
            [
             0.6,
             "#e6f5d0"
            ],
            [
             0.7,
             "#b8e186"
            ],
            [
             0.8,
             "#7fbc41"
            ],
            [
             0.9,
             "#4d9221"
            ],
            [
             1,
             "#276419"
            ]
           ],
           "sequential": [
            [
             0,
             "#0d0887"
            ],
            [
             0.1111111111111111,
             "#46039f"
            ],
            [
             0.2222222222222222,
             "#7201a8"
            ],
            [
             0.3333333333333333,
             "#9c179e"
            ],
            [
             0.4444444444444444,
             "#bd3786"
            ],
            [
             0.5555555555555556,
             "#d8576b"
            ],
            [
             0.6666666666666666,
             "#ed7953"
            ],
            [
             0.7777777777777778,
             "#fb9f3a"
            ],
            [
             0.8888888888888888,
             "#fdca26"
            ],
            [
             1,
             "#f0f921"
            ]
           ],
           "sequentialminus": [
            [
             0,
             "#0d0887"
            ],
            [
             0.1111111111111111,
             "#46039f"
            ],
            [
             0.2222222222222222,
             "#7201a8"
            ],
            [
             0.3333333333333333,
             "#9c179e"
            ],
            [
             0.4444444444444444,
             "#bd3786"
            ],
            [
             0.5555555555555556,
             "#d8576b"
            ],
            [
             0.6666666666666666,
             "#ed7953"
            ],
            [
             0.7777777777777778,
             "#fb9f3a"
            ],
            [
             0.8888888888888888,
             "#fdca26"
            ],
            [
             1,
             "#f0f921"
            ]
           ]
          },
          "colorway": [
           "#636efa",
           "#EF553B",
           "#00cc96",
           "#ab63fa",
           "#FFA15A",
           "#19d3f3",
           "#FF6692",
           "#B6E880",
           "#FF97FF",
           "#FECB52"
          ],
          "font": {
           "color": "#2a3f5f"
          },
          "geo": {
           "bgcolor": "white",
           "lakecolor": "white",
           "landcolor": "#E5ECF6",
           "showlakes": true,
           "showland": true,
           "subunitcolor": "white"
          },
          "hoverlabel": {
           "align": "left"
          },
          "hovermode": "closest",
          "mapbox": {
           "style": "light"
          },
          "paper_bgcolor": "white",
          "plot_bgcolor": "#E5ECF6",
          "polar": {
           "angularaxis": {
            "gridcolor": "white",
            "linecolor": "white",
            "ticks": ""
           },
           "bgcolor": "#E5ECF6",
           "radialaxis": {
            "gridcolor": "white",
            "linecolor": "white",
            "ticks": ""
           }
          },
          "scene": {
           "xaxis": {
            "backgroundcolor": "#E5ECF6",
            "gridcolor": "white",
            "gridwidth": 2,
            "linecolor": "white",
            "showbackground": true,
            "ticks": "",
            "zerolinecolor": "white"
           },
           "yaxis": {
            "backgroundcolor": "#E5ECF6",
            "gridcolor": "white",
            "gridwidth": 2,
            "linecolor": "white",
            "showbackground": true,
            "ticks": "",
            "zerolinecolor": "white"
           },
           "zaxis": {
            "backgroundcolor": "#E5ECF6",
            "gridcolor": "white",
            "gridwidth": 2,
            "linecolor": "white",
            "showbackground": true,
            "ticks": "",
            "zerolinecolor": "white"
           }
          },
          "shapedefaults": {
           "line": {
            "color": "#2a3f5f"
           }
          },
          "ternary": {
           "aaxis": {
            "gridcolor": "white",
            "linecolor": "white",
            "ticks": ""
           },
           "baxis": {
            "gridcolor": "white",
            "linecolor": "white",
            "ticks": ""
           },
           "bgcolor": "#E5ECF6",
           "caxis": {
            "gridcolor": "white",
            "linecolor": "white",
            "ticks": ""
           }
          },
          "title": {
           "x": 0.05
          },
          "xaxis": {
           "automargin": true,
           "gridcolor": "white",
           "linecolor": "white",
           "ticks": "",
           "title": {
            "standoff": 15
           },
           "zerolinecolor": "white",
           "zerolinewidth": 2
          },
          "yaxis": {
           "automargin": true,
           "gridcolor": "white",
           "linecolor": "white",
           "ticks": "",
           "title": {
            "standoff": 15
           },
           "zerolinecolor": "white",
           "zerolinewidth": 2
          }
         }
        },
        "title": {
         "text": "Média de Gols Sofridos por Equipe"
        },
        "xaxis": {
         "anchor": "y",
         "categoryarray": [
          "América - MG",
          "Athletico Paranaense - PR",
          "Atlético Goianiense - GO",
          "Atlético Mineiro - MG",
          "Avaí - SC",
          "Bahia - BA",
          "Botafogo - RJ",
          "Ceará - CE",
          "Chapecoense - SC",
          "Corinthians - SP",
          "Coritiba - PR",
          "Cruzeiro - MG",
          "Cuiabá - MT",
          "Figueirense - SC",
          "Flamengo - RJ",
          "Fluminense - RJ",
          "Fortaleza - CE",
          "Goiás - GO",
          "Grêmio - RS",
          "Internacional - RS",
          "Palmeiras - SP",
          "Ponte Preta - SP",
          "Red Bull Bragantino - SP",
          "Santos - SP",
          "Sport - PE",
          "São Paulo - SP",
          "Vasco da Gama - RJ",
          "Vitória - BA"
         ],
         "categoryorder": "array",
         "domain": [
          0,
          1
         ],
         "title": {
          "text": ""
         }
        },
        "yaxis": {
         "anchor": "x",
         "domain": [
          0,
          1
         ],
         "title": {
          "text": "Média de Gols Sofridos"
         }
        }
       }
      }
     },
     "metadata": {},
     "output_type": "display_data"
    }
   ],
   "source": [
    "fig = px.bar(media_com_filtro, x=media_com_filtro.index, y=\"Gols Sofridos\", color=media_com_filtro.index, title=\"Média de Gols Sofridos por Equipe\")\n",
    "fig.update_layout(\n",
    "    showlegend=False,\n",
    "    yaxis_title = \"Média de Gols Sofridos\",\n",
    "    xaxis_title = \"\",\n",
    ")\n",
    "fig.show()"
   ]
  },
  {
   "cell_type": "markdown",
   "metadata": {},
   "source": [
    "<h2>17 - Identificar OS TIMES com MAIOR SALDO DE GOLS na MÉDIA.</h2>"
   ]
  },
  {
   "cell_type": "code",
   "execution_count": 50,
   "metadata": {},
   "outputs": [
    {
     "data": {
      "text/html": [
       "<div>\n",
       "<style scoped>\n",
       "    .dataframe tbody tr th:only-of-type {\n",
       "        vertical-align: middle;\n",
       "    }\n",
       "\n",
       "    .dataframe tbody tr th {\n",
       "        vertical-align: top;\n",
       "    }\n",
       "\n",
       "    .dataframe thead th {\n",
       "        text-align: right;\n",
       "    }\n",
       "</style>\n",
       "<table border=\"1\" class=\"dataframe\">\n",
       "  <thead>\n",
       "    <tr style=\"text-align: right;\">\n",
       "      <th></th>\n",
       "      <th>Colocação</th>\n",
       "      <th>Pontos</th>\n",
       "      <th>Vitórias</th>\n",
       "      <th>Empates</th>\n",
       "      <th>Derrotas</th>\n",
       "      <th>Gols Feitos</th>\n",
       "      <th>Gols Sofridos</th>\n",
       "      <th>Saldos de Gols</th>\n",
       "      <th>Cartões Amarelos</th>\n",
       "      <th>Cartões Vermelhos</th>\n",
       "      <th>Aproveitamento (%)</th>\n",
       "    </tr>\n",
       "    <tr>\n",
       "      <th>Clube</th>\n",
       "      <th></th>\n",
       "      <th></th>\n",
       "      <th></th>\n",
       "      <th></th>\n",
       "      <th></th>\n",
       "      <th></th>\n",
       "      <th></th>\n",
       "      <th></th>\n",
       "      <th></th>\n",
       "      <th></th>\n",
       "      <th></th>\n",
       "    </tr>\n",
       "  </thead>\n",
       "  <tbody>\n",
       "    <tr>\n",
       "      <th>Palmeiras - SP</th>\n",
       "      <td>5.6</td>\n",
       "      <td>63.5</td>\n",
       "      <td>18.2</td>\n",
       "      <td>9.0</td>\n",
       "      <td>10.8</td>\n",
       "      <td>56.4</td>\n",
       "      <td>39.9</td>\n",
       "      <td>16.5</td>\n",
       "      <td>94.1</td>\n",
       "      <td>5.5</td>\n",
       "      <td>55.3</td>\n",
       "    </tr>\n",
       "    <tr>\n",
       "      <th>Flamengo - RJ</th>\n",
       "      <td>6.1</td>\n",
       "      <td>62.9</td>\n",
       "      <td>18.0</td>\n",
       "      <td>9.2</td>\n",
       "      <td>10.8</td>\n",
       "      <td>56.0</td>\n",
       "      <td>41.3</td>\n",
       "      <td>14.7</td>\n",
       "      <td>79.2</td>\n",
       "      <td>4.8</td>\n",
       "      <td>54.7</td>\n",
       "    </tr>\n",
       "    <tr>\n",
       "      <th>Atlético Mineiro - MG</th>\n",
       "      <td>5.2</td>\n",
       "      <td>63.2</td>\n",
       "      <td>17.8</td>\n",
       "      <td>9.8</td>\n",
       "      <td>10.4</td>\n",
       "      <td>55.8</td>\n",
       "      <td>41.8</td>\n",
       "      <td>14.0</td>\n",
       "      <td>88.8</td>\n",
       "      <td>5.0</td>\n",
       "      <td>55.1</td>\n",
       "    </tr>\n",
       "    <tr>\n",
       "      <th>Grêmio - RS</th>\n",
       "      <td>5.5</td>\n",
       "      <td>61.9</td>\n",
       "      <td>17.4</td>\n",
       "      <td>9.8</td>\n",
       "      <td>10.8</td>\n",
       "      <td>50.4</td>\n",
       "      <td>37.9</td>\n",
       "      <td>12.5</td>\n",
       "      <td>88.5</td>\n",
       "      <td>4.7</td>\n",
       "      <td>53.8</td>\n",
       "    </tr>\n",
       "    <tr>\n",
       "      <th>Corinthians - SP</th>\n",
       "      <td>7.0</td>\n",
       "      <td>58.9</td>\n",
       "      <td>15.7</td>\n",
       "      <td>11.9</td>\n",
       "      <td>10.4</td>\n",
       "      <td>45.7</td>\n",
       "      <td>35.8</td>\n",
       "      <td>9.9</td>\n",
       "      <td>76.3</td>\n",
       "      <td>3.7</td>\n",
       "      <td>51.3</td>\n",
       "    </tr>\n",
       "  </tbody>\n",
       "</table>\n",
       "</div>"
      ],
      "text/plain": [
       "                       Colocação  Pontos  Vitórias  Empates  Derrotas  \\\n",
       "Clube                                                                   \n",
       "Palmeiras - SP               5.6    63.5      18.2      9.0      10.8   \n",
       "Flamengo - RJ                6.1    62.9      18.0      9.2      10.8   \n",
       "Atlético Mineiro - MG        5.2    63.2      17.8      9.8      10.4   \n",
       "Grêmio - RS                  5.5    61.9      17.4      9.8      10.8   \n",
       "Corinthians - SP             7.0    58.9      15.7     11.9      10.4   \n",
       "\n",
       "                       Gols Feitos  Gols Sofridos  Saldos de Gols  \\\n",
       "Clube                                                               \n",
       "Palmeiras - SP                56.4           39.9            16.5   \n",
       "Flamengo - RJ                 56.0           41.3            14.7   \n",
       "Atlético Mineiro - MG         55.8           41.8            14.0   \n",
       "Grêmio - RS                   50.4           37.9            12.5   \n",
       "Corinthians - SP              45.7           35.8             9.9   \n",
       "\n",
       "                       Cartões Amarelos  Cartões Vermelhos  Aproveitamento (%)  \n",
       "Clube                                                                           \n",
       "Palmeiras - SP                     94.1                5.5                55.3  \n",
       "Flamengo - RJ                      79.2                4.8                54.7  \n",
       "Atlético Mineiro - MG              88.8                5.0                55.1  \n",
       "Grêmio - RS                        88.5                4.7                53.8  \n",
       "Corinthians - SP                   76.3                3.7                51.3  "
      ]
     },
     "execution_count": 50,
     "metadata": {},
     "output_type": "execute_result"
    }
   ],
   "source": [
    "media_com_filtro.sort_values('Saldos de Gols', ascending=False).head()"
   ]
  },
  {
   "cell_type": "markdown",
   "metadata": {},
   "source": [
    "<h2>17.1 - Identificar OS TIMES com MENOR SALDO DE GOLS na MÉDIA.</h2>"
   ]
  },
  {
   "cell_type": "code",
   "execution_count": 51,
   "metadata": {},
   "outputs": [
    {
     "data": {
      "text/html": [
       "<div>\n",
       "<style scoped>\n",
       "    .dataframe tbody tr th:only-of-type {\n",
       "        vertical-align: middle;\n",
       "    }\n",
       "\n",
       "    .dataframe tbody tr th {\n",
       "        vertical-align: top;\n",
       "    }\n",
       "\n",
       "    .dataframe thead th {\n",
       "        text-align: right;\n",
       "    }\n",
       "</style>\n",
       "<table border=\"1\" class=\"dataframe\">\n",
       "  <thead>\n",
       "    <tr style=\"text-align: right;\">\n",
       "      <th></th>\n",
       "      <th>Colocação</th>\n",
       "      <th>Pontos</th>\n",
       "      <th>Vitórias</th>\n",
       "      <th>Empates</th>\n",
       "      <th>Derrotas</th>\n",
       "      <th>Gols Feitos</th>\n",
       "      <th>Gols Sofridos</th>\n",
       "      <th>Saldos de Gols</th>\n",
       "      <th>Cartões Amarelos</th>\n",
       "      <th>Cartões Vermelhos</th>\n",
       "      <th>Aproveitamento (%)</th>\n",
       "    </tr>\n",
       "    <tr>\n",
       "      <th>Clube</th>\n",
       "      <th></th>\n",
       "      <th></th>\n",
       "      <th></th>\n",
       "      <th></th>\n",
       "      <th></th>\n",
       "      <th></th>\n",
       "      <th></th>\n",
       "      <th></th>\n",
       "      <th></th>\n",
       "      <th></th>\n",
       "      <th></th>\n",
       "    </tr>\n",
       "  </thead>\n",
       "  <tbody>\n",
       "    <tr>\n",
       "      <th>Avaí - SC</th>\n",
       "      <td>18.5</td>\n",
       "      <td>35.0</td>\n",
       "      <td>8.2</td>\n",
       "      <td>10.2</td>\n",
       "      <td>19.5</td>\n",
       "      <td>29.8</td>\n",
       "      <td>57.5</td>\n",
       "      <td>-27.8</td>\n",
       "      <td>95.5</td>\n",
       "      <td>5.5</td>\n",
       "      <td>30.0</td>\n",
       "    </tr>\n",
       "    <tr>\n",
       "      <th>Figueirense - SC</th>\n",
       "      <td>16.8</td>\n",
       "      <td>39.2</td>\n",
       "      <td>9.8</td>\n",
       "      <td>10.0</td>\n",
       "      <td>18.2</td>\n",
       "      <td>35.5</td>\n",
       "      <td>54.8</td>\n",
       "      <td>-19.2</td>\n",
       "      <td>96.0</td>\n",
       "      <td>8.0</td>\n",
       "      <td>34.0</td>\n",
       "    </tr>\n",
       "    <tr>\n",
       "      <th>América - MG</th>\n",
       "      <td>15.0</td>\n",
       "      <td>39.6</td>\n",
       "      <td>10.0</td>\n",
       "      <td>9.6</td>\n",
       "      <td>18.4</td>\n",
       "      <td>35.2</td>\n",
       "      <td>52.6</td>\n",
       "      <td>-17.4</td>\n",
       "      <td>78.0</td>\n",
       "      <td>5.8</td>\n",
       "      <td>34.4</td>\n",
       "    </tr>\n",
       "    <tr>\n",
       "      <th>Atlético Goianiense - GO</th>\n",
       "      <td>15.8</td>\n",
       "      <td>41.0</td>\n",
       "      <td>9.8</td>\n",
       "      <td>11.6</td>\n",
       "      <td>16.6</td>\n",
       "      <td>37.4</td>\n",
       "      <td>52.2</td>\n",
       "      <td>-14.8</td>\n",
       "      <td>93.8</td>\n",
       "      <td>6.2</td>\n",
       "      <td>35.4</td>\n",
       "    </tr>\n",
       "    <tr>\n",
       "      <th>Chapecoense - SC</th>\n",
       "      <td>14.4</td>\n",
       "      <td>41.0</td>\n",
       "      <td>10.0</td>\n",
       "      <td>11.0</td>\n",
       "      <td>17.0</td>\n",
       "      <td>37.3</td>\n",
       "      <td>51.7</td>\n",
       "      <td>-14.4</td>\n",
       "      <td>80.9</td>\n",
       "      <td>4.0</td>\n",
       "      <td>35.7</td>\n",
       "    </tr>\n",
       "  </tbody>\n",
       "</table>\n",
       "</div>"
      ],
      "text/plain": [
       "                          Colocação  Pontos  Vitórias  Empates  Derrotas  \\\n",
       "Clube                                                                      \n",
       "Avaí - SC                      18.5    35.0       8.2     10.2      19.5   \n",
       "Figueirense - SC               16.8    39.2       9.8     10.0      18.2   \n",
       "América - MG                   15.0    39.6      10.0      9.6      18.4   \n",
       "Atlético Goianiense - GO       15.8    41.0       9.8     11.6      16.6   \n",
       "Chapecoense - SC               14.4    41.0      10.0     11.0      17.0   \n",
       "\n",
       "                          Gols Feitos  Gols Sofridos  Saldos de Gols  \\\n",
       "Clube                                                                  \n",
       "Avaí - SC                        29.8           57.5           -27.8   \n",
       "Figueirense - SC                 35.5           54.8           -19.2   \n",
       "América - MG                     35.2           52.6           -17.4   \n",
       "Atlético Goianiense - GO         37.4           52.2           -14.8   \n",
       "Chapecoense - SC                 37.3           51.7           -14.4   \n",
       "\n",
       "                          Cartões Amarelos  Cartões Vermelhos  \\\n",
       "Clube                                                           \n",
       "Avaí - SC                             95.5                5.5   \n",
       "Figueirense - SC                      96.0                8.0   \n",
       "América - MG                          78.0                5.8   \n",
       "Atlético Goianiense - GO              93.8                6.2   \n",
       "Chapecoense - SC                      80.9                4.0   \n",
       "\n",
       "                          Aproveitamento (%)  \n",
       "Clube                                         \n",
       "Avaí - SC                               30.0  \n",
       "Figueirense - SC                        34.0  \n",
       "América - MG                            34.4  \n",
       "Atlético Goianiense - GO                35.4  \n",
       "Chapecoense - SC                        35.7  "
      ]
     },
     "execution_count": 51,
     "metadata": {},
     "output_type": "execute_result"
    }
   ],
   "source": [
    "media_com_filtro.sort_values('Saldos de Gols').head()"
   ]
  },
  {
   "cell_type": "code",
   "execution_count": 52,
   "metadata": {},
   "outputs": [
    {
     "data": {
      "application/vnd.plotly.v1+json": {
       "config": {
        "plotlyServerURL": "https://plot.ly"
       },
       "data": [
        {
         "alignmentgroup": "True",
         "hovertemplate": "Clube=%{x}<br>Saldos de Gols=%{y}<extra></extra>",
         "legendgroup": "América - MG",
         "marker": {
          "color": "#636efa",
          "pattern": {
           "shape": ""
          }
         },
         "name": "América - MG",
         "offsetgroup": "América - MG",
         "orientation": "v",
         "showlegend": true,
         "textposition": "auto",
         "type": "bar",
         "x": [
          "América - MG"
         ],
         "xaxis": "x",
         "y": [
          -17.4
         ],
         "yaxis": "y"
        },
        {
         "alignmentgroup": "True",
         "hovertemplate": "Clube=%{x}<br>Saldos de Gols=%{y}<extra></extra>",
         "legendgroup": "Athletico Paranaense - PR",
         "marker": {
          "color": "#EF553B",
          "pattern": {
           "shape": ""
          }
         },
         "name": "Athletico Paranaense - PR",
         "offsetgroup": "Athletico Paranaense - PR",
         "orientation": "v",
         "showlegend": true,
         "textposition": "auto",
         "type": "bar",
         "x": [
          "Athletico Paranaense - PR"
         ],
         "xaxis": "x",
         "y": [
          5.6
         ],
         "yaxis": "y"
        },
        {
         "alignmentgroup": "True",
         "hovertemplate": "Clube=%{x}<br>Saldos de Gols=%{y}<extra></extra>",
         "legendgroup": "Atlético Goianiense - GO",
         "marker": {
          "color": "#00cc96",
          "pattern": {
           "shape": ""
          }
         },
         "name": "Atlético Goianiense - GO",
         "offsetgroup": "Atlético Goianiense - GO",
         "orientation": "v",
         "showlegend": true,
         "textposition": "auto",
         "type": "bar",
         "x": [
          "Atlético Goianiense - GO"
         ],
         "xaxis": "x",
         "y": [
          -14.8
         ],
         "yaxis": "y"
        },
        {
         "alignmentgroup": "True",
         "hovertemplate": "Clube=%{x}<br>Saldos de Gols=%{y}<extra></extra>",
         "legendgroup": "Atlético Mineiro - MG",
         "marker": {
          "color": "#ab63fa",
          "pattern": {
           "shape": ""
          }
         },
         "name": "Atlético Mineiro - MG",
         "offsetgroup": "Atlético Mineiro - MG",
         "orientation": "v",
         "showlegend": true,
         "textposition": "auto",
         "type": "bar",
         "x": [
          "Atlético Mineiro - MG"
         ],
         "xaxis": "x",
         "y": [
          14
         ],
         "yaxis": "y"
        },
        {
         "alignmentgroup": "True",
         "hovertemplate": "Clube=%{x}<br>Saldos de Gols=%{y}<extra></extra>",
         "legendgroup": "Avaí - SC",
         "marker": {
          "color": "#FFA15A",
          "pattern": {
           "shape": ""
          }
         },
         "name": "Avaí - SC",
         "offsetgroup": "Avaí - SC",
         "orientation": "v",
         "showlegend": true,
         "textposition": "auto",
         "type": "bar",
         "x": [
          "Avaí - SC"
         ],
         "xaxis": "x",
         "y": [
          -27.8
         ],
         "yaxis": "y"
        },
        {
         "alignmentgroup": "True",
         "hovertemplate": "Clube=%{x}<br>Saldos de Gols=%{y}<extra></extra>",
         "legendgroup": "Bahia - BA",
         "marker": {
          "color": "#19d3f3",
          "pattern": {
           "shape": ""
          }
         },
         "name": "Bahia - BA",
         "offsetgroup": "Bahia - BA",
         "orientation": "v",
         "showlegend": true,
         "textposition": "auto",
         "type": "bar",
         "x": [
          "Bahia - BA"
         ],
         "xaxis": "x",
         "y": [
          -5.1
         ],
         "yaxis": "y"
        },
        {
         "alignmentgroup": "True",
         "hovertemplate": "Clube=%{x}<br>Saldos de Gols=%{y}<extra></extra>",
         "legendgroup": "Botafogo - RJ",
         "marker": {
          "color": "#FF6692",
          "pattern": {
           "shape": ""
          }
         },
         "name": "Botafogo - RJ",
         "offsetgroup": "Botafogo - RJ",
         "orientation": "v",
         "showlegend": true,
         "textposition": "auto",
         "type": "bar",
         "x": [
          "Botafogo - RJ"
         ],
         "xaxis": "x",
         "y": [
          -1.9
         ],
         "yaxis": "y"
        },
        {
         "alignmentgroup": "True",
         "hovertemplate": "Clube=%{x}<br>Saldos de Gols=%{y}<extra></extra>",
         "legendgroup": "Ceará - CE",
         "marker": {
          "color": "#B6E880",
          "pattern": {
           "shape": ""
          }
         },
         "name": "Ceará - CE",
         "offsetgroup": "Ceará - CE",
         "orientation": "v",
         "showlegend": true,
         "textposition": "auto",
         "type": "bar",
         "x": [
          "Ceará - CE"
         ],
         "xaxis": "x",
         "y": [
          -2.8
         ],
         "yaxis": "y"
        },
        {
         "alignmentgroup": "True",
         "hovertemplate": "Clube=%{x}<br>Saldos de Gols=%{y}<extra></extra>",
         "legendgroup": "Chapecoense - SC",
         "marker": {
          "color": "#FF97FF",
          "pattern": {
           "shape": ""
          }
         },
         "name": "Chapecoense - SC",
         "offsetgroup": "Chapecoense - SC",
         "orientation": "v",
         "showlegend": true,
         "textposition": "auto",
         "type": "bar",
         "x": [
          "Chapecoense - SC"
         ],
         "xaxis": "x",
         "y": [
          -14.4
         ],
         "yaxis": "y"
        },
        {
         "alignmentgroup": "True",
         "hovertemplate": "Clube=%{x}<br>Saldos de Gols=%{y}<extra></extra>",
         "legendgroup": "Corinthians - SP",
         "marker": {
          "color": "#FECB52",
          "pattern": {
           "shape": ""
          }
         },
         "name": "Corinthians - SP",
         "offsetgroup": "Corinthians - SP",
         "orientation": "v",
         "showlegend": true,
         "textposition": "auto",
         "type": "bar",
         "x": [
          "Corinthians - SP"
         ],
         "xaxis": "x",
         "y": [
          9.9
         ],
         "yaxis": "y"
        },
        {
         "alignmentgroup": "True",
         "hovertemplate": "Clube=%{x}<br>Saldos de Gols=%{y}<extra></extra>",
         "legendgroup": "Coritiba - PR",
         "marker": {
          "color": "#636efa",
          "pattern": {
           "shape": ""
          }
         },
         "name": "Coritiba - PR",
         "offsetgroup": "Coritiba - PR",
         "orientation": "v",
         "showlegend": true,
         "textposition": "auto",
         "type": "bar",
         "x": [
          "Coritiba - PR"
         ],
         "xaxis": "x",
         "y": [
          -12.2
         ],
         "yaxis": "y"
        },
        {
         "alignmentgroup": "True",
         "hovertemplate": "Clube=%{x}<br>Saldos de Gols=%{y}<extra></extra>",
         "legendgroup": "Cruzeiro - MG",
         "marker": {
          "color": "#EF553B",
          "pattern": {
           "shape": ""
          }
         },
         "name": "Cruzeiro - MG",
         "offsetgroup": "Cruzeiro - MG",
         "orientation": "v",
         "showlegend": true,
         "textposition": "auto",
         "type": "bar",
         "x": [
          "Cruzeiro - MG"
         ],
         "xaxis": "x",
         "y": [
          7.2
         ],
         "yaxis": "y"
        },
        {
         "alignmentgroup": "True",
         "hovertemplate": "Clube=%{x}<br>Saldos de Gols=%{y}<extra></extra>",
         "legendgroup": "Cuiabá - MT",
         "marker": {
          "color": "#00cc96",
          "pattern": {
           "shape": ""
          }
         },
         "name": "Cuiabá - MT",
         "offsetgroup": "Cuiabá - MT",
         "orientation": "v",
         "showlegend": true,
         "textposition": "auto",
         "type": "bar",
         "x": [
          "Cuiabá - MT"
         ],
         "xaxis": "x",
         "y": [
          -4.3
         ],
         "yaxis": "y"
        },
        {
         "alignmentgroup": "True",
         "hovertemplate": "Clube=%{x}<br>Saldos de Gols=%{y}<extra></extra>",
         "legendgroup": "Figueirense - SC",
         "marker": {
          "color": "#ab63fa",
          "pattern": {
           "shape": ""
          }
         },
         "name": "Figueirense - SC",
         "offsetgroup": "Figueirense - SC",
         "orientation": "v",
         "showlegend": true,
         "textposition": "auto",
         "type": "bar",
         "x": [
          "Figueirense - SC"
         ],
         "xaxis": "x",
         "y": [
          -19.2
         ],
         "yaxis": "y"
        },
        {
         "alignmentgroup": "True",
         "hovertemplate": "Clube=%{x}<br>Saldos de Gols=%{y}<extra></extra>",
         "legendgroup": "Flamengo - RJ",
         "marker": {
          "color": "#FFA15A",
          "pattern": {
           "shape": ""
          }
         },
         "name": "Flamengo - RJ",
         "offsetgroup": "Flamengo - RJ",
         "orientation": "v",
         "showlegend": true,
         "textposition": "auto",
         "type": "bar",
         "x": [
          "Flamengo - RJ"
         ],
         "xaxis": "x",
         "y": [
          14.7
         ],
         "yaxis": "y"
        },
        {
         "alignmentgroup": "True",
         "hovertemplate": "Clube=%{x}<br>Saldos de Gols=%{y}<extra></extra>",
         "legendgroup": "Fluminense - RJ",
         "marker": {
          "color": "#19d3f3",
          "pattern": {
           "shape": ""
          }
         },
         "name": "Fluminense - RJ",
         "offsetgroup": "Fluminense - RJ",
         "orientation": "v",
         "showlegend": true,
         "textposition": "auto",
         "type": "bar",
         "x": [
          "Fluminense - RJ"
         ],
         "xaxis": "x",
         "y": [
          4
         ],
         "yaxis": "y"
        },
        {
         "alignmentgroup": "True",
         "hovertemplate": "Clube=%{x}<br>Saldos de Gols=%{y}<extra></extra>",
         "legendgroup": "Fortaleza - CE",
         "marker": {
          "color": "#FF6692",
          "pattern": {
           "shape": ""
          }
         },
         "name": "Fortaleza - CE",
         "offsetgroup": "Fortaleza - CE",
         "orientation": "v",
         "showlegend": true,
         "textposition": "auto",
         "type": "bar",
         "x": [
          "Fortaleza - CE"
         ],
         "xaxis": "x",
         "y": [
          -0.4
         ],
         "yaxis": "y"
        },
        {
         "alignmentgroup": "True",
         "hovertemplate": "Clube=%{x}<br>Saldos de Gols=%{y}<extra></extra>",
         "legendgroup": "Goiás - GO",
         "marker": {
          "color": "#B6E880",
          "pattern": {
           "shape": ""
          }
         },
         "name": "Goiás - GO",
         "offsetgroup": "Goiás - GO",
         "orientation": "v",
         "showlegend": true,
         "textposition": "auto",
         "type": "bar",
         "x": [
          "Goiás - GO"
         ],
         "xaxis": "x",
         "y": [
          -11.1
         ],
         "yaxis": "y"
        },
        {
         "alignmentgroup": "True",
         "hovertemplate": "Clube=%{x}<br>Saldos de Gols=%{y}<extra></extra>",
         "legendgroup": "Grêmio - RS",
         "marker": {
          "color": "#FF97FF",
          "pattern": {
           "shape": ""
          }
         },
         "name": "Grêmio - RS",
         "offsetgroup": "Grêmio - RS",
         "orientation": "v",
         "showlegend": true,
         "textposition": "auto",
         "type": "bar",
         "x": [
          "Grêmio - RS"
         ],
         "xaxis": "x",
         "y": [
          12.5
         ],
         "yaxis": "y"
        },
        {
         "alignmentgroup": "True",
         "hovertemplate": "Clube=%{x}<br>Saldos de Gols=%{y}<extra></extra>",
         "legendgroup": "Internacional - RS",
         "marker": {
          "color": "#FECB52",
          "pattern": {
           "shape": ""
          }
         },
         "name": "Internacional - RS",
         "offsetgroup": "Internacional - RS",
         "orientation": "v",
         "showlegend": true,
         "textposition": "auto",
         "type": "bar",
         "x": [
          "Internacional - RS"
         ],
         "xaxis": "x",
         "y": [
          8.5
         ],
         "yaxis": "y"
        },
        {
         "alignmentgroup": "True",
         "hovertemplate": "Clube=%{x}<br>Saldos de Gols=%{y}<extra></extra>",
         "legendgroup": "Palmeiras - SP",
         "marker": {
          "color": "#636efa",
          "pattern": {
           "shape": ""
          }
         },
         "name": "Palmeiras - SP",
         "offsetgroup": "Palmeiras - SP",
         "orientation": "v",
         "showlegend": true,
         "textposition": "auto",
         "type": "bar",
         "x": [
          "Palmeiras - SP"
         ],
         "xaxis": "x",
         "y": [
          16.5
         ],
         "yaxis": "y"
        },
        {
         "alignmentgroup": "True",
         "hovertemplate": "Clube=%{x}<br>Saldos de Gols=%{y}<extra></extra>",
         "legendgroup": "Ponte Preta - SP",
         "marker": {
          "color": "#EF553B",
          "pattern": {
           "shape": ""
          }
         },
         "name": "Ponte Preta - SP",
         "offsetgroup": "Ponte Preta - SP",
         "orientation": "v",
         "showlegend": true,
         "textposition": "auto",
         "type": "bar",
         "x": [
          "Ponte Preta - SP"
         ],
         "xaxis": "x",
         "y": [
          -8.6
         ],
         "yaxis": "y"
        },
        {
         "alignmentgroup": "True",
         "hovertemplate": "Clube=%{x}<br>Saldos de Gols=%{y}<extra></extra>",
         "legendgroup": "Red Bull Bragantino - SP",
         "marker": {
          "color": "#00cc96",
          "pattern": {
           "shape": ""
          }
         },
         "name": "Red Bull Bragantino - SP",
         "offsetgroup": "Red Bull Bragantino - SP",
         "orientation": "v",
         "showlegend": true,
         "textposition": "auto",
         "type": "bar",
         "x": [
          "Red Bull Bragantino - SP"
         ],
         "xaxis": "x",
         "y": [
          5.8
         ],
         "yaxis": "y"
        },
        {
         "alignmentgroup": "True",
         "hovertemplate": "Clube=%{x}<br>Saldos de Gols=%{y}<extra></extra>",
         "legendgroup": "Santos - SP",
         "marker": {
          "color": "#ab63fa",
          "pattern": {
           "shape": ""
          }
         },
         "name": "Santos - SP",
         "offsetgroup": "Santos - SP",
         "orientation": "v",
         "showlegend": true,
         "textposition": "auto",
         "type": "bar",
         "x": [
          "Santos - SP"
         ],
         "xaxis": "x",
         "y": [
          7.1
         ],
         "yaxis": "y"
        },
        {
         "alignmentgroup": "True",
         "hovertemplate": "Clube=%{x}<br>Saldos de Gols=%{y}<extra></extra>",
         "legendgroup": "Sport - PE",
         "marker": {
          "color": "#FFA15A",
          "pattern": {
           "shape": ""
          }
         },
         "name": "Sport - PE",
         "offsetgroup": "Sport - PE",
         "orientation": "v",
         "showlegend": true,
         "textposition": "auto",
         "type": "bar",
         "x": [
          "Sport - PE"
         ],
         "xaxis": "x",
         "y": [
          -10.5
         ],
         "yaxis": "y"
        },
        {
         "alignmentgroup": "True",
         "hovertemplate": "Clube=%{x}<br>Saldos de Gols=%{y}<extra></extra>",
         "legendgroup": "São Paulo - SP",
         "marker": {
          "color": "#19d3f3",
          "pattern": {
           "shape": ""
          }
         },
         "name": "São Paulo - SP",
         "offsetgroup": "São Paulo - SP",
         "orientation": "v",
         "showlegend": true,
         "textposition": "auto",
         "type": "bar",
         "x": [
          "São Paulo - SP"
         ],
         "xaxis": "x",
         "y": [
          8.2
         ],
         "yaxis": "y"
        },
        {
         "alignmentgroup": "True",
         "hovertemplate": "Clube=%{x}<br>Saldos de Gols=%{y}<extra></extra>",
         "legendgroup": "Vasco da Gama - RJ",
         "marker": {
          "color": "#FF6692",
          "pattern": {
           "shape": ""
          }
         },
         "name": "Vasco da Gama - RJ",
         "offsetgroup": "Vasco da Gama - RJ",
         "orientation": "v",
         "showlegend": true,
         "textposition": "auto",
         "type": "bar",
         "x": [
          "Vasco da Gama - RJ"
         ],
         "xaxis": "x",
         "y": [
          -10.6
         ],
         "yaxis": "y"
        },
        {
         "alignmentgroup": "True",
         "hovertemplate": "Clube=%{x}<br>Saldos de Gols=%{y}<extra></extra>",
         "legendgroup": "Vitória - BA",
         "marker": {
          "color": "#B6E880",
          "pattern": {
           "shape": ""
          }
         },
         "name": "Vitória - BA",
         "offsetgroup": "Vitória - BA",
         "orientation": "v",
         "showlegend": true,
         "textposition": "auto",
         "type": "bar",
         "x": [
          "Vitória - BA"
         ],
         "xaxis": "x",
         "y": [
          -9.6
         ],
         "yaxis": "y"
        }
       ],
       "layout": {
        "barmode": "relative",
        "legend": {
         "title": {
          "text": "Clube"
         },
         "tracegroupgap": 0
        },
        "showlegend": false,
        "template": {
         "data": {
          "bar": [
           {
            "error_x": {
             "color": "#2a3f5f"
            },
            "error_y": {
             "color": "#2a3f5f"
            },
            "marker": {
             "line": {
              "color": "#E5ECF6",
              "width": 0.5
             },
             "pattern": {
              "fillmode": "overlay",
              "size": 10,
              "solidity": 0.2
             }
            },
            "type": "bar"
           }
          ],
          "barpolar": [
           {
            "marker": {
             "line": {
              "color": "#E5ECF6",
              "width": 0.5
             },
             "pattern": {
              "fillmode": "overlay",
              "size": 10,
              "solidity": 0.2
             }
            },
            "type": "barpolar"
           }
          ],
          "carpet": [
           {
            "aaxis": {
             "endlinecolor": "#2a3f5f",
             "gridcolor": "white",
             "linecolor": "white",
             "minorgridcolor": "white",
             "startlinecolor": "#2a3f5f"
            },
            "baxis": {
             "endlinecolor": "#2a3f5f",
             "gridcolor": "white",
             "linecolor": "white",
             "minorgridcolor": "white",
             "startlinecolor": "#2a3f5f"
            },
            "type": "carpet"
           }
          ],
          "choropleth": [
           {
            "colorbar": {
             "outlinewidth": 0,
             "ticks": ""
            },
            "type": "choropleth"
           }
          ],
          "contour": [
           {
            "colorbar": {
             "outlinewidth": 0,
             "ticks": ""
            },
            "colorscale": [
             [
              0,
              "#0d0887"
             ],
             [
              0.1111111111111111,
              "#46039f"
             ],
             [
              0.2222222222222222,
              "#7201a8"
             ],
             [
              0.3333333333333333,
              "#9c179e"
             ],
             [
              0.4444444444444444,
              "#bd3786"
             ],
             [
              0.5555555555555556,
              "#d8576b"
             ],
             [
              0.6666666666666666,
              "#ed7953"
             ],
             [
              0.7777777777777778,
              "#fb9f3a"
             ],
             [
              0.8888888888888888,
              "#fdca26"
             ],
             [
              1,
              "#f0f921"
             ]
            ],
            "type": "contour"
           }
          ],
          "contourcarpet": [
           {
            "colorbar": {
             "outlinewidth": 0,
             "ticks": ""
            },
            "type": "contourcarpet"
           }
          ],
          "heatmap": [
           {
            "colorbar": {
             "outlinewidth": 0,
             "ticks": ""
            },
            "colorscale": [
             [
              0,
              "#0d0887"
             ],
             [
              0.1111111111111111,
              "#46039f"
             ],
             [
              0.2222222222222222,
              "#7201a8"
             ],
             [
              0.3333333333333333,
              "#9c179e"
             ],
             [
              0.4444444444444444,
              "#bd3786"
             ],
             [
              0.5555555555555556,
              "#d8576b"
             ],
             [
              0.6666666666666666,
              "#ed7953"
             ],
             [
              0.7777777777777778,
              "#fb9f3a"
             ],
             [
              0.8888888888888888,
              "#fdca26"
             ],
             [
              1,
              "#f0f921"
             ]
            ],
            "type": "heatmap"
           }
          ],
          "heatmapgl": [
           {
            "colorbar": {
             "outlinewidth": 0,
             "ticks": ""
            },
            "colorscale": [
             [
              0,
              "#0d0887"
             ],
             [
              0.1111111111111111,
              "#46039f"
             ],
             [
              0.2222222222222222,
              "#7201a8"
             ],
             [
              0.3333333333333333,
              "#9c179e"
             ],
             [
              0.4444444444444444,
              "#bd3786"
             ],
             [
              0.5555555555555556,
              "#d8576b"
             ],
             [
              0.6666666666666666,
              "#ed7953"
             ],
             [
              0.7777777777777778,
              "#fb9f3a"
             ],
             [
              0.8888888888888888,
              "#fdca26"
             ],
             [
              1,
              "#f0f921"
             ]
            ],
            "type": "heatmapgl"
           }
          ],
          "histogram": [
           {
            "marker": {
             "pattern": {
              "fillmode": "overlay",
              "size": 10,
              "solidity": 0.2
             }
            },
            "type": "histogram"
           }
          ],
          "histogram2d": [
           {
            "colorbar": {
             "outlinewidth": 0,
             "ticks": ""
            },
            "colorscale": [
             [
              0,
              "#0d0887"
             ],
             [
              0.1111111111111111,
              "#46039f"
             ],
             [
              0.2222222222222222,
              "#7201a8"
             ],
             [
              0.3333333333333333,
              "#9c179e"
             ],
             [
              0.4444444444444444,
              "#bd3786"
             ],
             [
              0.5555555555555556,
              "#d8576b"
             ],
             [
              0.6666666666666666,
              "#ed7953"
             ],
             [
              0.7777777777777778,
              "#fb9f3a"
             ],
             [
              0.8888888888888888,
              "#fdca26"
             ],
             [
              1,
              "#f0f921"
             ]
            ],
            "type": "histogram2d"
           }
          ],
          "histogram2dcontour": [
           {
            "colorbar": {
             "outlinewidth": 0,
             "ticks": ""
            },
            "colorscale": [
             [
              0,
              "#0d0887"
             ],
             [
              0.1111111111111111,
              "#46039f"
             ],
             [
              0.2222222222222222,
              "#7201a8"
             ],
             [
              0.3333333333333333,
              "#9c179e"
             ],
             [
              0.4444444444444444,
              "#bd3786"
             ],
             [
              0.5555555555555556,
              "#d8576b"
             ],
             [
              0.6666666666666666,
              "#ed7953"
             ],
             [
              0.7777777777777778,
              "#fb9f3a"
             ],
             [
              0.8888888888888888,
              "#fdca26"
             ],
             [
              1,
              "#f0f921"
             ]
            ],
            "type": "histogram2dcontour"
           }
          ],
          "mesh3d": [
           {
            "colorbar": {
             "outlinewidth": 0,
             "ticks": ""
            },
            "type": "mesh3d"
           }
          ],
          "parcoords": [
           {
            "line": {
             "colorbar": {
              "outlinewidth": 0,
              "ticks": ""
             }
            },
            "type": "parcoords"
           }
          ],
          "pie": [
           {
            "automargin": true,
            "type": "pie"
           }
          ],
          "scatter": [
           {
            "fillpattern": {
             "fillmode": "overlay",
             "size": 10,
             "solidity": 0.2
            },
            "type": "scatter"
           }
          ],
          "scatter3d": [
           {
            "line": {
             "colorbar": {
              "outlinewidth": 0,
              "ticks": ""
             }
            },
            "marker": {
             "colorbar": {
              "outlinewidth": 0,
              "ticks": ""
             }
            },
            "type": "scatter3d"
           }
          ],
          "scattercarpet": [
           {
            "marker": {
             "colorbar": {
              "outlinewidth": 0,
              "ticks": ""
             }
            },
            "type": "scattercarpet"
           }
          ],
          "scattergeo": [
           {
            "marker": {
             "colorbar": {
              "outlinewidth": 0,
              "ticks": ""
             }
            },
            "type": "scattergeo"
           }
          ],
          "scattergl": [
           {
            "marker": {
             "colorbar": {
              "outlinewidth": 0,
              "ticks": ""
             }
            },
            "type": "scattergl"
           }
          ],
          "scattermapbox": [
           {
            "marker": {
             "colorbar": {
              "outlinewidth": 0,
              "ticks": ""
             }
            },
            "type": "scattermapbox"
           }
          ],
          "scatterpolar": [
           {
            "marker": {
             "colorbar": {
              "outlinewidth": 0,
              "ticks": ""
             }
            },
            "type": "scatterpolar"
           }
          ],
          "scatterpolargl": [
           {
            "marker": {
             "colorbar": {
              "outlinewidth": 0,
              "ticks": ""
             }
            },
            "type": "scatterpolargl"
           }
          ],
          "scatterternary": [
           {
            "marker": {
             "colorbar": {
              "outlinewidth": 0,
              "ticks": ""
             }
            },
            "type": "scatterternary"
           }
          ],
          "surface": [
           {
            "colorbar": {
             "outlinewidth": 0,
             "ticks": ""
            },
            "colorscale": [
             [
              0,
              "#0d0887"
             ],
             [
              0.1111111111111111,
              "#46039f"
             ],
             [
              0.2222222222222222,
              "#7201a8"
             ],
             [
              0.3333333333333333,
              "#9c179e"
             ],
             [
              0.4444444444444444,
              "#bd3786"
             ],
             [
              0.5555555555555556,
              "#d8576b"
             ],
             [
              0.6666666666666666,
              "#ed7953"
             ],
             [
              0.7777777777777778,
              "#fb9f3a"
             ],
             [
              0.8888888888888888,
              "#fdca26"
             ],
             [
              1,
              "#f0f921"
             ]
            ],
            "type": "surface"
           }
          ],
          "table": [
           {
            "cells": {
             "fill": {
              "color": "#EBF0F8"
             },
             "line": {
              "color": "white"
             }
            },
            "header": {
             "fill": {
              "color": "#C8D4E3"
             },
             "line": {
              "color": "white"
             }
            },
            "type": "table"
           }
          ]
         },
         "layout": {
          "annotationdefaults": {
           "arrowcolor": "#2a3f5f",
           "arrowhead": 0,
           "arrowwidth": 1
          },
          "autotypenumbers": "strict",
          "coloraxis": {
           "colorbar": {
            "outlinewidth": 0,
            "ticks": ""
           }
          },
          "colorscale": {
           "diverging": [
            [
             0,
             "#8e0152"
            ],
            [
             0.1,
             "#c51b7d"
            ],
            [
             0.2,
             "#de77ae"
            ],
            [
             0.3,
             "#f1b6da"
            ],
            [
             0.4,
             "#fde0ef"
            ],
            [
             0.5,
             "#f7f7f7"
            ],
            [
             0.6,
             "#e6f5d0"
            ],
            [
             0.7,
             "#b8e186"
            ],
            [
             0.8,
             "#7fbc41"
            ],
            [
             0.9,
             "#4d9221"
            ],
            [
             1,
             "#276419"
            ]
           ],
           "sequential": [
            [
             0,
             "#0d0887"
            ],
            [
             0.1111111111111111,
             "#46039f"
            ],
            [
             0.2222222222222222,
             "#7201a8"
            ],
            [
             0.3333333333333333,
             "#9c179e"
            ],
            [
             0.4444444444444444,
             "#bd3786"
            ],
            [
             0.5555555555555556,
             "#d8576b"
            ],
            [
             0.6666666666666666,
             "#ed7953"
            ],
            [
             0.7777777777777778,
             "#fb9f3a"
            ],
            [
             0.8888888888888888,
             "#fdca26"
            ],
            [
             1,
             "#f0f921"
            ]
           ],
           "sequentialminus": [
            [
             0,
             "#0d0887"
            ],
            [
             0.1111111111111111,
             "#46039f"
            ],
            [
             0.2222222222222222,
             "#7201a8"
            ],
            [
             0.3333333333333333,
             "#9c179e"
            ],
            [
             0.4444444444444444,
             "#bd3786"
            ],
            [
             0.5555555555555556,
             "#d8576b"
            ],
            [
             0.6666666666666666,
             "#ed7953"
            ],
            [
             0.7777777777777778,
             "#fb9f3a"
            ],
            [
             0.8888888888888888,
             "#fdca26"
            ],
            [
             1,
             "#f0f921"
            ]
           ]
          },
          "colorway": [
           "#636efa",
           "#EF553B",
           "#00cc96",
           "#ab63fa",
           "#FFA15A",
           "#19d3f3",
           "#FF6692",
           "#B6E880",
           "#FF97FF",
           "#FECB52"
          ],
          "font": {
           "color": "#2a3f5f"
          },
          "geo": {
           "bgcolor": "white",
           "lakecolor": "white",
           "landcolor": "#E5ECF6",
           "showlakes": true,
           "showland": true,
           "subunitcolor": "white"
          },
          "hoverlabel": {
           "align": "left"
          },
          "hovermode": "closest",
          "mapbox": {
           "style": "light"
          },
          "paper_bgcolor": "white",
          "plot_bgcolor": "#E5ECF6",
          "polar": {
           "angularaxis": {
            "gridcolor": "white",
            "linecolor": "white",
            "ticks": ""
           },
           "bgcolor": "#E5ECF6",
           "radialaxis": {
            "gridcolor": "white",
            "linecolor": "white",
            "ticks": ""
           }
          },
          "scene": {
           "xaxis": {
            "backgroundcolor": "#E5ECF6",
            "gridcolor": "white",
            "gridwidth": 2,
            "linecolor": "white",
            "showbackground": true,
            "ticks": "",
            "zerolinecolor": "white"
           },
           "yaxis": {
            "backgroundcolor": "#E5ECF6",
            "gridcolor": "white",
            "gridwidth": 2,
            "linecolor": "white",
            "showbackground": true,
            "ticks": "",
            "zerolinecolor": "white"
           },
           "zaxis": {
            "backgroundcolor": "#E5ECF6",
            "gridcolor": "white",
            "gridwidth": 2,
            "linecolor": "white",
            "showbackground": true,
            "ticks": "",
            "zerolinecolor": "white"
           }
          },
          "shapedefaults": {
           "line": {
            "color": "#2a3f5f"
           }
          },
          "ternary": {
           "aaxis": {
            "gridcolor": "white",
            "linecolor": "white",
            "ticks": ""
           },
           "baxis": {
            "gridcolor": "white",
            "linecolor": "white",
            "ticks": ""
           },
           "bgcolor": "#E5ECF6",
           "caxis": {
            "gridcolor": "white",
            "linecolor": "white",
            "ticks": ""
           }
          },
          "title": {
           "x": 0.05
          },
          "xaxis": {
           "automargin": true,
           "gridcolor": "white",
           "linecolor": "white",
           "ticks": "",
           "title": {
            "standoff": 15
           },
           "zerolinecolor": "white",
           "zerolinewidth": 2
          },
          "yaxis": {
           "automargin": true,
           "gridcolor": "white",
           "linecolor": "white",
           "ticks": "",
           "title": {
            "standoff": 15
           },
           "zerolinecolor": "white",
           "zerolinewidth": 2
          }
         }
        },
        "title": {
         "text": "Média de Saldo de Gols por Equipe"
        },
        "xaxis": {
         "anchor": "y",
         "categoryarray": [
          "América - MG",
          "Athletico Paranaense - PR",
          "Atlético Goianiense - GO",
          "Atlético Mineiro - MG",
          "Avaí - SC",
          "Bahia - BA",
          "Botafogo - RJ",
          "Ceará - CE",
          "Chapecoense - SC",
          "Corinthians - SP",
          "Coritiba - PR",
          "Cruzeiro - MG",
          "Cuiabá - MT",
          "Figueirense - SC",
          "Flamengo - RJ",
          "Fluminense - RJ",
          "Fortaleza - CE",
          "Goiás - GO",
          "Grêmio - RS",
          "Internacional - RS",
          "Palmeiras - SP",
          "Ponte Preta - SP",
          "Red Bull Bragantino - SP",
          "Santos - SP",
          "Sport - PE",
          "São Paulo - SP",
          "Vasco da Gama - RJ",
          "Vitória - BA"
         ],
         "categoryorder": "array",
         "domain": [
          0,
          1
         ],
         "title": {
          "text": ""
         }
        },
        "yaxis": {
         "anchor": "x",
         "domain": [
          0,
          1
         ],
         "title": {
          "text": "Média de Saldo de Gols"
         }
        }
       }
      }
     },
     "metadata": {},
     "output_type": "display_data"
    }
   ],
   "source": [
    "fig = px.bar(media_com_filtro, x=media_com_filtro.index, y=\"Saldos de Gols\", color=media_com_filtro.index, title=\"Média de Saldo de Gols por Equipe\")\n",
    "fig.update_layout(\n",
    "    showlegend=False,\n",
    "    yaxis_title = \"Média de Saldo de Gols\",\n",
    "    xaxis_title = \"\",\n",
    ")\n",
    "fig.show()"
   ]
  },
  {
   "cell_type": "markdown",
   "metadata": {},
   "source": [
    "<h2>18 - Identificar o time c/ mais vitórias em uma edição</h2>"
   ]
  },
  {
   "cell_type": "code",
   "execution_count": 53,
   "metadata": {},
   "outputs": [
    {
     "data": {
      "text/html": [
       "<div>\n",
       "<style scoped>\n",
       "    .dataframe tbody tr th:only-of-type {\n",
       "        vertical-align: middle;\n",
       "    }\n",
       "\n",
       "    .dataframe tbody tr th {\n",
       "        vertical-align: top;\n",
       "    }\n",
       "\n",
       "    .dataframe thead th {\n",
       "        text-align: right;\n",
       "    }\n",
       "</style>\n",
       "<table border=\"1\" class=\"dataframe\">\n",
       "  <thead>\n",
       "    <tr style=\"text-align: right;\">\n",
       "      <th></th>\n",
       "      <th>Ano</th>\n",
       "      <th>Colocação</th>\n",
       "      <th>Clube</th>\n",
       "      <th>Pontos</th>\n",
       "      <th>Vitórias</th>\n",
       "      <th>Empates</th>\n",
       "      <th>Derrotas</th>\n",
       "      <th>Gols Feitos</th>\n",
       "      <th>Gols Sofridos</th>\n",
       "      <th>Saldos de Gols</th>\n",
       "      <th>Cartões Amarelos</th>\n",
       "      <th>Cartões Vermelhos</th>\n",
       "      <th>Aproveitamento (%)</th>\n",
       "    </tr>\n",
       "  </thead>\n",
       "  <tbody>\n",
       "    <tr>\n",
       "      <th>140</th>\n",
       "      <td>2019</td>\n",
       "      <td>1</td>\n",
       "      <td>Flamengo - RJ</td>\n",
       "      <td>90</td>\n",
       "      <td>28</td>\n",
       "      <td>6</td>\n",
       "      <td>4</td>\n",
       "      <td>86</td>\n",
       "      <td>37</td>\n",
       "      <td>49</td>\n",
       "      <td>90</td>\n",
       "      <td>3</td>\n",
       "      <td>78</td>\n",
       "    </tr>\n",
       "  </tbody>\n",
       "</table>\n",
       "</div>"
      ],
      "text/plain": [
       "      Ano  Colocação          Clube  Pontos  Vitórias  Empates  Derrotas  \\\n",
       "140  2019          1  Flamengo - RJ      90        28        6         4   \n",
       "\n",
       "     Gols Feitos  Gols Sofridos  Saldos de Gols  Cartões Amarelos  \\\n",
       "140           86             37              49                90   \n",
       "\n",
       "     Cartões Vermelhos  Aproveitamento (%)  \n",
       "140                  3                  78  "
      ]
     },
     "execution_count": 53,
     "metadata": {},
     "output_type": "execute_result"
    }
   ],
   "source": [
    "df[df['Vitórias'] == df['Vitórias'].max()]"
   ]
  },
  {
   "cell_type": "markdown",
   "metadata": {},
   "source": [
    "<h2>19 - Identificar o time c/ mais empates em uma edição</h2>"
   ]
  },
  {
   "cell_type": "code",
   "execution_count": 54,
   "metadata": {},
   "outputs": [
    {
     "data": {
      "text/html": [
       "<div>\n",
       "<style scoped>\n",
       "    .dataframe tbody tr th:only-of-type {\n",
       "        vertical-align: middle;\n",
       "    }\n",
       "\n",
       "    .dataframe tbody tr th {\n",
       "        vertical-align: top;\n",
       "    }\n",
       "\n",
       "    .dataframe thead th {\n",
       "        text-align: right;\n",
       "    }\n",
       "</style>\n",
       "<table border=\"1\" class=\"dataframe\">\n",
       "  <thead>\n",
       "    <tr style=\"text-align: right;\">\n",
       "      <th></th>\n",
       "      <th>Ano</th>\n",
       "      <th>Colocação</th>\n",
       "      <th>Clube</th>\n",
       "      <th>Pontos</th>\n",
       "      <th>Vitórias</th>\n",
       "      <th>Empates</th>\n",
       "      <th>Derrotas</th>\n",
       "      <th>Gols Feitos</th>\n",
       "      <th>Gols Sofridos</th>\n",
       "      <th>Saldos de Gols</th>\n",
       "      <th>Cartões Amarelos</th>\n",
       "      <th>Cartões Vermelhos</th>\n",
       "      <th>Aproveitamento (%)</th>\n",
       "    </tr>\n",
       "  </thead>\n",
       "  <tbody>\n",
       "    <tr>\n",
       "      <th>29</th>\n",
       "      <td>2013</td>\n",
       "      <td>10</td>\n",
       "      <td>Corinthians - SP</td>\n",
       "      <td>50</td>\n",
       "      <td>11</td>\n",
       "      <td>17</td>\n",
       "      <td>10</td>\n",
       "      <td>27</td>\n",
       "      <td>22</td>\n",
       "      <td>5</td>\n",
       "      <td>66</td>\n",
       "      <td>3</td>\n",
       "      <td>43</td>\n",
       "    </tr>\n",
       "    <tr>\n",
       "      <th>165</th>\n",
       "      <td>2020</td>\n",
       "      <td>6</td>\n",
       "      <td>Grêmio - RS</td>\n",
       "      <td>59</td>\n",
       "      <td>14</td>\n",
       "      <td>17</td>\n",
       "      <td>7</td>\n",
       "      <td>53</td>\n",
       "      <td>40</td>\n",
       "      <td>13</td>\n",
       "      <td>70</td>\n",
       "      <td>8</td>\n",
       "      <td>51</td>\n",
       "    </tr>\n",
       "    <tr>\n",
       "      <th>190</th>\n",
       "      <td>2021</td>\n",
       "      <td>11</td>\n",
       "      <td>Ceará - CE</td>\n",
       "      <td>50</td>\n",
       "      <td>11</td>\n",
       "      <td>17</td>\n",
       "      <td>10</td>\n",
       "      <td>39</td>\n",
       "      <td>38</td>\n",
       "      <td>1</td>\n",
       "      <td>90</td>\n",
       "      <td>5</td>\n",
       "      <td>43</td>\n",
       "    </tr>\n",
       "    <tr>\n",
       "      <th>194</th>\n",
       "      <td>2021</td>\n",
       "      <td>15</td>\n",
       "      <td>Cuiabá - MT</td>\n",
       "      <td>47</td>\n",
       "      <td>10</td>\n",
       "      <td>17</td>\n",
       "      <td>11</td>\n",
       "      <td>34</td>\n",
       "      <td>37</td>\n",
       "      <td>-3</td>\n",
       "      <td>84</td>\n",
       "      <td>7</td>\n",
       "      <td>41</td>\n",
       "    </tr>\n",
       "  </tbody>\n",
       "</table>\n",
       "</div>"
      ],
      "text/plain": [
       "      Ano  Colocação             Clube  Pontos  Vitórias  Empates  Derrotas  \\\n",
       "29   2013         10  Corinthians - SP      50        11       17        10   \n",
       "165  2020          6       Grêmio - RS      59        14       17         7   \n",
       "190  2021         11        Ceará - CE      50        11       17        10   \n",
       "194  2021         15       Cuiabá - MT      47        10       17        11   \n",
       "\n",
       "     Gols Feitos  Gols Sofridos  Saldos de Gols  Cartões Amarelos  \\\n",
       "29            27             22               5                66   \n",
       "165           53             40              13                70   \n",
       "190           39             38               1                90   \n",
       "194           34             37              -3                84   \n",
       "\n",
       "     Cartões Vermelhos  Aproveitamento (%)  \n",
       "29                   3                  43  \n",
       "165                  8                  51  \n",
       "190                  5                  43  \n",
       "194                  7                  41  "
      ]
     },
     "execution_count": 54,
     "metadata": {},
     "output_type": "execute_result"
    }
   ],
   "source": [
    "df[df['Empates'] == df['Empates'].max()]"
   ]
  },
  {
   "cell_type": "markdown",
   "metadata": {},
   "source": [
    "<h2>20 - Identificar o time c/ mais derrotas em uma edição</h2>"
   ]
  },
  {
   "cell_type": "code",
   "execution_count": 55,
   "metadata": {},
   "outputs": [
    {
     "data": {
      "text/html": [
       "<div>\n",
       "<style scoped>\n",
       "    .dataframe tbody tr th:only-of-type {\n",
       "        vertical-align: middle;\n",
       "    }\n",
       "\n",
       "    .dataframe tbody tr th {\n",
       "        vertical-align: top;\n",
       "    }\n",
       "\n",
       "    .dataframe thead th {\n",
       "        text-align: right;\n",
       "    }\n",
       "</style>\n",
       "<table border=\"1\" class=\"dataframe\">\n",
       "  <thead>\n",
       "    <tr style=\"text-align: right;\">\n",
       "      <th></th>\n",
       "      <th>Ano</th>\n",
       "      <th>Colocação</th>\n",
       "      <th>Clube</th>\n",
       "      <th>Pontos</th>\n",
       "      <th>Vitórias</th>\n",
       "      <th>Empates</th>\n",
       "      <th>Derrotas</th>\n",
       "      <th>Gols Feitos</th>\n",
       "      <th>Gols Sofridos</th>\n",
       "      <th>Saldos de Gols</th>\n",
       "      <th>Cartões Amarelos</th>\n",
       "      <th>Cartões Vermelhos</th>\n",
       "      <th>Aproveitamento (%)</th>\n",
       "    </tr>\n",
       "  </thead>\n",
       "  <tbody>\n",
       "    <tr>\n",
       "      <th>39</th>\n",
       "      <td>2013</td>\n",
       "      <td>20</td>\n",
       "      <td>Náutico - PE</td>\n",
       "      <td>20</td>\n",
       "      <td>5</td>\n",
       "      <td>5</td>\n",
       "      <td>28</td>\n",
       "      <td>22</td>\n",
       "      <td>79</td>\n",
       "      <td>-57</td>\n",
       "      <td>77</td>\n",
       "      <td>3</td>\n",
       "      <td>17</td>\n",
       "    </tr>\n",
       "  </tbody>\n",
       "</table>\n",
       "</div>"
      ],
      "text/plain": [
       "     Ano  Colocação         Clube  Pontos  Vitórias  Empates  Derrotas  \\\n",
       "39  2013         20  Náutico - PE      20         5        5        28   \n",
       "\n",
       "    Gols Feitos  Gols Sofridos  Saldos de Gols  Cartões Amarelos  \\\n",
       "39           22             79             -57                77   \n",
       "\n",
       "    Cartões Vermelhos  Aproveitamento (%)  \n",
       "39                  3                  17  "
      ]
     },
     "execution_count": 55,
     "metadata": {},
     "output_type": "execute_result"
    }
   ],
   "source": [
    "df[df['Derrotas'] == df['Derrotas'].max()]"
   ]
  },
  {
   "cell_type": "markdown",
   "metadata": {},
   "source": [
    "<h2>21 - Identificar OS TIMES C/ MAIS VITÓRIAS no TOTAL</h1>"
   ]
  },
  {
   "cell_type": "code",
   "execution_count": 56,
   "metadata": {},
   "outputs": [
    {
     "data": {
      "text/html": [
       "<div>\n",
       "<style scoped>\n",
       "    .dataframe tbody tr th:only-of-type {\n",
       "        vertical-align: middle;\n",
       "    }\n",
       "\n",
       "    .dataframe tbody tr th {\n",
       "        vertical-align: top;\n",
       "    }\n",
       "\n",
       "    .dataframe thead th {\n",
       "        text-align: right;\n",
       "    }\n",
       "</style>\n",
       "<table border=\"1\" class=\"dataframe\">\n",
       "  <thead>\n",
       "    <tr style=\"text-align: right;\">\n",
       "      <th></th>\n",
       "      <th>Pontos</th>\n",
       "      <th>Vitórias</th>\n",
       "      <th>Empates</th>\n",
       "      <th>Derrotas</th>\n",
       "      <th>Gols Feitos</th>\n",
       "      <th>Gols Sofridos</th>\n",
       "      <th>Saldos de Gols</th>\n",
       "      <th>Cartões Amarelos</th>\n",
       "      <th>Cartões Vermelhos</th>\n",
       "    </tr>\n",
       "    <tr>\n",
       "      <th>Clube</th>\n",
       "      <th></th>\n",
       "      <th></th>\n",
       "      <th></th>\n",
       "      <th></th>\n",
       "      <th></th>\n",
       "      <th></th>\n",
       "      <th></th>\n",
       "      <th></th>\n",
       "      <th></th>\n",
       "    </tr>\n",
       "  </thead>\n",
       "  <tbody>\n",
       "    <tr>\n",
       "      <th>Flamengo - RJ</th>\n",
       "      <td>755</td>\n",
       "      <td>216</td>\n",
       "      <td>111</td>\n",
       "      <td>129</td>\n",
       "      <td>672</td>\n",
       "      <td>496</td>\n",
       "      <td>176</td>\n",
       "      <td>950</td>\n",
       "      <td>58</td>\n",
       "    </tr>\n",
       "    <tr>\n",
       "      <th>Atlético Mineiro - MG</th>\n",
       "      <td>759</td>\n",
       "      <td>214</td>\n",
       "      <td>117</td>\n",
       "      <td>125</td>\n",
       "      <td>670</td>\n",
       "      <td>502</td>\n",
       "      <td>168</td>\n",
       "      <td>1066</td>\n",
       "      <td>60</td>\n",
       "    </tr>\n",
       "    <tr>\n",
       "      <th>Palmeiras - SP</th>\n",
       "      <td>699</td>\n",
       "      <td>200</td>\n",
       "      <td>99</td>\n",
       "      <td>119</td>\n",
       "      <td>620</td>\n",
       "      <td>439</td>\n",
       "      <td>181</td>\n",
       "      <td>1035</td>\n",
       "      <td>61</td>\n",
       "    </tr>\n",
       "    <tr>\n",
       "      <th>Grêmio - RS</th>\n",
       "      <td>681</td>\n",
       "      <td>191</td>\n",
       "      <td>108</td>\n",
       "      <td>119</td>\n",
       "      <td>554</td>\n",
       "      <td>417</td>\n",
       "      <td>137</td>\n",
       "      <td>974</td>\n",
       "      <td>52</td>\n",
       "    </tr>\n",
       "    <tr>\n",
       "      <th>São Paulo - SP</th>\n",
       "      <td>697</td>\n",
       "      <td>188</td>\n",
       "      <td>133</td>\n",
       "      <td>135</td>\n",
       "      <td>572</td>\n",
       "      <td>473</td>\n",
       "      <td>99</td>\n",
       "      <td>1092</td>\n",
       "      <td>72</td>\n",
       "    </tr>\n",
       "  </tbody>\n",
       "</table>\n",
       "</div>"
      ],
      "text/plain": [
       "                       Pontos  Vitórias  Empates  Derrotas  Gols Feitos  \\\n",
       "Clube                                                                     \n",
       "Flamengo - RJ             755       216      111       129          672   \n",
       "Atlético Mineiro - MG     759       214      117       125          670   \n",
       "Palmeiras - SP            699       200       99       119          620   \n",
       "Grêmio - RS               681       191      108       119          554   \n",
       "São Paulo - SP            697       188      133       135          572   \n",
       "\n",
       "                       Gols Sofridos  Saldos de Gols  Cartões Amarelos  \\\n",
       "Clube                                                                    \n",
       "Flamengo - RJ                    496             176               950   \n",
       "Atlético Mineiro - MG            502             168              1066   \n",
       "Palmeiras - SP                   439             181              1035   \n",
       "Grêmio - RS                      417             137               974   \n",
       "São Paulo - SP                   473              99              1092   \n",
       "\n",
       "                       Cartões Vermelhos  \n",
       "Clube                                     \n",
       "Flamengo - RJ                         58  \n",
       "Atlético Mineiro - MG                 60  \n",
       "Palmeiras - SP                        61  \n",
       "Grêmio - RS                           52  \n",
       "São Paulo - SP                        72  "
      ]
     },
     "execution_count": 56,
     "metadata": {},
     "output_type": "execute_result"
    }
   ],
   "source": [
    "soma_colunas_por_time.sort_values('Vitórias', ascending=False).head(5)"
   ]
  },
  {
   "cell_type": "markdown",
   "metadata": {},
   "source": [
    "<h2>22 - Identificar OS TIMES C/ MAIS EMPATES no TOTAL</h2>"
   ]
  },
  {
   "cell_type": "code",
   "execution_count": 57,
   "metadata": {},
   "outputs": [
    {
     "data": {
      "text/html": [
       "<div>\n",
       "<style scoped>\n",
       "    .dataframe tbody tr th:only-of-type {\n",
       "        vertical-align: middle;\n",
       "    }\n",
       "\n",
       "    .dataframe tbody tr th {\n",
       "        vertical-align: top;\n",
       "    }\n",
       "\n",
       "    .dataframe thead th {\n",
       "        text-align: right;\n",
       "    }\n",
       "</style>\n",
       "<table border=\"1\" class=\"dataframe\">\n",
       "  <thead>\n",
       "    <tr style=\"text-align: right;\">\n",
       "      <th></th>\n",
       "      <th>Pontos</th>\n",
       "      <th>Vitórias</th>\n",
       "      <th>Empates</th>\n",
       "      <th>Derrotas</th>\n",
       "      <th>Gols Feitos</th>\n",
       "      <th>Gols Sofridos</th>\n",
       "      <th>Saldos de Gols</th>\n",
       "      <th>Cartões Amarelos</th>\n",
       "      <th>Cartões Vermelhos</th>\n",
       "    </tr>\n",
       "    <tr>\n",
       "      <th>Clube</th>\n",
       "      <th></th>\n",
       "      <th></th>\n",
       "      <th></th>\n",
       "      <th></th>\n",
       "      <th></th>\n",
       "      <th></th>\n",
       "      <th></th>\n",
       "      <th></th>\n",
       "      <th></th>\n",
       "    </tr>\n",
       "  </thead>\n",
       "  <tbody>\n",
       "    <tr>\n",
       "      <th>Corinthians - SP</th>\n",
       "      <td>707</td>\n",
       "      <td>188</td>\n",
       "      <td>143</td>\n",
       "      <td>125</td>\n",
       "      <td>548</td>\n",
       "      <td>429</td>\n",
       "      <td>119</td>\n",
       "      <td>916</td>\n",
       "      <td>44</td>\n",
       "    </tr>\n",
       "    <tr>\n",
       "      <th>São Paulo - SP</th>\n",
       "      <td>697</td>\n",
       "      <td>188</td>\n",
       "      <td>133</td>\n",
       "      <td>135</td>\n",
       "      <td>572</td>\n",
       "      <td>473</td>\n",
       "      <td>99</td>\n",
       "      <td>1092</td>\n",
       "      <td>72</td>\n",
       "    </tr>\n",
       "    <tr>\n",
       "      <th>Santos - SP</th>\n",
       "      <td>673</td>\n",
       "      <td>182</td>\n",
       "      <td>127</td>\n",
       "      <td>147</td>\n",
       "      <td>579</td>\n",
       "      <td>494</td>\n",
       "      <td>85</td>\n",
       "      <td>1072</td>\n",
       "      <td>69</td>\n",
       "    </tr>\n",
       "    <tr>\n",
       "      <th>Internacional - RS</th>\n",
       "      <td>644</td>\n",
       "      <td>175</td>\n",
       "      <td>119</td>\n",
       "      <td>124</td>\n",
       "      <td>526</td>\n",
       "      <td>432</td>\n",
       "      <td>94</td>\n",
       "      <td>1091</td>\n",
       "      <td>70</td>\n",
       "    </tr>\n",
       "    <tr>\n",
       "      <th>Atlético Mineiro - MG</th>\n",
       "      <td>759</td>\n",
       "      <td>214</td>\n",
       "      <td>117</td>\n",
       "      <td>125</td>\n",
       "      <td>670</td>\n",
       "      <td>502</td>\n",
       "      <td>168</td>\n",
       "      <td>1066</td>\n",
       "      <td>60</td>\n",
       "    </tr>\n",
       "  </tbody>\n",
       "</table>\n",
       "</div>"
      ],
      "text/plain": [
       "                       Pontos  Vitórias  Empates  Derrotas  Gols Feitos  \\\n",
       "Clube                                                                     \n",
       "Corinthians - SP          707       188      143       125          548   \n",
       "São Paulo - SP            697       188      133       135          572   \n",
       "Santos - SP               673       182      127       147          579   \n",
       "Internacional - RS        644       175      119       124          526   \n",
       "Atlético Mineiro - MG     759       214      117       125          670   \n",
       "\n",
       "                       Gols Sofridos  Saldos de Gols  Cartões Amarelos  \\\n",
       "Clube                                                                    \n",
       "Corinthians - SP                 429             119               916   \n",
       "São Paulo - SP                   473              99              1092   \n",
       "Santos - SP                      494              85              1072   \n",
       "Internacional - RS               432              94              1091   \n",
       "Atlético Mineiro - MG            502             168              1066   \n",
       "\n",
       "                       Cartões Vermelhos  \n",
       "Clube                                     \n",
       "Corinthians - SP                      44  \n",
       "São Paulo - SP                        72  \n",
       "Santos - SP                           69  \n",
       "Internacional - RS                    70  \n",
       "Atlético Mineiro - MG                 60  "
      ]
     },
     "execution_count": 57,
     "metadata": {},
     "output_type": "execute_result"
    }
   ],
   "source": [
    "soma_colunas_por_time.sort_values('Empates', ascending=False).head(5)"
   ]
  },
  {
   "cell_type": "markdown",
   "metadata": {},
   "source": [
    "<h2>23 - Identificar OS TIMES C/ MAIS DERROTAS no TOTAL</h2>"
   ]
  },
  {
   "cell_type": "code",
   "execution_count": 58,
   "metadata": {},
   "outputs": [
    {
     "data": {
      "text/html": [
       "<div>\n",
       "<style scoped>\n",
       "    .dataframe tbody tr th:only-of-type {\n",
       "        vertical-align: middle;\n",
       "    }\n",
       "\n",
       "    .dataframe tbody tr th {\n",
       "        vertical-align: top;\n",
       "    }\n",
       "\n",
       "    .dataframe thead th {\n",
       "        text-align: right;\n",
       "    }\n",
       "</style>\n",
       "<table border=\"1\" class=\"dataframe\">\n",
       "  <thead>\n",
       "    <tr style=\"text-align: right;\">\n",
       "      <th></th>\n",
       "      <th>Pontos</th>\n",
       "      <th>Vitórias</th>\n",
       "      <th>Empates</th>\n",
       "      <th>Derrotas</th>\n",
       "      <th>Gols Feitos</th>\n",
       "      <th>Gols Sofridos</th>\n",
       "      <th>Saldos de Gols</th>\n",
       "      <th>Cartões Amarelos</th>\n",
       "      <th>Cartões Vermelhos</th>\n",
       "    </tr>\n",
       "    <tr>\n",
       "      <th>Clube</th>\n",
       "      <th></th>\n",
       "      <th></th>\n",
       "      <th></th>\n",
       "      <th></th>\n",
       "      <th></th>\n",
       "      <th></th>\n",
       "      <th></th>\n",
       "      <th></th>\n",
       "      <th></th>\n",
       "    </tr>\n",
       "  </thead>\n",
       "  <tbody>\n",
       "    <tr>\n",
       "      <th>Coritiba - PR</th>\n",
       "      <td>379</td>\n",
       "      <td>98</td>\n",
       "      <td>85</td>\n",
       "      <td>159</td>\n",
       "      <td>362</td>\n",
       "      <td>472</td>\n",
       "      <td>-110</td>\n",
       "      <td>873</td>\n",
       "      <td>53</td>\n",
       "    </tr>\n",
       "    <tr>\n",
       "      <th>Fluminense - RJ</th>\n",
       "      <td>663</td>\n",
       "      <td>183</td>\n",
       "      <td>114</td>\n",
       "      <td>159</td>\n",
       "      <td>577</td>\n",
       "      <td>529</td>\n",
       "      <td>48</td>\n",
       "      <td>1085</td>\n",
       "      <td>82</td>\n",
       "    </tr>\n",
       "    <tr>\n",
       "      <th>Botafogo - RJ</th>\n",
       "      <td>500</td>\n",
       "      <td>136</td>\n",
       "      <td>92</td>\n",
       "      <td>152</td>\n",
       "      <td>434</td>\n",
       "      <td>453</td>\n",
       "      <td>-19</td>\n",
       "      <td>880</td>\n",
       "      <td>47</td>\n",
       "    </tr>\n",
       "    <tr>\n",
       "      <th>Santos - SP</th>\n",
       "      <td>673</td>\n",
       "      <td>182</td>\n",
       "      <td>127</td>\n",
       "      <td>147</td>\n",
       "      <td>579</td>\n",
       "      <td>494</td>\n",
       "      <td>85</td>\n",
       "      <td>1072</td>\n",
       "      <td>69</td>\n",
       "    </tr>\n",
       "    <tr>\n",
       "      <th>Athletico Paranaense - PR</th>\n",
       "      <td>612</td>\n",
       "      <td>170</td>\n",
       "      <td>102</td>\n",
       "      <td>146</td>\n",
       "      <td>517</td>\n",
       "      <td>455</td>\n",
       "      <td>62</td>\n",
       "      <td>953</td>\n",
       "      <td>43</td>\n",
       "    </tr>\n",
       "  </tbody>\n",
       "</table>\n",
       "</div>"
      ],
      "text/plain": [
       "                           Pontos  Vitórias  Empates  Derrotas  Gols Feitos  \\\n",
       "Clube                                                                         \n",
       "Coritiba - PR                 379        98       85       159          362   \n",
       "Fluminense - RJ               663       183      114       159          577   \n",
       "Botafogo - RJ                 500       136       92       152          434   \n",
       "Santos - SP                   673       182      127       147          579   \n",
       "Athletico Paranaense - PR     612       170      102       146          517   \n",
       "\n",
       "                           Gols Sofridos  Saldos de Gols  Cartões Amarelos  \\\n",
       "Clube                                                                        \n",
       "Coritiba - PR                        472            -110               873   \n",
       "Fluminense - RJ                      529              48              1085   \n",
       "Botafogo - RJ                        453             -19               880   \n",
       "Santos - SP                          494              85              1072   \n",
       "Athletico Paranaense - PR            455              62               953   \n",
       "\n",
       "                           Cartões Vermelhos  \n",
       "Clube                                         \n",
       "Coritiba - PR                             53  \n",
       "Fluminense - RJ                           82  \n",
       "Botafogo - RJ                             47  \n",
       "Santos - SP                               69  \n",
       "Athletico Paranaense - PR                 43  "
      ]
     },
     "execution_count": 58,
     "metadata": {},
     "output_type": "execute_result"
    }
   ],
   "source": [
    "soma_colunas_por_time.sort_values('Derrotas', ascending=False).head(5)"
   ]
  },
  {
   "cell_type": "markdown",
   "metadata": {},
   "source": [
    "<h2>24 - Identificar OS TIMES C/ MAIS VITÓRIAS na MÉDIA</h2>"
   ]
  },
  {
   "cell_type": "code",
   "execution_count": 59,
   "metadata": {},
   "outputs": [
    {
     "data": {
      "text/html": [
       "<div>\n",
       "<style scoped>\n",
       "    .dataframe tbody tr th:only-of-type {\n",
       "        vertical-align: middle;\n",
       "    }\n",
       "\n",
       "    .dataframe tbody tr th {\n",
       "        vertical-align: top;\n",
       "    }\n",
       "\n",
       "    .dataframe thead th {\n",
       "        text-align: right;\n",
       "    }\n",
       "</style>\n",
       "<table border=\"1\" class=\"dataframe\">\n",
       "  <thead>\n",
       "    <tr style=\"text-align: right;\">\n",
       "      <th></th>\n",
       "      <th>Colocação</th>\n",
       "      <th>Pontos</th>\n",
       "      <th>Vitórias</th>\n",
       "      <th>Empates</th>\n",
       "      <th>Derrotas</th>\n",
       "      <th>Gols Feitos</th>\n",
       "      <th>Gols Sofridos</th>\n",
       "      <th>Saldos de Gols</th>\n",
       "      <th>Cartões Amarelos</th>\n",
       "      <th>Cartões Vermelhos</th>\n",
       "      <th>Aproveitamento (%)</th>\n",
       "    </tr>\n",
       "    <tr>\n",
       "      <th>Clube</th>\n",
       "      <th></th>\n",
       "      <th></th>\n",
       "      <th></th>\n",
       "      <th></th>\n",
       "      <th></th>\n",
       "      <th></th>\n",
       "      <th></th>\n",
       "      <th></th>\n",
       "      <th></th>\n",
       "      <th></th>\n",
       "      <th></th>\n",
       "    </tr>\n",
       "  </thead>\n",
       "  <tbody>\n",
       "    <tr>\n",
       "      <th>Palmeiras - SP</th>\n",
       "      <td>5.6</td>\n",
       "      <td>63.5</td>\n",
       "      <td>18.2</td>\n",
       "      <td>9.0</td>\n",
       "      <td>10.8</td>\n",
       "      <td>56.4</td>\n",
       "      <td>39.9</td>\n",
       "      <td>16.5</td>\n",
       "      <td>94.1</td>\n",
       "      <td>5.5</td>\n",
       "      <td>55.3</td>\n",
       "    </tr>\n",
       "    <tr>\n",
       "      <th>Flamengo - RJ</th>\n",
       "      <td>6.1</td>\n",
       "      <td>62.9</td>\n",
       "      <td>18.0</td>\n",
       "      <td>9.2</td>\n",
       "      <td>10.8</td>\n",
       "      <td>56.0</td>\n",
       "      <td>41.3</td>\n",
       "      <td>14.7</td>\n",
       "      <td>79.2</td>\n",
       "      <td>4.8</td>\n",
       "      <td>54.7</td>\n",
       "    </tr>\n",
       "    <tr>\n",
       "      <th>Atlético Mineiro - MG</th>\n",
       "      <td>5.2</td>\n",
       "      <td>63.2</td>\n",
       "      <td>17.8</td>\n",
       "      <td>9.8</td>\n",
       "      <td>10.4</td>\n",
       "      <td>55.8</td>\n",
       "      <td>41.8</td>\n",
       "      <td>14.0</td>\n",
       "      <td>88.8</td>\n",
       "      <td>5.0</td>\n",
       "      <td>55.1</td>\n",
       "    </tr>\n",
       "    <tr>\n",
       "      <th>Grêmio - RS</th>\n",
       "      <td>5.5</td>\n",
       "      <td>61.9</td>\n",
       "      <td>17.4</td>\n",
       "      <td>9.8</td>\n",
       "      <td>10.8</td>\n",
       "      <td>50.4</td>\n",
       "      <td>37.9</td>\n",
       "      <td>12.5</td>\n",
       "      <td>88.5</td>\n",
       "      <td>4.7</td>\n",
       "      <td>53.8</td>\n",
       "    </tr>\n",
       "    <tr>\n",
       "      <th>Internacional - RS</th>\n",
       "      <td>7.5</td>\n",
       "      <td>58.5</td>\n",
       "      <td>15.9</td>\n",
       "      <td>10.8</td>\n",
       "      <td>11.3</td>\n",
       "      <td>47.8</td>\n",
       "      <td>39.3</td>\n",
       "      <td>8.5</td>\n",
       "      <td>99.2</td>\n",
       "      <td>6.4</td>\n",
       "      <td>51.0</td>\n",
       "    </tr>\n",
       "  </tbody>\n",
       "</table>\n",
       "</div>"
      ],
      "text/plain": [
       "                       Colocação  Pontos  Vitórias  Empates  Derrotas  \\\n",
       "Clube                                                                   \n",
       "Palmeiras - SP               5.6    63.5      18.2      9.0      10.8   \n",
       "Flamengo - RJ                6.1    62.9      18.0      9.2      10.8   \n",
       "Atlético Mineiro - MG        5.2    63.2      17.8      9.8      10.4   \n",
       "Grêmio - RS                  5.5    61.9      17.4      9.8      10.8   \n",
       "Internacional - RS           7.5    58.5      15.9     10.8      11.3   \n",
       "\n",
       "                       Gols Feitos  Gols Sofridos  Saldos de Gols  \\\n",
       "Clube                                                               \n",
       "Palmeiras - SP                56.4           39.9            16.5   \n",
       "Flamengo - RJ                 56.0           41.3            14.7   \n",
       "Atlético Mineiro - MG         55.8           41.8            14.0   \n",
       "Grêmio - RS                   50.4           37.9            12.5   \n",
       "Internacional - RS            47.8           39.3             8.5   \n",
       "\n",
       "                       Cartões Amarelos  Cartões Vermelhos  Aproveitamento (%)  \n",
       "Clube                                                                           \n",
       "Palmeiras - SP                     94.1                5.5                55.3  \n",
       "Flamengo - RJ                      79.2                4.8                54.7  \n",
       "Atlético Mineiro - MG              88.8                5.0                55.1  \n",
       "Grêmio - RS                        88.5                4.7                53.8  \n",
       "Internacional - RS                 99.2                6.4                51.0  "
      ]
     },
     "execution_count": 59,
     "metadata": {},
     "output_type": "execute_result"
    }
   ],
   "source": [
    "media_com_filtro.sort_values('Vitórias', ascending=False).head(5)"
   ]
  },
  {
   "cell_type": "code",
   "execution_count": 60,
   "metadata": {},
   "outputs": [],
   "source": [
    "def media_de_equipe_da_estatistica(coluna):\n",
    "    fig = px.bar(media_com_filtro, x=media_com_filtro.index, y=coluna, color=media_com_filtro.index, title=f\"Média de {coluna} por Clube\")\n",
    "    fig.update_layout(\n",
    "    showlegend=False,\n",
    "    xaxis_title = \"\",\n",
    "    yaxis_title = f\"Média de {coluna}\"\n",
    "    )\n",
    "    fig.show()"
   ]
  },
  {
   "cell_type": "code",
   "execution_count": 61,
   "metadata": {},
   "outputs": [
    {
     "data": {
      "application/vnd.plotly.v1+json": {
       "config": {
        "plotlyServerURL": "https://plot.ly"
       },
       "data": [
        {
         "alignmentgroup": "True",
         "hovertemplate": "Clube=%{x}<br>Vitórias=%{y}<extra></extra>",
         "legendgroup": "América - MG",
         "marker": {
          "color": "#636efa",
          "pattern": {
           "shape": ""
          }
         },
         "name": "América - MG",
         "offsetgroup": "América - MG",
         "orientation": "v",
         "showlegend": true,
         "textposition": "auto",
         "type": "bar",
         "x": [
          "América - MG"
         ],
         "xaxis": "x",
         "y": [
          10
         ],
         "yaxis": "y"
        },
        {
         "alignmentgroup": "True",
         "hovertemplate": "Clube=%{x}<br>Vitórias=%{y}<extra></extra>",
         "legendgroup": "Athletico Paranaense - PR",
         "marker": {
          "color": "#EF553B",
          "pattern": {
           "shape": ""
          }
         },
         "name": "Athletico Paranaense - PR",
         "offsetgroup": "Athletico Paranaense - PR",
         "orientation": "v",
         "showlegend": true,
         "textposition": "auto",
         "type": "bar",
         "x": [
          "Athletico Paranaense - PR"
         ],
         "xaxis": "x",
         "y": [
          15.5
         ],
         "yaxis": "y"
        },
        {
         "alignmentgroup": "True",
         "hovertemplate": "Clube=%{x}<br>Vitórias=%{y}<extra></extra>",
         "legendgroup": "Atlético Goianiense - GO",
         "marker": {
          "color": "#00cc96",
          "pattern": {
           "shape": ""
          }
         },
         "name": "Atlético Goianiense - GO",
         "offsetgroup": "Atlético Goianiense - GO",
         "orientation": "v",
         "showlegend": true,
         "textposition": "auto",
         "type": "bar",
         "x": [
          "Atlético Goianiense - GO"
         ],
         "xaxis": "x",
         "y": [
          9.8
         ],
         "yaxis": "y"
        },
        {
         "alignmentgroup": "True",
         "hovertemplate": "Clube=%{x}<br>Vitórias=%{y}<extra></extra>",
         "legendgroup": "Atlético Mineiro - MG",
         "marker": {
          "color": "#ab63fa",
          "pattern": {
           "shape": ""
          }
         },
         "name": "Atlético Mineiro - MG",
         "offsetgroup": "Atlético Mineiro - MG",
         "orientation": "v",
         "showlegend": true,
         "textposition": "auto",
         "type": "bar",
         "x": [
          "Atlético Mineiro - MG"
         ],
         "xaxis": "x",
         "y": [
          17.8
         ],
         "yaxis": "y"
        },
        {
         "alignmentgroup": "True",
         "hovertemplate": "Clube=%{x}<br>Vitórias=%{y}<extra></extra>",
         "legendgroup": "Avaí - SC",
         "marker": {
          "color": "#FFA15A",
          "pattern": {
           "shape": ""
          }
         },
         "name": "Avaí - SC",
         "offsetgroup": "Avaí - SC",
         "orientation": "v",
         "showlegend": true,
         "textposition": "auto",
         "type": "bar",
         "x": [
          "Avaí - SC"
         ],
         "xaxis": "x",
         "y": [
          8.2
         ],
         "yaxis": "y"
        },
        {
         "alignmentgroup": "True",
         "hovertemplate": "Clube=%{x}<br>Vitórias=%{y}<extra></extra>",
         "legendgroup": "Bahia - BA",
         "marker": {
          "color": "#19d3f3",
          "pattern": {
           "shape": ""
          }
         },
         "name": "Bahia - BA",
         "offsetgroup": "Bahia - BA",
         "orientation": "v",
         "showlegend": true,
         "textposition": "auto",
         "type": "bar",
         "x": [
          "Bahia - BA"
         ],
         "xaxis": "x",
         "y": [
          11.6
         ],
         "yaxis": "y"
        },
        {
         "alignmentgroup": "True",
         "hovertemplate": "Clube=%{x}<br>Vitórias=%{y}<extra></extra>",
         "legendgroup": "Botafogo - RJ",
         "marker": {
          "color": "#FF6692",
          "pattern": {
           "shape": ""
          }
         },
         "name": "Botafogo - RJ",
         "offsetgroup": "Botafogo - RJ",
         "orientation": "v",
         "showlegend": true,
         "textposition": "auto",
         "type": "bar",
         "x": [
          "Botafogo - RJ"
         ],
         "xaxis": "x",
         "y": [
          13.6
         ],
         "yaxis": "y"
        },
        {
         "alignmentgroup": "True",
         "hovertemplate": "Clube=%{x}<br>Vitórias=%{y}<extra></extra>",
         "legendgroup": "Ceará - CE",
         "marker": {
          "color": "#B6E880",
          "pattern": {
           "shape": ""
          }
         },
         "name": "Ceará - CE",
         "offsetgroup": "Ceará - CE",
         "orientation": "v",
         "showlegend": true,
         "textposition": "auto",
         "type": "bar",
         "x": [
          "Ceará - CE"
         ],
         "xaxis": "x",
         "y": [
          10.4
         ],
         "yaxis": "y"
        },
        {
         "alignmentgroup": "True",
         "hovertemplate": "Clube=%{x}<br>Vitórias=%{y}<extra></extra>",
         "legendgroup": "Chapecoense - SC",
         "marker": {
          "color": "#FF97FF",
          "pattern": {
           "shape": ""
          }
         },
         "name": "Chapecoense - SC",
         "offsetgroup": "Chapecoense - SC",
         "orientation": "v",
         "showlegend": true,
         "textposition": "auto",
         "type": "bar",
         "x": [
          "Chapecoense - SC"
         ],
         "xaxis": "x",
         "y": [
          10
         ],
         "yaxis": "y"
        },
        {
         "alignmentgroup": "True",
         "hovertemplate": "Clube=%{x}<br>Vitórias=%{y}<extra></extra>",
         "legendgroup": "Corinthians - SP",
         "marker": {
          "color": "#FECB52",
          "pattern": {
           "shape": ""
          }
         },
         "name": "Corinthians - SP",
         "offsetgroup": "Corinthians - SP",
         "orientation": "v",
         "showlegend": true,
         "textposition": "auto",
         "type": "bar",
         "x": [
          "Corinthians - SP"
         ],
         "xaxis": "x",
         "y": [
          15.7
         ],
         "yaxis": "y"
        },
        {
         "alignmentgroup": "True",
         "hovertemplate": "Clube=%{x}<br>Vitórias=%{y}<extra></extra>",
         "legendgroup": "Coritiba - PR",
         "marker": {
          "color": "#636efa",
          "pattern": {
           "shape": ""
          }
         },
         "name": "Coritiba - PR",
         "offsetgroup": "Coritiba - PR",
         "orientation": "v",
         "showlegend": true,
         "textposition": "auto",
         "type": "bar",
         "x": [
          "Coritiba - PR"
         ],
         "xaxis": "x",
         "y": [
          10.9
         ],
         "yaxis": "y"
        },
        {
         "alignmentgroup": "True",
         "hovertemplate": "Clube=%{x}<br>Vitórias=%{y}<extra></extra>",
         "legendgroup": "Cruzeiro - MG",
         "marker": {
          "color": "#EF553B",
          "pattern": {
           "shape": ""
          }
         },
         "name": "Cruzeiro - MG",
         "offsetgroup": "Cruzeiro - MG",
         "orientation": "v",
         "showlegend": true,
         "textposition": "auto",
         "type": "bar",
         "x": [
          "Cruzeiro - MG"
         ],
         "xaxis": "x",
         "y": [
          15.3
         ],
         "yaxis": "y"
        },
        {
         "alignmentgroup": "True",
         "hovertemplate": "Clube=%{x}<br>Vitórias=%{y}<extra></extra>",
         "legendgroup": "Cuiabá - MT",
         "marker": {
          "color": "#00cc96",
          "pattern": {
           "shape": ""
          }
         },
         "name": "Cuiabá - MT",
         "offsetgroup": "Cuiabá - MT",
         "orientation": "v",
         "showlegend": true,
         "textposition": "auto",
         "type": "bar",
         "x": [
          "Cuiabá - MT"
         ],
         "xaxis": "x",
         "y": [
          11.3
         ],
         "yaxis": "y"
        },
        {
         "alignmentgroup": "True",
         "hovertemplate": "Clube=%{x}<br>Vitórias=%{y}<extra></extra>",
         "legendgroup": "Figueirense - SC",
         "marker": {
          "color": "#ab63fa",
          "pattern": {
           "shape": ""
          }
         },
         "name": "Figueirense - SC",
         "offsetgroup": "Figueirense - SC",
         "orientation": "v",
         "showlegend": true,
         "textposition": "auto",
         "type": "bar",
         "x": [
          "Figueirense - SC"
         ],
         "xaxis": "x",
         "y": [
          9.8
         ],
         "yaxis": "y"
        },
        {
         "alignmentgroup": "True",
         "hovertemplate": "Clube=%{x}<br>Vitórias=%{y}<extra></extra>",
         "legendgroup": "Flamengo - RJ",
         "marker": {
          "color": "#FFA15A",
          "pattern": {
           "shape": ""
          }
         },
         "name": "Flamengo - RJ",
         "offsetgroup": "Flamengo - RJ",
         "orientation": "v",
         "showlegend": true,
         "textposition": "auto",
         "type": "bar",
         "x": [
          "Flamengo - RJ"
         ],
         "xaxis": "x",
         "y": [
          18
         ],
         "yaxis": "y"
        },
        {
         "alignmentgroup": "True",
         "hovertemplate": "Clube=%{x}<br>Vitórias=%{y}<extra></extra>",
         "legendgroup": "Fluminense - RJ",
         "marker": {
          "color": "#19d3f3",
          "pattern": {
           "shape": ""
          }
         },
         "name": "Fluminense - RJ",
         "offsetgroup": "Fluminense - RJ",
         "orientation": "v",
         "showlegend": true,
         "textposition": "auto",
         "type": "bar",
         "x": [
          "Fluminense - RJ"
         ],
         "xaxis": "x",
         "y": [
          15.2
         ],
         "yaxis": "y"
        },
        {
         "alignmentgroup": "True",
         "hovertemplate": "Clube=%{x}<br>Vitórias=%{y}<extra></extra>",
         "legendgroup": "Fortaleza - CE",
         "marker": {
          "color": "#FF6692",
          "pattern": {
           "shape": ""
          }
         },
         "name": "Fortaleza - CE",
         "offsetgroup": "Fortaleza - CE",
         "orientation": "v",
         "showlegend": true,
         "textposition": "auto",
         "type": "bar",
         "x": [
          "Fortaleza - CE"
         ],
         "xaxis": "x",
         "y": [
          14.4
         ],
         "yaxis": "y"
        },
        {
         "alignmentgroup": "True",
         "hovertemplate": "Clube=%{x}<br>Vitórias=%{y}<extra></extra>",
         "legendgroup": "Goiás - GO",
         "marker": {
          "color": "#B6E880",
          "pattern": {
           "shape": ""
          }
         },
         "name": "Goiás - GO",
         "offsetgroup": "Goiás - GO",
         "orientation": "v",
         "showlegend": true,
         "textposition": "auto",
         "type": "bar",
         "x": [
          "Goiás - GO"
         ],
         "xaxis": "x",
         "y": [
          11.9
         ],
         "yaxis": "y"
        },
        {
         "alignmentgroup": "True",
         "hovertemplate": "Clube=%{x}<br>Vitórias=%{y}<extra></extra>",
         "legendgroup": "Grêmio - RS",
         "marker": {
          "color": "#FF97FF",
          "pattern": {
           "shape": ""
          }
         },
         "name": "Grêmio - RS",
         "offsetgroup": "Grêmio - RS",
         "orientation": "v",
         "showlegend": true,
         "textposition": "auto",
         "type": "bar",
         "x": [
          "Grêmio - RS"
         ],
         "xaxis": "x",
         "y": [
          17.4
         ],
         "yaxis": "y"
        },
        {
         "alignmentgroup": "True",
         "hovertemplate": "Clube=%{x}<br>Vitórias=%{y}<extra></extra>",
         "legendgroup": "Internacional - RS",
         "marker": {
          "color": "#FECB52",
          "pattern": {
           "shape": ""
          }
         },
         "name": "Internacional - RS",
         "offsetgroup": "Internacional - RS",
         "orientation": "v",
         "showlegend": true,
         "textposition": "auto",
         "type": "bar",
         "x": [
          "Internacional - RS"
         ],
         "xaxis": "x",
         "y": [
          15.9
         ],
         "yaxis": "y"
        },
        {
         "alignmentgroup": "True",
         "hovertemplate": "Clube=%{x}<br>Vitórias=%{y}<extra></extra>",
         "legendgroup": "Palmeiras - SP",
         "marker": {
          "color": "#636efa",
          "pattern": {
           "shape": ""
          }
         },
         "name": "Palmeiras - SP",
         "offsetgroup": "Palmeiras - SP",
         "orientation": "v",
         "showlegend": true,
         "textposition": "auto",
         "type": "bar",
         "x": [
          "Palmeiras - SP"
         ],
         "xaxis": "x",
         "y": [
          18.2
         ],
         "yaxis": "y"
        },
        {
         "alignmentgroup": "True",
         "hovertemplate": "Clube=%{x}<br>Vitórias=%{y}<extra></extra>",
         "legendgroup": "Ponte Preta - SP",
         "marker": {
          "color": "#EF553B",
          "pattern": {
           "shape": ""
          }
         },
         "name": "Ponte Preta - SP",
         "offsetgroup": "Ponte Preta - SP",
         "orientation": "v",
         "showlegend": true,
         "textposition": "auto",
         "type": "bar",
         "x": [
          "Ponte Preta - SP"
         ],
         "xaxis": "x",
         "y": [
          11.8
         ],
         "yaxis": "y"
        },
        {
         "alignmentgroup": "True",
         "hovertemplate": "Clube=%{x}<br>Vitórias=%{y}<extra></extra>",
         "legendgroup": "Red Bull Bragantino - SP",
         "marker": {
          "color": "#00cc96",
          "pattern": {
           "shape": ""
          }
         },
         "name": "Red Bull Bragantino - SP",
         "offsetgroup": "Red Bull Bragantino - SP",
         "orientation": "v",
         "showlegend": true,
         "textposition": "auto",
         "type": "bar",
         "x": [
          "Red Bull Bragantino - SP"
         ],
         "xaxis": "x",
         "y": [
          13.8
         ],
         "yaxis": "y"
        },
        {
         "alignmentgroup": "True",
         "hovertemplate": "Clube=%{x}<br>Vitórias=%{y}<extra></extra>",
         "legendgroup": "Santos - SP",
         "marker": {
          "color": "#ab63fa",
          "pattern": {
           "shape": ""
          }
         },
         "name": "Santos - SP",
         "offsetgroup": "Santos - SP",
         "orientation": "v",
         "showlegend": true,
         "textposition": "auto",
         "type": "bar",
         "x": [
          "Santos - SP"
         ],
         "xaxis": "x",
         "y": [
          15.2
         ],
         "yaxis": "y"
        },
        {
         "alignmentgroup": "True",
         "hovertemplate": "Clube=%{x}<br>Vitórias=%{y}<extra></extra>",
         "legendgroup": "Sport - PE",
         "marker": {
          "color": "#FFA15A",
          "pattern": {
           "shape": ""
          }
         },
         "name": "Sport - PE",
         "offsetgroup": "Sport - PE",
         "orientation": "v",
         "showlegend": true,
         "textposition": "auto",
         "type": "bar",
         "x": [
          "Sport - PE"
         ],
         "xaxis": "x",
         "y": [
          12
         ],
         "yaxis": "y"
        },
        {
         "alignmentgroup": "True",
         "hovertemplate": "Clube=%{x}<br>Vitórias=%{y}<extra></extra>",
         "legendgroup": "São Paulo - SP",
         "marker": {
          "color": "#19d3f3",
          "pattern": {
           "shape": ""
          }
         },
         "name": "São Paulo - SP",
         "offsetgroup": "São Paulo - SP",
         "orientation": "v",
         "showlegend": true,
         "textposition": "auto",
         "type": "bar",
         "x": [
          "São Paulo - SP"
         ],
         "xaxis": "x",
         "y": [
          15.7
         ],
         "yaxis": "y"
        },
        {
         "alignmentgroup": "True",
         "hovertemplate": "Clube=%{x}<br>Vitórias=%{y}<extra></extra>",
         "legendgroup": "Vasco da Gama - RJ",
         "marker": {
          "color": "#FF6692",
          "pattern": {
           "shape": ""
          }
         },
         "name": "Vasco da Gama - RJ",
         "offsetgroup": "Vasco da Gama - RJ",
         "orientation": "v",
         "showlegend": true,
         "textposition": "auto",
         "type": "bar",
         "x": [
          "Vasco da Gama - RJ"
         ],
         "xaxis": "x",
         "y": [
          12
         ],
         "yaxis": "y"
        },
        {
         "alignmentgroup": "True",
         "hovertemplate": "Clube=%{x}<br>Vitórias=%{y}<extra></extra>",
         "legendgroup": "Vitória - BA",
         "marker": {
          "color": "#B6E880",
          "pattern": {
           "shape": ""
          }
         },
         "name": "Vitória - BA",
         "offsetgroup": "Vitória - BA",
         "orientation": "v",
         "showlegend": true,
         "textposition": "auto",
         "type": "bar",
         "x": [
          "Vitória - BA"
         ],
         "xaxis": "x",
         "y": [
          11.6
         ],
         "yaxis": "y"
        }
       ],
       "layout": {
        "barmode": "relative",
        "legend": {
         "title": {
          "text": "Clube"
         },
         "tracegroupgap": 0
        },
        "showlegend": false,
        "template": {
         "data": {
          "bar": [
           {
            "error_x": {
             "color": "#2a3f5f"
            },
            "error_y": {
             "color": "#2a3f5f"
            },
            "marker": {
             "line": {
              "color": "#E5ECF6",
              "width": 0.5
             },
             "pattern": {
              "fillmode": "overlay",
              "size": 10,
              "solidity": 0.2
             }
            },
            "type": "bar"
           }
          ],
          "barpolar": [
           {
            "marker": {
             "line": {
              "color": "#E5ECF6",
              "width": 0.5
             },
             "pattern": {
              "fillmode": "overlay",
              "size": 10,
              "solidity": 0.2
             }
            },
            "type": "barpolar"
           }
          ],
          "carpet": [
           {
            "aaxis": {
             "endlinecolor": "#2a3f5f",
             "gridcolor": "white",
             "linecolor": "white",
             "minorgridcolor": "white",
             "startlinecolor": "#2a3f5f"
            },
            "baxis": {
             "endlinecolor": "#2a3f5f",
             "gridcolor": "white",
             "linecolor": "white",
             "minorgridcolor": "white",
             "startlinecolor": "#2a3f5f"
            },
            "type": "carpet"
           }
          ],
          "choropleth": [
           {
            "colorbar": {
             "outlinewidth": 0,
             "ticks": ""
            },
            "type": "choropleth"
           }
          ],
          "contour": [
           {
            "colorbar": {
             "outlinewidth": 0,
             "ticks": ""
            },
            "colorscale": [
             [
              0,
              "#0d0887"
             ],
             [
              0.1111111111111111,
              "#46039f"
             ],
             [
              0.2222222222222222,
              "#7201a8"
             ],
             [
              0.3333333333333333,
              "#9c179e"
             ],
             [
              0.4444444444444444,
              "#bd3786"
             ],
             [
              0.5555555555555556,
              "#d8576b"
             ],
             [
              0.6666666666666666,
              "#ed7953"
             ],
             [
              0.7777777777777778,
              "#fb9f3a"
             ],
             [
              0.8888888888888888,
              "#fdca26"
             ],
             [
              1,
              "#f0f921"
             ]
            ],
            "type": "contour"
           }
          ],
          "contourcarpet": [
           {
            "colorbar": {
             "outlinewidth": 0,
             "ticks": ""
            },
            "type": "contourcarpet"
           }
          ],
          "heatmap": [
           {
            "colorbar": {
             "outlinewidth": 0,
             "ticks": ""
            },
            "colorscale": [
             [
              0,
              "#0d0887"
             ],
             [
              0.1111111111111111,
              "#46039f"
             ],
             [
              0.2222222222222222,
              "#7201a8"
             ],
             [
              0.3333333333333333,
              "#9c179e"
             ],
             [
              0.4444444444444444,
              "#bd3786"
             ],
             [
              0.5555555555555556,
              "#d8576b"
             ],
             [
              0.6666666666666666,
              "#ed7953"
             ],
             [
              0.7777777777777778,
              "#fb9f3a"
             ],
             [
              0.8888888888888888,
              "#fdca26"
             ],
             [
              1,
              "#f0f921"
             ]
            ],
            "type": "heatmap"
           }
          ],
          "heatmapgl": [
           {
            "colorbar": {
             "outlinewidth": 0,
             "ticks": ""
            },
            "colorscale": [
             [
              0,
              "#0d0887"
             ],
             [
              0.1111111111111111,
              "#46039f"
             ],
             [
              0.2222222222222222,
              "#7201a8"
             ],
             [
              0.3333333333333333,
              "#9c179e"
             ],
             [
              0.4444444444444444,
              "#bd3786"
             ],
             [
              0.5555555555555556,
              "#d8576b"
             ],
             [
              0.6666666666666666,
              "#ed7953"
             ],
             [
              0.7777777777777778,
              "#fb9f3a"
             ],
             [
              0.8888888888888888,
              "#fdca26"
             ],
             [
              1,
              "#f0f921"
             ]
            ],
            "type": "heatmapgl"
           }
          ],
          "histogram": [
           {
            "marker": {
             "pattern": {
              "fillmode": "overlay",
              "size": 10,
              "solidity": 0.2
             }
            },
            "type": "histogram"
           }
          ],
          "histogram2d": [
           {
            "colorbar": {
             "outlinewidth": 0,
             "ticks": ""
            },
            "colorscale": [
             [
              0,
              "#0d0887"
             ],
             [
              0.1111111111111111,
              "#46039f"
             ],
             [
              0.2222222222222222,
              "#7201a8"
             ],
             [
              0.3333333333333333,
              "#9c179e"
             ],
             [
              0.4444444444444444,
              "#bd3786"
             ],
             [
              0.5555555555555556,
              "#d8576b"
             ],
             [
              0.6666666666666666,
              "#ed7953"
             ],
             [
              0.7777777777777778,
              "#fb9f3a"
             ],
             [
              0.8888888888888888,
              "#fdca26"
             ],
             [
              1,
              "#f0f921"
             ]
            ],
            "type": "histogram2d"
           }
          ],
          "histogram2dcontour": [
           {
            "colorbar": {
             "outlinewidth": 0,
             "ticks": ""
            },
            "colorscale": [
             [
              0,
              "#0d0887"
             ],
             [
              0.1111111111111111,
              "#46039f"
             ],
             [
              0.2222222222222222,
              "#7201a8"
             ],
             [
              0.3333333333333333,
              "#9c179e"
             ],
             [
              0.4444444444444444,
              "#bd3786"
             ],
             [
              0.5555555555555556,
              "#d8576b"
             ],
             [
              0.6666666666666666,
              "#ed7953"
             ],
             [
              0.7777777777777778,
              "#fb9f3a"
             ],
             [
              0.8888888888888888,
              "#fdca26"
             ],
             [
              1,
              "#f0f921"
             ]
            ],
            "type": "histogram2dcontour"
           }
          ],
          "mesh3d": [
           {
            "colorbar": {
             "outlinewidth": 0,
             "ticks": ""
            },
            "type": "mesh3d"
           }
          ],
          "parcoords": [
           {
            "line": {
             "colorbar": {
              "outlinewidth": 0,
              "ticks": ""
             }
            },
            "type": "parcoords"
           }
          ],
          "pie": [
           {
            "automargin": true,
            "type": "pie"
           }
          ],
          "scatter": [
           {
            "fillpattern": {
             "fillmode": "overlay",
             "size": 10,
             "solidity": 0.2
            },
            "type": "scatter"
           }
          ],
          "scatter3d": [
           {
            "line": {
             "colorbar": {
              "outlinewidth": 0,
              "ticks": ""
             }
            },
            "marker": {
             "colorbar": {
              "outlinewidth": 0,
              "ticks": ""
             }
            },
            "type": "scatter3d"
           }
          ],
          "scattercarpet": [
           {
            "marker": {
             "colorbar": {
              "outlinewidth": 0,
              "ticks": ""
             }
            },
            "type": "scattercarpet"
           }
          ],
          "scattergeo": [
           {
            "marker": {
             "colorbar": {
              "outlinewidth": 0,
              "ticks": ""
             }
            },
            "type": "scattergeo"
           }
          ],
          "scattergl": [
           {
            "marker": {
             "colorbar": {
              "outlinewidth": 0,
              "ticks": ""
             }
            },
            "type": "scattergl"
           }
          ],
          "scattermapbox": [
           {
            "marker": {
             "colorbar": {
              "outlinewidth": 0,
              "ticks": ""
             }
            },
            "type": "scattermapbox"
           }
          ],
          "scatterpolar": [
           {
            "marker": {
             "colorbar": {
              "outlinewidth": 0,
              "ticks": ""
             }
            },
            "type": "scatterpolar"
           }
          ],
          "scatterpolargl": [
           {
            "marker": {
             "colorbar": {
              "outlinewidth": 0,
              "ticks": ""
             }
            },
            "type": "scatterpolargl"
           }
          ],
          "scatterternary": [
           {
            "marker": {
             "colorbar": {
              "outlinewidth": 0,
              "ticks": ""
             }
            },
            "type": "scatterternary"
           }
          ],
          "surface": [
           {
            "colorbar": {
             "outlinewidth": 0,
             "ticks": ""
            },
            "colorscale": [
             [
              0,
              "#0d0887"
             ],
             [
              0.1111111111111111,
              "#46039f"
             ],
             [
              0.2222222222222222,
              "#7201a8"
             ],
             [
              0.3333333333333333,
              "#9c179e"
             ],
             [
              0.4444444444444444,
              "#bd3786"
             ],
             [
              0.5555555555555556,
              "#d8576b"
             ],
             [
              0.6666666666666666,
              "#ed7953"
             ],
             [
              0.7777777777777778,
              "#fb9f3a"
             ],
             [
              0.8888888888888888,
              "#fdca26"
             ],
             [
              1,
              "#f0f921"
             ]
            ],
            "type": "surface"
           }
          ],
          "table": [
           {
            "cells": {
             "fill": {
              "color": "#EBF0F8"
             },
             "line": {
              "color": "white"
             }
            },
            "header": {
             "fill": {
              "color": "#C8D4E3"
             },
             "line": {
              "color": "white"
             }
            },
            "type": "table"
           }
          ]
         },
         "layout": {
          "annotationdefaults": {
           "arrowcolor": "#2a3f5f",
           "arrowhead": 0,
           "arrowwidth": 1
          },
          "autotypenumbers": "strict",
          "coloraxis": {
           "colorbar": {
            "outlinewidth": 0,
            "ticks": ""
           }
          },
          "colorscale": {
           "diverging": [
            [
             0,
             "#8e0152"
            ],
            [
             0.1,
             "#c51b7d"
            ],
            [
             0.2,
             "#de77ae"
            ],
            [
             0.3,
             "#f1b6da"
            ],
            [
             0.4,
             "#fde0ef"
            ],
            [
             0.5,
             "#f7f7f7"
            ],
            [
             0.6,
             "#e6f5d0"
            ],
            [
             0.7,
             "#b8e186"
            ],
            [
             0.8,
             "#7fbc41"
            ],
            [
             0.9,
             "#4d9221"
            ],
            [
             1,
             "#276419"
            ]
           ],
           "sequential": [
            [
             0,
             "#0d0887"
            ],
            [
             0.1111111111111111,
             "#46039f"
            ],
            [
             0.2222222222222222,
             "#7201a8"
            ],
            [
             0.3333333333333333,
             "#9c179e"
            ],
            [
             0.4444444444444444,
             "#bd3786"
            ],
            [
             0.5555555555555556,
             "#d8576b"
            ],
            [
             0.6666666666666666,
             "#ed7953"
            ],
            [
             0.7777777777777778,
             "#fb9f3a"
            ],
            [
             0.8888888888888888,
             "#fdca26"
            ],
            [
             1,
             "#f0f921"
            ]
           ],
           "sequentialminus": [
            [
             0,
             "#0d0887"
            ],
            [
             0.1111111111111111,
             "#46039f"
            ],
            [
             0.2222222222222222,
             "#7201a8"
            ],
            [
             0.3333333333333333,
             "#9c179e"
            ],
            [
             0.4444444444444444,
             "#bd3786"
            ],
            [
             0.5555555555555556,
             "#d8576b"
            ],
            [
             0.6666666666666666,
             "#ed7953"
            ],
            [
             0.7777777777777778,
             "#fb9f3a"
            ],
            [
             0.8888888888888888,
             "#fdca26"
            ],
            [
             1,
             "#f0f921"
            ]
           ]
          },
          "colorway": [
           "#636efa",
           "#EF553B",
           "#00cc96",
           "#ab63fa",
           "#FFA15A",
           "#19d3f3",
           "#FF6692",
           "#B6E880",
           "#FF97FF",
           "#FECB52"
          ],
          "font": {
           "color": "#2a3f5f"
          },
          "geo": {
           "bgcolor": "white",
           "lakecolor": "white",
           "landcolor": "#E5ECF6",
           "showlakes": true,
           "showland": true,
           "subunitcolor": "white"
          },
          "hoverlabel": {
           "align": "left"
          },
          "hovermode": "closest",
          "mapbox": {
           "style": "light"
          },
          "paper_bgcolor": "white",
          "plot_bgcolor": "#E5ECF6",
          "polar": {
           "angularaxis": {
            "gridcolor": "white",
            "linecolor": "white",
            "ticks": ""
           },
           "bgcolor": "#E5ECF6",
           "radialaxis": {
            "gridcolor": "white",
            "linecolor": "white",
            "ticks": ""
           }
          },
          "scene": {
           "xaxis": {
            "backgroundcolor": "#E5ECF6",
            "gridcolor": "white",
            "gridwidth": 2,
            "linecolor": "white",
            "showbackground": true,
            "ticks": "",
            "zerolinecolor": "white"
           },
           "yaxis": {
            "backgroundcolor": "#E5ECF6",
            "gridcolor": "white",
            "gridwidth": 2,
            "linecolor": "white",
            "showbackground": true,
            "ticks": "",
            "zerolinecolor": "white"
           },
           "zaxis": {
            "backgroundcolor": "#E5ECF6",
            "gridcolor": "white",
            "gridwidth": 2,
            "linecolor": "white",
            "showbackground": true,
            "ticks": "",
            "zerolinecolor": "white"
           }
          },
          "shapedefaults": {
           "line": {
            "color": "#2a3f5f"
           }
          },
          "ternary": {
           "aaxis": {
            "gridcolor": "white",
            "linecolor": "white",
            "ticks": ""
           },
           "baxis": {
            "gridcolor": "white",
            "linecolor": "white",
            "ticks": ""
           },
           "bgcolor": "#E5ECF6",
           "caxis": {
            "gridcolor": "white",
            "linecolor": "white",
            "ticks": ""
           }
          },
          "title": {
           "x": 0.05
          },
          "xaxis": {
           "automargin": true,
           "gridcolor": "white",
           "linecolor": "white",
           "ticks": "",
           "title": {
            "standoff": 15
           },
           "zerolinecolor": "white",
           "zerolinewidth": 2
          },
          "yaxis": {
           "automargin": true,
           "gridcolor": "white",
           "linecolor": "white",
           "ticks": "",
           "title": {
            "standoff": 15
           },
           "zerolinecolor": "white",
           "zerolinewidth": 2
          }
         }
        },
        "title": {
         "text": "Média de Vitórias por Clube"
        },
        "xaxis": {
         "anchor": "y",
         "categoryarray": [
          "América - MG",
          "Athletico Paranaense - PR",
          "Atlético Goianiense - GO",
          "Atlético Mineiro - MG",
          "Avaí - SC",
          "Bahia - BA",
          "Botafogo - RJ",
          "Ceará - CE",
          "Chapecoense - SC",
          "Corinthians - SP",
          "Coritiba - PR",
          "Cruzeiro - MG",
          "Cuiabá - MT",
          "Figueirense - SC",
          "Flamengo - RJ",
          "Fluminense - RJ",
          "Fortaleza - CE",
          "Goiás - GO",
          "Grêmio - RS",
          "Internacional - RS",
          "Palmeiras - SP",
          "Ponte Preta - SP",
          "Red Bull Bragantino - SP",
          "Santos - SP",
          "Sport - PE",
          "São Paulo - SP",
          "Vasco da Gama - RJ",
          "Vitória - BA"
         ],
         "categoryorder": "array",
         "domain": [
          0,
          1
         ],
         "title": {
          "text": ""
         }
        },
        "yaxis": {
         "anchor": "x",
         "domain": [
          0,
          1
         ],
         "title": {
          "text": "Média de Vitórias"
         }
        }
       }
      }
     },
     "metadata": {},
     "output_type": "display_data"
    }
   ],
   "source": [
    "media_de_equipe_da_estatistica(\"Vitórias\")"
   ]
  },
  {
   "cell_type": "markdown",
   "metadata": {},
   "source": [
    "<h2>25 - Identificar OS TIMES C/ MAIS EMPATES na MÉDIA</h2>"
   ]
  },
  {
   "cell_type": "code",
   "execution_count": 62,
   "metadata": {},
   "outputs": [
    {
     "data": {
      "text/html": [
       "<div>\n",
       "<style scoped>\n",
       "    .dataframe tbody tr th:only-of-type {\n",
       "        vertical-align: middle;\n",
       "    }\n",
       "\n",
       "    .dataframe tbody tr th {\n",
       "        vertical-align: top;\n",
       "    }\n",
       "\n",
       "    .dataframe thead th {\n",
       "        text-align: right;\n",
       "    }\n",
       "</style>\n",
       "<table border=\"1\" class=\"dataframe\">\n",
       "  <thead>\n",
       "    <tr style=\"text-align: right;\">\n",
       "      <th></th>\n",
       "      <th>Colocação</th>\n",
       "      <th>Pontos</th>\n",
       "      <th>Vitórias</th>\n",
       "      <th>Empates</th>\n",
       "      <th>Derrotas</th>\n",
       "      <th>Gols Feitos</th>\n",
       "      <th>Gols Sofridos</th>\n",
       "      <th>Saldos de Gols</th>\n",
       "      <th>Cartões Amarelos</th>\n",
       "      <th>Cartões Vermelhos</th>\n",
       "      <th>Aproveitamento (%)</th>\n",
       "    </tr>\n",
       "    <tr>\n",
       "      <th>Clube</th>\n",
       "      <th></th>\n",
       "      <th></th>\n",
       "      <th></th>\n",
       "      <th></th>\n",
       "      <th></th>\n",
       "      <th></th>\n",
       "      <th></th>\n",
       "      <th></th>\n",
       "      <th></th>\n",
       "      <th></th>\n",
       "      <th></th>\n",
       "    </tr>\n",
       "  </thead>\n",
       "  <tbody>\n",
       "    <tr>\n",
       "      <th>Ceará - CE</th>\n",
       "      <td>14.0</td>\n",
       "      <td>44.4</td>\n",
       "      <td>10.4</td>\n",
       "      <td>13.2</td>\n",
       "      <td>14.4</td>\n",
       "      <td>39.0</td>\n",
       "      <td>41.8</td>\n",
       "      <td>-2.8</td>\n",
       "      <td>96.8</td>\n",
       "      <td>6.2</td>\n",
       "      <td>38.4</td>\n",
       "    </tr>\n",
       "    <tr>\n",
       "      <th>Red Bull Bragantino - SP</th>\n",
       "      <td>9.0</td>\n",
       "      <td>53.8</td>\n",
       "      <td>13.8</td>\n",
       "      <td>12.5</td>\n",
       "      <td>11.8</td>\n",
       "      <td>50.8</td>\n",
       "      <td>45.0</td>\n",
       "      <td>5.8</td>\n",
       "      <td>94.8</td>\n",
       "      <td>5.2</td>\n",
       "      <td>46.8</td>\n",
       "    </tr>\n",
       "    <tr>\n",
       "      <th>Cuiabá - MT</th>\n",
       "      <td>14.3</td>\n",
       "      <td>46.3</td>\n",
       "      <td>11.3</td>\n",
       "      <td>12.3</td>\n",
       "      <td>14.3</td>\n",
       "      <td>35.0</td>\n",
       "      <td>39.3</td>\n",
       "      <td>-4.3</td>\n",
       "      <td>89.3</td>\n",
       "      <td>7.3</td>\n",
       "      <td>40.0</td>\n",
       "    </tr>\n",
       "    <tr>\n",
       "      <th>Corinthians - SP</th>\n",
       "      <td>7.0</td>\n",
       "      <td>58.9</td>\n",
       "      <td>15.7</td>\n",
       "      <td>11.9</td>\n",
       "      <td>10.4</td>\n",
       "      <td>45.7</td>\n",
       "      <td>35.8</td>\n",
       "      <td>9.9</td>\n",
       "      <td>76.3</td>\n",
       "      <td>3.7</td>\n",
       "      <td>51.3</td>\n",
       "    </tr>\n",
       "    <tr>\n",
       "      <th>Atlético Goianiense - GO</th>\n",
       "      <td>15.8</td>\n",
       "      <td>41.0</td>\n",
       "      <td>9.8</td>\n",
       "      <td>11.6</td>\n",
       "      <td>16.6</td>\n",
       "      <td>37.4</td>\n",
       "      <td>52.2</td>\n",
       "      <td>-14.8</td>\n",
       "      <td>93.8</td>\n",
       "      <td>6.2</td>\n",
       "      <td>35.4</td>\n",
       "    </tr>\n",
       "  </tbody>\n",
       "</table>\n",
       "</div>"
      ],
      "text/plain": [
       "                          Colocação  Pontos  Vitórias  Empates  Derrotas  \\\n",
       "Clube                                                                      \n",
       "Ceará - CE                     14.0    44.4      10.4     13.2      14.4   \n",
       "Red Bull Bragantino - SP        9.0    53.8      13.8     12.5      11.8   \n",
       "Cuiabá - MT                    14.3    46.3      11.3     12.3      14.3   \n",
       "Corinthians - SP                7.0    58.9      15.7     11.9      10.4   \n",
       "Atlético Goianiense - GO       15.8    41.0       9.8     11.6      16.6   \n",
       "\n",
       "                          Gols Feitos  Gols Sofridos  Saldos de Gols  \\\n",
       "Clube                                                                  \n",
       "Ceará - CE                       39.0           41.8            -2.8   \n",
       "Red Bull Bragantino - SP         50.8           45.0             5.8   \n",
       "Cuiabá - MT                      35.0           39.3            -4.3   \n",
       "Corinthians - SP                 45.7           35.8             9.9   \n",
       "Atlético Goianiense - GO         37.4           52.2           -14.8   \n",
       "\n",
       "                          Cartões Amarelos  Cartões Vermelhos  \\\n",
       "Clube                                                           \n",
       "Ceará - CE                            96.8                6.2   \n",
       "Red Bull Bragantino - SP              94.8                5.2   \n",
       "Cuiabá - MT                           89.3                7.3   \n",
       "Corinthians - SP                      76.3                3.7   \n",
       "Atlético Goianiense - GO              93.8                6.2   \n",
       "\n",
       "                          Aproveitamento (%)  \n",
       "Clube                                         \n",
       "Ceará - CE                              38.4  \n",
       "Red Bull Bragantino - SP                46.8  \n",
       "Cuiabá - MT                             40.0  \n",
       "Corinthians - SP                        51.3  \n",
       "Atlético Goianiense - GO                35.4  "
      ]
     },
     "execution_count": 62,
     "metadata": {},
     "output_type": "execute_result"
    }
   ],
   "source": [
    "media_com_filtro.sort_values('Empates', ascending=False).head(5)"
   ]
  },
  {
   "cell_type": "code",
   "execution_count": 63,
   "metadata": {},
   "outputs": [
    {
     "data": {
      "application/vnd.plotly.v1+json": {
       "config": {
        "plotlyServerURL": "https://plot.ly"
       },
       "data": [
        {
         "alignmentgroup": "True",
         "hovertemplate": "Clube=%{x}<br>Empates=%{y}<extra></extra>",
         "legendgroup": "América - MG",
         "marker": {
          "color": "#636efa",
          "pattern": {
           "shape": ""
          }
         },
         "name": "América - MG",
         "offsetgroup": "América - MG",
         "orientation": "v",
         "showlegend": true,
         "textposition": "auto",
         "type": "bar",
         "x": [
          "América - MG"
         ],
         "xaxis": "x",
         "y": [
          9.6
         ],
         "yaxis": "y"
        },
        {
         "alignmentgroup": "True",
         "hovertemplate": "Clube=%{x}<br>Empates=%{y}<extra></extra>",
         "legendgroup": "Athletico Paranaense - PR",
         "marker": {
          "color": "#EF553B",
          "pattern": {
           "shape": ""
          }
         },
         "name": "Athletico Paranaense - PR",
         "offsetgroup": "Athletico Paranaense - PR",
         "orientation": "v",
         "showlegend": true,
         "textposition": "auto",
         "type": "bar",
         "x": [
          "Athletico Paranaense - PR"
         ],
         "xaxis": "x",
         "y": [
          9.3
         ],
         "yaxis": "y"
        },
        {
         "alignmentgroup": "True",
         "hovertemplate": "Clube=%{x}<br>Empates=%{y}<extra></extra>",
         "legendgroup": "Atlético Goianiense - GO",
         "marker": {
          "color": "#00cc96",
          "pattern": {
           "shape": ""
          }
         },
         "name": "Atlético Goianiense - GO",
         "offsetgroup": "Atlético Goianiense - GO",
         "orientation": "v",
         "showlegend": true,
         "textposition": "auto",
         "type": "bar",
         "x": [
          "Atlético Goianiense - GO"
         ],
         "xaxis": "x",
         "y": [
          11.6
         ],
         "yaxis": "y"
        },
        {
         "alignmentgroup": "True",
         "hovertemplate": "Clube=%{x}<br>Empates=%{y}<extra></extra>",
         "legendgroup": "Atlético Mineiro - MG",
         "marker": {
          "color": "#ab63fa",
          "pattern": {
           "shape": ""
          }
         },
         "name": "Atlético Mineiro - MG",
         "offsetgroup": "Atlético Mineiro - MG",
         "orientation": "v",
         "showlegend": true,
         "textposition": "auto",
         "type": "bar",
         "x": [
          "Atlético Mineiro - MG"
         ],
         "xaxis": "x",
         "y": [
          9.8
         ],
         "yaxis": "y"
        },
        {
         "alignmentgroup": "True",
         "hovertemplate": "Clube=%{x}<br>Empates=%{y}<extra></extra>",
         "legendgroup": "Avaí - SC",
         "marker": {
          "color": "#FFA15A",
          "pattern": {
           "shape": ""
          }
         },
         "name": "Avaí - SC",
         "offsetgroup": "Avaí - SC",
         "orientation": "v",
         "showlegend": true,
         "textposition": "auto",
         "type": "bar",
         "x": [
          "Avaí - SC"
         ],
         "xaxis": "x",
         "y": [
          10.2
         ],
         "yaxis": "y"
        },
        {
         "alignmentgroup": "True",
         "hovertemplate": "Clube=%{x}<br>Empates=%{y}<extra></extra>",
         "legendgroup": "Bahia - BA",
         "marker": {
          "color": "#19d3f3",
          "pattern": {
           "shape": ""
          }
         },
         "name": "Bahia - BA",
         "offsetgroup": "Bahia - BA",
         "orientation": "v",
         "showlegend": true,
         "textposition": "auto",
         "type": "bar",
         "x": [
          "Bahia - BA"
         ],
         "xaxis": "x",
         "y": [
          10.9
         ],
         "yaxis": "y"
        },
        {
         "alignmentgroup": "True",
         "hovertemplate": "Clube=%{x}<br>Empates=%{y}<extra></extra>",
         "legendgroup": "Botafogo - RJ",
         "marker": {
          "color": "#FF6692",
          "pattern": {
           "shape": ""
          }
         },
         "name": "Botafogo - RJ",
         "offsetgroup": "Botafogo - RJ",
         "orientation": "v",
         "showlegend": true,
         "textposition": "auto",
         "type": "bar",
         "x": [
          "Botafogo - RJ"
         ],
         "xaxis": "x",
         "y": [
          9.2
         ],
         "yaxis": "y"
        },
        {
         "alignmentgroup": "True",
         "hovertemplate": "Clube=%{x}<br>Empates=%{y}<extra></extra>",
         "legendgroup": "Ceará - CE",
         "marker": {
          "color": "#B6E880",
          "pattern": {
           "shape": ""
          }
         },
         "name": "Ceará - CE",
         "offsetgroup": "Ceará - CE",
         "orientation": "v",
         "showlegend": true,
         "textposition": "auto",
         "type": "bar",
         "x": [
          "Ceará - CE"
         ],
         "xaxis": "x",
         "y": [
          13.2
         ],
         "yaxis": "y"
        },
        {
         "alignmentgroup": "True",
         "hovertemplate": "Clube=%{x}<br>Empates=%{y}<extra></extra>",
         "legendgroup": "Chapecoense - SC",
         "marker": {
          "color": "#FF97FF",
          "pattern": {
           "shape": ""
          }
         },
         "name": "Chapecoense - SC",
         "offsetgroup": "Chapecoense - SC",
         "orientation": "v",
         "showlegend": true,
         "textposition": "auto",
         "type": "bar",
         "x": [
          "Chapecoense - SC"
         ],
         "xaxis": "x",
         "y": [
          11
         ],
         "yaxis": "y"
        },
        {
         "alignmentgroup": "True",
         "hovertemplate": "Clube=%{x}<br>Empates=%{y}<extra></extra>",
         "legendgroup": "Corinthians - SP",
         "marker": {
          "color": "#FECB52",
          "pattern": {
           "shape": ""
          }
         },
         "name": "Corinthians - SP",
         "offsetgroup": "Corinthians - SP",
         "orientation": "v",
         "showlegend": true,
         "textposition": "auto",
         "type": "bar",
         "x": [
          "Corinthians - SP"
         ],
         "xaxis": "x",
         "y": [
          11.9
         ],
         "yaxis": "y"
        },
        {
         "alignmentgroup": "True",
         "hovertemplate": "Clube=%{x}<br>Empates=%{y}<extra></extra>",
         "legendgroup": "Coritiba - PR",
         "marker": {
          "color": "#636efa",
          "pattern": {
           "shape": ""
          }
         },
         "name": "Coritiba - PR",
         "offsetgroup": "Coritiba - PR",
         "orientation": "v",
         "showlegend": true,
         "textposition": "auto",
         "type": "bar",
         "x": [
          "Coritiba - PR"
         ],
         "xaxis": "x",
         "y": [
          9.4
         ],
         "yaxis": "y"
        },
        {
         "alignmentgroup": "True",
         "hovertemplate": "Clube=%{x}<br>Empates=%{y}<extra></extra>",
         "legendgroup": "Cruzeiro - MG",
         "marker": {
          "color": "#EF553B",
          "pattern": {
           "shape": ""
          }
         },
         "name": "Cruzeiro - MG",
         "offsetgroup": "Cruzeiro - MG",
         "orientation": "v",
         "showlegend": true,
         "textposition": "auto",
         "type": "bar",
         "x": [
          "Cruzeiro - MG"
         ],
         "xaxis": "x",
         "y": [
          10.3
         ],
         "yaxis": "y"
        },
        {
         "alignmentgroup": "True",
         "hovertemplate": "Clube=%{x}<br>Empates=%{y}<extra></extra>",
         "legendgroup": "Cuiabá - MT",
         "marker": {
          "color": "#00cc96",
          "pattern": {
           "shape": ""
          }
         },
         "name": "Cuiabá - MT",
         "offsetgroup": "Cuiabá - MT",
         "orientation": "v",
         "showlegend": true,
         "textposition": "auto",
         "type": "bar",
         "x": [
          "Cuiabá - MT"
         ],
         "xaxis": "x",
         "y": [
          12.3
         ],
         "yaxis": "y"
        },
        {
         "alignmentgroup": "True",
         "hovertemplate": "Clube=%{x}<br>Empates=%{y}<extra></extra>",
         "legendgroup": "Figueirense - SC",
         "marker": {
          "color": "#ab63fa",
          "pattern": {
           "shape": ""
          }
         },
         "name": "Figueirense - SC",
         "offsetgroup": "Figueirense - SC",
         "orientation": "v",
         "showlegend": true,
         "textposition": "auto",
         "type": "bar",
         "x": [
          "Figueirense - SC"
         ],
         "xaxis": "x",
         "y": [
          10
         ],
         "yaxis": "y"
        },
        {
         "alignmentgroup": "True",
         "hovertemplate": "Clube=%{x}<br>Empates=%{y}<extra></extra>",
         "legendgroup": "Flamengo - RJ",
         "marker": {
          "color": "#FFA15A",
          "pattern": {
           "shape": ""
          }
         },
         "name": "Flamengo - RJ",
         "offsetgroup": "Flamengo - RJ",
         "orientation": "v",
         "showlegend": true,
         "textposition": "auto",
         "type": "bar",
         "x": [
          "Flamengo - RJ"
         ],
         "xaxis": "x",
         "y": [
          9.2
         ],
         "yaxis": "y"
        },
        {
         "alignmentgroup": "True",
         "hovertemplate": "Clube=%{x}<br>Empates=%{y}<extra></extra>",
         "legendgroup": "Fluminense - RJ",
         "marker": {
          "color": "#19d3f3",
          "pattern": {
           "shape": ""
          }
         },
         "name": "Fluminense - RJ",
         "offsetgroup": "Fluminense - RJ",
         "orientation": "v",
         "showlegend": true,
         "textposition": "auto",
         "type": "bar",
         "x": [
          "Fluminense - RJ"
         ],
         "xaxis": "x",
         "y": [
          9.5
         ],
         "yaxis": "y"
        },
        {
         "alignmentgroup": "True",
         "hovertemplate": "Clube=%{x}<br>Empates=%{y}<extra></extra>",
         "legendgroup": "Fortaleza - CE",
         "marker": {
          "color": "#FF6692",
          "pattern": {
           "shape": ""
          }
         },
         "name": "Fortaleza - CE",
         "offsetgroup": "Fortaleza - CE",
         "orientation": "v",
         "showlegend": true,
         "textposition": "auto",
         "type": "bar",
         "x": [
          "Fortaleza - CE"
         ],
         "xaxis": "x",
         "y": [
          9
         ],
         "yaxis": "y"
        },
        {
         "alignmentgroup": "True",
         "hovertemplate": "Clube=%{x}<br>Empates=%{y}<extra></extra>",
         "legendgroup": "Goiás - GO",
         "marker": {
          "color": "#B6E880",
          "pattern": {
           "shape": ""
          }
         },
         "name": "Goiás - GO",
         "offsetgroup": "Goiás - GO",
         "orientation": "v",
         "showlegend": true,
         "textposition": "auto",
         "type": "bar",
         "x": [
          "Goiás - GO"
         ],
         "xaxis": "x",
         "y": [
          9.7
         ],
         "yaxis": "y"
        },
        {
         "alignmentgroup": "True",
         "hovertemplate": "Clube=%{x}<br>Empates=%{y}<extra></extra>",
         "legendgroup": "Grêmio - RS",
         "marker": {
          "color": "#FF97FF",
          "pattern": {
           "shape": ""
          }
         },
         "name": "Grêmio - RS",
         "offsetgroup": "Grêmio - RS",
         "orientation": "v",
         "showlegend": true,
         "textposition": "auto",
         "type": "bar",
         "x": [
          "Grêmio - RS"
         ],
         "xaxis": "x",
         "y": [
          9.8
         ],
         "yaxis": "y"
        },
        {
         "alignmentgroup": "True",
         "hovertemplate": "Clube=%{x}<br>Empates=%{y}<extra></extra>",
         "legendgroup": "Internacional - RS",
         "marker": {
          "color": "#FECB52",
          "pattern": {
           "shape": ""
          }
         },
         "name": "Internacional - RS",
         "offsetgroup": "Internacional - RS",
         "orientation": "v",
         "showlegend": true,
         "textposition": "auto",
         "type": "bar",
         "x": [
          "Internacional - RS"
         ],
         "xaxis": "x",
         "y": [
          10.8
         ],
         "yaxis": "y"
        },
        {
         "alignmentgroup": "True",
         "hovertemplate": "Clube=%{x}<br>Empates=%{y}<extra></extra>",
         "legendgroup": "Palmeiras - SP",
         "marker": {
          "color": "#636efa",
          "pattern": {
           "shape": ""
          }
         },
         "name": "Palmeiras - SP",
         "offsetgroup": "Palmeiras - SP",
         "orientation": "v",
         "showlegend": true,
         "textposition": "auto",
         "type": "bar",
         "x": [
          "Palmeiras - SP"
         ],
         "xaxis": "x",
         "y": [
          9
         ],
         "yaxis": "y"
        },
        {
         "alignmentgroup": "True",
         "hovertemplate": "Clube=%{x}<br>Empates=%{y}<extra></extra>",
         "legendgroup": "Ponte Preta - SP",
         "marker": {
          "color": "#EF553B",
          "pattern": {
           "shape": ""
          }
         },
         "name": "Ponte Preta - SP",
         "offsetgroup": "Ponte Preta - SP",
         "orientation": "v",
         "showlegend": true,
         "textposition": "auto",
         "type": "bar",
         "x": [
          "Ponte Preta - SP"
         ],
         "xaxis": "x",
         "y": [
          10.2
         ],
         "yaxis": "y"
        },
        {
         "alignmentgroup": "True",
         "hovertemplate": "Clube=%{x}<br>Empates=%{y}<extra></extra>",
         "legendgroup": "Red Bull Bragantino - SP",
         "marker": {
          "color": "#00cc96",
          "pattern": {
           "shape": ""
          }
         },
         "name": "Red Bull Bragantino - SP",
         "offsetgroup": "Red Bull Bragantino - SP",
         "orientation": "v",
         "showlegend": true,
         "textposition": "auto",
         "type": "bar",
         "x": [
          "Red Bull Bragantino - SP"
         ],
         "xaxis": "x",
         "y": [
          12.5
         ],
         "yaxis": "y"
        },
        {
         "alignmentgroup": "True",
         "hovertemplate": "Clube=%{x}<br>Empates=%{y}<extra></extra>",
         "legendgroup": "Santos - SP",
         "marker": {
          "color": "#ab63fa",
          "pattern": {
           "shape": ""
          }
         },
         "name": "Santos - SP",
         "offsetgroup": "Santos - SP",
         "orientation": "v",
         "showlegend": true,
         "textposition": "auto",
         "type": "bar",
         "x": [
          "Santos - SP"
         ],
         "xaxis": "x",
         "y": [
          10.6
         ],
         "yaxis": "y"
        },
        {
         "alignmentgroup": "True",
         "hovertemplate": "Clube=%{x}<br>Empates=%{y}<extra></extra>",
         "legendgroup": "Sport - PE",
         "marker": {
          "color": "#FFA15A",
          "pattern": {
           "shape": ""
          }
         },
         "name": "Sport - PE",
         "offsetgroup": "Sport - PE",
         "orientation": "v",
         "showlegend": true,
         "textposition": "auto",
         "type": "bar",
         "x": [
          "Sport - PE"
         ],
         "xaxis": "x",
         "y": [
          9.8
         ],
         "yaxis": "y"
        },
        {
         "alignmentgroup": "True",
         "hovertemplate": "Clube=%{x}<br>Empates=%{y}<extra></extra>",
         "legendgroup": "São Paulo - SP",
         "marker": {
          "color": "#19d3f3",
          "pattern": {
           "shape": ""
          }
         },
         "name": "São Paulo - SP",
         "offsetgroup": "São Paulo - SP",
         "orientation": "v",
         "showlegend": true,
         "textposition": "auto",
         "type": "bar",
         "x": [
          "São Paulo - SP"
         ],
         "xaxis": "x",
         "y": [
          11.1
         ],
         "yaxis": "y"
        },
        {
         "alignmentgroup": "True",
         "hovertemplate": "Clube=%{x}<br>Empates=%{y}<extra></extra>",
         "legendgroup": "Vasco da Gama - RJ",
         "marker": {
          "color": "#FF6692",
          "pattern": {
           "shape": ""
          }
         },
         "name": "Vasco da Gama - RJ",
         "offsetgroup": "Vasco da Gama - RJ",
         "orientation": "v",
         "showlegend": true,
         "textposition": "auto",
         "type": "bar",
         "x": [
          "Vasco da Gama - RJ"
         ],
         "xaxis": "x",
         "y": [
          11.1
         ],
         "yaxis": "y"
        },
        {
         "alignmentgroup": "True",
         "hovertemplate": "Clube=%{x}<br>Empates=%{y}<extra></extra>",
         "legendgroup": "Vitória - BA",
         "marker": {
          "color": "#B6E880",
          "pattern": {
           "shape": ""
          }
         },
         "name": "Vitória - BA",
         "offsetgroup": "Vitória - BA",
         "orientation": "v",
         "showlegend": true,
         "textposition": "auto",
         "type": "bar",
         "x": [
          "Vitória - BA"
         ],
         "xaxis": "x",
         "y": [
          9.6
         ],
         "yaxis": "y"
        }
       ],
       "layout": {
        "barmode": "relative",
        "legend": {
         "title": {
          "text": "Clube"
         },
         "tracegroupgap": 0
        },
        "showlegend": false,
        "template": {
         "data": {
          "bar": [
           {
            "error_x": {
             "color": "#2a3f5f"
            },
            "error_y": {
             "color": "#2a3f5f"
            },
            "marker": {
             "line": {
              "color": "#E5ECF6",
              "width": 0.5
             },
             "pattern": {
              "fillmode": "overlay",
              "size": 10,
              "solidity": 0.2
             }
            },
            "type": "bar"
           }
          ],
          "barpolar": [
           {
            "marker": {
             "line": {
              "color": "#E5ECF6",
              "width": 0.5
             },
             "pattern": {
              "fillmode": "overlay",
              "size": 10,
              "solidity": 0.2
             }
            },
            "type": "barpolar"
           }
          ],
          "carpet": [
           {
            "aaxis": {
             "endlinecolor": "#2a3f5f",
             "gridcolor": "white",
             "linecolor": "white",
             "minorgridcolor": "white",
             "startlinecolor": "#2a3f5f"
            },
            "baxis": {
             "endlinecolor": "#2a3f5f",
             "gridcolor": "white",
             "linecolor": "white",
             "minorgridcolor": "white",
             "startlinecolor": "#2a3f5f"
            },
            "type": "carpet"
           }
          ],
          "choropleth": [
           {
            "colorbar": {
             "outlinewidth": 0,
             "ticks": ""
            },
            "type": "choropleth"
           }
          ],
          "contour": [
           {
            "colorbar": {
             "outlinewidth": 0,
             "ticks": ""
            },
            "colorscale": [
             [
              0,
              "#0d0887"
             ],
             [
              0.1111111111111111,
              "#46039f"
             ],
             [
              0.2222222222222222,
              "#7201a8"
             ],
             [
              0.3333333333333333,
              "#9c179e"
             ],
             [
              0.4444444444444444,
              "#bd3786"
             ],
             [
              0.5555555555555556,
              "#d8576b"
             ],
             [
              0.6666666666666666,
              "#ed7953"
             ],
             [
              0.7777777777777778,
              "#fb9f3a"
             ],
             [
              0.8888888888888888,
              "#fdca26"
             ],
             [
              1,
              "#f0f921"
             ]
            ],
            "type": "contour"
           }
          ],
          "contourcarpet": [
           {
            "colorbar": {
             "outlinewidth": 0,
             "ticks": ""
            },
            "type": "contourcarpet"
           }
          ],
          "heatmap": [
           {
            "colorbar": {
             "outlinewidth": 0,
             "ticks": ""
            },
            "colorscale": [
             [
              0,
              "#0d0887"
             ],
             [
              0.1111111111111111,
              "#46039f"
             ],
             [
              0.2222222222222222,
              "#7201a8"
             ],
             [
              0.3333333333333333,
              "#9c179e"
             ],
             [
              0.4444444444444444,
              "#bd3786"
             ],
             [
              0.5555555555555556,
              "#d8576b"
             ],
             [
              0.6666666666666666,
              "#ed7953"
             ],
             [
              0.7777777777777778,
              "#fb9f3a"
             ],
             [
              0.8888888888888888,
              "#fdca26"
             ],
             [
              1,
              "#f0f921"
             ]
            ],
            "type": "heatmap"
           }
          ],
          "heatmapgl": [
           {
            "colorbar": {
             "outlinewidth": 0,
             "ticks": ""
            },
            "colorscale": [
             [
              0,
              "#0d0887"
             ],
             [
              0.1111111111111111,
              "#46039f"
             ],
             [
              0.2222222222222222,
              "#7201a8"
             ],
             [
              0.3333333333333333,
              "#9c179e"
             ],
             [
              0.4444444444444444,
              "#bd3786"
             ],
             [
              0.5555555555555556,
              "#d8576b"
             ],
             [
              0.6666666666666666,
              "#ed7953"
             ],
             [
              0.7777777777777778,
              "#fb9f3a"
             ],
             [
              0.8888888888888888,
              "#fdca26"
             ],
             [
              1,
              "#f0f921"
             ]
            ],
            "type": "heatmapgl"
           }
          ],
          "histogram": [
           {
            "marker": {
             "pattern": {
              "fillmode": "overlay",
              "size": 10,
              "solidity": 0.2
             }
            },
            "type": "histogram"
           }
          ],
          "histogram2d": [
           {
            "colorbar": {
             "outlinewidth": 0,
             "ticks": ""
            },
            "colorscale": [
             [
              0,
              "#0d0887"
             ],
             [
              0.1111111111111111,
              "#46039f"
             ],
             [
              0.2222222222222222,
              "#7201a8"
             ],
             [
              0.3333333333333333,
              "#9c179e"
             ],
             [
              0.4444444444444444,
              "#bd3786"
             ],
             [
              0.5555555555555556,
              "#d8576b"
             ],
             [
              0.6666666666666666,
              "#ed7953"
             ],
             [
              0.7777777777777778,
              "#fb9f3a"
             ],
             [
              0.8888888888888888,
              "#fdca26"
             ],
             [
              1,
              "#f0f921"
             ]
            ],
            "type": "histogram2d"
           }
          ],
          "histogram2dcontour": [
           {
            "colorbar": {
             "outlinewidth": 0,
             "ticks": ""
            },
            "colorscale": [
             [
              0,
              "#0d0887"
             ],
             [
              0.1111111111111111,
              "#46039f"
             ],
             [
              0.2222222222222222,
              "#7201a8"
             ],
             [
              0.3333333333333333,
              "#9c179e"
             ],
             [
              0.4444444444444444,
              "#bd3786"
             ],
             [
              0.5555555555555556,
              "#d8576b"
             ],
             [
              0.6666666666666666,
              "#ed7953"
             ],
             [
              0.7777777777777778,
              "#fb9f3a"
             ],
             [
              0.8888888888888888,
              "#fdca26"
             ],
             [
              1,
              "#f0f921"
             ]
            ],
            "type": "histogram2dcontour"
           }
          ],
          "mesh3d": [
           {
            "colorbar": {
             "outlinewidth": 0,
             "ticks": ""
            },
            "type": "mesh3d"
           }
          ],
          "parcoords": [
           {
            "line": {
             "colorbar": {
              "outlinewidth": 0,
              "ticks": ""
             }
            },
            "type": "parcoords"
           }
          ],
          "pie": [
           {
            "automargin": true,
            "type": "pie"
           }
          ],
          "scatter": [
           {
            "fillpattern": {
             "fillmode": "overlay",
             "size": 10,
             "solidity": 0.2
            },
            "type": "scatter"
           }
          ],
          "scatter3d": [
           {
            "line": {
             "colorbar": {
              "outlinewidth": 0,
              "ticks": ""
             }
            },
            "marker": {
             "colorbar": {
              "outlinewidth": 0,
              "ticks": ""
             }
            },
            "type": "scatter3d"
           }
          ],
          "scattercarpet": [
           {
            "marker": {
             "colorbar": {
              "outlinewidth": 0,
              "ticks": ""
             }
            },
            "type": "scattercarpet"
           }
          ],
          "scattergeo": [
           {
            "marker": {
             "colorbar": {
              "outlinewidth": 0,
              "ticks": ""
             }
            },
            "type": "scattergeo"
           }
          ],
          "scattergl": [
           {
            "marker": {
             "colorbar": {
              "outlinewidth": 0,
              "ticks": ""
             }
            },
            "type": "scattergl"
           }
          ],
          "scattermapbox": [
           {
            "marker": {
             "colorbar": {
              "outlinewidth": 0,
              "ticks": ""
             }
            },
            "type": "scattermapbox"
           }
          ],
          "scatterpolar": [
           {
            "marker": {
             "colorbar": {
              "outlinewidth": 0,
              "ticks": ""
             }
            },
            "type": "scatterpolar"
           }
          ],
          "scatterpolargl": [
           {
            "marker": {
             "colorbar": {
              "outlinewidth": 0,
              "ticks": ""
             }
            },
            "type": "scatterpolargl"
           }
          ],
          "scatterternary": [
           {
            "marker": {
             "colorbar": {
              "outlinewidth": 0,
              "ticks": ""
             }
            },
            "type": "scatterternary"
           }
          ],
          "surface": [
           {
            "colorbar": {
             "outlinewidth": 0,
             "ticks": ""
            },
            "colorscale": [
             [
              0,
              "#0d0887"
             ],
             [
              0.1111111111111111,
              "#46039f"
             ],
             [
              0.2222222222222222,
              "#7201a8"
             ],
             [
              0.3333333333333333,
              "#9c179e"
             ],
             [
              0.4444444444444444,
              "#bd3786"
             ],
             [
              0.5555555555555556,
              "#d8576b"
             ],
             [
              0.6666666666666666,
              "#ed7953"
             ],
             [
              0.7777777777777778,
              "#fb9f3a"
             ],
             [
              0.8888888888888888,
              "#fdca26"
             ],
             [
              1,
              "#f0f921"
             ]
            ],
            "type": "surface"
           }
          ],
          "table": [
           {
            "cells": {
             "fill": {
              "color": "#EBF0F8"
             },
             "line": {
              "color": "white"
             }
            },
            "header": {
             "fill": {
              "color": "#C8D4E3"
             },
             "line": {
              "color": "white"
             }
            },
            "type": "table"
           }
          ]
         },
         "layout": {
          "annotationdefaults": {
           "arrowcolor": "#2a3f5f",
           "arrowhead": 0,
           "arrowwidth": 1
          },
          "autotypenumbers": "strict",
          "coloraxis": {
           "colorbar": {
            "outlinewidth": 0,
            "ticks": ""
           }
          },
          "colorscale": {
           "diverging": [
            [
             0,
             "#8e0152"
            ],
            [
             0.1,
             "#c51b7d"
            ],
            [
             0.2,
             "#de77ae"
            ],
            [
             0.3,
             "#f1b6da"
            ],
            [
             0.4,
             "#fde0ef"
            ],
            [
             0.5,
             "#f7f7f7"
            ],
            [
             0.6,
             "#e6f5d0"
            ],
            [
             0.7,
             "#b8e186"
            ],
            [
             0.8,
             "#7fbc41"
            ],
            [
             0.9,
             "#4d9221"
            ],
            [
             1,
             "#276419"
            ]
           ],
           "sequential": [
            [
             0,
             "#0d0887"
            ],
            [
             0.1111111111111111,
             "#46039f"
            ],
            [
             0.2222222222222222,
             "#7201a8"
            ],
            [
             0.3333333333333333,
             "#9c179e"
            ],
            [
             0.4444444444444444,
             "#bd3786"
            ],
            [
             0.5555555555555556,
             "#d8576b"
            ],
            [
             0.6666666666666666,
             "#ed7953"
            ],
            [
             0.7777777777777778,
             "#fb9f3a"
            ],
            [
             0.8888888888888888,
             "#fdca26"
            ],
            [
             1,
             "#f0f921"
            ]
           ],
           "sequentialminus": [
            [
             0,
             "#0d0887"
            ],
            [
             0.1111111111111111,
             "#46039f"
            ],
            [
             0.2222222222222222,
             "#7201a8"
            ],
            [
             0.3333333333333333,
             "#9c179e"
            ],
            [
             0.4444444444444444,
             "#bd3786"
            ],
            [
             0.5555555555555556,
             "#d8576b"
            ],
            [
             0.6666666666666666,
             "#ed7953"
            ],
            [
             0.7777777777777778,
             "#fb9f3a"
            ],
            [
             0.8888888888888888,
             "#fdca26"
            ],
            [
             1,
             "#f0f921"
            ]
           ]
          },
          "colorway": [
           "#636efa",
           "#EF553B",
           "#00cc96",
           "#ab63fa",
           "#FFA15A",
           "#19d3f3",
           "#FF6692",
           "#B6E880",
           "#FF97FF",
           "#FECB52"
          ],
          "font": {
           "color": "#2a3f5f"
          },
          "geo": {
           "bgcolor": "white",
           "lakecolor": "white",
           "landcolor": "#E5ECF6",
           "showlakes": true,
           "showland": true,
           "subunitcolor": "white"
          },
          "hoverlabel": {
           "align": "left"
          },
          "hovermode": "closest",
          "mapbox": {
           "style": "light"
          },
          "paper_bgcolor": "white",
          "plot_bgcolor": "#E5ECF6",
          "polar": {
           "angularaxis": {
            "gridcolor": "white",
            "linecolor": "white",
            "ticks": ""
           },
           "bgcolor": "#E5ECF6",
           "radialaxis": {
            "gridcolor": "white",
            "linecolor": "white",
            "ticks": ""
           }
          },
          "scene": {
           "xaxis": {
            "backgroundcolor": "#E5ECF6",
            "gridcolor": "white",
            "gridwidth": 2,
            "linecolor": "white",
            "showbackground": true,
            "ticks": "",
            "zerolinecolor": "white"
           },
           "yaxis": {
            "backgroundcolor": "#E5ECF6",
            "gridcolor": "white",
            "gridwidth": 2,
            "linecolor": "white",
            "showbackground": true,
            "ticks": "",
            "zerolinecolor": "white"
           },
           "zaxis": {
            "backgroundcolor": "#E5ECF6",
            "gridcolor": "white",
            "gridwidth": 2,
            "linecolor": "white",
            "showbackground": true,
            "ticks": "",
            "zerolinecolor": "white"
           }
          },
          "shapedefaults": {
           "line": {
            "color": "#2a3f5f"
           }
          },
          "ternary": {
           "aaxis": {
            "gridcolor": "white",
            "linecolor": "white",
            "ticks": ""
           },
           "baxis": {
            "gridcolor": "white",
            "linecolor": "white",
            "ticks": ""
           },
           "bgcolor": "#E5ECF6",
           "caxis": {
            "gridcolor": "white",
            "linecolor": "white",
            "ticks": ""
           }
          },
          "title": {
           "x": 0.05
          },
          "xaxis": {
           "automargin": true,
           "gridcolor": "white",
           "linecolor": "white",
           "ticks": "",
           "title": {
            "standoff": 15
           },
           "zerolinecolor": "white",
           "zerolinewidth": 2
          },
          "yaxis": {
           "automargin": true,
           "gridcolor": "white",
           "linecolor": "white",
           "ticks": "",
           "title": {
            "standoff": 15
           },
           "zerolinecolor": "white",
           "zerolinewidth": 2
          }
         }
        },
        "title": {
         "text": "Média de Empates por Clube"
        },
        "xaxis": {
         "anchor": "y",
         "categoryarray": [
          "América - MG",
          "Athletico Paranaense - PR",
          "Atlético Goianiense - GO",
          "Atlético Mineiro - MG",
          "Avaí - SC",
          "Bahia - BA",
          "Botafogo - RJ",
          "Ceará - CE",
          "Chapecoense - SC",
          "Corinthians - SP",
          "Coritiba - PR",
          "Cruzeiro - MG",
          "Cuiabá - MT",
          "Figueirense - SC",
          "Flamengo - RJ",
          "Fluminense - RJ",
          "Fortaleza - CE",
          "Goiás - GO",
          "Grêmio - RS",
          "Internacional - RS",
          "Palmeiras - SP",
          "Ponte Preta - SP",
          "Red Bull Bragantino - SP",
          "Santos - SP",
          "Sport - PE",
          "São Paulo - SP",
          "Vasco da Gama - RJ",
          "Vitória - BA"
         ],
         "categoryorder": "array",
         "domain": [
          0,
          1
         ],
         "title": {
          "text": ""
         }
        },
        "yaxis": {
         "anchor": "x",
         "domain": [
          0,
          1
         ],
         "title": {
          "text": "Média de Empates"
         }
        }
       }
      }
     },
     "metadata": {},
     "output_type": "display_data"
    }
   ],
   "source": [
    "media_de_equipe_da_estatistica(\"Empates\")"
   ]
  },
  {
   "cell_type": "markdown",
   "metadata": {},
   "source": [
    "<h2>26 - Identificar OS TIMES C/ MAIS DERROTAS na MÉDIA</h2>"
   ]
  },
  {
   "cell_type": "code",
   "execution_count": 64,
   "metadata": {},
   "outputs": [
    {
     "data": {
      "text/html": [
       "<div>\n",
       "<style scoped>\n",
       "    .dataframe tbody tr th:only-of-type {\n",
       "        vertical-align: middle;\n",
       "    }\n",
       "\n",
       "    .dataframe tbody tr th {\n",
       "        vertical-align: top;\n",
       "    }\n",
       "\n",
       "    .dataframe thead th {\n",
       "        text-align: right;\n",
       "    }\n",
       "</style>\n",
       "<table border=\"1\" class=\"dataframe\">\n",
       "  <thead>\n",
       "    <tr style=\"text-align: right;\">\n",
       "      <th></th>\n",
       "      <th>Colocação</th>\n",
       "      <th>Pontos</th>\n",
       "      <th>Vitórias</th>\n",
       "      <th>Empates</th>\n",
       "      <th>Derrotas</th>\n",
       "      <th>Gols Feitos</th>\n",
       "      <th>Gols Sofridos</th>\n",
       "      <th>Saldos de Gols</th>\n",
       "      <th>Cartões Amarelos</th>\n",
       "      <th>Cartões Vermelhos</th>\n",
       "      <th>Aproveitamento (%)</th>\n",
       "    </tr>\n",
       "    <tr>\n",
       "      <th>Clube</th>\n",
       "      <th></th>\n",
       "      <th></th>\n",
       "      <th></th>\n",
       "      <th></th>\n",
       "      <th></th>\n",
       "      <th></th>\n",
       "      <th></th>\n",
       "      <th></th>\n",
       "      <th></th>\n",
       "      <th></th>\n",
       "      <th></th>\n",
       "    </tr>\n",
       "  </thead>\n",
       "  <tbody>\n",
       "    <tr>\n",
       "      <th>Avaí - SC</th>\n",
       "      <td>18.5</td>\n",
       "      <td>35.0</td>\n",
       "      <td>8.2</td>\n",
       "      <td>10.2</td>\n",
       "      <td>19.5</td>\n",
       "      <td>29.8</td>\n",
       "      <td>57.5</td>\n",
       "      <td>-27.8</td>\n",
       "      <td>95.5</td>\n",
       "      <td>5.5</td>\n",
       "      <td>30.0</td>\n",
       "    </tr>\n",
       "    <tr>\n",
       "      <th>América - MG</th>\n",
       "      <td>15.0</td>\n",
       "      <td>39.6</td>\n",
       "      <td>10.0</td>\n",
       "      <td>9.6</td>\n",
       "      <td>18.4</td>\n",
       "      <td>35.2</td>\n",
       "      <td>52.6</td>\n",
       "      <td>-17.4</td>\n",
       "      <td>78.0</td>\n",
       "      <td>5.8</td>\n",
       "      <td>34.4</td>\n",
       "    </tr>\n",
       "    <tr>\n",
       "      <th>Figueirense - SC</th>\n",
       "      <td>16.8</td>\n",
       "      <td>39.2</td>\n",
       "      <td>9.8</td>\n",
       "      <td>10.0</td>\n",
       "      <td>18.2</td>\n",
       "      <td>35.5</td>\n",
       "      <td>54.8</td>\n",
       "      <td>-19.2</td>\n",
       "      <td>96.0</td>\n",
       "      <td>8.0</td>\n",
       "      <td>34.0</td>\n",
       "    </tr>\n",
       "    <tr>\n",
       "      <th>Coritiba - PR</th>\n",
       "      <td>15.3</td>\n",
       "      <td>42.1</td>\n",
       "      <td>10.9</td>\n",
       "      <td>9.4</td>\n",
       "      <td>17.7</td>\n",
       "      <td>40.2</td>\n",
       "      <td>52.4</td>\n",
       "      <td>-12.2</td>\n",
       "      <td>97.0</td>\n",
       "      <td>5.9</td>\n",
       "      <td>36.6</td>\n",
       "    </tr>\n",
       "    <tr>\n",
       "      <th>Chapecoense - SC</th>\n",
       "      <td>14.4</td>\n",
       "      <td>41.0</td>\n",
       "      <td>10.0</td>\n",
       "      <td>11.0</td>\n",
       "      <td>17.0</td>\n",
       "      <td>37.3</td>\n",
       "      <td>51.7</td>\n",
       "      <td>-14.4</td>\n",
       "      <td>80.9</td>\n",
       "      <td>4.0</td>\n",
       "      <td>35.7</td>\n",
       "    </tr>\n",
       "  </tbody>\n",
       "</table>\n",
       "</div>"
      ],
      "text/plain": [
       "                  Colocação  Pontos  Vitórias  Empates  Derrotas  Gols Feitos  \\\n",
       "Clube                                                                           \n",
       "Avaí - SC              18.5    35.0       8.2     10.2      19.5         29.8   \n",
       "América - MG           15.0    39.6      10.0      9.6      18.4         35.2   \n",
       "Figueirense - SC       16.8    39.2       9.8     10.0      18.2         35.5   \n",
       "Coritiba - PR          15.3    42.1      10.9      9.4      17.7         40.2   \n",
       "Chapecoense - SC       14.4    41.0      10.0     11.0      17.0         37.3   \n",
       "\n",
       "                  Gols Sofridos  Saldos de Gols  Cartões Amarelos  \\\n",
       "Clube                                                               \n",
       "Avaí - SC                  57.5           -27.8              95.5   \n",
       "América - MG               52.6           -17.4              78.0   \n",
       "Figueirense - SC           54.8           -19.2              96.0   \n",
       "Coritiba - PR              52.4           -12.2              97.0   \n",
       "Chapecoense - SC           51.7           -14.4              80.9   \n",
       "\n",
       "                  Cartões Vermelhos  Aproveitamento (%)  \n",
       "Clube                                                    \n",
       "Avaí - SC                       5.5                30.0  \n",
       "América - MG                    5.8                34.4  \n",
       "Figueirense - SC                8.0                34.0  \n",
       "Coritiba - PR                   5.9                36.6  \n",
       "Chapecoense - SC                4.0                35.7  "
      ]
     },
     "execution_count": 64,
     "metadata": {},
     "output_type": "execute_result"
    }
   ],
   "source": [
    "media_com_filtro.sort_values('Derrotas', ascending=False).head(5)"
   ]
  },
  {
   "cell_type": "code",
   "execution_count": 65,
   "metadata": {},
   "outputs": [
    {
     "data": {
      "application/vnd.plotly.v1+json": {
       "config": {
        "plotlyServerURL": "https://plot.ly"
       },
       "data": [
        {
         "alignmentgroup": "True",
         "hovertemplate": "Clube=%{x}<br>Derrotas=%{y}<extra></extra>",
         "legendgroup": "América - MG",
         "marker": {
          "color": "#636efa",
          "pattern": {
           "shape": ""
          }
         },
         "name": "América - MG",
         "offsetgroup": "América - MG",
         "orientation": "v",
         "showlegend": true,
         "textposition": "auto",
         "type": "bar",
         "x": [
          "América - MG"
         ],
         "xaxis": "x",
         "y": [
          18.4
         ],
         "yaxis": "y"
        },
        {
         "alignmentgroup": "True",
         "hovertemplate": "Clube=%{x}<br>Derrotas=%{y}<extra></extra>",
         "legendgroup": "Athletico Paranaense - PR",
         "marker": {
          "color": "#EF553B",
          "pattern": {
           "shape": ""
          }
         },
         "name": "Athletico Paranaense - PR",
         "offsetgroup": "Athletico Paranaense - PR",
         "orientation": "v",
         "showlegend": true,
         "textposition": "auto",
         "type": "bar",
         "x": [
          "Athletico Paranaense - PR"
         ],
         "xaxis": "x",
         "y": [
          13.3
         ],
         "yaxis": "y"
        },
        {
         "alignmentgroup": "True",
         "hovertemplate": "Clube=%{x}<br>Derrotas=%{y}<extra></extra>",
         "legendgroup": "Atlético Goianiense - GO",
         "marker": {
          "color": "#00cc96",
          "pattern": {
           "shape": ""
          }
         },
         "name": "Atlético Goianiense - GO",
         "offsetgroup": "Atlético Goianiense - GO",
         "orientation": "v",
         "showlegend": true,
         "textposition": "auto",
         "type": "bar",
         "x": [
          "Atlético Goianiense - GO"
         ],
         "xaxis": "x",
         "y": [
          16.6
         ],
         "yaxis": "y"
        },
        {
         "alignmentgroup": "True",
         "hovertemplate": "Clube=%{x}<br>Derrotas=%{y}<extra></extra>",
         "legendgroup": "Atlético Mineiro - MG",
         "marker": {
          "color": "#ab63fa",
          "pattern": {
           "shape": ""
          }
         },
         "name": "Atlético Mineiro - MG",
         "offsetgroup": "Atlético Mineiro - MG",
         "orientation": "v",
         "showlegend": true,
         "textposition": "auto",
         "type": "bar",
         "x": [
          "Atlético Mineiro - MG"
         ],
         "xaxis": "x",
         "y": [
          10.4
         ],
         "yaxis": "y"
        },
        {
         "alignmentgroup": "True",
         "hovertemplate": "Clube=%{x}<br>Derrotas=%{y}<extra></extra>",
         "legendgroup": "Avaí - SC",
         "marker": {
          "color": "#FFA15A",
          "pattern": {
           "shape": ""
          }
         },
         "name": "Avaí - SC",
         "offsetgroup": "Avaí - SC",
         "orientation": "v",
         "showlegend": true,
         "textposition": "auto",
         "type": "bar",
         "x": [
          "Avaí - SC"
         ],
         "xaxis": "x",
         "y": [
          19.5
         ],
         "yaxis": "y"
        },
        {
         "alignmentgroup": "True",
         "hovertemplate": "Clube=%{x}<br>Derrotas=%{y}<extra></extra>",
         "legendgroup": "Bahia - BA",
         "marker": {
          "color": "#19d3f3",
          "pattern": {
           "shape": ""
          }
         },
         "name": "Bahia - BA",
         "offsetgroup": "Bahia - BA",
         "orientation": "v",
         "showlegend": true,
         "textposition": "auto",
         "type": "bar",
         "x": [
          "Bahia - BA"
         ],
         "xaxis": "x",
         "y": [
          15.6
         ],
         "yaxis": "y"
        },
        {
         "alignmentgroup": "True",
         "hovertemplate": "Clube=%{x}<br>Derrotas=%{y}<extra></extra>",
         "legendgroup": "Botafogo - RJ",
         "marker": {
          "color": "#FF6692",
          "pattern": {
           "shape": ""
          }
         },
         "name": "Botafogo - RJ",
         "offsetgroup": "Botafogo - RJ",
         "orientation": "v",
         "showlegend": true,
         "textposition": "auto",
         "type": "bar",
         "x": [
          "Botafogo - RJ"
         ],
         "xaxis": "x",
         "y": [
          15.2
         ],
         "yaxis": "y"
        },
        {
         "alignmentgroup": "True",
         "hovertemplate": "Clube=%{x}<br>Derrotas=%{y}<extra></extra>",
         "legendgroup": "Ceará - CE",
         "marker": {
          "color": "#B6E880",
          "pattern": {
           "shape": ""
          }
         },
         "name": "Ceará - CE",
         "offsetgroup": "Ceará - CE",
         "orientation": "v",
         "showlegend": true,
         "textposition": "auto",
         "type": "bar",
         "x": [
          "Ceará - CE"
         ],
         "xaxis": "x",
         "y": [
          14.4
         ],
         "yaxis": "y"
        },
        {
         "alignmentgroup": "True",
         "hovertemplate": "Clube=%{x}<br>Derrotas=%{y}<extra></extra>",
         "legendgroup": "Chapecoense - SC",
         "marker": {
          "color": "#FF97FF",
          "pattern": {
           "shape": ""
          }
         },
         "name": "Chapecoense - SC",
         "offsetgroup": "Chapecoense - SC",
         "orientation": "v",
         "showlegend": true,
         "textposition": "auto",
         "type": "bar",
         "x": [
          "Chapecoense - SC"
         ],
         "xaxis": "x",
         "y": [
          17
         ],
         "yaxis": "y"
        },
        {
         "alignmentgroup": "True",
         "hovertemplate": "Clube=%{x}<br>Derrotas=%{y}<extra></extra>",
         "legendgroup": "Corinthians - SP",
         "marker": {
          "color": "#FECB52",
          "pattern": {
           "shape": ""
          }
         },
         "name": "Corinthians - SP",
         "offsetgroup": "Corinthians - SP",
         "orientation": "v",
         "showlegend": true,
         "textposition": "auto",
         "type": "bar",
         "x": [
          "Corinthians - SP"
         ],
         "xaxis": "x",
         "y": [
          10.4
         ],
         "yaxis": "y"
        },
        {
         "alignmentgroup": "True",
         "hovertemplate": "Clube=%{x}<br>Derrotas=%{y}<extra></extra>",
         "legendgroup": "Coritiba - PR",
         "marker": {
          "color": "#636efa",
          "pattern": {
           "shape": ""
          }
         },
         "name": "Coritiba - PR",
         "offsetgroup": "Coritiba - PR",
         "orientation": "v",
         "showlegend": true,
         "textposition": "auto",
         "type": "bar",
         "x": [
          "Coritiba - PR"
         ],
         "xaxis": "x",
         "y": [
          17.7
         ],
         "yaxis": "y"
        },
        {
         "alignmentgroup": "True",
         "hovertemplate": "Clube=%{x}<br>Derrotas=%{y}<extra></extra>",
         "legendgroup": "Cruzeiro - MG",
         "marker": {
          "color": "#EF553B",
          "pattern": {
           "shape": ""
          }
         },
         "name": "Cruzeiro - MG",
         "offsetgroup": "Cruzeiro - MG",
         "orientation": "v",
         "showlegend": true,
         "textposition": "auto",
         "type": "bar",
         "x": [
          "Cruzeiro - MG"
         ],
         "xaxis": "x",
         "y": [
          12.3
         ],
         "yaxis": "y"
        },
        {
         "alignmentgroup": "True",
         "hovertemplate": "Clube=%{x}<br>Derrotas=%{y}<extra></extra>",
         "legendgroup": "Cuiabá - MT",
         "marker": {
          "color": "#00cc96",
          "pattern": {
           "shape": ""
          }
         },
         "name": "Cuiabá - MT",
         "offsetgroup": "Cuiabá - MT",
         "orientation": "v",
         "showlegend": true,
         "textposition": "auto",
         "type": "bar",
         "x": [
          "Cuiabá - MT"
         ],
         "xaxis": "x",
         "y": [
          14.3
         ],
         "yaxis": "y"
        },
        {
         "alignmentgroup": "True",
         "hovertemplate": "Clube=%{x}<br>Derrotas=%{y}<extra></extra>",
         "legendgroup": "Figueirense - SC",
         "marker": {
          "color": "#ab63fa",
          "pattern": {
           "shape": ""
          }
         },
         "name": "Figueirense - SC",
         "offsetgroup": "Figueirense - SC",
         "orientation": "v",
         "showlegend": true,
         "textposition": "auto",
         "type": "bar",
         "x": [
          "Figueirense - SC"
         ],
         "xaxis": "x",
         "y": [
          18.2
         ],
         "yaxis": "y"
        },
        {
         "alignmentgroup": "True",
         "hovertemplate": "Clube=%{x}<br>Derrotas=%{y}<extra></extra>",
         "legendgroup": "Flamengo - RJ",
         "marker": {
          "color": "#FFA15A",
          "pattern": {
           "shape": ""
          }
         },
         "name": "Flamengo - RJ",
         "offsetgroup": "Flamengo - RJ",
         "orientation": "v",
         "showlegend": true,
         "textposition": "auto",
         "type": "bar",
         "x": [
          "Flamengo - RJ"
         ],
         "xaxis": "x",
         "y": [
          10.8
         ],
         "yaxis": "y"
        },
        {
         "alignmentgroup": "True",
         "hovertemplate": "Clube=%{x}<br>Derrotas=%{y}<extra></extra>",
         "legendgroup": "Fluminense - RJ",
         "marker": {
          "color": "#19d3f3",
          "pattern": {
           "shape": ""
          }
         },
         "name": "Fluminense - RJ",
         "offsetgroup": "Fluminense - RJ",
         "orientation": "v",
         "showlegend": true,
         "textposition": "auto",
         "type": "bar",
         "x": [
          "Fluminense - RJ"
         ],
         "xaxis": "x",
         "y": [
          13.2
         ],
         "yaxis": "y"
        },
        {
         "alignmentgroup": "True",
         "hovertemplate": "Clube=%{x}<br>Derrotas=%{y}<extra></extra>",
         "legendgroup": "Fortaleza - CE",
         "marker": {
          "color": "#FF6692",
          "pattern": {
           "shape": ""
          }
         },
         "name": "Fortaleza - CE",
         "offsetgroup": "Fortaleza - CE",
         "orientation": "v",
         "showlegend": true,
         "textposition": "auto",
         "type": "bar",
         "x": [
          "Fortaleza - CE"
         ],
         "xaxis": "x",
         "y": [
          14.6
         ],
         "yaxis": "y"
        },
        {
         "alignmentgroup": "True",
         "hovertemplate": "Clube=%{x}<br>Derrotas=%{y}<extra></extra>",
         "legendgroup": "Goiás - GO",
         "marker": {
          "color": "#B6E880",
          "pattern": {
           "shape": ""
          }
         },
         "name": "Goiás - GO",
         "offsetgroup": "Goiás - GO",
         "orientation": "v",
         "showlegend": true,
         "textposition": "auto",
         "type": "bar",
         "x": [
          "Goiás - GO"
         ],
         "xaxis": "x",
         "y": [
          16.4
         ],
         "yaxis": "y"
        },
        {
         "alignmentgroup": "True",
         "hovertemplate": "Clube=%{x}<br>Derrotas=%{y}<extra></extra>",
         "legendgroup": "Grêmio - RS",
         "marker": {
          "color": "#FF97FF",
          "pattern": {
           "shape": ""
          }
         },
         "name": "Grêmio - RS",
         "offsetgroup": "Grêmio - RS",
         "orientation": "v",
         "showlegend": true,
         "textposition": "auto",
         "type": "bar",
         "x": [
          "Grêmio - RS"
         ],
         "xaxis": "x",
         "y": [
          10.8
         ],
         "yaxis": "y"
        },
        {
         "alignmentgroup": "True",
         "hovertemplate": "Clube=%{x}<br>Derrotas=%{y}<extra></extra>",
         "legendgroup": "Internacional - RS",
         "marker": {
          "color": "#FECB52",
          "pattern": {
           "shape": ""
          }
         },
         "name": "Internacional - RS",
         "offsetgroup": "Internacional - RS",
         "orientation": "v",
         "showlegend": true,
         "textposition": "auto",
         "type": "bar",
         "x": [
          "Internacional - RS"
         ],
         "xaxis": "x",
         "y": [
          11.3
         ],
         "yaxis": "y"
        },
        {
         "alignmentgroup": "True",
         "hovertemplate": "Clube=%{x}<br>Derrotas=%{y}<extra></extra>",
         "legendgroup": "Palmeiras - SP",
         "marker": {
          "color": "#636efa",
          "pattern": {
           "shape": ""
          }
         },
         "name": "Palmeiras - SP",
         "offsetgroup": "Palmeiras - SP",
         "orientation": "v",
         "showlegend": true,
         "textposition": "auto",
         "type": "bar",
         "x": [
          "Palmeiras - SP"
         ],
         "xaxis": "x",
         "y": [
          10.8
         ],
         "yaxis": "y"
        },
        {
         "alignmentgroup": "True",
         "hovertemplate": "Clube=%{x}<br>Derrotas=%{y}<extra></extra>",
         "legendgroup": "Ponte Preta - SP",
         "marker": {
          "color": "#EF553B",
          "pattern": {
           "shape": ""
          }
         },
         "name": "Ponte Preta - SP",
         "offsetgroup": "Ponte Preta - SP",
         "orientation": "v",
         "showlegend": true,
         "textposition": "auto",
         "type": "bar",
         "x": [
          "Ponte Preta - SP"
         ],
         "xaxis": "x",
         "y": [
          16
         ],
         "yaxis": "y"
        },
        {
         "alignmentgroup": "True",
         "hovertemplate": "Clube=%{x}<br>Derrotas=%{y}<extra></extra>",
         "legendgroup": "Red Bull Bragantino - SP",
         "marker": {
          "color": "#00cc96",
          "pattern": {
           "shape": ""
          }
         },
         "name": "Red Bull Bragantino - SP",
         "offsetgroup": "Red Bull Bragantino - SP",
         "orientation": "v",
         "showlegend": true,
         "textposition": "auto",
         "type": "bar",
         "x": [
          "Red Bull Bragantino - SP"
         ],
         "xaxis": "x",
         "y": [
          11.8
         ],
         "yaxis": "y"
        },
        {
         "alignmentgroup": "True",
         "hovertemplate": "Clube=%{x}<br>Derrotas=%{y}<extra></extra>",
         "legendgroup": "Santos - SP",
         "marker": {
          "color": "#ab63fa",
          "pattern": {
           "shape": ""
          }
         },
         "name": "Santos - SP",
         "offsetgroup": "Santos - SP",
         "orientation": "v",
         "showlegend": true,
         "textposition": "auto",
         "type": "bar",
         "x": [
          "Santos - SP"
         ],
         "xaxis": "x",
         "y": [
          12.2
         ],
         "yaxis": "y"
        },
        {
         "alignmentgroup": "True",
         "hovertemplate": "Clube=%{x}<br>Derrotas=%{y}<extra></extra>",
         "legendgroup": "Sport - PE",
         "marker": {
          "color": "#FFA15A",
          "pattern": {
           "shape": ""
          }
         },
         "name": "Sport - PE",
         "offsetgroup": "Sport - PE",
         "orientation": "v",
         "showlegend": true,
         "textposition": "auto",
         "type": "bar",
         "x": [
          "Sport - PE"
         ],
         "xaxis": "x",
         "y": [
          16.2
         ],
         "yaxis": "y"
        },
        {
         "alignmentgroup": "True",
         "hovertemplate": "Clube=%{x}<br>Derrotas=%{y}<extra></extra>",
         "legendgroup": "São Paulo - SP",
         "marker": {
          "color": "#19d3f3",
          "pattern": {
           "shape": ""
          }
         },
         "name": "São Paulo - SP",
         "offsetgroup": "São Paulo - SP",
         "orientation": "v",
         "showlegend": true,
         "textposition": "auto",
         "type": "bar",
         "x": [
          "São Paulo - SP"
         ],
         "xaxis": "x",
         "y": [
          11.2
         ],
         "yaxis": "y"
        },
        {
         "alignmentgroup": "True",
         "hovertemplate": "Clube=%{x}<br>Derrotas=%{y}<extra></extra>",
         "legendgroup": "Vasco da Gama - RJ",
         "marker": {
          "color": "#FF6692",
          "pattern": {
           "shape": ""
          }
         },
         "name": "Vasco da Gama - RJ",
         "offsetgroup": "Vasco da Gama - RJ",
         "orientation": "v",
         "showlegend": true,
         "textposition": "auto",
         "type": "bar",
         "x": [
          "Vasco da Gama - RJ"
         ],
         "xaxis": "x",
         "y": [
          14.9
         ],
         "yaxis": "y"
        },
        {
         "alignmentgroup": "True",
         "hovertemplate": "Clube=%{x}<br>Derrotas=%{y}<extra></extra>",
         "legendgroup": "Vitória - BA",
         "marker": {
          "color": "#B6E880",
          "pattern": {
           "shape": ""
          }
         },
         "name": "Vitória - BA",
         "offsetgroup": "Vitória - BA",
         "orientation": "v",
         "showlegend": true,
         "textposition": "auto",
         "type": "bar",
         "x": [
          "Vitória - BA"
         ],
         "xaxis": "x",
         "y": [
          16.8
         ],
         "yaxis": "y"
        }
       ],
       "layout": {
        "barmode": "relative",
        "legend": {
         "title": {
          "text": "Clube"
         },
         "tracegroupgap": 0
        },
        "showlegend": false,
        "template": {
         "data": {
          "bar": [
           {
            "error_x": {
             "color": "#2a3f5f"
            },
            "error_y": {
             "color": "#2a3f5f"
            },
            "marker": {
             "line": {
              "color": "#E5ECF6",
              "width": 0.5
             },
             "pattern": {
              "fillmode": "overlay",
              "size": 10,
              "solidity": 0.2
             }
            },
            "type": "bar"
           }
          ],
          "barpolar": [
           {
            "marker": {
             "line": {
              "color": "#E5ECF6",
              "width": 0.5
             },
             "pattern": {
              "fillmode": "overlay",
              "size": 10,
              "solidity": 0.2
             }
            },
            "type": "barpolar"
           }
          ],
          "carpet": [
           {
            "aaxis": {
             "endlinecolor": "#2a3f5f",
             "gridcolor": "white",
             "linecolor": "white",
             "minorgridcolor": "white",
             "startlinecolor": "#2a3f5f"
            },
            "baxis": {
             "endlinecolor": "#2a3f5f",
             "gridcolor": "white",
             "linecolor": "white",
             "minorgridcolor": "white",
             "startlinecolor": "#2a3f5f"
            },
            "type": "carpet"
           }
          ],
          "choropleth": [
           {
            "colorbar": {
             "outlinewidth": 0,
             "ticks": ""
            },
            "type": "choropleth"
           }
          ],
          "contour": [
           {
            "colorbar": {
             "outlinewidth": 0,
             "ticks": ""
            },
            "colorscale": [
             [
              0,
              "#0d0887"
             ],
             [
              0.1111111111111111,
              "#46039f"
             ],
             [
              0.2222222222222222,
              "#7201a8"
             ],
             [
              0.3333333333333333,
              "#9c179e"
             ],
             [
              0.4444444444444444,
              "#bd3786"
             ],
             [
              0.5555555555555556,
              "#d8576b"
             ],
             [
              0.6666666666666666,
              "#ed7953"
             ],
             [
              0.7777777777777778,
              "#fb9f3a"
             ],
             [
              0.8888888888888888,
              "#fdca26"
             ],
             [
              1,
              "#f0f921"
             ]
            ],
            "type": "contour"
           }
          ],
          "contourcarpet": [
           {
            "colorbar": {
             "outlinewidth": 0,
             "ticks": ""
            },
            "type": "contourcarpet"
           }
          ],
          "heatmap": [
           {
            "colorbar": {
             "outlinewidth": 0,
             "ticks": ""
            },
            "colorscale": [
             [
              0,
              "#0d0887"
             ],
             [
              0.1111111111111111,
              "#46039f"
             ],
             [
              0.2222222222222222,
              "#7201a8"
             ],
             [
              0.3333333333333333,
              "#9c179e"
             ],
             [
              0.4444444444444444,
              "#bd3786"
             ],
             [
              0.5555555555555556,
              "#d8576b"
             ],
             [
              0.6666666666666666,
              "#ed7953"
             ],
             [
              0.7777777777777778,
              "#fb9f3a"
             ],
             [
              0.8888888888888888,
              "#fdca26"
             ],
             [
              1,
              "#f0f921"
             ]
            ],
            "type": "heatmap"
           }
          ],
          "heatmapgl": [
           {
            "colorbar": {
             "outlinewidth": 0,
             "ticks": ""
            },
            "colorscale": [
             [
              0,
              "#0d0887"
             ],
             [
              0.1111111111111111,
              "#46039f"
             ],
             [
              0.2222222222222222,
              "#7201a8"
             ],
             [
              0.3333333333333333,
              "#9c179e"
             ],
             [
              0.4444444444444444,
              "#bd3786"
             ],
             [
              0.5555555555555556,
              "#d8576b"
             ],
             [
              0.6666666666666666,
              "#ed7953"
             ],
             [
              0.7777777777777778,
              "#fb9f3a"
             ],
             [
              0.8888888888888888,
              "#fdca26"
             ],
             [
              1,
              "#f0f921"
             ]
            ],
            "type": "heatmapgl"
           }
          ],
          "histogram": [
           {
            "marker": {
             "pattern": {
              "fillmode": "overlay",
              "size": 10,
              "solidity": 0.2
             }
            },
            "type": "histogram"
           }
          ],
          "histogram2d": [
           {
            "colorbar": {
             "outlinewidth": 0,
             "ticks": ""
            },
            "colorscale": [
             [
              0,
              "#0d0887"
             ],
             [
              0.1111111111111111,
              "#46039f"
             ],
             [
              0.2222222222222222,
              "#7201a8"
             ],
             [
              0.3333333333333333,
              "#9c179e"
             ],
             [
              0.4444444444444444,
              "#bd3786"
             ],
             [
              0.5555555555555556,
              "#d8576b"
             ],
             [
              0.6666666666666666,
              "#ed7953"
             ],
             [
              0.7777777777777778,
              "#fb9f3a"
             ],
             [
              0.8888888888888888,
              "#fdca26"
             ],
             [
              1,
              "#f0f921"
             ]
            ],
            "type": "histogram2d"
           }
          ],
          "histogram2dcontour": [
           {
            "colorbar": {
             "outlinewidth": 0,
             "ticks": ""
            },
            "colorscale": [
             [
              0,
              "#0d0887"
             ],
             [
              0.1111111111111111,
              "#46039f"
             ],
             [
              0.2222222222222222,
              "#7201a8"
             ],
             [
              0.3333333333333333,
              "#9c179e"
             ],
             [
              0.4444444444444444,
              "#bd3786"
             ],
             [
              0.5555555555555556,
              "#d8576b"
             ],
             [
              0.6666666666666666,
              "#ed7953"
             ],
             [
              0.7777777777777778,
              "#fb9f3a"
             ],
             [
              0.8888888888888888,
              "#fdca26"
             ],
             [
              1,
              "#f0f921"
             ]
            ],
            "type": "histogram2dcontour"
           }
          ],
          "mesh3d": [
           {
            "colorbar": {
             "outlinewidth": 0,
             "ticks": ""
            },
            "type": "mesh3d"
           }
          ],
          "parcoords": [
           {
            "line": {
             "colorbar": {
              "outlinewidth": 0,
              "ticks": ""
             }
            },
            "type": "parcoords"
           }
          ],
          "pie": [
           {
            "automargin": true,
            "type": "pie"
           }
          ],
          "scatter": [
           {
            "fillpattern": {
             "fillmode": "overlay",
             "size": 10,
             "solidity": 0.2
            },
            "type": "scatter"
           }
          ],
          "scatter3d": [
           {
            "line": {
             "colorbar": {
              "outlinewidth": 0,
              "ticks": ""
             }
            },
            "marker": {
             "colorbar": {
              "outlinewidth": 0,
              "ticks": ""
             }
            },
            "type": "scatter3d"
           }
          ],
          "scattercarpet": [
           {
            "marker": {
             "colorbar": {
              "outlinewidth": 0,
              "ticks": ""
             }
            },
            "type": "scattercarpet"
           }
          ],
          "scattergeo": [
           {
            "marker": {
             "colorbar": {
              "outlinewidth": 0,
              "ticks": ""
             }
            },
            "type": "scattergeo"
           }
          ],
          "scattergl": [
           {
            "marker": {
             "colorbar": {
              "outlinewidth": 0,
              "ticks": ""
             }
            },
            "type": "scattergl"
           }
          ],
          "scattermapbox": [
           {
            "marker": {
             "colorbar": {
              "outlinewidth": 0,
              "ticks": ""
             }
            },
            "type": "scattermapbox"
           }
          ],
          "scatterpolar": [
           {
            "marker": {
             "colorbar": {
              "outlinewidth": 0,
              "ticks": ""
             }
            },
            "type": "scatterpolar"
           }
          ],
          "scatterpolargl": [
           {
            "marker": {
             "colorbar": {
              "outlinewidth": 0,
              "ticks": ""
             }
            },
            "type": "scatterpolargl"
           }
          ],
          "scatterternary": [
           {
            "marker": {
             "colorbar": {
              "outlinewidth": 0,
              "ticks": ""
             }
            },
            "type": "scatterternary"
           }
          ],
          "surface": [
           {
            "colorbar": {
             "outlinewidth": 0,
             "ticks": ""
            },
            "colorscale": [
             [
              0,
              "#0d0887"
             ],
             [
              0.1111111111111111,
              "#46039f"
             ],
             [
              0.2222222222222222,
              "#7201a8"
             ],
             [
              0.3333333333333333,
              "#9c179e"
             ],
             [
              0.4444444444444444,
              "#bd3786"
             ],
             [
              0.5555555555555556,
              "#d8576b"
             ],
             [
              0.6666666666666666,
              "#ed7953"
             ],
             [
              0.7777777777777778,
              "#fb9f3a"
             ],
             [
              0.8888888888888888,
              "#fdca26"
             ],
             [
              1,
              "#f0f921"
             ]
            ],
            "type": "surface"
           }
          ],
          "table": [
           {
            "cells": {
             "fill": {
              "color": "#EBF0F8"
             },
             "line": {
              "color": "white"
             }
            },
            "header": {
             "fill": {
              "color": "#C8D4E3"
             },
             "line": {
              "color": "white"
             }
            },
            "type": "table"
           }
          ]
         },
         "layout": {
          "annotationdefaults": {
           "arrowcolor": "#2a3f5f",
           "arrowhead": 0,
           "arrowwidth": 1
          },
          "autotypenumbers": "strict",
          "coloraxis": {
           "colorbar": {
            "outlinewidth": 0,
            "ticks": ""
           }
          },
          "colorscale": {
           "diverging": [
            [
             0,
             "#8e0152"
            ],
            [
             0.1,
             "#c51b7d"
            ],
            [
             0.2,
             "#de77ae"
            ],
            [
             0.3,
             "#f1b6da"
            ],
            [
             0.4,
             "#fde0ef"
            ],
            [
             0.5,
             "#f7f7f7"
            ],
            [
             0.6,
             "#e6f5d0"
            ],
            [
             0.7,
             "#b8e186"
            ],
            [
             0.8,
             "#7fbc41"
            ],
            [
             0.9,
             "#4d9221"
            ],
            [
             1,
             "#276419"
            ]
           ],
           "sequential": [
            [
             0,
             "#0d0887"
            ],
            [
             0.1111111111111111,
             "#46039f"
            ],
            [
             0.2222222222222222,
             "#7201a8"
            ],
            [
             0.3333333333333333,
             "#9c179e"
            ],
            [
             0.4444444444444444,
             "#bd3786"
            ],
            [
             0.5555555555555556,
             "#d8576b"
            ],
            [
             0.6666666666666666,
             "#ed7953"
            ],
            [
             0.7777777777777778,
             "#fb9f3a"
            ],
            [
             0.8888888888888888,
             "#fdca26"
            ],
            [
             1,
             "#f0f921"
            ]
           ],
           "sequentialminus": [
            [
             0,
             "#0d0887"
            ],
            [
             0.1111111111111111,
             "#46039f"
            ],
            [
             0.2222222222222222,
             "#7201a8"
            ],
            [
             0.3333333333333333,
             "#9c179e"
            ],
            [
             0.4444444444444444,
             "#bd3786"
            ],
            [
             0.5555555555555556,
             "#d8576b"
            ],
            [
             0.6666666666666666,
             "#ed7953"
            ],
            [
             0.7777777777777778,
             "#fb9f3a"
            ],
            [
             0.8888888888888888,
             "#fdca26"
            ],
            [
             1,
             "#f0f921"
            ]
           ]
          },
          "colorway": [
           "#636efa",
           "#EF553B",
           "#00cc96",
           "#ab63fa",
           "#FFA15A",
           "#19d3f3",
           "#FF6692",
           "#B6E880",
           "#FF97FF",
           "#FECB52"
          ],
          "font": {
           "color": "#2a3f5f"
          },
          "geo": {
           "bgcolor": "white",
           "lakecolor": "white",
           "landcolor": "#E5ECF6",
           "showlakes": true,
           "showland": true,
           "subunitcolor": "white"
          },
          "hoverlabel": {
           "align": "left"
          },
          "hovermode": "closest",
          "mapbox": {
           "style": "light"
          },
          "paper_bgcolor": "white",
          "plot_bgcolor": "#E5ECF6",
          "polar": {
           "angularaxis": {
            "gridcolor": "white",
            "linecolor": "white",
            "ticks": ""
           },
           "bgcolor": "#E5ECF6",
           "radialaxis": {
            "gridcolor": "white",
            "linecolor": "white",
            "ticks": ""
           }
          },
          "scene": {
           "xaxis": {
            "backgroundcolor": "#E5ECF6",
            "gridcolor": "white",
            "gridwidth": 2,
            "linecolor": "white",
            "showbackground": true,
            "ticks": "",
            "zerolinecolor": "white"
           },
           "yaxis": {
            "backgroundcolor": "#E5ECF6",
            "gridcolor": "white",
            "gridwidth": 2,
            "linecolor": "white",
            "showbackground": true,
            "ticks": "",
            "zerolinecolor": "white"
           },
           "zaxis": {
            "backgroundcolor": "#E5ECF6",
            "gridcolor": "white",
            "gridwidth": 2,
            "linecolor": "white",
            "showbackground": true,
            "ticks": "",
            "zerolinecolor": "white"
           }
          },
          "shapedefaults": {
           "line": {
            "color": "#2a3f5f"
           }
          },
          "ternary": {
           "aaxis": {
            "gridcolor": "white",
            "linecolor": "white",
            "ticks": ""
           },
           "baxis": {
            "gridcolor": "white",
            "linecolor": "white",
            "ticks": ""
           },
           "bgcolor": "#E5ECF6",
           "caxis": {
            "gridcolor": "white",
            "linecolor": "white",
            "ticks": ""
           }
          },
          "title": {
           "x": 0.05
          },
          "xaxis": {
           "automargin": true,
           "gridcolor": "white",
           "linecolor": "white",
           "ticks": "",
           "title": {
            "standoff": 15
           },
           "zerolinecolor": "white",
           "zerolinewidth": 2
          },
          "yaxis": {
           "automargin": true,
           "gridcolor": "white",
           "linecolor": "white",
           "ticks": "",
           "title": {
            "standoff": 15
           },
           "zerolinecolor": "white",
           "zerolinewidth": 2
          }
         }
        },
        "title": {
         "text": "Média de Derrotas por Clube"
        },
        "xaxis": {
         "anchor": "y",
         "categoryarray": [
          "América - MG",
          "Athletico Paranaense - PR",
          "Atlético Goianiense - GO",
          "Atlético Mineiro - MG",
          "Avaí - SC",
          "Bahia - BA",
          "Botafogo - RJ",
          "Ceará - CE",
          "Chapecoense - SC",
          "Corinthians - SP",
          "Coritiba - PR",
          "Cruzeiro - MG",
          "Cuiabá - MT",
          "Figueirense - SC",
          "Flamengo - RJ",
          "Fluminense - RJ",
          "Fortaleza - CE",
          "Goiás - GO",
          "Grêmio - RS",
          "Internacional - RS",
          "Palmeiras - SP",
          "Ponte Preta - SP",
          "Red Bull Bragantino - SP",
          "Santos - SP",
          "Sport - PE",
          "São Paulo - SP",
          "Vasco da Gama - RJ",
          "Vitória - BA"
         ],
         "categoryorder": "array",
         "domain": [
          0,
          1
         ],
         "title": {
          "text": ""
         }
        },
        "yaxis": {
         "anchor": "x",
         "domain": [
          0,
          1
         ],
         "title": {
          "text": "Média de Derrotas"
         }
        }
       }
      }
     },
     "metadata": {},
     "output_type": "display_data"
    }
   ],
   "source": [
    "media_de_equipe_da_estatistica(\"Derrotas\")"
   ]
  },
  {
   "cell_type": "markdown",
   "metadata": {},
   "source": [
    "<h2>27 - Identificar OS TIMES que mais vezes ficaram no G4.</h2>"
   ]
  },
  {
   "cell_type": "code",
   "execution_count": 66,
   "metadata": {},
   "outputs": [],
   "source": [
    "todas_as_equipes_do_g4 = df[df[\"Colocação\"] < 5]\n",
    "todas_as_equipes_do_g4 = todas_as_equipes_do_g4['Clube'].value_counts()"
   ]
  },
  {
   "cell_type": "code",
   "execution_count": 67,
   "metadata": {},
   "outputs": [
    {
     "data": {
      "application/vnd.plotly.v1+json": {
       "config": {
        "plotlyServerURL": "https://plot.ly"
       },
       "data": [
        {
         "alignmentgroup": "True",
         "hovertemplate": "Clube: %{x}<br>Frequência: %{y}<extra></extra>",
         "legendgroup": "count",
         "marker": {
          "color": "#636efa",
          "pattern": {
           "shape": ""
          }
         },
         "name": "count",
         "offsetgroup": "count",
         "orientation": "v",
         "showlegend": true,
         "textposition": "auto",
         "type": "bar",
         "x": [
          "Grêmio - RS",
          "Palmeiras - SP",
          "Atlético Mineiro - MG",
          "Flamengo - RJ",
          "São Paulo - SP",
          "Internacional - RS",
          "Corinthians - SP",
          "Santos - SP",
          "Fluminense - RJ",
          "Cruzeiro - MG",
          "Athletico Paranaense - PR",
          "Botafogo - RJ",
          "Fortaleza - CE"
         ],
         "xaxis": "x",
         "y": [
          7,
          7,
          6,
          6,
          4,
          4,
          4,
          3,
          2,
          2,
          1,
          1,
          1
         ],
         "yaxis": "y"
        }
       ],
       "layout": {
        "barmode": "relative",
        "legend": {
         "title": {
          "text": "variable"
         },
         "tracegroupgap": 0
        },
        "showlegend": false,
        "template": {
         "data": {
          "bar": [
           {
            "error_x": {
             "color": "#2a3f5f"
            },
            "error_y": {
             "color": "#2a3f5f"
            },
            "marker": {
             "line": {
              "color": "#E5ECF6",
              "width": 0.5
             },
             "pattern": {
              "fillmode": "overlay",
              "size": 10,
              "solidity": 0.2
             }
            },
            "type": "bar"
           }
          ],
          "barpolar": [
           {
            "marker": {
             "line": {
              "color": "#E5ECF6",
              "width": 0.5
             },
             "pattern": {
              "fillmode": "overlay",
              "size": 10,
              "solidity": 0.2
             }
            },
            "type": "barpolar"
           }
          ],
          "carpet": [
           {
            "aaxis": {
             "endlinecolor": "#2a3f5f",
             "gridcolor": "white",
             "linecolor": "white",
             "minorgridcolor": "white",
             "startlinecolor": "#2a3f5f"
            },
            "baxis": {
             "endlinecolor": "#2a3f5f",
             "gridcolor": "white",
             "linecolor": "white",
             "minorgridcolor": "white",
             "startlinecolor": "#2a3f5f"
            },
            "type": "carpet"
           }
          ],
          "choropleth": [
           {
            "colorbar": {
             "outlinewidth": 0,
             "ticks": ""
            },
            "type": "choropleth"
           }
          ],
          "contour": [
           {
            "colorbar": {
             "outlinewidth": 0,
             "ticks": ""
            },
            "colorscale": [
             [
              0,
              "#0d0887"
             ],
             [
              0.1111111111111111,
              "#46039f"
             ],
             [
              0.2222222222222222,
              "#7201a8"
             ],
             [
              0.3333333333333333,
              "#9c179e"
             ],
             [
              0.4444444444444444,
              "#bd3786"
             ],
             [
              0.5555555555555556,
              "#d8576b"
             ],
             [
              0.6666666666666666,
              "#ed7953"
             ],
             [
              0.7777777777777778,
              "#fb9f3a"
             ],
             [
              0.8888888888888888,
              "#fdca26"
             ],
             [
              1,
              "#f0f921"
             ]
            ],
            "type": "contour"
           }
          ],
          "contourcarpet": [
           {
            "colorbar": {
             "outlinewidth": 0,
             "ticks": ""
            },
            "type": "contourcarpet"
           }
          ],
          "heatmap": [
           {
            "colorbar": {
             "outlinewidth": 0,
             "ticks": ""
            },
            "colorscale": [
             [
              0,
              "#0d0887"
             ],
             [
              0.1111111111111111,
              "#46039f"
             ],
             [
              0.2222222222222222,
              "#7201a8"
             ],
             [
              0.3333333333333333,
              "#9c179e"
             ],
             [
              0.4444444444444444,
              "#bd3786"
             ],
             [
              0.5555555555555556,
              "#d8576b"
             ],
             [
              0.6666666666666666,
              "#ed7953"
             ],
             [
              0.7777777777777778,
              "#fb9f3a"
             ],
             [
              0.8888888888888888,
              "#fdca26"
             ],
             [
              1,
              "#f0f921"
             ]
            ],
            "type": "heatmap"
           }
          ],
          "heatmapgl": [
           {
            "colorbar": {
             "outlinewidth": 0,
             "ticks": ""
            },
            "colorscale": [
             [
              0,
              "#0d0887"
             ],
             [
              0.1111111111111111,
              "#46039f"
             ],
             [
              0.2222222222222222,
              "#7201a8"
             ],
             [
              0.3333333333333333,
              "#9c179e"
             ],
             [
              0.4444444444444444,
              "#bd3786"
             ],
             [
              0.5555555555555556,
              "#d8576b"
             ],
             [
              0.6666666666666666,
              "#ed7953"
             ],
             [
              0.7777777777777778,
              "#fb9f3a"
             ],
             [
              0.8888888888888888,
              "#fdca26"
             ],
             [
              1,
              "#f0f921"
             ]
            ],
            "type": "heatmapgl"
           }
          ],
          "histogram": [
           {
            "marker": {
             "pattern": {
              "fillmode": "overlay",
              "size": 10,
              "solidity": 0.2
             }
            },
            "type": "histogram"
           }
          ],
          "histogram2d": [
           {
            "colorbar": {
             "outlinewidth": 0,
             "ticks": ""
            },
            "colorscale": [
             [
              0,
              "#0d0887"
             ],
             [
              0.1111111111111111,
              "#46039f"
             ],
             [
              0.2222222222222222,
              "#7201a8"
             ],
             [
              0.3333333333333333,
              "#9c179e"
             ],
             [
              0.4444444444444444,
              "#bd3786"
             ],
             [
              0.5555555555555556,
              "#d8576b"
             ],
             [
              0.6666666666666666,
              "#ed7953"
             ],
             [
              0.7777777777777778,
              "#fb9f3a"
             ],
             [
              0.8888888888888888,
              "#fdca26"
             ],
             [
              1,
              "#f0f921"
             ]
            ],
            "type": "histogram2d"
           }
          ],
          "histogram2dcontour": [
           {
            "colorbar": {
             "outlinewidth": 0,
             "ticks": ""
            },
            "colorscale": [
             [
              0,
              "#0d0887"
             ],
             [
              0.1111111111111111,
              "#46039f"
             ],
             [
              0.2222222222222222,
              "#7201a8"
             ],
             [
              0.3333333333333333,
              "#9c179e"
             ],
             [
              0.4444444444444444,
              "#bd3786"
             ],
             [
              0.5555555555555556,
              "#d8576b"
             ],
             [
              0.6666666666666666,
              "#ed7953"
             ],
             [
              0.7777777777777778,
              "#fb9f3a"
             ],
             [
              0.8888888888888888,
              "#fdca26"
             ],
             [
              1,
              "#f0f921"
             ]
            ],
            "type": "histogram2dcontour"
           }
          ],
          "mesh3d": [
           {
            "colorbar": {
             "outlinewidth": 0,
             "ticks": ""
            },
            "type": "mesh3d"
           }
          ],
          "parcoords": [
           {
            "line": {
             "colorbar": {
              "outlinewidth": 0,
              "ticks": ""
             }
            },
            "type": "parcoords"
           }
          ],
          "pie": [
           {
            "automargin": true,
            "type": "pie"
           }
          ],
          "scatter": [
           {
            "fillpattern": {
             "fillmode": "overlay",
             "size": 10,
             "solidity": 0.2
            },
            "type": "scatter"
           }
          ],
          "scatter3d": [
           {
            "line": {
             "colorbar": {
              "outlinewidth": 0,
              "ticks": ""
             }
            },
            "marker": {
             "colorbar": {
              "outlinewidth": 0,
              "ticks": ""
             }
            },
            "type": "scatter3d"
           }
          ],
          "scattercarpet": [
           {
            "marker": {
             "colorbar": {
              "outlinewidth": 0,
              "ticks": ""
             }
            },
            "type": "scattercarpet"
           }
          ],
          "scattergeo": [
           {
            "marker": {
             "colorbar": {
              "outlinewidth": 0,
              "ticks": ""
             }
            },
            "type": "scattergeo"
           }
          ],
          "scattergl": [
           {
            "marker": {
             "colorbar": {
              "outlinewidth": 0,
              "ticks": ""
             }
            },
            "type": "scattergl"
           }
          ],
          "scattermapbox": [
           {
            "marker": {
             "colorbar": {
              "outlinewidth": 0,
              "ticks": ""
             }
            },
            "type": "scattermapbox"
           }
          ],
          "scatterpolar": [
           {
            "marker": {
             "colorbar": {
              "outlinewidth": 0,
              "ticks": ""
             }
            },
            "type": "scatterpolar"
           }
          ],
          "scatterpolargl": [
           {
            "marker": {
             "colorbar": {
              "outlinewidth": 0,
              "ticks": ""
             }
            },
            "type": "scatterpolargl"
           }
          ],
          "scatterternary": [
           {
            "marker": {
             "colorbar": {
              "outlinewidth": 0,
              "ticks": ""
             }
            },
            "type": "scatterternary"
           }
          ],
          "surface": [
           {
            "colorbar": {
             "outlinewidth": 0,
             "ticks": ""
            },
            "colorscale": [
             [
              0,
              "#0d0887"
             ],
             [
              0.1111111111111111,
              "#46039f"
             ],
             [
              0.2222222222222222,
              "#7201a8"
             ],
             [
              0.3333333333333333,
              "#9c179e"
             ],
             [
              0.4444444444444444,
              "#bd3786"
             ],
             [
              0.5555555555555556,
              "#d8576b"
             ],
             [
              0.6666666666666666,
              "#ed7953"
             ],
             [
              0.7777777777777778,
              "#fb9f3a"
             ],
             [
              0.8888888888888888,
              "#fdca26"
             ],
             [
              1,
              "#f0f921"
             ]
            ],
            "type": "surface"
           }
          ],
          "table": [
           {
            "cells": {
             "fill": {
              "color": "#EBF0F8"
             },
             "line": {
              "color": "white"
             }
            },
            "header": {
             "fill": {
              "color": "#C8D4E3"
             },
             "line": {
              "color": "white"
             }
            },
            "type": "table"
           }
          ]
         },
         "layout": {
          "annotationdefaults": {
           "arrowcolor": "#2a3f5f",
           "arrowhead": 0,
           "arrowwidth": 1
          },
          "autotypenumbers": "strict",
          "coloraxis": {
           "colorbar": {
            "outlinewidth": 0,
            "ticks": ""
           }
          },
          "colorscale": {
           "diverging": [
            [
             0,
             "#8e0152"
            ],
            [
             0.1,
             "#c51b7d"
            ],
            [
             0.2,
             "#de77ae"
            ],
            [
             0.3,
             "#f1b6da"
            ],
            [
             0.4,
             "#fde0ef"
            ],
            [
             0.5,
             "#f7f7f7"
            ],
            [
             0.6,
             "#e6f5d0"
            ],
            [
             0.7,
             "#b8e186"
            ],
            [
             0.8,
             "#7fbc41"
            ],
            [
             0.9,
             "#4d9221"
            ],
            [
             1,
             "#276419"
            ]
           ],
           "sequential": [
            [
             0,
             "#0d0887"
            ],
            [
             0.1111111111111111,
             "#46039f"
            ],
            [
             0.2222222222222222,
             "#7201a8"
            ],
            [
             0.3333333333333333,
             "#9c179e"
            ],
            [
             0.4444444444444444,
             "#bd3786"
            ],
            [
             0.5555555555555556,
             "#d8576b"
            ],
            [
             0.6666666666666666,
             "#ed7953"
            ],
            [
             0.7777777777777778,
             "#fb9f3a"
            ],
            [
             0.8888888888888888,
             "#fdca26"
            ],
            [
             1,
             "#f0f921"
            ]
           ],
           "sequentialminus": [
            [
             0,
             "#0d0887"
            ],
            [
             0.1111111111111111,
             "#46039f"
            ],
            [
             0.2222222222222222,
             "#7201a8"
            ],
            [
             0.3333333333333333,
             "#9c179e"
            ],
            [
             0.4444444444444444,
             "#bd3786"
            ],
            [
             0.5555555555555556,
             "#d8576b"
            ],
            [
             0.6666666666666666,
             "#ed7953"
            ],
            [
             0.7777777777777778,
             "#fb9f3a"
            ],
            [
             0.8888888888888888,
             "#fdca26"
            ],
            [
             1,
             "#f0f921"
            ]
           ]
          },
          "colorway": [
           "#636efa",
           "#EF553B",
           "#00cc96",
           "#ab63fa",
           "#FFA15A",
           "#19d3f3",
           "#FF6692",
           "#B6E880",
           "#FF97FF",
           "#FECB52"
          ],
          "font": {
           "color": "#2a3f5f"
          },
          "geo": {
           "bgcolor": "white",
           "lakecolor": "white",
           "landcolor": "#E5ECF6",
           "showlakes": true,
           "showland": true,
           "subunitcolor": "white"
          },
          "hoverlabel": {
           "align": "left"
          },
          "hovermode": "closest",
          "mapbox": {
           "style": "light"
          },
          "paper_bgcolor": "white",
          "plot_bgcolor": "#E5ECF6",
          "polar": {
           "angularaxis": {
            "gridcolor": "white",
            "linecolor": "white",
            "ticks": ""
           },
           "bgcolor": "#E5ECF6",
           "radialaxis": {
            "gridcolor": "white",
            "linecolor": "white",
            "ticks": ""
           }
          },
          "scene": {
           "xaxis": {
            "backgroundcolor": "#E5ECF6",
            "gridcolor": "white",
            "gridwidth": 2,
            "linecolor": "white",
            "showbackground": true,
            "ticks": "",
            "zerolinecolor": "white"
           },
           "yaxis": {
            "backgroundcolor": "#E5ECF6",
            "gridcolor": "white",
            "gridwidth": 2,
            "linecolor": "white",
            "showbackground": true,
            "ticks": "",
            "zerolinecolor": "white"
           },
           "zaxis": {
            "backgroundcolor": "#E5ECF6",
            "gridcolor": "white",
            "gridwidth": 2,
            "linecolor": "white",
            "showbackground": true,
            "ticks": "",
            "zerolinecolor": "white"
           }
          },
          "shapedefaults": {
           "line": {
            "color": "#2a3f5f"
           }
          },
          "ternary": {
           "aaxis": {
            "gridcolor": "white",
            "linecolor": "white",
            "ticks": ""
           },
           "baxis": {
            "gridcolor": "white",
            "linecolor": "white",
            "ticks": ""
           },
           "bgcolor": "#E5ECF6",
           "caxis": {
            "gridcolor": "white",
            "linecolor": "white",
            "ticks": ""
           }
          },
          "title": {
           "x": 0.05
          },
          "xaxis": {
           "automargin": true,
           "gridcolor": "white",
           "linecolor": "white",
           "ticks": "",
           "title": {
            "standoff": 15
           },
           "zerolinecolor": "white",
           "zerolinewidth": 2
          },
          "yaxis": {
           "automargin": true,
           "gridcolor": "white",
           "linecolor": "white",
           "ticks": "",
           "title": {
            "standoff": 15
           },
           "zerolinecolor": "white",
           "zerolinewidth": 2
          }
         }
        },
        "title": {
         "text": "Times que mais vezes terminaram no G4"
        },
        "xaxis": {
         "anchor": "y",
         "domain": [
          0,
          1
         ],
         "title": {
          "text": ""
         }
        },
        "yaxis": {
         "anchor": "x",
         "domain": [
          0,
          1
         ],
         "title": {
          "text": "Qtd. de Vezes"
         }
        }
       }
      }
     },
     "metadata": {},
     "output_type": "display_data"
    }
   ],
   "source": [
    "fig = px.bar(todas_as_equipes_do_g4, title=\"Times que mais vezes terminaram no G4\")\n",
    "fig.update_layout(\n",
    "    showlegend=False,\n",
    "    yaxis_title=\"Qtd. de Vezes\",\n",
    "    xaxis_title = \"\",\n",
    ")\n",
    "fig.update_traces(\n",
    "    hovertemplate=\"Clube: %{x}<br>Frequência: %{y}<extra></extra>\"\n",
    ")\n",
    "fig.show()"
   ]
  },
  {
   "cell_type": "markdown",
   "metadata": {},
   "source": [
    "<h2>28 - Identificar OS TIMES com as melhores médias de colocação.</h2>"
   ]
  },
  {
   "cell_type": "code",
   "execution_count": 68,
   "metadata": {},
   "outputs": [
    {
     "data": {
      "text/html": [
       "<div>\n",
       "<style scoped>\n",
       "    .dataframe tbody tr th:only-of-type {\n",
       "        vertical-align: middle;\n",
       "    }\n",
       "\n",
       "    .dataframe tbody tr th {\n",
       "        vertical-align: top;\n",
       "    }\n",
       "\n",
       "    .dataframe thead th {\n",
       "        text-align: right;\n",
       "    }\n",
       "</style>\n",
       "<table border=\"1\" class=\"dataframe\">\n",
       "  <thead>\n",
       "    <tr style=\"text-align: right;\">\n",
       "      <th></th>\n",
       "      <th>Colocação</th>\n",
       "      <th>Pontos</th>\n",
       "      <th>Vitórias</th>\n",
       "      <th>Empates</th>\n",
       "      <th>Derrotas</th>\n",
       "      <th>Gols Feitos</th>\n",
       "      <th>Gols Sofridos</th>\n",
       "      <th>Saldos de Gols</th>\n",
       "      <th>Cartões Amarelos</th>\n",
       "      <th>Cartões Vermelhos</th>\n",
       "      <th>Aproveitamento (%)</th>\n",
       "    </tr>\n",
       "    <tr>\n",
       "      <th>Clube</th>\n",
       "      <th></th>\n",
       "      <th></th>\n",
       "      <th></th>\n",
       "      <th></th>\n",
       "      <th></th>\n",
       "      <th></th>\n",
       "      <th></th>\n",
       "      <th></th>\n",
       "      <th></th>\n",
       "      <th></th>\n",
       "      <th></th>\n",
       "    </tr>\n",
       "  </thead>\n",
       "  <tbody>\n",
       "    <tr>\n",
       "      <th>Atlético Mineiro - MG</th>\n",
       "      <td>5.2</td>\n",
       "      <td>63.2</td>\n",
       "      <td>17.8</td>\n",
       "      <td>9.8</td>\n",
       "      <td>10.4</td>\n",
       "      <td>55.8</td>\n",
       "      <td>41.8</td>\n",
       "      <td>14.0</td>\n",
       "      <td>88.8</td>\n",
       "      <td>5.0</td>\n",
       "      <td>55.1</td>\n",
       "    </tr>\n",
       "    <tr>\n",
       "      <th>Grêmio - RS</th>\n",
       "      <td>5.5</td>\n",
       "      <td>61.9</td>\n",
       "      <td>17.4</td>\n",
       "      <td>9.8</td>\n",
       "      <td>10.8</td>\n",
       "      <td>50.4</td>\n",
       "      <td>37.9</td>\n",
       "      <td>12.5</td>\n",
       "      <td>88.5</td>\n",
       "      <td>4.7</td>\n",
       "      <td>53.8</td>\n",
       "    </tr>\n",
       "    <tr>\n",
       "      <th>Palmeiras - SP</th>\n",
       "      <td>5.6</td>\n",
       "      <td>63.5</td>\n",
       "      <td>18.2</td>\n",
       "      <td>9.0</td>\n",
       "      <td>10.8</td>\n",
       "      <td>56.4</td>\n",
       "      <td>39.9</td>\n",
       "      <td>16.5</td>\n",
       "      <td>94.1</td>\n",
       "      <td>5.5</td>\n",
       "      <td>55.3</td>\n",
       "    </tr>\n",
       "    <tr>\n",
       "      <th>Flamengo - RJ</th>\n",
       "      <td>6.1</td>\n",
       "      <td>62.9</td>\n",
       "      <td>18.0</td>\n",
       "      <td>9.2</td>\n",
       "      <td>10.8</td>\n",
       "      <td>56.0</td>\n",
       "      <td>41.3</td>\n",
       "      <td>14.7</td>\n",
       "      <td>79.2</td>\n",
       "      <td>4.8</td>\n",
       "      <td>54.7</td>\n",
       "    </tr>\n",
       "    <tr>\n",
       "      <th>Corinthians - SP</th>\n",
       "      <td>7.0</td>\n",
       "      <td>58.9</td>\n",
       "      <td>15.7</td>\n",
       "      <td>11.9</td>\n",
       "      <td>10.4</td>\n",
       "      <td>45.7</td>\n",
       "      <td>35.8</td>\n",
       "      <td>9.9</td>\n",
       "      <td>76.3</td>\n",
       "      <td>3.7</td>\n",
       "      <td>51.3</td>\n",
       "    </tr>\n",
       "  </tbody>\n",
       "</table>\n",
       "</div>"
      ],
      "text/plain": [
       "                       Colocação  Pontos  Vitórias  Empates  Derrotas  \\\n",
       "Clube                                                                   \n",
       "Atlético Mineiro - MG        5.2    63.2      17.8      9.8      10.4   \n",
       "Grêmio - RS                  5.5    61.9      17.4      9.8      10.8   \n",
       "Palmeiras - SP               5.6    63.5      18.2      9.0      10.8   \n",
       "Flamengo - RJ                6.1    62.9      18.0      9.2      10.8   \n",
       "Corinthians - SP             7.0    58.9      15.7     11.9      10.4   \n",
       "\n",
       "                       Gols Feitos  Gols Sofridos  Saldos de Gols  \\\n",
       "Clube                                                               \n",
       "Atlético Mineiro - MG         55.8           41.8            14.0   \n",
       "Grêmio - RS                   50.4           37.9            12.5   \n",
       "Palmeiras - SP                56.4           39.9            16.5   \n",
       "Flamengo - RJ                 56.0           41.3            14.7   \n",
       "Corinthians - SP              45.7           35.8             9.9   \n",
       "\n",
       "                       Cartões Amarelos  Cartões Vermelhos  Aproveitamento (%)  \n",
       "Clube                                                                           \n",
       "Atlético Mineiro - MG              88.8                5.0                55.1  \n",
       "Grêmio - RS                        88.5                4.7                53.8  \n",
       "Palmeiras - SP                     94.1                5.5                55.3  \n",
       "Flamengo - RJ                      79.2                4.8                54.7  \n",
       "Corinthians - SP                   76.3                3.7                51.3  "
      ]
     },
     "execution_count": 68,
     "metadata": {},
     "output_type": "execute_result"
    }
   ],
   "source": [
    "media_com_filtro.sort_values('Colocação').head()"
   ]
  },
  {
   "cell_type": "code",
   "execution_count": 69,
   "metadata": {},
   "outputs": [
    {
     "data": {
      "application/vnd.plotly.v1+json": {
       "config": {
        "plotlyServerURL": "https://plot.ly"
       },
       "data": [
        {
         "alignmentgroup": "True",
         "hovertemplate": "Clube=%{x}<br>Colocação=%{y}<extra></extra>",
         "legendgroup": "América - MG",
         "marker": {
          "color": "#636efa",
          "pattern": {
           "shape": ""
          }
         },
         "name": "América - MG",
         "offsetgroup": "América - MG",
         "orientation": "v",
         "showlegend": true,
         "textposition": "auto",
         "type": "bar",
         "x": [
          "América - MG"
         ],
         "xaxis": "x",
         "y": [
          15
         ],
         "yaxis": "y"
        },
        {
         "alignmentgroup": "True",
         "hovertemplate": "Clube=%{x}<br>Colocação=%{y}<extra></extra>",
         "legendgroup": "Athletico Paranaense - PR",
         "marker": {
          "color": "#EF553B",
          "pattern": {
           "shape": ""
          }
         },
         "name": "Athletico Paranaense - PR",
         "offsetgroup": "Athletico Paranaense - PR",
         "orientation": "v",
         "showlegend": true,
         "textposition": "auto",
         "type": "bar",
         "x": [
          "Athletico Paranaense - PR"
         ],
         "xaxis": "x",
         "y": [
          7.9
         ],
         "yaxis": "y"
        },
        {
         "alignmentgroup": "True",
         "hovertemplate": "Clube=%{x}<br>Colocação=%{y}<extra></extra>",
         "legendgroup": "Atlético Goianiense - GO",
         "marker": {
          "color": "#00cc96",
          "pattern": {
           "shape": ""
          }
         },
         "name": "Atlético Goianiense - GO",
         "offsetgroup": "Atlético Goianiense - GO",
         "orientation": "v",
         "showlegend": true,
         "textposition": "auto",
         "type": "bar",
         "x": [
          "Atlético Goianiense - GO"
         ],
         "xaxis": "x",
         "y": [
          15.8
         ],
         "yaxis": "y"
        },
        {
         "alignmentgroup": "True",
         "hovertemplate": "Clube=%{x}<br>Colocação=%{y}<extra></extra>",
         "legendgroup": "Atlético Mineiro - MG",
         "marker": {
          "color": "#ab63fa",
          "pattern": {
           "shape": ""
          }
         },
         "name": "Atlético Mineiro - MG",
         "offsetgroup": "Atlético Mineiro - MG",
         "orientation": "v",
         "showlegend": true,
         "textposition": "auto",
         "type": "bar",
         "x": [
          "Atlético Mineiro - MG"
         ],
         "xaxis": "x",
         "y": [
          5.2
         ],
         "yaxis": "y"
        },
        {
         "alignmentgroup": "True",
         "hovertemplate": "Clube=%{x}<br>Colocação=%{y}<extra></extra>",
         "legendgroup": "Avaí - SC",
         "marker": {
          "color": "#FFA15A",
          "pattern": {
           "shape": ""
          }
         },
         "name": "Avaí - SC",
         "offsetgroup": "Avaí - SC",
         "orientation": "v",
         "showlegend": true,
         "textposition": "auto",
         "type": "bar",
         "x": [
          "Avaí - SC"
         ],
         "xaxis": "x",
         "y": [
          18.5
         ],
         "yaxis": "y"
        },
        {
         "alignmentgroup": "True",
         "hovertemplate": "Clube=%{x}<br>Colocação=%{y}<extra></extra>",
         "legendgroup": "Bahia - BA",
         "marker": {
          "color": "#19d3f3",
          "pattern": {
           "shape": ""
          }
         },
         "name": "Bahia - BA",
         "offsetgroup": "Bahia - BA",
         "orientation": "v",
         "showlegend": true,
         "textposition": "auto",
         "type": "bar",
         "x": [
          "Bahia - BA"
         ],
         "xaxis": "x",
         "y": [
          14.1
         ],
         "yaxis": "y"
        },
        {
         "alignmentgroup": "True",
         "hovertemplate": "Clube=%{x}<br>Colocação=%{y}<extra></extra>",
         "legendgroup": "Botafogo - RJ",
         "marker": {
          "color": "#FF6692",
          "pattern": {
           "shape": ""
          }
         },
         "name": "Botafogo - RJ",
         "offsetgroup": "Botafogo - RJ",
         "orientation": "v",
         "showlegend": true,
         "textposition": "auto",
         "type": "bar",
         "x": [
          "Botafogo - RJ"
         ],
         "xaxis": "x",
         "y": [
          10.5
         ],
         "yaxis": "y"
        },
        {
         "alignmentgroup": "True",
         "hovertemplate": "Clube=%{x}<br>Colocação=%{y}<extra></extra>",
         "legendgroup": "Ceará - CE",
         "marker": {
          "color": "#B6E880",
          "pattern": {
           "shape": ""
          }
         },
         "name": "Ceará - CE",
         "offsetgroup": "Ceará - CE",
         "orientation": "v",
         "showlegend": true,
         "textposition": "auto",
         "type": "bar",
         "x": [
          "Ceará - CE"
         ],
         "xaxis": "x",
         "y": [
          14
         ],
         "yaxis": "y"
        },
        {
         "alignmentgroup": "True",
         "hovertemplate": "Clube=%{x}<br>Colocação=%{y}<extra></extra>",
         "legendgroup": "Chapecoense - SC",
         "marker": {
          "color": "#FF97FF",
          "pattern": {
           "shape": ""
          }
         },
         "name": "Chapecoense - SC",
         "offsetgroup": "Chapecoense - SC",
         "orientation": "v",
         "showlegend": true,
         "textposition": "auto",
         "type": "bar",
         "x": [
          "Chapecoense - SC"
         ],
         "xaxis": "x",
         "y": [
          14.4
         ],
         "yaxis": "y"
        },
        {
         "alignmentgroup": "True",
         "hovertemplate": "Clube=%{x}<br>Colocação=%{y}<extra></extra>",
         "legendgroup": "Corinthians - SP",
         "marker": {
          "color": "#FECB52",
          "pattern": {
           "shape": ""
          }
         },
         "name": "Corinthians - SP",
         "offsetgroup": "Corinthians - SP",
         "orientation": "v",
         "showlegend": true,
         "textposition": "auto",
         "type": "bar",
         "x": [
          "Corinthians - SP"
         ],
         "xaxis": "x",
         "y": [
          7
         ],
         "yaxis": "y"
        },
        {
         "alignmentgroup": "True",
         "hovertemplate": "Clube=%{x}<br>Colocação=%{y}<extra></extra>",
         "legendgroup": "Coritiba - PR",
         "marker": {
          "color": "#636efa",
          "pattern": {
           "shape": ""
          }
         },
         "name": "Coritiba - PR",
         "offsetgroup": "Coritiba - PR",
         "orientation": "v",
         "showlegend": true,
         "textposition": "auto",
         "type": "bar",
         "x": [
          "Coritiba - PR"
         ],
         "xaxis": "x",
         "y": [
          15.3
         ],
         "yaxis": "y"
        },
        {
         "alignmentgroup": "True",
         "hovertemplate": "Clube=%{x}<br>Colocação=%{y}<extra></extra>",
         "legendgroup": "Cruzeiro - MG",
         "marker": {
          "color": "#EF553B",
          "pattern": {
           "shape": ""
          }
         },
         "name": "Cruzeiro - MG",
         "offsetgroup": "Cruzeiro - MG",
         "orientation": "v",
         "showlegend": true,
         "textposition": "auto",
         "type": "bar",
         "x": [
          "Cruzeiro - MG"
         ],
         "xaxis": "x",
         "y": [
          8.3
         ],
         "yaxis": "y"
        },
        {
         "alignmentgroup": "True",
         "hovertemplate": "Clube=%{x}<br>Colocação=%{y}<extra></extra>",
         "legendgroup": "Cuiabá - MT",
         "marker": {
          "color": "#00cc96",
          "pattern": {
           "shape": ""
          }
         },
         "name": "Cuiabá - MT",
         "offsetgroup": "Cuiabá - MT",
         "orientation": "v",
         "showlegend": true,
         "textposition": "auto",
         "type": "bar",
         "x": [
          "Cuiabá - MT"
         ],
         "xaxis": "x",
         "y": [
          14.3
         ],
         "yaxis": "y"
        },
        {
         "alignmentgroup": "True",
         "hovertemplate": "Clube=%{x}<br>Colocação=%{y}<extra></extra>",
         "legendgroup": "Figueirense - SC",
         "marker": {
          "color": "#ab63fa",
          "pattern": {
           "shape": ""
          }
         },
         "name": "Figueirense - SC",
         "offsetgroup": "Figueirense - SC",
         "orientation": "v",
         "showlegend": true,
         "textposition": "auto",
         "type": "bar",
         "x": [
          "Figueirense - SC"
         ],
         "xaxis": "x",
         "y": [
          16.8
         ],
         "yaxis": "y"
        },
        {
         "alignmentgroup": "True",
         "hovertemplate": "Clube=%{x}<br>Colocação=%{y}<extra></extra>",
         "legendgroup": "Flamengo - RJ",
         "marker": {
          "color": "#FFA15A",
          "pattern": {
           "shape": ""
          }
         },
         "name": "Flamengo - RJ",
         "offsetgroup": "Flamengo - RJ",
         "orientation": "v",
         "showlegend": true,
         "textposition": "auto",
         "type": "bar",
         "x": [
          "Flamengo - RJ"
         ],
         "xaxis": "x",
         "y": [
          6.1
         ],
         "yaxis": "y"
        },
        {
         "alignmentgroup": "True",
         "hovertemplate": "Clube=%{x}<br>Colocação=%{y}<extra></extra>",
         "legendgroup": "Fluminense - RJ",
         "marker": {
          "color": "#19d3f3",
          "pattern": {
           "shape": ""
          }
         },
         "name": "Fluminense - RJ",
         "offsetgroup": "Fluminense - RJ",
         "orientation": "v",
         "showlegend": true,
         "textposition": "auto",
         "type": "bar",
         "x": [
          "Fluminense - RJ"
         ],
         "xaxis": "x",
         "y": [
          9.2
         ],
         "yaxis": "y"
        },
        {
         "alignmentgroup": "True",
         "hovertemplate": "Clube=%{x}<br>Colocação=%{y}<extra></extra>",
         "legendgroup": "Fortaleza - CE",
         "marker": {
          "color": "#FF6692",
          "pattern": {
           "shape": ""
          }
         },
         "name": "Fortaleza - CE",
         "offsetgroup": "Fortaleza - CE",
         "orientation": "v",
         "showlegend": true,
         "textposition": "auto",
         "type": "bar",
         "x": [
          "Fortaleza - CE"
         ],
         "xaxis": "x",
         "y": [
          9.4
         ],
         "yaxis": "y"
        },
        {
         "alignmentgroup": "True",
         "hovertemplate": "Clube=%{x}<br>Colocação=%{y}<extra></extra>",
         "legendgroup": "Goiás - GO",
         "marker": {
          "color": "#B6E880",
          "pattern": {
           "shape": ""
          }
         },
         "name": "Goiás - GO",
         "offsetgroup": "Goiás - GO",
         "orientation": "v",
         "showlegend": true,
         "textposition": "auto",
         "type": "bar",
         "x": [
          "Goiás - GO"
         ],
         "xaxis": "x",
         "y": [
          13.7
         ],
         "yaxis": "y"
        },
        {
         "alignmentgroup": "True",
         "hovertemplate": "Clube=%{x}<br>Colocação=%{y}<extra></extra>",
         "legendgroup": "Grêmio - RS",
         "marker": {
          "color": "#FF97FF",
          "pattern": {
           "shape": ""
          }
         },
         "name": "Grêmio - RS",
         "offsetgroup": "Grêmio - RS",
         "orientation": "v",
         "showlegend": true,
         "textposition": "auto",
         "type": "bar",
         "x": [
          "Grêmio - RS"
         ],
         "xaxis": "x",
         "y": [
          5.5
         ],
         "yaxis": "y"
        },
        {
         "alignmentgroup": "True",
         "hovertemplate": "Clube=%{x}<br>Colocação=%{y}<extra></extra>",
         "legendgroup": "Internacional - RS",
         "marker": {
          "color": "#FECB52",
          "pattern": {
           "shape": ""
          }
         },
         "name": "Internacional - RS",
         "offsetgroup": "Internacional - RS",
         "orientation": "v",
         "showlegend": true,
         "textposition": "auto",
         "type": "bar",
         "x": [
          "Internacional - RS"
         ],
         "xaxis": "x",
         "y": [
          7.5
         ],
         "yaxis": "y"
        },
        {
         "alignmentgroup": "True",
         "hovertemplate": "Clube=%{x}<br>Colocação=%{y}<extra></extra>",
         "legendgroup": "Palmeiras - SP",
         "marker": {
          "color": "#636efa",
          "pattern": {
           "shape": ""
          }
         },
         "name": "Palmeiras - SP",
         "offsetgroup": "Palmeiras - SP",
         "orientation": "v",
         "showlegend": true,
         "textposition": "auto",
         "type": "bar",
         "x": [
          "Palmeiras - SP"
         ],
         "xaxis": "x",
         "y": [
          5.6
         ],
         "yaxis": "y"
        },
        {
         "alignmentgroup": "True",
         "hovertemplate": "Clube=%{x}<br>Colocação=%{y}<extra></extra>",
         "legendgroup": "Ponte Preta - SP",
         "marker": {
          "color": "#EF553B",
          "pattern": {
           "shape": ""
          }
         },
         "name": "Ponte Preta - SP",
         "offsetgroup": "Ponte Preta - SP",
         "orientation": "v",
         "showlegend": true,
         "textposition": "auto",
         "type": "bar",
         "x": [
          "Ponte Preta - SP"
         ],
         "xaxis": "x",
         "y": [
          14.2
         ],
         "yaxis": "y"
        },
        {
         "alignmentgroup": "True",
         "hovertemplate": "Clube=%{x}<br>Colocação=%{y}<extra></extra>",
         "legendgroup": "Red Bull Bragantino - SP",
         "marker": {
          "color": "#00cc96",
          "pattern": {
           "shape": ""
          }
         },
         "name": "Red Bull Bragantino - SP",
         "offsetgroup": "Red Bull Bragantino - SP",
         "orientation": "v",
         "showlegend": true,
         "textposition": "auto",
         "type": "bar",
         "x": [
          "Red Bull Bragantino - SP"
         ],
         "xaxis": "x",
         "y": [
          9
         ],
         "yaxis": "y"
        },
        {
         "alignmentgroup": "True",
         "hovertemplate": "Clube=%{x}<br>Colocação=%{y}<extra></extra>",
         "legendgroup": "Santos - SP",
         "marker": {
          "color": "#ab63fa",
          "pattern": {
           "shape": ""
          }
         },
         "name": "Santos - SP",
         "offsetgroup": "Santos - SP",
         "orientation": "v",
         "showlegend": true,
         "textposition": "auto",
         "type": "bar",
         "x": [
          "Santos - SP"
         ],
         "xaxis": "x",
         "y": [
          7.9
         ],
         "yaxis": "y"
        },
        {
         "alignmentgroup": "True",
         "hovertemplate": "Clube=%{x}<br>Colocação=%{y}<extra></extra>",
         "legendgroup": "Sport - PE",
         "marker": {
          "color": "#FFA15A",
          "pattern": {
           "shape": ""
          }
         },
         "name": "Sport - PE",
         "offsetgroup": "Sport - PE",
         "orientation": "v",
         "showlegend": true,
         "textposition": "auto",
         "type": "bar",
         "x": [
          "Sport - PE"
         ],
         "xaxis": "x",
         "y": [
          14.4
         ],
         "yaxis": "y"
        },
        {
         "alignmentgroup": "True",
         "hovertemplate": "Clube=%{x}<br>Colocação=%{y}<extra></extra>",
         "legendgroup": "São Paulo - SP",
         "marker": {
          "color": "#19d3f3",
          "pattern": {
           "shape": ""
          }
         },
         "name": "São Paulo - SP",
         "offsetgroup": "São Paulo - SP",
         "orientation": "v",
         "showlegend": true,
         "textposition": "auto",
         "type": "bar",
         "x": [
          "São Paulo - SP"
         ],
         "xaxis": "x",
         "y": [
          7.5
         ],
         "yaxis": "y"
        },
        {
         "alignmentgroup": "True",
         "hovertemplate": "Clube=%{x}<br>Colocação=%{y}<extra></extra>",
         "legendgroup": "Vasco da Gama - RJ",
         "marker": {
          "color": "#FF6692",
          "pattern": {
           "shape": ""
          }
         },
         "name": "Vasco da Gama - RJ",
         "offsetgroup": "Vasco da Gama - RJ",
         "orientation": "v",
         "showlegend": true,
         "textposition": "auto",
         "type": "bar",
         "x": [
          "Vasco da Gama - RJ"
         ],
         "xaxis": "x",
         "y": [
          13.5
         ],
         "yaxis": "y"
        },
        {
         "alignmentgroup": "True",
         "hovertemplate": "Clube=%{x}<br>Colocação=%{y}<extra></extra>",
         "legendgroup": "Vitória - BA",
         "marker": {
          "color": "#B6E880",
          "pattern": {
           "shape": ""
          }
         },
         "name": "Vitória - BA",
         "offsetgroup": "Vitória - BA",
         "orientation": "v",
         "showlegend": true,
         "textposition": "auto",
         "type": "bar",
         "x": [
          "Vitória - BA"
         ],
         "xaxis": "x",
         "y": [
          14.6
         ],
         "yaxis": "y"
        }
       ],
       "layout": {
        "barmode": "relative",
        "legend": {
         "title": {
          "text": "Clube"
         },
         "tracegroupgap": 0
        },
        "showlegend": false,
        "template": {
         "data": {
          "bar": [
           {
            "error_x": {
             "color": "#2a3f5f"
            },
            "error_y": {
             "color": "#2a3f5f"
            },
            "marker": {
             "line": {
              "color": "#E5ECF6",
              "width": 0.5
             },
             "pattern": {
              "fillmode": "overlay",
              "size": 10,
              "solidity": 0.2
             }
            },
            "type": "bar"
           }
          ],
          "barpolar": [
           {
            "marker": {
             "line": {
              "color": "#E5ECF6",
              "width": 0.5
             },
             "pattern": {
              "fillmode": "overlay",
              "size": 10,
              "solidity": 0.2
             }
            },
            "type": "barpolar"
           }
          ],
          "carpet": [
           {
            "aaxis": {
             "endlinecolor": "#2a3f5f",
             "gridcolor": "white",
             "linecolor": "white",
             "minorgridcolor": "white",
             "startlinecolor": "#2a3f5f"
            },
            "baxis": {
             "endlinecolor": "#2a3f5f",
             "gridcolor": "white",
             "linecolor": "white",
             "minorgridcolor": "white",
             "startlinecolor": "#2a3f5f"
            },
            "type": "carpet"
           }
          ],
          "choropleth": [
           {
            "colorbar": {
             "outlinewidth": 0,
             "ticks": ""
            },
            "type": "choropleth"
           }
          ],
          "contour": [
           {
            "colorbar": {
             "outlinewidth": 0,
             "ticks": ""
            },
            "colorscale": [
             [
              0,
              "#0d0887"
             ],
             [
              0.1111111111111111,
              "#46039f"
             ],
             [
              0.2222222222222222,
              "#7201a8"
             ],
             [
              0.3333333333333333,
              "#9c179e"
             ],
             [
              0.4444444444444444,
              "#bd3786"
             ],
             [
              0.5555555555555556,
              "#d8576b"
             ],
             [
              0.6666666666666666,
              "#ed7953"
             ],
             [
              0.7777777777777778,
              "#fb9f3a"
             ],
             [
              0.8888888888888888,
              "#fdca26"
             ],
             [
              1,
              "#f0f921"
             ]
            ],
            "type": "contour"
           }
          ],
          "contourcarpet": [
           {
            "colorbar": {
             "outlinewidth": 0,
             "ticks": ""
            },
            "type": "contourcarpet"
           }
          ],
          "heatmap": [
           {
            "colorbar": {
             "outlinewidth": 0,
             "ticks": ""
            },
            "colorscale": [
             [
              0,
              "#0d0887"
             ],
             [
              0.1111111111111111,
              "#46039f"
             ],
             [
              0.2222222222222222,
              "#7201a8"
             ],
             [
              0.3333333333333333,
              "#9c179e"
             ],
             [
              0.4444444444444444,
              "#bd3786"
             ],
             [
              0.5555555555555556,
              "#d8576b"
             ],
             [
              0.6666666666666666,
              "#ed7953"
             ],
             [
              0.7777777777777778,
              "#fb9f3a"
             ],
             [
              0.8888888888888888,
              "#fdca26"
             ],
             [
              1,
              "#f0f921"
             ]
            ],
            "type": "heatmap"
           }
          ],
          "heatmapgl": [
           {
            "colorbar": {
             "outlinewidth": 0,
             "ticks": ""
            },
            "colorscale": [
             [
              0,
              "#0d0887"
             ],
             [
              0.1111111111111111,
              "#46039f"
             ],
             [
              0.2222222222222222,
              "#7201a8"
             ],
             [
              0.3333333333333333,
              "#9c179e"
             ],
             [
              0.4444444444444444,
              "#bd3786"
             ],
             [
              0.5555555555555556,
              "#d8576b"
             ],
             [
              0.6666666666666666,
              "#ed7953"
             ],
             [
              0.7777777777777778,
              "#fb9f3a"
             ],
             [
              0.8888888888888888,
              "#fdca26"
             ],
             [
              1,
              "#f0f921"
             ]
            ],
            "type": "heatmapgl"
           }
          ],
          "histogram": [
           {
            "marker": {
             "pattern": {
              "fillmode": "overlay",
              "size": 10,
              "solidity": 0.2
             }
            },
            "type": "histogram"
           }
          ],
          "histogram2d": [
           {
            "colorbar": {
             "outlinewidth": 0,
             "ticks": ""
            },
            "colorscale": [
             [
              0,
              "#0d0887"
             ],
             [
              0.1111111111111111,
              "#46039f"
             ],
             [
              0.2222222222222222,
              "#7201a8"
             ],
             [
              0.3333333333333333,
              "#9c179e"
             ],
             [
              0.4444444444444444,
              "#bd3786"
             ],
             [
              0.5555555555555556,
              "#d8576b"
             ],
             [
              0.6666666666666666,
              "#ed7953"
             ],
             [
              0.7777777777777778,
              "#fb9f3a"
             ],
             [
              0.8888888888888888,
              "#fdca26"
             ],
             [
              1,
              "#f0f921"
             ]
            ],
            "type": "histogram2d"
           }
          ],
          "histogram2dcontour": [
           {
            "colorbar": {
             "outlinewidth": 0,
             "ticks": ""
            },
            "colorscale": [
             [
              0,
              "#0d0887"
             ],
             [
              0.1111111111111111,
              "#46039f"
             ],
             [
              0.2222222222222222,
              "#7201a8"
             ],
             [
              0.3333333333333333,
              "#9c179e"
             ],
             [
              0.4444444444444444,
              "#bd3786"
             ],
             [
              0.5555555555555556,
              "#d8576b"
             ],
             [
              0.6666666666666666,
              "#ed7953"
             ],
             [
              0.7777777777777778,
              "#fb9f3a"
             ],
             [
              0.8888888888888888,
              "#fdca26"
             ],
             [
              1,
              "#f0f921"
             ]
            ],
            "type": "histogram2dcontour"
           }
          ],
          "mesh3d": [
           {
            "colorbar": {
             "outlinewidth": 0,
             "ticks": ""
            },
            "type": "mesh3d"
           }
          ],
          "parcoords": [
           {
            "line": {
             "colorbar": {
              "outlinewidth": 0,
              "ticks": ""
             }
            },
            "type": "parcoords"
           }
          ],
          "pie": [
           {
            "automargin": true,
            "type": "pie"
           }
          ],
          "scatter": [
           {
            "fillpattern": {
             "fillmode": "overlay",
             "size": 10,
             "solidity": 0.2
            },
            "type": "scatter"
           }
          ],
          "scatter3d": [
           {
            "line": {
             "colorbar": {
              "outlinewidth": 0,
              "ticks": ""
             }
            },
            "marker": {
             "colorbar": {
              "outlinewidth": 0,
              "ticks": ""
             }
            },
            "type": "scatter3d"
           }
          ],
          "scattercarpet": [
           {
            "marker": {
             "colorbar": {
              "outlinewidth": 0,
              "ticks": ""
             }
            },
            "type": "scattercarpet"
           }
          ],
          "scattergeo": [
           {
            "marker": {
             "colorbar": {
              "outlinewidth": 0,
              "ticks": ""
             }
            },
            "type": "scattergeo"
           }
          ],
          "scattergl": [
           {
            "marker": {
             "colorbar": {
              "outlinewidth": 0,
              "ticks": ""
             }
            },
            "type": "scattergl"
           }
          ],
          "scattermapbox": [
           {
            "marker": {
             "colorbar": {
              "outlinewidth": 0,
              "ticks": ""
             }
            },
            "type": "scattermapbox"
           }
          ],
          "scatterpolar": [
           {
            "marker": {
             "colorbar": {
              "outlinewidth": 0,
              "ticks": ""
             }
            },
            "type": "scatterpolar"
           }
          ],
          "scatterpolargl": [
           {
            "marker": {
             "colorbar": {
              "outlinewidth": 0,
              "ticks": ""
             }
            },
            "type": "scatterpolargl"
           }
          ],
          "scatterternary": [
           {
            "marker": {
             "colorbar": {
              "outlinewidth": 0,
              "ticks": ""
             }
            },
            "type": "scatterternary"
           }
          ],
          "surface": [
           {
            "colorbar": {
             "outlinewidth": 0,
             "ticks": ""
            },
            "colorscale": [
             [
              0,
              "#0d0887"
             ],
             [
              0.1111111111111111,
              "#46039f"
             ],
             [
              0.2222222222222222,
              "#7201a8"
             ],
             [
              0.3333333333333333,
              "#9c179e"
             ],
             [
              0.4444444444444444,
              "#bd3786"
             ],
             [
              0.5555555555555556,
              "#d8576b"
             ],
             [
              0.6666666666666666,
              "#ed7953"
             ],
             [
              0.7777777777777778,
              "#fb9f3a"
             ],
             [
              0.8888888888888888,
              "#fdca26"
             ],
             [
              1,
              "#f0f921"
             ]
            ],
            "type": "surface"
           }
          ],
          "table": [
           {
            "cells": {
             "fill": {
              "color": "#EBF0F8"
             },
             "line": {
              "color": "white"
             }
            },
            "header": {
             "fill": {
              "color": "#C8D4E3"
             },
             "line": {
              "color": "white"
             }
            },
            "type": "table"
           }
          ]
         },
         "layout": {
          "annotationdefaults": {
           "arrowcolor": "#2a3f5f",
           "arrowhead": 0,
           "arrowwidth": 1
          },
          "autotypenumbers": "strict",
          "coloraxis": {
           "colorbar": {
            "outlinewidth": 0,
            "ticks": ""
           }
          },
          "colorscale": {
           "diverging": [
            [
             0,
             "#8e0152"
            ],
            [
             0.1,
             "#c51b7d"
            ],
            [
             0.2,
             "#de77ae"
            ],
            [
             0.3,
             "#f1b6da"
            ],
            [
             0.4,
             "#fde0ef"
            ],
            [
             0.5,
             "#f7f7f7"
            ],
            [
             0.6,
             "#e6f5d0"
            ],
            [
             0.7,
             "#b8e186"
            ],
            [
             0.8,
             "#7fbc41"
            ],
            [
             0.9,
             "#4d9221"
            ],
            [
             1,
             "#276419"
            ]
           ],
           "sequential": [
            [
             0,
             "#0d0887"
            ],
            [
             0.1111111111111111,
             "#46039f"
            ],
            [
             0.2222222222222222,
             "#7201a8"
            ],
            [
             0.3333333333333333,
             "#9c179e"
            ],
            [
             0.4444444444444444,
             "#bd3786"
            ],
            [
             0.5555555555555556,
             "#d8576b"
            ],
            [
             0.6666666666666666,
             "#ed7953"
            ],
            [
             0.7777777777777778,
             "#fb9f3a"
            ],
            [
             0.8888888888888888,
             "#fdca26"
            ],
            [
             1,
             "#f0f921"
            ]
           ],
           "sequentialminus": [
            [
             0,
             "#0d0887"
            ],
            [
             0.1111111111111111,
             "#46039f"
            ],
            [
             0.2222222222222222,
             "#7201a8"
            ],
            [
             0.3333333333333333,
             "#9c179e"
            ],
            [
             0.4444444444444444,
             "#bd3786"
            ],
            [
             0.5555555555555556,
             "#d8576b"
            ],
            [
             0.6666666666666666,
             "#ed7953"
            ],
            [
             0.7777777777777778,
             "#fb9f3a"
            ],
            [
             0.8888888888888888,
             "#fdca26"
            ],
            [
             1,
             "#f0f921"
            ]
           ]
          },
          "colorway": [
           "#636efa",
           "#EF553B",
           "#00cc96",
           "#ab63fa",
           "#FFA15A",
           "#19d3f3",
           "#FF6692",
           "#B6E880",
           "#FF97FF",
           "#FECB52"
          ],
          "font": {
           "color": "#2a3f5f"
          },
          "geo": {
           "bgcolor": "white",
           "lakecolor": "white",
           "landcolor": "#E5ECF6",
           "showlakes": true,
           "showland": true,
           "subunitcolor": "white"
          },
          "hoverlabel": {
           "align": "left"
          },
          "hovermode": "closest",
          "mapbox": {
           "style": "light"
          },
          "paper_bgcolor": "white",
          "plot_bgcolor": "#E5ECF6",
          "polar": {
           "angularaxis": {
            "gridcolor": "white",
            "linecolor": "white",
            "ticks": ""
           },
           "bgcolor": "#E5ECF6",
           "radialaxis": {
            "gridcolor": "white",
            "linecolor": "white",
            "ticks": ""
           }
          },
          "scene": {
           "xaxis": {
            "backgroundcolor": "#E5ECF6",
            "gridcolor": "white",
            "gridwidth": 2,
            "linecolor": "white",
            "showbackground": true,
            "ticks": "",
            "zerolinecolor": "white"
           },
           "yaxis": {
            "backgroundcolor": "#E5ECF6",
            "gridcolor": "white",
            "gridwidth": 2,
            "linecolor": "white",
            "showbackground": true,
            "ticks": "",
            "zerolinecolor": "white"
           },
           "zaxis": {
            "backgroundcolor": "#E5ECF6",
            "gridcolor": "white",
            "gridwidth": 2,
            "linecolor": "white",
            "showbackground": true,
            "ticks": "",
            "zerolinecolor": "white"
           }
          },
          "shapedefaults": {
           "line": {
            "color": "#2a3f5f"
           }
          },
          "ternary": {
           "aaxis": {
            "gridcolor": "white",
            "linecolor": "white",
            "ticks": ""
           },
           "baxis": {
            "gridcolor": "white",
            "linecolor": "white",
            "ticks": ""
           },
           "bgcolor": "#E5ECF6",
           "caxis": {
            "gridcolor": "white",
            "linecolor": "white",
            "ticks": ""
           }
          },
          "title": {
           "x": 0.05
          },
          "xaxis": {
           "automargin": true,
           "gridcolor": "white",
           "linecolor": "white",
           "ticks": "",
           "title": {
            "standoff": 15
           },
           "zerolinecolor": "white",
           "zerolinewidth": 2
          },
          "yaxis": {
           "automargin": true,
           "gridcolor": "white",
           "linecolor": "white",
           "ticks": "",
           "title": {
            "standoff": 15
           },
           "zerolinecolor": "white",
           "zerolinewidth": 2
          }
         }
        },
        "title": {
         "text": "Média de Colocação por Clube"
        },
        "xaxis": {
         "anchor": "y",
         "categoryarray": [
          "América - MG",
          "Athletico Paranaense - PR",
          "Atlético Goianiense - GO",
          "Atlético Mineiro - MG",
          "Avaí - SC",
          "Bahia - BA",
          "Botafogo - RJ",
          "Ceará - CE",
          "Chapecoense - SC",
          "Corinthians - SP",
          "Coritiba - PR",
          "Cruzeiro - MG",
          "Cuiabá - MT",
          "Figueirense - SC",
          "Flamengo - RJ",
          "Fluminense - RJ",
          "Fortaleza - CE",
          "Goiás - GO",
          "Grêmio - RS",
          "Internacional - RS",
          "Palmeiras - SP",
          "Ponte Preta - SP",
          "Red Bull Bragantino - SP",
          "Santos - SP",
          "Sport - PE",
          "São Paulo - SP",
          "Vasco da Gama - RJ",
          "Vitória - BA"
         ],
         "categoryorder": "array",
         "domain": [
          0,
          1
         ],
         "title": {
          "text": ""
         }
        },
        "yaxis": {
         "anchor": "x",
         "domain": [
          0,
          1
         ],
         "title": {
          "text": "Média de Colocação"
         }
        }
       }
      }
     },
     "metadata": {},
     "output_type": "display_data"
    }
   ],
   "source": [
    "media_de_equipe_da_estatistica('Colocação')"
   ]
  },
  {
   "cell_type": "markdown",
   "metadata": {},
   "source": [
    "<h2>29 - Identificar OS TIMES com as melhores médias de aproveitamento.</h2>"
   ]
  },
  {
   "cell_type": "code",
   "execution_count": 70,
   "metadata": {},
   "outputs": [
    {
     "data": {
      "text/html": [
       "<div>\n",
       "<style scoped>\n",
       "    .dataframe tbody tr th:only-of-type {\n",
       "        vertical-align: middle;\n",
       "    }\n",
       "\n",
       "    .dataframe tbody tr th {\n",
       "        vertical-align: top;\n",
       "    }\n",
       "\n",
       "    .dataframe thead th {\n",
       "        text-align: right;\n",
       "    }\n",
       "</style>\n",
       "<table border=\"1\" class=\"dataframe\">\n",
       "  <thead>\n",
       "    <tr style=\"text-align: right;\">\n",
       "      <th></th>\n",
       "      <th>Colocação</th>\n",
       "      <th>Pontos</th>\n",
       "      <th>Vitórias</th>\n",
       "      <th>Empates</th>\n",
       "      <th>Derrotas</th>\n",
       "      <th>Gols Feitos</th>\n",
       "      <th>Gols Sofridos</th>\n",
       "      <th>Saldos de Gols</th>\n",
       "      <th>Cartões Amarelos</th>\n",
       "      <th>Cartões Vermelhos</th>\n",
       "      <th>Aproveitamento (%)</th>\n",
       "    </tr>\n",
       "    <tr>\n",
       "      <th>Clube</th>\n",
       "      <th></th>\n",
       "      <th></th>\n",
       "      <th></th>\n",
       "      <th></th>\n",
       "      <th></th>\n",
       "      <th></th>\n",
       "      <th></th>\n",
       "      <th></th>\n",
       "      <th></th>\n",
       "      <th></th>\n",
       "      <th></th>\n",
       "    </tr>\n",
       "  </thead>\n",
       "  <tbody>\n",
       "    <tr>\n",
       "      <th>Palmeiras - SP</th>\n",
       "      <td>5.6</td>\n",
       "      <td>63.5</td>\n",
       "      <td>18.2</td>\n",
       "      <td>9.0</td>\n",
       "      <td>10.8</td>\n",
       "      <td>56.4</td>\n",
       "      <td>39.9</td>\n",
       "      <td>16.5</td>\n",
       "      <td>94.1</td>\n",
       "      <td>5.5</td>\n",
       "      <td>55.3</td>\n",
       "    </tr>\n",
       "    <tr>\n",
       "      <th>Atlético Mineiro - MG</th>\n",
       "      <td>5.2</td>\n",
       "      <td>63.2</td>\n",
       "      <td>17.8</td>\n",
       "      <td>9.8</td>\n",
       "      <td>10.4</td>\n",
       "      <td>55.8</td>\n",
       "      <td>41.8</td>\n",
       "      <td>14.0</td>\n",
       "      <td>88.8</td>\n",
       "      <td>5.0</td>\n",
       "      <td>55.1</td>\n",
       "    </tr>\n",
       "    <tr>\n",
       "      <th>Flamengo - RJ</th>\n",
       "      <td>6.1</td>\n",
       "      <td>62.9</td>\n",
       "      <td>18.0</td>\n",
       "      <td>9.2</td>\n",
       "      <td>10.8</td>\n",
       "      <td>56.0</td>\n",
       "      <td>41.3</td>\n",
       "      <td>14.7</td>\n",
       "      <td>79.2</td>\n",
       "      <td>4.8</td>\n",
       "      <td>54.7</td>\n",
       "    </tr>\n",
       "    <tr>\n",
       "      <th>Grêmio - RS</th>\n",
       "      <td>5.5</td>\n",
       "      <td>61.9</td>\n",
       "      <td>17.4</td>\n",
       "      <td>9.8</td>\n",
       "      <td>10.8</td>\n",
       "      <td>50.4</td>\n",
       "      <td>37.9</td>\n",
       "      <td>12.5</td>\n",
       "      <td>88.5</td>\n",
       "      <td>4.7</td>\n",
       "      <td>53.8</td>\n",
       "    </tr>\n",
       "    <tr>\n",
       "      <th>Corinthians - SP</th>\n",
       "      <td>7.0</td>\n",
       "      <td>58.9</td>\n",
       "      <td>15.7</td>\n",
       "      <td>11.9</td>\n",
       "      <td>10.4</td>\n",
       "      <td>45.7</td>\n",
       "      <td>35.8</td>\n",
       "      <td>9.9</td>\n",
       "      <td>76.3</td>\n",
       "      <td>3.7</td>\n",
       "      <td>51.3</td>\n",
       "    </tr>\n",
       "  </tbody>\n",
       "</table>\n",
       "</div>"
      ],
      "text/plain": [
       "                       Colocação  Pontos  Vitórias  Empates  Derrotas  \\\n",
       "Clube                                                                   \n",
       "Palmeiras - SP               5.6    63.5      18.2      9.0      10.8   \n",
       "Atlético Mineiro - MG        5.2    63.2      17.8      9.8      10.4   \n",
       "Flamengo - RJ                6.1    62.9      18.0      9.2      10.8   \n",
       "Grêmio - RS                  5.5    61.9      17.4      9.8      10.8   \n",
       "Corinthians - SP             7.0    58.9      15.7     11.9      10.4   \n",
       "\n",
       "                       Gols Feitos  Gols Sofridos  Saldos de Gols  \\\n",
       "Clube                                                               \n",
       "Palmeiras - SP                56.4           39.9            16.5   \n",
       "Atlético Mineiro - MG         55.8           41.8            14.0   \n",
       "Flamengo - RJ                 56.0           41.3            14.7   \n",
       "Grêmio - RS                   50.4           37.9            12.5   \n",
       "Corinthians - SP              45.7           35.8             9.9   \n",
       "\n",
       "                       Cartões Amarelos  Cartões Vermelhos  Aproveitamento (%)  \n",
       "Clube                                                                           \n",
       "Palmeiras - SP                     94.1                5.5                55.3  \n",
       "Atlético Mineiro - MG              88.8                5.0                55.1  \n",
       "Flamengo - RJ                      79.2                4.8                54.7  \n",
       "Grêmio - RS                        88.5                4.7                53.8  \n",
       "Corinthians - SP                   76.3                3.7                51.3  "
      ]
     },
     "execution_count": 70,
     "metadata": {},
     "output_type": "execute_result"
    }
   ],
   "source": [
    "media_com_filtro.sort_values('Aproveitamento (%)', ascending=False).head()"
   ]
  },
  {
   "cell_type": "code",
   "execution_count": 71,
   "metadata": {},
   "outputs": [
    {
     "data": {
      "application/vnd.plotly.v1+json": {
       "config": {
        "plotlyServerURL": "https://plot.ly"
       },
       "data": [
        {
         "alignmentgroup": "True",
         "hovertemplate": "Clube=%{x}<br>Aproveitamento (%)=%{y}<extra></extra>",
         "legendgroup": "América - MG",
         "marker": {
          "color": "#636efa",
          "pattern": {
           "shape": ""
          }
         },
         "name": "América - MG",
         "offsetgroup": "América - MG",
         "orientation": "v",
         "showlegend": true,
         "textposition": "auto",
         "type": "bar",
         "x": [
          "América - MG"
         ],
         "xaxis": "x",
         "y": [
          34.4
         ],
         "yaxis": "y"
        },
        {
         "alignmentgroup": "True",
         "hovertemplate": "Clube=%{x}<br>Aproveitamento (%)=%{y}<extra></extra>",
         "legendgroup": "Athletico Paranaense - PR",
         "marker": {
          "color": "#EF553B",
          "pattern": {
           "shape": ""
          }
         },
         "name": "Athletico Paranaense - PR",
         "offsetgroup": "Athletico Paranaense - PR",
         "orientation": "v",
         "showlegend": true,
         "textposition": "auto",
         "type": "bar",
         "x": [
          "Athletico Paranaense - PR"
         ],
         "xaxis": "x",
         "y": [
          48.5
         ],
         "yaxis": "y"
        },
        {
         "alignmentgroup": "True",
         "hovertemplate": "Clube=%{x}<br>Aproveitamento (%)=%{y}<extra></extra>",
         "legendgroup": "Atlético Goianiense - GO",
         "marker": {
          "color": "#00cc96",
          "pattern": {
           "shape": ""
          }
         },
         "name": "Atlético Goianiense - GO",
         "offsetgroup": "Atlético Goianiense - GO",
         "orientation": "v",
         "showlegend": true,
         "textposition": "auto",
         "type": "bar",
         "x": [
          "Atlético Goianiense - GO"
         ],
         "xaxis": "x",
         "y": [
          35.4
         ],
         "yaxis": "y"
        },
        {
         "alignmentgroup": "True",
         "hovertemplate": "Clube=%{x}<br>Aproveitamento (%)=%{y}<extra></extra>",
         "legendgroup": "Atlético Mineiro - MG",
         "marker": {
          "color": "#ab63fa",
          "pattern": {
           "shape": ""
          }
         },
         "name": "Atlético Mineiro - MG",
         "offsetgroup": "Atlético Mineiro - MG",
         "orientation": "v",
         "showlegend": true,
         "textposition": "auto",
         "type": "bar",
         "x": [
          "Atlético Mineiro - MG"
         ],
         "xaxis": "x",
         "y": [
          55.1
         ],
         "yaxis": "y"
        },
        {
         "alignmentgroup": "True",
         "hovertemplate": "Clube=%{x}<br>Aproveitamento (%)=%{y}<extra></extra>",
         "legendgroup": "Avaí - SC",
         "marker": {
          "color": "#FFA15A",
          "pattern": {
           "shape": ""
          }
         },
         "name": "Avaí - SC",
         "offsetgroup": "Avaí - SC",
         "orientation": "v",
         "showlegend": true,
         "textposition": "auto",
         "type": "bar",
         "x": [
          "Avaí - SC"
         ],
         "xaxis": "x",
         "y": [
          30
         ],
         "yaxis": "y"
        },
        {
         "alignmentgroup": "True",
         "hovertemplate": "Clube=%{x}<br>Aproveitamento (%)=%{y}<extra></extra>",
         "legendgroup": "Bahia - BA",
         "marker": {
          "color": "#19d3f3",
          "pattern": {
           "shape": ""
          }
         },
         "name": "Bahia - BA",
         "offsetgroup": "Bahia - BA",
         "orientation": "v",
         "showlegend": true,
         "textposition": "auto",
         "type": "bar",
         "x": [
          "Bahia - BA"
         ],
         "xaxis": "x",
         "y": [
          39.4
         ],
         "yaxis": "y"
        },
        {
         "alignmentgroup": "True",
         "hovertemplate": "Clube=%{x}<br>Aproveitamento (%)=%{y}<extra></extra>",
         "legendgroup": "Botafogo - RJ",
         "marker": {
          "color": "#FF6692",
          "pattern": {
           "shape": ""
          }
         },
         "name": "Botafogo - RJ",
         "offsetgroup": "Botafogo - RJ",
         "orientation": "v",
         "showlegend": true,
         "textposition": "auto",
         "type": "bar",
         "x": [
          "Botafogo - RJ"
         ],
         "xaxis": "x",
         "y": [
          43.3
         ],
         "yaxis": "y"
        },
        {
         "alignmentgroup": "True",
         "hovertemplate": "Clube=%{x}<br>Aproveitamento (%)=%{y}<extra></extra>",
         "legendgroup": "Ceará - CE",
         "marker": {
          "color": "#B6E880",
          "pattern": {
           "shape": ""
          }
         },
         "name": "Ceará - CE",
         "offsetgroup": "Ceará - CE",
         "orientation": "v",
         "showlegend": true,
         "textposition": "auto",
         "type": "bar",
         "x": [
          "Ceará - CE"
         ],
         "xaxis": "x",
         "y": [
          38.4
         ],
         "yaxis": "y"
        },
        {
         "alignmentgroup": "True",
         "hovertemplate": "Clube=%{x}<br>Aproveitamento (%)=%{y}<extra></extra>",
         "legendgroup": "Chapecoense - SC",
         "marker": {
          "color": "#FF97FF",
          "pattern": {
           "shape": ""
          }
         },
         "name": "Chapecoense - SC",
         "offsetgroup": "Chapecoense - SC",
         "orientation": "v",
         "showlegend": true,
         "textposition": "auto",
         "type": "bar",
         "x": [
          "Chapecoense - SC"
         ],
         "xaxis": "x",
         "y": [
          35.7
         ],
         "yaxis": "y"
        },
        {
         "alignmentgroup": "True",
         "hovertemplate": "Clube=%{x}<br>Aproveitamento (%)=%{y}<extra></extra>",
         "legendgroup": "Corinthians - SP",
         "marker": {
          "color": "#FECB52",
          "pattern": {
           "shape": ""
          }
         },
         "name": "Corinthians - SP",
         "offsetgroup": "Corinthians - SP",
         "orientation": "v",
         "showlegend": true,
         "textposition": "auto",
         "type": "bar",
         "x": [
          "Corinthians - SP"
         ],
         "xaxis": "x",
         "y": [
          51.3
         ],
         "yaxis": "y"
        },
        {
         "alignmentgroup": "True",
         "hovertemplate": "Clube=%{x}<br>Aproveitamento (%)=%{y}<extra></extra>",
         "legendgroup": "Coritiba - PR",
         "marker": {
          "color": "#636efa",
          "pattern": {
           "shape": ""
          }
         },
         "name": "Coritiba - PR",
         "offsetgroup": "Coritiba - PR",
         "orientation": "v",
         "showlegend": true,
         "textposition": "auto",
         "type": "bar",
         "x": [
          "Coritiba - PR"
         ],
         "xaxis": "x",
         "y": [
          36.6
         ],
         "yaxis": "y"
        },
        {
         "alignmentgroup": "True",
         "hovertemplate": "Clube=%{x}<br>Aproveitamento (%)=%{y}<extra></extra>",
         "legendgroup": "Cruzeiro - MG",
         "marker": {
          "color": "#EF553B",
          "pattern": {
           "shape": ""
          }
         },
         "name": "Cruzeiro - MG",
         "offsetgroup": "Cruzeiro - MG",
         "orientation": "v",
         "showlegend": true,
         "textposition": "auto",
         "type": "bar",
         "x": [
          "Cruzeiro - MG"
         ],
         "xaxis": "x",
         "y": [
          49
         ],
         "yaxis": "y"
        },
        {
         "alignmentgroup": "True",
         "hovertemplate": "Clube=%{x}<br>Aproveitamento (%)=%{y}<extra></extra>",
         "legendgroup": "Cuiabá - MT",
         "marker": {
          "color": "#00cc96",
          "pattern": {
           "shape": ""
          }
         },
         "name": "Cuiabá - MT",
         "offsetgroup": "Cuiabá - MT",
         "orientation": "v",
         "showlegend": true,
         "textposition": "auto",
         "type": "bar",
         "x": [
          "Cuiabá - MT"
         ],
         "xaxis": "x",
         "y": [
          40
         ],
         "yaxis": "y"
        },
        {
         "alignmentgroup": "True",
         "hovertemplate": "Clube=%{x}<br>Aproveitamento (%)=%{y}<extra></extra>",
         "legendgroup": "Figueirense - SC",
         "marker": {
          "color": "#ab63fa",
          "pattern": {
           "shape": ""
          }
         },
         "name": "Figueirense - SC",
         "offsetgroup": "Figueirense - SC",
         "orientation": "v",
         "showlegend": true,
         "textposition": "auto",
         "type": "bar",
         "x": [
          "Figueirense - SC"
         ],
         "xaxis": "x",
         "y": [
          34
         ],
         "yaxis": "y"
        },
        {
         "alignmentgroup": "True",
         "hovertemplate": "Clube=%{x}<br>Aproveitamento (%)=%{y}<extra></extra>",
         "legendgroup": "Flamengo - RJ",
         "marker": {
          "color": "#FFA15A",
          "pattern": {
           "shape": ""
          }
         },
         "name": "Flamengo - RJ",
         "offsetgroup": "Flamengo - RJ",
         "orientation": "v",
         "showlegend": true,
         "textposition": "auto",
         "type": "bar",
         "x": [
          "Flamengo - RJ"
         ],
         "xaxis": "x",
         "y": [
          54.7
         ],
         "yaxis": "y"
        },
        {
         "alignmentgroup": "True",
         "hovertemplate": "Clube=%{x}<br>Aproveitamento (%)=%{y}<extra></extra>",
         "legendgroup": "Fluminense - RJ",
         "marker": {
          "color": "#19d3f3",
          "pattern": {
           "shape": ""
          }
         },
         "name": "Fluminense - RJ",
         "offsetgroup": "Fluminense - RJ",
         "orientation": "v",
         "showlegend": true,
         "textposition": "auto",
         "type": "bar",
         "x": [
          "Fluminense - RJ"
         ],
         "xaxis": "x",
         "y": [
          48.1
         ],
         "yaxis": "y"
        },
        {
         "alignmentgroup": "True",
         "hovertemplate": "Clube=%{x}<br>Aproveitamento (%)=%{y}<extra></extra>",
         "legendgroup": "Fortaleza - CE",
         "marker": {
          "color": "#FF6692",
          "pattern": {
           "shape": ""
          }
         },
         "name": "Fortaleza - CE",
         "offsetgroup": "Fortaleza - CE",
         "orientation": "v",
         "showlegend": true,
         "textposition": "auto",
         "type": "bar",
         "x": [
          "Fortaleza - CE"
         ],
         "xaxis": "x",
         "y": [
          45.2
         ],
         "yaxis": "y"
        },
        {
         "alignmentgroup": "True",
         "hovertemplate": "Clube=%{x}<br>Aproveitamento (%)=%{y}<extra></extra>",
         "legendgroup": "Goiás - GO",
         "marker": {
          "color": "#B6E880",
          "pattern": {
           "shape": ""
          }
         },
         "name": "Goiás - GO",
         "offsetgroup": "Goiás - GO",
         "orientation": "v",
         "showlegend": true,
         "textposition": "auto",
         "type": "bar",
         "x": [
          "Goiás - GO"
         ],
         "xaxis": "x",
         "y": [
          39.3
         ],
         "yaxis": "y"
        },
        {
         "alignmentgroup": "True",
         "hovertemplate": "Clube=%{x}<br>Aproveitamento (%)=%{y}<extra></extra>",
         "legendgroup": "Grêmio - RS",
         "marker": {
          "color": "#FF97FF",
          "pattern": {
           "shape": ""
          }
         },
         "name": "Grêmio - RS",
         "offsetgroup": "Grêmio - RS",
         "orientation": "v",
         "showlegend": true,
         "textposition": "auto",
         "type": "bar",
         "x": [
          "Grêmio - RS"
         ],
         "xaxis": "x",
         "y": [
          53.8
         ],
         "yaxis": "y"
        },
        {
         "alignmentgroup": "True",
         "hovertemplate": "Clube=%{x}<br>Aproveitamento (%)=%{y}<extra></extra>",
         "legendgroup": "Internacional - RS",
         "marker": {
          "color": "#FECB52",
          "pattern": {
           "shape": ""
          }
         },
         "name": "Internacional - RS",
         "offsetgroup": "Internacional - RS",
         "orientation": "v",
         "showlegend": true,
         "textposition": "auto",
         "type": "bar",
         "x": [
          "Internacional - RS"
         ],
         "xaxis": "x",
         "y": [
          51
         ],
         "yaxis": "y"
        },
        {
         "alignmentgroup": "True",
         "hovertemplate": "Clube=%{x}<br>Aproveitamento (%)=%{y}<extra></extra>",
         "legendgroup": "Palmeiras - SP",
         "marker": {
          "color": "#636efa",
          "pattern": {
           "shape": ""
          }
         },
         "name": "Palmeiras - SP",
         "offsetgroup": "Palmeiras - SP",
         "orientation": "v",
         "showlegend": true,
         "textposition": "auto",
         "type": "bar",
         "x": [
          "Palmeiras - SP"
         ],
         "xaxis": "x",
         "y": [
          55.3
         ],
         "yaxis": "y"
        },
        {
         "alignmentgroup": "True",
         "hovertemplate": "Clube=%{x}<br>Aproveitamento (%)=%{y}<extra></extra>",
         "legendgroup": "Ponte Preta - SP",
         "marker": {
          "color": "#EF553B",
          "pattern": {
           "shape": ""
          }
         },
         "name": "Ponte Preta - SP",
         "offsetgroup": "Ponte Preta - SP",
         "orientation": "v",
         "showlegend": true,
         "textposition": "auto",
         "type": "bar",
         "x": [
          "Ponte Preta - SP"
         ],
         "xaxis": "x",
         "y": [
          39.6
         ],
         "yaxis": "y"
        },
        {
         "alignmentgroup": "True",
         "hovertemplate": "Clube=%{x}<br>Aproveitamento (%)=%{y}<extra></extra>",
         "legendgroup": "Red Bull Bragantino - SP",
         "marker": {
          "color": "#00cc96",
          "pattern": {
           "shape": ""
          }
         },
         "name": "Red Bull Bragantino - SP",
         "offsetgroup": "Red Bull Bragantino - SP",
         "orientation": "v",
         "showlegend": true,
         "textposition": "auto",
         "type": "bar",
         "x": [
          "Red Bull Bragantino - SP"
         ],
         "xaxis": "x",
         "y": [
          46.8
         ],
         "yaxis": "y"
        },
        {
         "alignmentgroup": "True",
         "hovertemplate": "Clube=%{x}<br>Aproveitamento (%)=%{y}<extra></extra>",
         "legendgroup": "Santos - SP",
         "marker": {
          "color": "#ab63fa",
          "pattern": {
           "shape": ""
          }
         },
         "name": "Santos - SP",
         "offsetgroup": "Santos - SP",
         "orientation": "v",
         "showlegend": true,
         "textposition": "auto",
         "type": "bar",
         "x": [
          "Santos - SP"
         ],
         "xaxis": "x",
         "y": [
          48.7
         ],
         "yaxis": "y"
        },
        {
         "alignmentgroup": "True",
         "hovertemplate": "Clube=%{x}<br>Aproveitamento (%)=%{y}<extra></extra>",
         "legendgroup": "Sport - PE",
         "marker": {
          "color": "#FFA15A",
          "pattern": {
           "shape": ""
          }
         },
         "name": "Sport - PE",
         "offsetgroup": "Sport - PE",
         "orientation": "v",
         "showlegend": true,
         "textposition": "auto",
         "type": "bar",
         "x": [
          "Sport - PE"
         ],
         "xaxis": "x",
         "y": [
          39.4
         ],
         "yaxis": "y"
        },
        {
         "alignmentgroup": "True",
         "hovertemplate": "Clube=%{x}<br>Aproveitamento (%)=%{y}<extra></extra>",
         "legendgroup": "São Paulo - SP",
         "marker": {
          "color": "#19d3f3",
          "pattern": {
           "shape": ""
          }
         },
         "name": "São Paulo - SP",
         "offsetgroup": "São Paulo - SP",
         "orientation": "v",
         "showlegend": true,
         "textposition": "auto",
         "type": "bar",
         "x": [
          "São Paulo - SP"
         ],
         "xaxis": "x",
         "y": [
          50.4
         ],
         "yaxis": "y"
        },
        {
         "alignmentgroup": "True",
         "hovertemplate": "Clube=%{x}<br>Aproveitamento (%)=%{y}<extra></extra>",
         "legendgroup": "Vasco da Gama - RJ",
         "marker": {
          "color": "#FF6692",
          "pattern": {
           "shape": ""
          }
         },
         "name": "Vasco da Gama - RJ",
         "offsetgroup": "Vasco da Gama - RJ",
         "orientation": "v",
         "showlegend": true,
         "textposition": "auto",
         "type": "bar",
         "x": [
          "Vasco da Gama - RJ"
         ],
         "xaxis": "x",
         "y": [
          40.6
         ],
         "yaxis": "y"
        },
        {
         "alignmentgroup": "True",
         "hovertemplate": "Clube=%{x}<br>Aproveitamento (%)=%{y}<extra></extra>",
         "legendgroup": "Vitória - BA",
         "marker": {
          "color": "#B6E880",
          "pattern": {
           "shape": ""
          }
         },
         "name": "Vitória - BA",
         "offsetgroup": "Vitória - BA",
         "orientation": "v",
         "showlegend": true,
         "textposition": "auto",
         "type": "bar",
         "x": [
          "Vitória - BA"
         ],
         "xaxis": "x",
         "y": [
          38.4
         ],
         "yaxis": "y"
        }
       ],
       "layout": {
        "barmode": "relative",
        "legend": {
         "title": {
          "text": "Clube"
         },
         "tracegroupgap": 0
        },
        "showlegend": false,
        "template": {
         "data": {
          "bar": [
           {
            "error_x": {
             "color": "#2a3f5f"
            },
            "error_y": {
             "color": "#2a3f5f"
            },
            "marker": {
             "line": {
              "color": "#E5ECF6",
              "width": 0.5
             },
             "pattern": {
              "fillmode": "overlay",
              "size": 10,
              "solidity": 0.2
             }
            },
            "type": "bar"
           }
          ],
          "barpolar": [
           {
            "marker": {
             "line": {
              "color": "#E5ECF6",
              "width": 0.5
             },
             "pattern": {
              "fillmode": "overlay",
              "size": 10,
              "solidity": 0.2
             }
            },
            "type": "barpolar"
           }
          ],
          "carpet": [
           {
            "aaxis": {
             "endlinecolor": "#2a3f5f",
             "gridcolor": "white",
             "linecolor": "white",
             "minorgridcolor": "white",
             "startlinecolor": "#2a3f5f"
            },
            "baxis": {
             "endlinecolor": "#2a3f5f",
             "gridcolor": "white",
             "linecolor": "white",
             "minorgridcolor": "white",
             "startlinecolor": "#2a3f5f"
            },
            "type": "carpet"
           }
          ],
          "choropleth": [
           {
            "colorbar": {
             "outlinewidth": 0,
             "ticks": ""
            },
            "type": "choropleth"
           }
          ],
          "contour": [
           {
            "colorbar": {
             "outlinewidth": 0,
             "ticks": ""
            },
            "colorscale": [
             [
              0,
              "#0d0887"
             ],
             [
              0.1111111111111111,
              "#46039f"
             ],
             [
              0.2222222222222222,
              "#7201a8"
             ],
             [
              0.3333333333333333,
              "#9c179e"
             ],
             [
              0.4444444444444444,
              "#bd3786"
             ],
             [
              0.5555555555555556,
              "#d8576b"
             ],
             [
              0.6666666666666666,
              "#ed7953"
             ],
             [
              0.7777777777777778,
              "#fb9f3a"
             ],
             [
              0.8888888888888888,
              "#fdca26"
             ],
             [
              1,
              "#f0f921"
             ]
            ],
            "type": "contour"
           }
          ],
          "contourcarpet": [
           {
            "colorbar": {
             "outlinewidth": 0,
             "ticks": ""
            },
            "type": "contourcarpet"
           }
          ],
          "heatmap": [
           {
            "colorbar": {
             "outlinewidth": 0,
             "ticks": ""
            },
            "colorscale": [
             [
              0,
              "#0d0887"
             ],
             [
              0.1111111111111111,
              "#46039f"
             ],
             [
              0.2222222222222222,
              "#7201a8"
             ],
             [
              0.3333333333333333,
              "#9c179e"
             ],
             [
              0.4444444444444444,
              "#bd3786"
             ],
             [
              0.5555555555555556,
              "#d8576b"
             ],
             [
              0.6666666666666666,
              "#ed7953"
             ],
             [
              0.7777777777777778,
              "#fb9f3a"
             ],
             [
              0.8888888888888888,
              "#fdca26"
             ],
             [
              1,
              "#f0f921"
             ]
            ],
            "type": "heatmap"
           }
          ],
          "heatmapgl": [
           {
            "colorbar": {
             "outlinewidth": 0,
             "ticks": ""
            },
            "colorscale": [
             [
              0,
              "#0d0887"
             ],
             [
              0.1111111111111111,
              "#46039f"
             ],
             [
              0.2222222222222222,
              "#7201a8"
             ],
             [
              0.3333333333333333,
              "#9c179e"
             ],
             [
              0.4444444444444444,
              "#bd3786"
             ],
             [
              0.5555555555555556,
              "#d8576b"
             ],
             [
              0.6666666666666666,
              "#ed7953"
             ],
             [
              0.7777777777777778,
              "#fb9f3a"
             ],
             [
              0.8888888888888888,
              "#fdca26"
             ],
             [
              1,
              "#f0f921"
             ]
            ],
            "type": "heatmapgl"
           }
          ],
          "histogram": [
           {
            "marker": {
             "pattern": {
              "fillmode": "overlay",
              "size": 10,
              "solidity": 0.2
             }
            },
            "type": "histogram"
           }
          ],
          "histogram2d": [
           {
            "colorbar": {
             "outlinewidth": 0,
             "ticks": ""
            },
            "colorscale": [
             [
              0,
              "#0d0887"
             ],
             [
              0.1111111111111111,
              "#46039f"
             ],
             [
              0.2222222222222222,
              "#7201a8"
             ],
             [
              0.3333333333333333,
              "#9c179e"
             ],
             [
              0.4444444444444444,
              "#bd3786"
             ],
             [
              0.5555555555555556,
              "#d8576b"
             ],
             [
              0.6666666666666666,
              "#ed7953"
             ],
             [
              0.7777777777777778,
              "#fb9f3a"
             ],
             [
              0.8888888888888888,
              "#fdca26"
             ],
             [
              1,
              "#f0f921"
             ]
            ],
            "type": "histogram2d"
           }
          ],
          "histogram2dcontour": [
           {
            "colorbar": {
             "outlinewidth": 0,
             "ticks": ""
            },
            "colorscale": [
             [
              0,
              "#0d0887"
             ],
             [
              0.1111111111111111,
              "#46039f"
             ],
             [
              0.2222222222222222,
              "#7201a8"
             ],
             [
              0.3333333333333333,
              "#9c179e"
             ],
             [
              0.4444444444444444,
              "#bd3786"
             ],
             [
              0.5555555555555556,
              "#d8576b"
             ],
             [
              0.6666666666666666,
              "#ed7953"
             ],
             [
              0.7777777777777778,
              "#fb9f3a"
             ],
             [
              0.8888888888888888,
              "#fdca26"
             ],
             [
              1,
              "#f0f921"
             ]
            ],
            "type": "histogram2dcontour"
           }
          ],
          "mesh3d": [
           {
            "colorbar": {
             "outlinewidth": 0,
             "ticks": ""
            },
            "type": "mesh3d"
           }
          ],
          "parcoords": [
           {
            "line": {
             "colorbar": {
              "outlinewidth": 0,
              "ticks": ""
             }
            },
            "type": "parcoords"
           }
          ],
          "pie": [
           {
            "automargin": true,
            "type": "pie"
           }
          ],
          "scatter": [
           {
            "fillpattern": {
             "fillmode": "overlay",
             "size": 10,
             "solidity": 0.2
            },
            "type": "scatter"
           }
          ],
          "scatter3d": [
           {
            "line": {
             "colorbar": {
              "outlinewidth": 0,
              "ticks": ""
             }
            },
            "marker": {
             "colorbar": {
              "outlinewidth": 0,
              "ticks": ""
             }
            },
            "type": "scatter3d"
           }
          ],
          "scattercarpet": [
           {
            "marker": {
             "colorbar": {
              "outlinewidth": 0,
              "ticks": ""
             }
            },
            "type": "scattercarpet"
           }
          ],
          "scattergeo": [
           {
            "marker": {
             "colorbar": {
              "outlinewidth": 0,
              "ticks": ""
             }
            },
            "type": "scattergeo"
           }
          ],
          "scattergl": [
           {
            "marker": {
             "colorbar": {
              "outlinewidth": 0,
              "ticks": ""
             }
            },
            "type": "scattergl"
           }
          ],
          "scattermapbox": [
           {
            "marker": {
             "colorbar": {
              "outlinewidth": 0,
              "ticks": ""
             }
            },
            "type": "scattermapbox"
           }
          ],
          "scatterpolar": [
           {
            "marker": {
             "colorbar": {
              "outlinewidth": 0,
              "ticks": ""
             }
            },
            "type": "scatterpolar"
           }
          ],
          "scatterpolargl": [
           {
            "marker": {
             "colorbar": {
              "outlinewidth": 0,
              "ticks": ""
             }
            },
            "type": "scatterpolargl"
           }
          ],
          "scatterternary": [
           {
            "marker": {
             "colorbar": {
              "outlinewidth": 0,
              "ticks": ""
             }
            },
            "type": "scatterternary"
           }
          ],
          "surface": [
           {
            "colorbar": {
             "outlinewidth": 0,
             "ticks": ""
            },
            "colorscale": [
             [
              0,
              "#0d0887"
             ],
             [
              0.1111111111111111,
              "#46039f"
             ],
             [
              0.2222222222222222,
              "#7201a8"
             ],
             [
              0.3333333333333333,
              "#9c179e"
             ],
             [
              0.4444444444444444,
              "#bd3786"
             ],
             [
              0.5555555555555556,
              "#d8576b"
             ],
             [
              0.6666666666666666,
              "#ed7953"
             ],
             [
              0.7777777777777778,
              "#fb9f3a"
             ],
             [
              0.8888888888888888,
              "#fdca26"
             ],
             [
              1,
              "#f0f921"
             ]
            ],
            "type": "surface"
           }
          ],
          "table": [
           {
            "cells": {
             "fill": {
              "color": "#EBF0F8"
             },
             "line": {
              "color": "white"
             }
            },
            "header": {
             "fill": {
              "color": "#C8D4E3"
             },
             "line": {
              "color": "white"
             }
            },
            "type": "table"
           }
          ]
         },
         "layout": {
          "annotationdefaults": {
           "arrowcolor": "#2a3f5f",
           "arrowhead": 0,
           "arrowwidth": 1
          },
          "autotypenumbers": "strict",
          "coloraxis": {
           "colorbar": {
            "outlinewidth": 0,
            "ticks": ""
           }
          },
          "colorscale": {
           "diverging": [
            [
             0,
             "#8e0152"
            ],
            [
             0.1,
             "#c51b7d"
            ],
            [
             0.2,
             "#de77ae"
            ],
            [
             0.3,
             "#f1b6da"
            ],
            [
             0.4,
             "#fde0ef"
            ],
            [
             0.5,
             "#f7f7f7"
            ],
            [
             0.6,
             "#e6f5d0"
            ],
            [
             0.7,
             "#b8e186"
            ],
            [
             0.8,
             "#7fbc41"
            ],
            [
             0.9,
             "#4d9221"
            ],
            [
             1,
             "#276419"
            ]
           ],
           "sequential": [
            [
             0,
             "#0d0887"
            ],
            [
             0.1111111111111111,
             "#46039f"
            ],
            [
             0.2222222222222222,
             "#7201a8"
            ],
            [
             0.3333333333333333,
             "#9c179e"
            ],
            [
             0.4444444444444444,
             "#bd3786"
            ],
            [
             0.5555555555555556,
             "#d8576b"
            ],
            [
             0.6666666666666666,
             "#ed7953"
            ],
            [
             0.7777777777777778,
             "#fb9f3a"
            ],
            [
             0.8888888888888888,
             "#fdca26"
            ],
            [
             1,
             "#f0f921"
            ]
           ],
           "sequentialminus": [
            [
             0,
             "#0d0887"
            ],
            [
             0.1111111111111111,
             "#46039f"
            ],
            [
             0.2222222222222222,
             "#7201a8"
            ],
            [
             0.3333333333333333,
             "#9c179e"
            ],
            [
             0.4444444444444444,
             "#bd3786"
            ],
            [
             0.5555555555555556,
             "#d8576b"
            ],
            [
             0.6666666666666666,
             "#ed7953"
            ],
            [
             0.7777777777777778,
             "#fb9f3a"
            ],
            [
             0.8888888888888888,
             "#fdca26"
            ],
            [
             1,
             "#f0f921"
            ]
           ]
          },
          "colorway": [
           "#636efa",
           "#EF553B",
           "#00cc96",
           "#ab63fa",
           "#FFA15A",
           "#19d3f3",
           "#FF6692",
           "#B6E880",
           "#FF97FF",
           "#FECB52"
          ],
          "font": {
           "color": "#2a3f5f"
          },
          "geo": {
           "bgcolor": "white",
           "lakecolor": "white",
           "landcolor": "#E5ECF6",
           "showlakes": true,
           "showland": true,
           "subunitcolor": "white"
          },
          "hoverlabel": {
           "align": "left"
          },
          "hovermode": "closest",
          "mapbox": {
           "style": "light"
          },
          "paper_bgcolor": "white",
          "plot_bgcolor": "#E5ECF6",
          "polar": {
           "angularaxis": {
            "gridcolor": "white",
            "linecolor": "white",
            "ticks": ""
           },
           "bgcolor": "#E5ECF6",
           "radialaxis": {
            "gridcolor": "white",
            "linecolor": "white",
            "ticks": ""
           }
          },
          "scene": {
           "xaxis": {
            "backgroundcolor": "#E5ECF6",
            "gridcolor": "white",
            "gridwidth": 2,
            "linecolor": "white",
            "showbackground": true,
            "ticks": "",
            "zerolinecolor": "white"
           },
           "yaxis": {
            "backgroundcolor": "#E5ECF6",
            "gridcolor": "white",
            "gridwidth": 2,
            "linecolor": "white",
            "showbackground": true,
            "ticks": "",
            "zerolinecolor": "white"
           },
           "zaxis": {
            "backgroundcolor": "#E5ECF6",
            "gridcolor": "white",
            "gridwidth": 2,
            "linecolor": "white",
            "showbackground": true,
            "ticks": "",
            "zerolinecolor": "white"
           }
          },
          "shapedefaults": {
           "line": {
            "color": "#2a3f5f"
           }
          },
          "ternary": {
           "aaxis": {
            "gridcolor": "white",
            "linecolor": "white",
            "ticks": ""
           },
           "baxis": {
            "gridcolor": "white",
            "linecolor": "white",
            "ticks": ""
           },
           "bgcolor": "#E5ECF6",
           "caxis": {
            "gridcolor": "white",
            "linecolor": "white",
            "ticks": ""
           }
          },
          "title": {
           "x": 0.05
          },
          "xaxis": {
           "automargin": true,
           "gridcolor": "white",
           "linecolor": "white",
           "ticks": "",
           "title": {
            "standoff": 15
           },
           "zerolinecolor": "white",
           "zerolinewidth": 2
          },
          "yaxis": {
           "automargin": true,
           "gridcolor": "white",
           "linecolor": "white",
           "ticks": "",
           "title": {
            "standoff": 15
           },
           "zerolinecolor": "white",
           "zerolinewidth": 2
          }
         }
        },
        "title": {
         "text": "Média de Aproveitamento (%) por Clube"
        },
        "xaxis": {
         "anchor": "y",
         "categoryarray": [
          "América - MG",
          "Athletico Paranaense - PR",
          "Atlético Goianiense - GO",
          "Atlético Mineiro - MG",
          "Avaí - SC",
          "Bahia - BA",
          "Botafogo - RJ",
          "Ceará - CE",
          "Chapecoense - SC",
          "Corinthians - SP",
          "Coritiba - PR",
          "Cruzeiro - MG",
          "Cuiabá - MT",
          "Figueirense - SC",
          "Flamengo - RJ",
          "Fluminense - RJ",
          "Fortaleza - CE",
          "Goiás - GO",
          "Grêmio - RS",
          "Internacional - RS",
          "Palmeiras - SP",
          "Ponte Preta - SP",
          "Red Bull Bragantino - SP",
          "Santos - SP",
          "Sport - PE",
          "São Paulo - SP",
          "Vasco da Gama - RJ",
          "Vitória - BA"
         ],
         "categoryorder": "array",
         "domain": [
          0,
          1
         ],
         "title": {
          "text": ""
         }
        },
        "yaxis": {
         "anchor": "x",
         "domain": [
          0,
          1
         ],
         "title": {
          "text": "Média de Aproveitamento (%)"
         }
        }
       }
      }
     },
     "metadata": {},
     "output_type": "display_data"
    }
   ],
   "source": [
    "media_de_equipe_da_estatistica('Aproveitamento (%)')"
   ]
  },
  {
   "cell_type": "markdown",
   "metadata": {},
   "source": [
    "<h2>30 - Agrupar os times pelo TOTAL de cada estado</h2>"
   ]
  },
  {
   "cell_type": "code",
   "execution_count": 72,
   "metadata": {},
   "outputs": [
    {
     "data": {
      "text/html": [
       "<div>\n",
       "<style scoped>\n",
       "    .dataframe tbody tr th:only-of-type {\n",
       "        vertical-align: middle;\n",
       "    }\n",
       "\n",
       "    .dataframe tbody tr th {\n",
       "        vertical-align: top;\n",
       "    }\n",
       "\n",
       "    .dataframe thead th {\n",
       "        text-align: right;\n",
       "    }\n",
       "</style>\n",
       "<table border=\"1\" class=\"dataframe\">\n",
       "  <thead>\n",
       "    <tr style=\"text-align: right;\">\n",
       "      <th></th>\n",
       "      <th>Ano</th>\n",
       "      <th>Colocação</th>\n",
       "      <th>Clube</th>\n",
       "      <th>Pontos</th>\n",
       "      <th>Vitórias</th>\n",
       "      <th>Empates</th>\n",
       "      <th>Derrotas</th>\n",
       "      <th>Gols Feitos</th>\n",
       "      <th>Gols Sofridos</th>\n",
       "      <th>Saldos de Gols</th>\n",
       "      <th>Cartões Amarelos</th>\n",
       "      <th>Cartões Vermelhos</th>\n",
       "      <th>Aproveitamento (%)</th>\n",
       "      <th>Estado</th>\n",
       "    </tr>\n",
       "  </thead>\n",
       "  <tbody>\n",
       "    <tr>\n",
       "      <th>0</th>\n",
       "      <td>2012</td>\n",
       "      <td>1</td>\n",
       "      <td>Fluminense - RJ</td>\n",
       "      <td>77</td>\n",
       "      <td>22</td>\n",
       "      <td>11</td>\n",
       "      <td>5</td>\n",
       "      <td>61</td>\n",
       "      <td>33</td>\n",
       "      <td>28</td>\n",
       "      <td>85</td>\n",
       "      <td>3</td>\n",
       "      <td>67</td>\n",
       "      <td>RJ</td>\n",
       "    </tr>\n",
       "    <tr>\n",
       "      <th>1</th>\n",
       "      <td>2012</td>\n",
       "      <td>2</td>\n",
       "      <td>Atlético Mineiro - MG</td>\n",
       "      <td>72</td>\n",
       "      <td>20</td>\n",
       "      <td>12</td>\n",
       "      <td>6</td>\n",
       "      <td>64</td>\n",
       "      <td>37</td>\n",
       "      <td>27</td>\n",
       "      <td>104</td>\n",
       "      <td>10</td>\n",
       "      <td>63</td>\n",
       "      <td>MG</td>\n",
       "    </tr>\n",
       "    <tr>\n",
       "      <th>2</th>\n",
       "      <td>2012</td>\n",
       "      <td>3</td>\n",
       "      <td>Grêmio - RS</td>\n",
       "      <td>71</td>\n",
       "      <td>20</td>\n",
       "      <td>11</td>\n",
       "      <td>7</td>\n",
       "      <td>56</td>\n",
       "      <td>33</td>\n",
       "      <td>23</td>\n",
       "      <td>102</td>\n",
       "      <td>9</td>\n",
       "      <td>62</td>\n",
       "      <td>RS</td>\n",
       "    </tr>\n",
       "    <tr>\n",
       "      <th>3</th>\n",
       "      <td>2012</td>\n",
       "      <td>4</td>\n",
       "      <td>São Paulo - SP</td>\n",
       "      <td>66</td>\n",
       "      <td>20</td>\n",
       "      <td>6</td>\n",
       "      <td>12</td>\n",
       "      <td>59</td>\n",
       "      <td>37</td>\n",
       "      <td>22</td>\n",
       "      <td>93</td>\n",
       "      <td>6</td>\n",
       "      <td>57</td>\n",
       "      <td>SP</td>\n",
       "    </tr>\n",
       "    <tr>\n",
       "      <th>4</th>\n",
       "      <td>2012</td>\n",
       "      <td>5</td>\n",
       "      <td>Vasco da Gama - RJ</td>\n",
       "      <td>58</td>\n",
       "      <td>16</td>\n",
       "      <td>10</td>\n",
       "      <td>12</td>\n",
       "      <td>45</td>\n",
       "      <td>44</td>\n",
       "      <td>1</td>\n",
       "      <td>91</td>\n",
       "      <td>3</td>\n",
       "      <td>50</td>\n",
       "      <td>RJ</td>\n",
       "    </tr>\n",
       "    <tr>\n",
       "      <th>...</th>\n",
       "      <td>...</td>\n",
       "      <td>...</td>\n",
       "      <td>...</td>\n",
       "      <td>...</td>\n",
       "      <td>...</td>\n",
       "      <td>...</td>\n",
       "      <td>...</td>\n",
       "      <td>...</td>\n",
       "      <td>...</td>\n",
       "      <td>...</td>\n",
       "      <td>...</td>\n",
       "      <td>...</td>\n",
       "      <td>...</td>\n",
       "      <td>...</td>\n",
       "    </tr>\n",
       "    <tr>\n",
       "      <th>235</th>\n",
       "      <td>2023</td>\n",
       "      <td>16</td>\n",
       "      <td>Bahia - BA</td>\n",
       "      <td>44</td>\n",
       "      <td>12</td>\n",
       "      <td>8</td>\n",
       "      <td>18</td>\n",
       "      <td>50</td>\n",
       "      <td>53</td>\n",
       "      <td>-3</td>\n",
       "      <td>96</td>\n",
       "      <td>8</td>\n",
       "      <td>38</td>\n",
       "      <td>BA</td>\n",
       "    </tr>\n",
       "    <tr>\n",
       "      <th>236</th>\n",
       "      <td>2023</td>\n",
       "      <td>17</td>\n",
       "      <td>Santos - SP</td>\n",
       "      <td>43</td>\n",
       "      <td>11</td>\n",
       "      <td>10</td>\n",
       "      <td>17</td>\n",
       "      <td>39</td>\n",
       "      <td>64</td>\n",
       "      <td>-25</td>\n",
       "      <td>103</td>\n",
       "      <td>9</td>\n",
       "      <td>37</td>\n",
       "      <td>SP</td>\n",
       "    </tr>\n",
       "    <tr>\n",
       "      <th>237</th>\n",
       "      <td>2023</td>\n",
       "      <td>18</td>\n",
       "      <td>Goiás - GO</td>\n",
       "      <td>38</td>\n",
       "      <td>9</td>\n",
       "      <td>11</td>\n",
       "      <td>18</td>\n",
       "      <td>36</td>\n",
       "      <td>53</td>\n",
       "      <td>-17</td>\n",
       "      <td>108</td>\n",
       "      <td>8</td>\n",
       "      <td>33</td>\n",
       "      <td>GO</td>\n",
       "    </tr>\n",
       "    <tr>\n",
       "      <th>238</th>\n",
       "      <td>2023</td>\n",
       "      <td>19</td>\n",
       "      <td>Coritiba - PR</td>\n",
       "      <td>30</td>\n",
       "      <td>8</td>\n",
       "      <td>6</td>\n",
       "      <td>24</td>\n",
       "      <td>41</td>\n",
       "      <td>73</td>\n",
       "      <td>-32</td>\n",
       "      <td>68</td>\n",
       "      <td>6</td>\n",
       "      <td>26</td>\n",
       "      <td>PR</td>\n",
       "    </tr>\n",
       "    <tr>\n",
       "      <th>239</th>\n",
       "      <td>2023</td>\n",
       "      <td>20</td>\n",
       "      <td>América - MG</td>\n",
       "      <td>24</td>\n",
       "      <td>5</td>\n",
       "      <td>9</td>\n",
       "      <td>24</td>\n",
       "      <td>42</td>\n",
       "      <td>81</td>\n",
       "      <td>-39</td>\n",
       "      <td>86</td>\n",
       "      <td>11</td>\n",
       "      <td>21</td>\n",
       "      <td>MG</td>\n",
       "    </tr>\n",
       "  </tbody>\n",
       "</table>\n",
       "<p>240 rows × 14 columns</p>\n",
       "</div>"
      ],
      "text/plain": [
       "      Ano  Colocação                  Clube  Pontos  Vitórias  Empates  \\\n",
       "0    2012          1        Fluminense - RJ      77        22       11   \n",
       "1    2012          2  Atlético Mineiro - MG      72        20       12   \n",
       "2    2012          3            Grêmio - RS      71        20       11   \n",
       "3    2012          4         São Paulo - SP      66        20        6   \n",
       "4    2012          5     Vasco da Gama - RJ      58        16       10   \n",
       "..    ...        ...                    ...     ...       ...      ...   \n",
       "235  2023         16             Bahia - BA      44        12        8   \n",
       "236  2023         17            Santos - SP      43        11       10   \n",
       "237  2023         18             Goiás - GO      38         9       11   \n",
       "238  2023         19          Coritiba - PR      30         8        6   \n",
       "239  2023         20           América - MG      24         5        9   \n",
       "\n",
       "     Derrotas  Gols Feitos  Gols Sofridos  Saldos de Gols  Cartões Amarelos  \\\n",
       "0           5           61             33              28                85   \n",
       "1           6           64             37              27               104   \n",
       "2           7           56             33              23               102   \n",
       "3          12           59             37              22                93   \n",
       "4          12           45             44               1                91   \n",
       "..        ...          ...            ...             ...               ...   \n",
       "235        18           50             53              -3                96   \n",
       "236        17           39             64             -25               103   \n",
       "237        18           36             53             -17               108   \n",
       "238        24           41             73             -32                68   \n",
       "239        24           42             81             -39                86   \n",
       "\n",
       "     Cartões Vermelhos  Aproveitamento (%) Estado  \n",
       "0                    3                  67     RJ  \n",
       "1                   10                  63     MG  \n",
       "2                    9                  62     RS  \n",
       "3                    6                  57     SP  \n",
       "4                    3                  50     RJ  \n",
       "..                 ...                 ...    ...  \n",
       "235                  8                  38     BA  \n",
       "236                  9                  37     SP  \n",
       "237                  8                  33     GO  \n",
       "238                  6                  26     PR  \n",
       "239                 11                  21     MG  \n",
       "\n",
       "[240 rows x 14 columns]"
      ]
     },
     "execution_count": 72,
     "metadata": {},
     "output_type": "execute_result"
    }
   ],
   "source": [
    "df_com_estados = df.copy()\n",
    "df_com_estados['Estado'] = df['Clube'].apply(lambda x: x[-2:])\n",
    "df_com_estados"
   ]
  },
  {
   "cell_type": "code",
   "execution_count": 73,
   "metadata": {},
   "outputs": [
    {
     "data": {
      "text/html": [
       "<div>\n",
       "<style scoped>\n",
       "    .dataframe tbody tr th:only-of-type {\n",
       "        vertical-align: middle;\n",
       "    }\n",
       "\n",
       "    .dataframe tbody tr th {\n",
       "        vertical-align: top;\n",
       "    }\n",
       "\n",
       "    .dataframe thead th {\n",
       "        text-align: right;\n",
       "    }\n",
       "</style>\n",
       "<table border=\"1\" class=\"dataframe\">\n",
       "  <thead>\n",
       "    <tr style=\"text-align: right;\">\n",
       "      <th></th>\n",
       "      <th>Pontos</th>\n",
       "      <th>Vitórias</th>\n",
       "      <th>Empates</th>\n",
       "      <th>Derrotas</th>\n",
       "      <th>Gols Feitos</th>\n",
       "      <th>Gols Sofridos</th>\n",
       "      <th>Saldos de Gols</th>\n",
       "      <th>Cartões Amarelos</th>\n",
       "      <th>Cartões Vermelhos</th>\n",
       "    </tr>\n",
       "    <tr>\n",
       "      <th>Estado</th>\n",
       "      <th></th>\n",
       "      <th></th>\n",
       "      <th></th>\n",
       "      <th></th>\n",
       "      <th></th>\n",
       "      <th></th>\n",
       "      <th></th>\n",
       "      <th></th>\n",
       "      <th></th>\n",
       "    </tr>\n",
       "  </thead>\n",
       "  <tbody>\n",
       "    <tr>\n",
       "      <th>AL</th>\n",
       "      <td>32</td>\n",
       "      <td>8</td>\n",
       "      <td>8</td>\n",
       "      <td>22</td>\n",
       "      <td>24</td>\n",
       "      <td>58</td>\n",
       "      <td>-34</td>\n",
       "      <td>90</td>\n",
       "      <td>4</td>\n",
       "    </tr>\n",
       "    <tr>\n",
       "      <th>BA</th>\n",
       "      <td>632</td>\n",
       "      <td>162</td>\n",
       "      <td>146</td>\n",
       "      <td>224</td>\n",
       "      <td>611</td>\n",
       "      <td>705</td>\n",
       "      <td>-94</td>\n",
       "      <td>1275</td>\n",
       "      <td>77</td>\n",
       "    </tr>\n",
       "    <tr>\n",
       "      <th>CE</th>\n",
       "      <td>483</td>\n",
       "      <td>124</td>\n",
       "      <td>111</td>\n",
       "      <td>145</td>\n",
       "      <td>414</td>\n",
       "      <td>430</td>\n",
       "      <td>-16</td>\n",
       "      <td>934</td>\n",
       "      <td>72</td>\n",
       "    </tr>\n",
       "    <tr>\n",
       "      <th>GO</th>\n",
       "      <td>522</td>\n",
       "      <td>132</td>\n",
       "      <td>126</td>\n",
       "      <td>198</td>\n",
       "      <td>475</td>\n",
       "      <td>627</td>\n",
       "      <td>-152</td>\n",
       "      <td>1131</td>\n",
       "      <td>70</td>\n",
       "    </tr>\n",
       "    <tr>\n",
       "      <th>MG</th>\n",
       "      <td>1464</td>\n",
       "      <td>402</td>\n",
       "      <td>258</td>\n",
       "      <td>328</td>\n",
       "      <td>1272</td>\n",
       "      <td>1126</td>\n",
       "      <td>146</td>\n",
       "      <td>2272</td>\n",
       "      <td>137</td>\n",
       "    </tr>\n",
       "    <tr>\n",
       "      <th>MT</th>\n",
       "      <td>139</td>\n",
       "      <td>34</td>\n",
       "      <td>37</td>\n",
       "      <td>43</td>\n",
       "      <td>105</td>\n",
       "      <td>118</td>\n",
       "      <td>-13</td>\n",
       "      <td>268</td>\n",
       "      <td>22</td>\n",
       "    </tr>\n",
       "    <tr>\n",
       "      <th>PE</th>\n",
       "      <td>463</td>\n",
       "      <td>123</td>\n",
       "      <td>97</td>\n",
       "      <td>198</td>\n",
       "      <td>424</td>\n",
       "      <td>596</td>\n",
       "      <td>-172</td>\n",
       "      <td>919</td>\n",
       "      <td>54</td>\n",
       "    </tr>\n",
       "    <tr>\n",
       "      <th>PR</th>\n",
       "      <td>1014</td>\n",
       "      <td>272</td>\n",
       "      <td>198</td>\n",
       "      <td>328</td>\n",
       "      <td>897</td>\n",
       "      <td>984</td>\n",
       "      <td>-87</td>\n",
       "      <td>1924</td>\n",
       "      <td>105</td>\n",
       "    </tr>\n",
       "    <tr>\n",
       "      <th>RJ</th>\n",
       "      <td>2295</td>\n",
       "      <td>631</td>\n",
       "      <td>406</td>\n",
       "      <td>559</td>\n",
       "      <td>2004</td>\n",
       "      <td>1884</td>\n",
       "      <td>120</td>\n",
       "      <td>3707</td>\n",
       "      <td>237</td>\n",
       "    </tr>\n",
       "    <tr>\n",
       "      <th>RS</th>\n",
       "      <td>1393</td>\n",
       "      <td>380</td>\n",
       "      <td>253</td>\n",
       "      <td>279</td>\n",
       "      <td>1145</td>\n",
       "      <td>962</td>\n",
       "      <td>183</td>\n",
       "      <td>2270</td>\n",
       "      <td>134</td>\n",
       "    </tr>\n",
       "    <tr>\n",
       "      <th>SC</th>\n",
       "      <td>693</td>\n",
       "      <td>169</td>\n",
       "      <td>186</td>\n",
       "      <td>329</td>\n",
       "      <td>625</td>\n",
       "      <td>978</td>\n",
       "      <td>-353</td>\n",
       "      <td>1640</td>\n",
       "      <td>101</td>\n",
       "    </tr>\n",
       "    <tr>\n",
       "      <th>SP</th>\n",
       "      <td>3308</td>\n",
       "      <td>894</td>\n",
       "      <td>630</td>\n",
       "      <td>680</td>\n",
       "      <td>2811</td>\n",
       "      <td>2345</td>\n",
       "      <td>466</td>\n",
       "      <td>5129</td>\n",
       "      <td>303</td>\n",
       "    </tr>\n",
       "  </tbody>\n",
       "</table>\n",
       "</div>"
      ],
      "text/plain": [
       "        Pontos  Vitórias  Empates  Derrotas  Gols Feitos  Gols Sofridos  \\\n",
       "Estado                                                                    \n",
       "AL          32         8        8        22           24             58   \n",
       "BA         632       162      146       224          611            705   \n",
       "CE         483       124      111       145          414            430   \n",
       "GO         522       132      126       198          475            627   \n",
       "MG        1464       402      258       328         1272           1126   \n",
       "MT         139        34       37        43          105            118   \n",
       "PE         463       123       97       198          424            596   \n",
       "PR        1014       272      198       328          897            984   \n",
       "RJ        2295       631      406       559         2004           1884   \n",
       "RS        1393       380      253       279         1145            962   \n",
       "SC         693       169      186       329          625            978   \n",
       "SP        3308       894      630       680         2811           2345   \n",
       "\n",
       "        Saldos de Gols  Cartões Amarelos  Cartões Vermelhos  \n",
       "Estado                                                       \n",
       "AL                 -34                90                  4  \n",
       "BA                 -94              1275                 77  \n",
       "CE                 -16               934                 72  \n",
       "GO                -152              1131                 70  \n",
       "MG                 146              2272                137  \n",
       "MT                 -13               268                 22  \n",
       "PE                -172               919                 54  \n",
       "PR                 -87              1924                105  \n",
       "RJ                 120              3707                237  \n",
       "RS                 183              2270                134  \n",
       "SC                -353              1640                101  \n",
       "SP                 466              5129                303  "
      ]
     },
     "execution_count": 73,
     "metadata": {},
     "output_type": "execute_result"
    }
   ],
   "source": [
    "soma_infos_por_estados = df_com_estados.groupby('Estado').sum().drop(columns=['Clube', 'Ano', 'Colocação', 'Aproveitamento (%)'])\n",
    "soma_infos_por_estados.index.name = 'Estado'\n",
    "soma_infos_por_estados"
   ]
  },
  {
   "cell_type": "markdown",
   "metadata": {},
   "source": [
    "<h2>31 - Agrupar os times pela MÉDIA de cada estado</h2>"
   ]
  },
  {
   "cell_type": "code",
   "execution_count": 74,
   "metadata": {},
   "outputs": [
    {
     "data": {
      "text/html": [
       "<div>\n",
       "<style scoped>\n",
       "    .dataframe tbody tr th:only-of-type {\n",
       "        vertical-align: middle;\n",
       "    }\n",
       "\n",
       "    .dataframe tbody tr th {\n",
       "        vertical-align: top;\n",
       "    }\n",
       "\n",
       "    .dataframe thead th {\n",
       "        text-align: right;\n",
       "    }\n",
       "</style>\n",
       "<table border=\"1\" class=\"dataframe\">\n",
       "  <thead>\n",
       "    <tr style=\"text-align: right;\">\n",
       "      <th></th>\n",
       "      <th>Pontos</th>\n",
       "      <th>Vitórias</th>\n",
       "      <th>Empates</th>\n",
       "      <th>Derrotas</th>\n",
       "      <th>Gols Feitos</th>\n",
       "      <th>Gols Sofridos</th>\n",
       "      <th>Saldos de Gols</th>\n",
       "      <th>Cartões Amarelos</th>\n",
       "      <th>Cartões Vermelhos</th>\n",
       "      <th>Aproveitamento (%)</th>\n",
       "    </tr>\n",
       "    <tr>\n",
       "      <th>Estado</th>\n",
       "      <th></th>\n",
       "      <th></th>\n",
       "      <th></th>\n",
       "      <th></th>\n",
       "      <th></th>\n",
       "      <th></th>\n",
       "      <th></th>\n",
       "      <th></th>\n",
       "      <th></th>\n",
       "      <th></th>\n",
       "    </tr>\n",
       "  </thead>\n",
       "  <tbody>\n",
       "    <tr>\n",
       "      <th>AL</th>\n",
       "      <td>32.0</td>\n",
       "      <td>8.0</td>\n",
       "      <td>8.0</td>\n",
       "      <td>22.0</td>\n",
       "      <td>24.0</td>\n",
       "      <td>58.0</td>\n",
       "      <td>-34.0</td>\n",
       "      <td>90.0</td>\n",
       "      <td>4.0</td>\n",
       "      <td>28.0</td>\n",
       "    </tr>\n",
       "    <tr>\n",
       "      <th>BA</th>\n",
       "      <td>45.1</td>\n",
       "      <td>11.6</td>\n",
       "      <td>10.4</td>\n",
       "      <td>16.0</td>\n",
       "      <td>43.6</td>\n",
       "      <td>50.4</td>\n",
       "      <td>-6.7</td>\n",
       "      <td>91.1</td>\n",
       "      <td>5.5</td>\n",
       "      <td>39.1</td>\n",
       "    </tr>\n",
       "    <tr>\n",
       "      <th>CE</th>\n",
       "      <td>48.3</td>\n",
       "      <td>12.4</td>\n",
       "      <td>11.1</td>\n",
       "      <td>14.5</td>\n",
       "      <td>41.4</td>\n",
       "      <td>43.0</td>\n",
       "      <td>-1.6</td>\n",
       "      <td>93.4</td>\n",
       "      <td>7.2</td>\n",
       "      <td>41.8</td>\n",
       "    </tr>\n",
       "    <tr>\n",
       "      <th>GO</th>\n",
       "      <td>43.5</td>\n",
       "      <td>11.0</td>\n",
       "      <td>10.5</td>\n",
       "      <td>16.5</td>\n",
       "      <td>39.6</td>\n",
       "      <td>52.2</td>\n",
       "      <td>-12.7</td>\n",
       "      <td>94.2</td>\n",
       "      <td>5.8</td>\n",
       "      <td>37.7</td>\n",
       "    </tr>\n",
       "    <tr>\n",
       "      <th>MG</th>\n",
       "      <td>56.3</td>\n",
       "      <td>15.5</td>\n",
       "      <td>9.9</td>\n",
       "      <td>12.6</td>\n",
       "      <td>48.9</td>\n",
       "      <td>43.3</td>\n",
       "      <td>5.6</td>\n",
       "      <td>87.4</td>\n",
       "      <td>5.3</td>\n",
       "      <td>49.0</td>\n",
       "    </tr>\n",
       "    <tr>\n",
       "      <th>MT</th>\n",
       "      <td>46.3</td>\n",
       "      <td>11.3</td>\n",
       "      <td>12.3</td>\n",
       "      <td>14.3</td>\n",
       "      <td>35.0</td>\n",
       "      <td>39.3</td>\n",
       "      <td>-4.3</td>\n",
       "      <td>89.3</td>\n",
       "      <td>7.3</td>\n",
       "      <td>40.0</td>\n",
       "    </tr>\n",
       "    <tr>\n",
       "      <th>PE</th>\n",
       "      <td>42.1</td>\n",
       "      <td>11.2</td>\n",
       "      <td>8.8</td>\n",
       "      <td>18.0</td>\n",
       "      <td>38.5</td>\n",
       "      <td>54.2</td>\n",
       "      <td>-15.6</td>\n",
       "      <td>83.5</td>\n",
       "      <td>4.9</td>\n",
       "      <td>36.5</td>\n",
       "    </tr>\n",
       "    <tr>\n",
       "      <th>PR</th>\n",
       "      <td>48.3</td>\n",
       "      <td>13.0</td>\n",
       "      <td>9.4</td>\n",
       "      <td>15.6</td>\n",
       "      <td>42.7</td>\n",
       "      <td>46.9</td>\n",
       "      <td>-4.1</td>\n",
       "      <td>91.6</td>\n",
       "      <td>5.0</td>\n",
       "      <td>42.0</td>\n",
       "    </tr>\n",
       "    <tr>\n",
       "      <th>RJ</th>\n",
       "      <td>54.6</td>\n",
       "      <td>15.0</td>\n",
       "      <td>9.7</td>\n",
       "      <td>13.3</td>\n",
       "      <td>47.7</td>\n",
       "      <td>44.9</td>\n",
       "      <td>2.9</td>\n",
       "      <td>88.3</td>\n",
       "      <td>5.6</td>\n",
       "      <td>47.4</td>\n",
       "    </tr>\n",
       "    <tr>\n",
       "      <th>RS</th>\n",
       "      <td>58.0</td>\n",
       "      <td>15.8</td>\n",
       "      <td>10.5</td>\n",
       "      <td>11.6</td>\n",
       "      <td>47.7</td>\n",
       "      <td>40.1</td>\n",
       "      <td>7.6</td>\n",
       "      <td>94.6</td>\n",
       "      <td>5.6</td>\n",
       "      <td>50.5</td>\n",
       "    </tr>\n",
       "    <tr>\n",
       "      <th>SC</th>\n",
       "      <td>38.5</td>\n",
       "      <td>9.4</td>\n",
       "      <td>10.3</td>\n",
       "      <td>18.3</td>\n",
       "      <td>34.7</td>\n",
       "      <td>54.3</td>\n",
       "      <td>-19.6</td>\n",
       "      <td>91.1</td>\n",
       "      <td>5.6</td>\n",
       "      <td>33.4</td>\n",
       "    </tr>\n",
       "    <tr>\n",
       "      <th>SP</th>\n",
       "      <td>57.0</td>\n",
       "      <td>15.4</td>\n",
       "      <td>10.9</td>\n",
       "      <td>11.7</td>\n",
       "      <td>48.5</td>\n",
       "      <td>40.4</td>\n",
       "      <td>8.0</td>\n",
       "      <td>88.4</td>\n",
       "      <td>5.2</td>\n",
       "      <td>49.6</td>\n",
       "    </tr>\n",
       "  </tbody>\n",
       "</table>\n",
       "</div>"
      ],
      "text/plain": [
       "        Pontos  Vitórias  Empates  Derrotas  Gols Feitos  Gols Sofridos  \\\n",
       "Estado                                                                    \n",
       "AL        32.0       8.0      8.0      22.0         24.0           58.0   \n",
       "BA        45.1      11.6     10.4      16.0         43.6           50.4   \n",
       "CE        48.3      12.4     11.1      14.5         41.4           43.0   \n",
       "GO        43.5      11.0     10.5      16.5         39.6           52.2   \n",
       "MG        56.3      15.5      9.9      12.6         48.9           43.3   \n",
       "MT        46.3      11.3     12.3      14.3         35.0           39.3   \n",
       "PE        42.1      11.2      8.8      18.0         38.5           54.2   \n",
       "PR        48.3      13.0      9.4      15.6         42.7           46.9   \n",
       "RJ        54.6      15.0      9.7      13.3         47.7           44.9   \n",
       "RS        58.0      15.8     10.5      11.6         47.7           40.1   \n",
       "SC        38.5       9.4     10.3      18.3         34.7           54.3   \n",
       "SP        57.0      15.4     10.9      11.7         48.5           40.4   \n",
       "\n",
       "        Saldos de Gols  Cartões Amarelos  Cartões Vermelhos  \\\n",
       "Estado                                                        \n",
       "AL               -34.0              90.0                4.0   \n",
       "BA                -6.7              91.1                5.5   \n",
       "CE                -1.6              93.4                7.2   \n",
       "GO               -12.7              94.2                5.8   \n",
       "MG                 5.6              87.4                5.3   \n",
       "MT                -4.3              89.3                7.3   \n",
       "PE               -15.6              83.5                4.9   \n",
       "PR                -4.1              91.6                5.0   \n",
       "RJ                 2.9              88.3                5.6   \n",
       "RS                 7.6              94.6                5.6   \n",
       "SC               -19.6              91.1                5.6   \n",
       "SP                 8.0              88.4                5.2   \n",
       "\n",
       "        Aproveitamento (%)  \n",
       "Estado                      \n",
       "AL                    28.0  \n",
       "BA                    39.1  \n",
       "CE                    41.8  \n",
       "GO                    37.7  \n",
       "MG                    49.0  \n",
       "MT                    40.0  \n",
       "PE                    36.5  \n",
       "PR                    42.0  \n",
       "RJ                    47.4  \n",
       "RS                    50.5  \n",
       "SC                    33.4  \n",
       "SP                    49.6  "
      ]
     },
     "execution_count": 74,
     "metadata": {},
     "output_type": "execute_result"
    }
   ],
   "source": [
    "media_infos_por_estados = df_com_estados.groupby('Estado').mean(numeric_only=True).drop(columns=['Ano', 'Colocação']).round(1)\n",
    "media_infos_por_estados.index.name = \"Estado\"\n",
    "media_infos_por_estados"
   ]
  },
  {
   "cell_type": "markdown",
   "metadata": {},
   "source": [
    "<h2>32 - Agrupar os times pelo TOTAL de CADA REGIÃO</h2>"
   ]
  },
  {
   "cell_type": "code",
   "execution_count": 75,
   "metadata": {},
   "outputs": [],
   "source": [
    "regioes = {\n",
    "    \"Norte\": [\"AC\", \"AM\", \"AP\", \"PA\", \"RO\", \"RR\", \"TO\"],\n",
    "    \"Nordeste\": [\"AL\", \"BA\", \"CE\", \"MA\", \"PB\", \"PE\", \"PI\", \"RN\", \"SE\"],\n",
    "    \"Centro-Oeste\": [\"DF\", \"GO\", \"MS\", \"MT\"],\n",
    "    \"Sudeste\": [\"SP\", \"RJ\", \"ES\", \"MG\"],\n",
    "    \"Sul\": [\"RS\", \"PR\", \"SC\"]\n",
    "}"
   ]
  },
  {
   "cell_type": "code",
   "execution_count": 76,
   "metadata": {},
   "outputs": [],
   "source": [
    "def atribuir_regiao(x):\n",
    "    for regiao in regioes.keys():\n",
    "        if x in regioes[regiao]:\n",
    "            return regiao"
   ]
  },
  {
   "cell_type": "code",
   "execution_count": 77,
   "metadata": {},
   "outputs": [],
   "source": [
    "df_com_estados['Região'] = df_com_estados['Estado'].apply(lambda x: atribuir_regiao(x))"
   ]
  },
  {
   "cell_type": "code",
   "execution_count": 78,
   "metadata": {},
   "outputs": [
    {
     "data": {
      "text/html": [
       "<div>\n",
       "<style scoped>\n",
       "    .dataframe tbody tr th:only-of-type {\n",
       "        vertical-align: middle;\n",
       "    }\n",
       "\n",
       "    .dataframe tbody tr th {\n",
       "        vertical-align: top;\n",
       "    }\n",
       "\n",
       "    .dataframe thead th {\n",
       "        text-align: right;\n",
       "    }\n",
       "</style>\n",
       "<table border=\"1\" class=\"dataframe\">\n",
       "  <thead>\n",
       "    <tr style=\"text-align: right;\">\n",
       "      <th></th>\n",
       "      <th>Pontos</th>\n",
       "      <th>Vitórias</th>\n",
       "      <th>Empates</th>\n",
       "      <th>Derrotas</th>\n",
       "      <th>Gols Feitos</th>\n",
       "      <th>Gols Sofridos</th>\n",
       "      <th>Saldos de Gols</th>\n",
       "      <th>Cartões Amarelos</th>\n",
       "      <th>Cartões Vermelhos</th>\n",
       "    </tr>\n",
       "    <tr>\n",
       "      <th>Região</th>\n",
       "      <th></th>\n",
       "      <th></th>\n",
       "      <th></th>\n",
       "      <th></th>\n",
       "      <th></th>\n",
       "      <th></th>\n",
       "      <th></th>\n",
       "      <th></th>\n",
       "      <th></th>\n",
       "    </tr>\n",
       "  </thead>\n",
       "  <tbody>\n",
       "    <tr>\n",
       "      <th>Centro-Oeste</th>\n",
       "      <td>661</td>\n",
       "      <td>166</td>\n",
       "      <td>163</td>\n",
       "      <td>241</td>\n",
       "      <td>580</td>\n",
       "      <td>745</td>\n",
       "      <td>-165</td>\n",
       "      <td>1399</td>\n",
       "      <td>92</td>\n",
       "    </tr>\n",
       "    <tr>\n",
       "      <th>Nordeste</th>\n",
       "      <td>1610</td>\n",
       "      <td>417</td>\n",
       "      <td>362</td>\n",
       "      <td>589</td>\n",
       "      <td>1473</td>\n",
       "      <td>1789</td>\n",
       "      <td>-316</td>\n",
       "      <td>3218</td>\n",
       "      <td>207</td>\n",
       "    </tr>\n",
       "    <tr>\n",
       "      <th>Sudeste</th>\n",
       "      <td>7067</td>\n",
       "      <td>1927</td>\n",
       "      <td>1294</td>\n",
       "      <td>1567</td>\n",
       "      <td>6087</td>\n",
       "      <td>5355</td>\n",
       "      <td>732</td>\n",
       "      <td>11108</td>\n",
       "      <td>677</td>\n",
       "    </tr>\n",
       "    <tr>\n",
       "      <th>Sul</th>\n",
       "      <td>3100</td>\n",
       "      <td>821</td>\n",
       "      <td>637</td>\n",
       "      <td>936</td>\n",
       "      <td>2667</td>\n",
       "      <td>2924</td>\n",
       "      <td>-257</td>\n",
       "      <td>5834</td>\n",
       "      <td>340</td>\n",
       "    </tr>\n",
       "  </tbody>\n",
       "</table>\n",
       "</div>"
      ],
      "text/plain": [
       "              Pontos  Vitórias  Empates  Derrotas  Gols Feitos  Gols Sofridos  \\\n",
       "Região                                                                          \n",
       "Centro-Oeste     661       166      163       241          580            745   \n",
       "Nordeste        1610       417      362       589         1473           1789   \n",
       "Sudeste         7067      1927     1294      1567         6087           5355   \n",
       "Sul             3100       821      637       936         2667           2924   \n",
       "\n",
       "              Saldos de Gols  Cartões Amarelos  Cartões Vermelhos  \n",
       "Região                                                             \n",
       "Centro-Oeste            -165              1399                 92  \n",
       "Nordeste                -316              3218                207  \n",
       "Sudeste                  732             11108                677  \n",
       "Sul                     -257              5834                340  "
      ]
     },
     "execution_count": 78,
     "metadata": {},
     "output_type": "execute_result"
    }
   ],
   "source": [
    "soma_infos_por_regiao = df_com_estados.groupby('Região').sum().drop(columns=['Clube', 'Ano', 'Colocação', 'Aproveitamento (%)', 'Estado'])\n",
    "soma_infos_por_regiao"
   ]
  },
  {
   "cell_type": "markdown",
   "metadata": {},
   "source": [
    "<h2>33 - Agrupar os times pela MÉDIA de CADA REGIÃO</h2>"
   ]
  },
  {
   "cell_type": "code",
   "execution_count": 79,
   "metadata": {},
   "outputs": [
    {
     "data": {
      "text/html": [
       "<div>\n",
       "<style scoped>\n",
       "    .dataframe tbody tr th:only-of-type {\n",
       "        vertical-align: middle;\n",
       "    }\n",
       "\n",
       "    .dataframe tbody tr th {\n",
       "        vertical-align: top;\n",
       "    }\n",
       "\n",
       "    .dataframe thead th {\n",
       "        text-align: right;\n",
       "    }\n",
       "</style>\n",
       "<table border=\"1\" class=\"dataframe\">\n",
       "  <thead>\n",
       "    <tr style=\"text-align: right;\">\n",
       "      <th></th>\n",
       "      <th>Pontos</th>\n",
       "      <th>Vitórias</th>\n",
       "      <th>Empates</th>\n",
       "      <th>Derrotas</th>\n",
       "      <th>Gols Feitos</th>\n",
       "      <th>Gols Sofridos</th>\n",
       "      <th>Saldos de Gols</th>\n",
       "      <th>Cartões Amarelos</th>\n",
       "      <th>Cartões Vermelhos</th>\n",
       "      <th>Aproveitamento (%)</th>\n",
       "    </tr>\n",
       "    <tr>\n",
       "      <th>Região</th>\n",
       "      <th></th>\n",
       "      <th></th>\n",
       "      <th></th>\n",
       "      <th></th>\n",
       "      <th></th>\n",
       "      <th></th>\n",
       "      <th></th>\n",
       "      <th></th>\n",
       "      <th></th>\n",
       "      <th></th>\n",
       "    </tr>\n",
       "  </thead>\n",
       "  <tbody>\n",
       "    <tr>\n",
       "      <th>Centro-Oeste</th>\n",
       "      <td>44.1</td>\n",
       "      <td>11.1</td>\n",
       "      <td>10.9</td>\n",
       "      <td>16.1</td>\n",
       "      <td>38.7</td>\n",
       "      <td>49.7</td>\n",
       "      <td>-11.0</td>\n",
       "      <td>93.3</td>\n",
       "      <td>6.1</td>\n",
       "      <td>38.1</td>\n",
       "    </tr>\n",
       "    <tr>\n",
       "      <th>Nordeste</th>\n",
       "      <td>44.7</td>\n",
       "      <td>11.6</td>\n",
       "      <td>10.1</td>\n",
       "      <td>16.4</td>\n",
       "      <td>40.9</td>\n",
       "      <td>49.7</td>\n",
       "      <td>-8.8</td>\n",
       "      <td>89.4</td>\n",
       "      <td>5.8</td>\n",
       "      <td>38.8</td>\n",
       "    </tr>\n",
       "    <tr>\n",
       "      <th>Sudeste</th>\n",
       "      <td>56.1</td>\n",
       "      <td>15.3</td>\n",
       "      <td>10.3</td>\n",
       "      <td>12.4</td>\n",
       "      <td>48.3</td>\n",
       "      <td>42.5</td>\n",
       "      <td>5.8</td>\n",
       "      <td>88.2</td>\n",
       "      <td>5.4</td>\n",
       "      <td>48.7</td>\n",
       "    </tr>\n",
       "    <tr>\n",
       "      <th>Sul</th>\n",
       "      <td>49.2</td>\n",
       "      <td>13.0</td>\n",
       "      <td>10.1</td>\n",
       "      <td>14.9</td>\n",
       "      <td>42.3</td>\n",
       "      <td>46.4</td>\n",
       "      <td>-4.1</td>\n",
       "      <td>92.6</td>\n",
       "      <td>5.4</td>\n",
       "      <td>42.8</td>\n",
       "    </tr>\n",
       "  </tbody>\n",
       "</table>\n",
       "</div>"
      ],
      "text/plain": [
       "              Pontos  Vitórias  Empates  Derrotas  Gols Feitos  Gols Sofridos  \\\n",
       "Região                                                                          \n",
       "Centro-Oeste    44.1      11.1     10.9      16.1         38.7           49.7   \n",
       "Nordeste        44.7      11.6     10.1      16.4         40.9           49.7   \n",
       "Sudeste         56.1      15.3     10.3      12.4         48.3           42.5   \n",
       "Sul             49.2      13.0     10.1      14.9         42.3           46.4   \n",
       "\n",
       "              Saldos de Gols  Cartões Amarelos  Cartões Vermelhos  \\\n",
       "Região                                                              \n",
       "Centro-Oeste           -11.0              93.3                6.1   \n",
       "Nordeste                -8.8              89.4                5.8   \n",
       "Sudeste                  5.8              88.2                5.4   \n",
       "Sul                     -4.1              92.6                5.4   \n",
       "\n",
       "              Aproveitamento (%)  \n",
       "Região                            \n",
       "Centro-Oeste                38.1  \n",
       "Nordeste                    38.8  \n",
       "Sudeste                     48.7  \n",
       "Sul                         42.8  "
      ]
     },
     "execution_count": 79,
     "metadata": {},
     "output_type": "execute_result"
    }
   ],
   "source": [
    "media_infos_por_regiao = df_com_estados.groupby('Região').mean(numeric_only=True).drop(columns=['Ano', 'Colocação']).round(1)\n",
    "media_infos_por_regiao"
   ]
  },
  {
   "cell_type": "code",
   "execution_count": null,
   "metadata": {},
   "outputs": [],
   "source": []
  }
 ],
 "metadata": {
  "kernelspec": {
   "display_name": "Python 3",
   "language": "python",
   "name": "python3"
  },
  "language_info": {
   "codemirror_mode": {
    "name": "ipython",
    "version": 3
   },
   "file_extension": ".py",
   "mimetype": "text/x-python",
   "name": "python",
   "nbconvert_exporter": "python",
   "pygments_lexer": "ipython3",
   "version": "3.12.2"
  }
 },
 "nbformat": 4,
 "nbformat_minor": 2
}
